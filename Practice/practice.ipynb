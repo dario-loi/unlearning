{
 "cells": [
  {
   "cell_type": "markdown",
   "metadata": {
    "id": "vIoFw9p3bwcY"
   },
   "source": [
    "# AML Homework 3: Practice\n"
   ]
  },
  {
   "cell_type": "markdown",
   "metadata": {
    "id": "uVfTu8ssbwcg"
   },
   "source": [
    "## Table of contents:\n",
    "This notebook is composed of 7 Sections for 17 points\n",
    "\n",
    "* **Section 1: Train a CNN from Scratch on CIFAR-10 ( 2 Points)**\n",
    "\n",
    "    We will implement a Convolutional Neural Network (CNN) from the ground up to classify images from the CIFAR-10 dataset. The focus will be on understanding the architecture of CNNs, preprocessing the dataset, and optimizing the model to achieve high accuracy.\n",
    "\n",
    "* **Section 2: Unlearning( 2 Points)**\n",
    "\n",
    "    We introduce the concept of unlearning, which involves modifying a trained model to forget specific data points while retaining its overall performance.\n",
    "\n",
    "* **Section 3: Gold model ( 2 Points)**\n",
    "\n",
    "    We discuss the development of the Gold model, which serves as the benchmark for evaluating performance after implementing unlearning techniques. \n",
    "\n",
    "\n",
    "* **Section 4: Mia Attacks ( 3 Points)**\n",
    "\n",
    "    This section will focus on MIA (Membership Inference Attacks), which are designed to determine whether a specific data point was included in the training set of a machine learning model. \n",
    "    \n",
    "* **Section 5: Unlearning with KL divergence ( 2 Points)**\n",
    "\n",
    "    This section will discuss the application of Kullback-Leibler (KL) divergence in the unlearning process, emphasizing its role in quantifying the difference between the model's original and modified predictions.\n",
    "\n",
    "* **Section 6: GMN for Unlearning ( 6 Points)**\n",
    "\n",
    "    This section will introduce the use of Graph Meta Networks (GMNs) in the unlearning process, highlighting their ability to adaptively modify model parameters based on specific unlearning tasks.\n",
    "\n",
    "Do not modify parts of code that are not marked with \"Your turn\" or \"Add your code below\"."
   ]
  },
  {
   "cell_type": "code",
   "execution_count": 2,
   "metadata": {
    "id": "x2CiTYz4bwci"
   },
   "outputs": [],
   "source": [
    "# import libraries\n",
    "import numpy as np\n",
    "import pandas as pd\n",
    "import matplotlib.pyplot as plt\n",
    "import torch\n",
    "import torch.nn as nn\n",
    "from torchvision import datasets, transforms\n",
    "from torchvision.transforms import ToTensor\n",
    "from torch.utils.data import DataLoader\n",
    "from tqdm import tqdm\n",
    "import os\n",
    "import random\n",
    "from sklearn import linear_model, model_selection\n",
    "from torch_geometric.data import Data\n",
    "from gmn.graph_construct.model_arch_graph import sequential_to_arch, arch_to_graph\n",
    "import torch.nn.functional as F\n",
    "\n",
    "\n",
    "# fix seeds\n",
    "np.random.seed(0)\n",
    "torch.manual_seed(0)\n",
    "random.seed(0)\n",
    "torch.cuda.manual_seed(0)\n",
    "torch.cuda.manual_seed_all(0)\n",
    "torch.backends.cudnn.deterministic = True\n",
    "torch.backends.cudnn.benchmark = False"
   ]
  },
  {
   "cell_type": "markdown",
   "metadata": {
    "id": "7yaeWKYwbwcl"
   },
   "source": [
    "# Section 1: Train from scratch a CNN on CIFAR-10"
   ]
  },
  {
   "cell_type": "markdown",
   "metadata": {
    "id": "5dXM4wW4bwcm"
   },
   "source": [
    "### 1.1: Model definition"
   ]
  },
  {
   "cell_type": "code",
   "execution_count": null,
   "metadata": {
    "id": "QJvR1fH4bwcn"
   },
   "outputs": [],
   "source": [
    "def create_model():\n",
    "    \"\"\"\n",
    "    Create a simple CNN model for CIFAR10 dataset\n",
    "    \"\"\"\n",
    "\n",
    "    model = nn.Sequential(\n",
    "        nn.Conv2d(3, 32, kernel_size=(3, 3), stride=1, padding=1),\n",
    "        nn.BatchNorm2d(32),\n",
    "        nn.ReLU(),\n",
    "        nn.AvgPool2d(kernel_size=2, stride=2),\n",
    "        nn.Dropout(p=0.1),\n",
    "        nn.Conv2d(32, 64, kernel_size=(3, 3), stride=1, padding=1),\n",
    "        nn.BatchNorm2d(64),\n",
    "        nn.ReLU(),\n",
    "        nn.AvgPool2d(kernel_size=2, stride=2),\n",
    "        nn.Dropout(p=0.1),\n",
    "        nn.Conv2d(64, 64, kernel_size=(3, 3), stride=1, padding=1),\n",
    "        nn.BatchNorm2d(64),\n",
    "        nn.ReLU(),\n",
    "        nn.AdaptiveAvgPool2d((1, 1)),\n",
    "        nn.Flatten(),\n",
    "        nn.Dropout(p=0.1),\n",
    "        nn.Linear(64, 32),\n",
    "        nn.ReLU(),\n",
    "        nn.Dropout(p=0.1),\n",
    "        nn.Linear(32, 10),\n",
    "    )\n",
    "\n",
    "    return model"
   ]
  },
  {
   "cell_type": "markdown",
   "metadata": {
    "id": "bFUHuazqbwco"
   },
   "source": [
    "### 1.2 DataLoader\n"
   ]
  },
  {
   "cell_type": "markdown",
   "metadata": {
    "id": "9gnM3t-dbwcp"
   },
   "source": [
    "#### Your turn ( 1 Point)\n",
    "\n",
    "Calculate the mean and the standard deviation vectors to be used in cifar_transforms  rounding the values to four decimal places."
   ]
  },
  {
   "cell_type": "code",
   "execution_count": 4,
   "metadata": {
    "colab": {
     "base_uri": "https://localhost:8080/"
    },
    "id": "biK7_59_bwcq",
    "outputId": "13d909b1-4524-4b06-f1b6-e2179bffaa17"
   },
   "outputs": [
    {
     "name": "stdout",
     "output_type": "stream",
     "text": [
      "Downloading https://www.cs.toronto.edu/~kriz/cifar-10-python.tar.gz to ./data/cifar-10-python.tar.gz\n"
     ]
    },
    {
     "name": "stderr",
     "output_type": "stream",
     "text": [
      "100%|██████████| 170M/170M [00:03<00:00, 46.9MB/s]\n"
     ]
    },
    {
     "name": "stdout",
     "output_type": "stream",
     "text": [
      "Extracting ./data/cifar-10-python.tar.gz to ./data\n",
      "Mean:  [0.4914 0.4822 0.4465]\n",
      "Std:  [0.247  0.2435 0.2616]\n"
     ]
    }
   ],
   "source": [
    "import numpy as np\n",
    "from torchvision import datasets, transforms\n",
    "\n",
    "# Load the dataset\n",
    "train_dataset = datasets.CIFAR10(\n",
    "    root=\"./data\", train=True, download=True, transform=transforms.ToTensor()\n",
    ")\n",
    "\n",
    "\"\"\"\n",
    "Add your code below\n",
    "\"\"\"\n",
    "# Compute the mean and standard deviation for each channel\n",
    "mean = train_dataset.data.mean(axis=(0, 1, 2)) / 255\n",
    "std = train_dataset.data.std(axis=(0, 1, 2)) / 255\n",
    "\n",
    "print(\"Mean: \", np.round(mean, 4))\n",
    "print(\"Std: \", np.round(std, 4))"
   ]
  },
  {
   "cell_type": "code",
   "execution_count": null,
   "metadata": {
    "colab": {
     "base_uri": "https://localhost:8080/"
    },
    "id": "GAnYGyiBbwcs",
    "outputId": "1e154f87-5c95-4754-e856-6c82a1e79ada"
   },
   "outputs": [
    {
     "name": "stdout",
     "output_type": "stream",
     "text": [
      "Files already downloaded and verified\n",
      "Files already downloaded and verified\n"
     ]
    }
   ],
   "source": [
    "# Define the augmentations for the training set\n",
    "cifar_transforms = transforms.Compose(\n",
    "    [\n",
    "        transforms.ToTensor(),  # Convert the image to a PyTorch tensor\n",
    "        transforms.Normalize(mean, std),  # Normalize the image channel\n",
    "    ]\n",
    ")\n",
    "\n",
    "# Load the CIFAR-10 dataset with the appropriate transforms\n",
    "train_dataset = datasets.CIFAR10(\n",
    "    root=\"data\", train=True, transform=cifar_transforms, download=True\n",
    ")\n",
    "test_dataset = datasets.CIFAR10(\n",
    "    root=\"data\", train=False, transform=cifar_transforms, download=True\n",
    ")\n",
    "\n",
    "# split test into test and validation\n",
    "val_dataset, test_dataset = torch.utils.data.random_split(test_dataset, [2000, 8000])"
   ]
  },
  {
   "cell_type": "code",
   "execution_count": 6,
   "metadata": {
    "id": "0DVbWLTibwct"
   },
   "outputs": [],
   "source": [
    "batch_size = 512\n",
    "\n",
    "# Create the DataLoaders\n",
    "train_loader = DataLoader(train_dataset, batch_size=batch_size, shuffle=True)\n",
    "val_loader = DataLoader(val_dataset, batch_size=batch_size, shuffle=False)\n",
    "test_loader = DataLoader(test_dataset, batch_size=batch_size, shuffle=False)"
   ]
  },
  {
   "cell_type": "markdown",
   "metadata": {
    "id": "SP8lyrEbbwct"
   },
   "source": [
    "### 1.3 See the data"
   ]
  },
  {
   "cell_type": "code",
   "execution_count": 7,
   "metadata": {
    "colab": {
     "base_uri": "https://localhost:8080/",
     "height": 342
    },
    "id": "UQ3AULPibwcu",
    "outputId": "a2a70410-5a60-4250-d5cc-0194a99de10d"
   },
   "outputs": [
    {
     "data": {
      "image/png": "[encoded data removed]",
      "text/plain": [
       "<Figure size 2000x400 with 20 Axes>"
      ]
     },
     "metadata": {},
     "output_type": "display_data"
    }
   ],
   "source": [
    "# plot 2 figures for each of the 10 classes in the dataset\n",
    "fig, axs = plt.subplots(2, 10, figsize=(20, 4))\n",
    "for i in range(10):\n",
    "    # Get the first image of each class\n",
    "    img = train_dataset.data[train_dataset.targets.index(i)]\n",
    "    axs[0, i].imshow(img)\n",
    "    axs[0, i].axis(\"off\")\n",
    "    axs[0, i].set_title(train_dataset.classes[i])\n",
    "\n",
    "    # Get the second image of each class\n",
    "    img = train_dataset.data[\n",
    "        train_dataset.targets.index(i, train_dataset.targets.index(i) + 1)\n",
    "    ]\n",
    "    axs[1, i].imshow(img)\n",
    "    axs[1, i].axis(\"off\")"
   ]
  },
  {
   "cell_type": "markdown",
   "metadata": {
    "id": "T5kwMmOZbwcv"
   },
   "source": [
    "### 1.4: Training Loop"
   ]
  },
  {
   "cell_type": "code",
   "execution_count": 8,
   "metadata": {
    "colab": {
     "base_uri": "https://localhost:8080/"
    },
    "id": "-Pdao3mgbwcv",
    "outputId": "58d6d87b-ff2a-45b9-f160-9ec9cfe7f475"
   },
   "outputs": [
    {
     "name": "stderr",
     "output_type": "stream",
     "text": [
      "<ipython-input-8-695d2f839a68>:4: FutureWarning: You are using `torch.load` with `weights_only=False` (the current default value), which uses the default pickle module implicitly. It is possible to construct malicious pickle data which will execute arbitrary code during unpickling (See https://github.com/pytorch/pytorch/blob/main/SECURITY.md#untrusted-models for more details). In a future release, the default value for `weights_only` will be flipped to `True`. This limits the functions that could be executed during unpickling. Arbitrary objects will no longer be allowed to be loaded via this mode unless they are explicitly allowlisted by the user via `torch.serialization.add_safe_globals`. We recommend you start setting `weights_only=True` for any use case where you don't have full control of the loaded file. Please open an issue on GitHub for any issues related to this experimental feature.\n",
      "  model.load_state_dict(torch.load('checkpoint/model_weights.pth'))\n",
      "/usr/local/lib/python3.10/dist-packages/torch/optim/lr_scheduler.py:62: UserWarning: The verbose parameter is deprecated. Please use get_last_lr() to access the learning rate.\n",
      "  warnings.warn(\n"
     ]
    }
   ],
   "source": [
    "device = torch.device(\"cuda\" if torch.cuda.is_available() else \"cpu\")\n",
    "# load weights\n",
    "model = create_model()\n",
    "model.load_state_dict(torch.load(\"checkpoint/model_weights.pth\"))\n",
    "model.to(device)\n",
    "\n",
    "# initialize the loss function and optimizer\n",
    "criterion = nn.CrossEntropyLoss()\n",
    "optimizer = torch.optim.Adam(model.parameters(), lr=0.001)\n",
    "scheduler = torch.optim.lr_scheduler.ReduceLROnPlateau(\n",
    "    optimizer, mode=\"min\", factor=0.1, patience=5, verbose=True\n",
    ")\n",
    "num_epochs = 20"
   ]
  },
  {
   "cell_type": "code",
   "execution_count": 9,
   "metadata": {
    "colab": {
     "base_uri": "https://localhost:8080/"
    },
    "id": "ctRZCNQ2bwcv",
    "outputId": "96e024c2-40c8-4844-9d9f-0050d9911b74"
   },
   "outputs": [
    {
     "name": "stderr",
     "output_type": "stream",
     "text": [
      "Epoch [1/20]: 100%|██████████| 98/98 [00:19<00:00,  5.03it/s, loss=1.6]\n"
     ]
    },
    {
     "name": "stdout",
     "output_type": "stream",
     "text": [
      "Epoch [1/20], Average Loss: 1.8926\n",
      "Validation Loss: 1.5755\n"
     ]
    },
    {
     "name": "stderr",
     "output_type": "stream",
     "text": [
      "Epoch [2/20]: 100%|██████████| 98/98 [00:17<00:00,  5.60it/s, loss=1.36]\n"
     ]
    },
    {
     "name": "stdout",
     "output_type": "stream",
     "text": [
      "Epoch [2/20], Average Loss: 1.4602\n",
      "Validation Loss: 1.3559\n"
     ]
    },
    {
     "name": "stderr",
     "output_type": "stream",
     "text": [
      "Epoch [3/20]: 100%|██████████| 98/98 [00:16<00:00,  5.93it/s, loss=1.29]\n"
     ]
    },
    {
     "name": "stdout",
     "output_type": "stream",
     "text": [
      "Epoch [3/20], Average Loss: 1.3158\n",
      "Validation Loss: 1.1913\n"
     ]
    },
    {
     "name": "stderr",
     "output_type": "stream",
     "text": [
      "Epoch [4/20]: 100%|██████████| 98/98 [00:17<00:00,  5.54it/s, loss=1.12]\n"
     ]
    },
    {
     "name": "stdout",
     "output_type": "stream",
     "text": [
      "Epoch [4/20], Average Loss: 1.2409\n",
      "Validation Loss: 1.1171\n"
     ]
    },
    {
     "name": "stderr",
     "output_type": "stream",
     "text": [
      "Epoch [5/20]: 100%|██████████| 98/98 [00:17<00:00,  5.53it/s, loss=1.16]\n"
     ]
    },
    {
     "name": "stdout",
     "output_type": "stream",
     "text": [
      "Epoch [5/20], Average Loss: 1.1953\n",
      "Validation Loss: 1.1381\n"
     ]
    },
    {
     "name": "stderr",
     "output_type": "stream",
     "text": [
      "Epoch [6/20]: 100%|██████████| 98/98 [00:16<00:00,  5.89it/s, loss=1.17]\n"
     ]
    },
    {
     "name": "stdout",
     "output_type": "stream",
     "text": [
      "Epoch [6/20], Average Loss: 1.1560\n",
      "Validation Loss: 1.0262\n"
     ]
    },
    {
     "name": "stderr",
     "output_type": "stream",
     "text": [
      "Epoch [7/20]: 100%|██████████| 98/98 [00:16<00:00,  5.85it/s, loss=1.2]\n"
     ]
    },
    {
     "name": "stdout",
     "output_type": "stream",
     "text": [
      "Epoch [7/20], Average Loss: 1.1246\n",
      "Validation Loss: 1.0561\n"
     ]
    },
    {
     "name": "stderr",
     "output_type": "stream",
     "text": [
      "Epoch [8/20]: 100%|██████████| 98/98 [00:17<00:00,  5.56it/s, loss=1.05]\n"
     ]
    },
    {
     "name": "stdout",
     "output_type": "stream",
     "text": [
      "Epoch [8/20], Average Loss: 1.0875\n",
      "Validation Loss: 1.0967\n"
     ]
    },
    {
     "name": "stderr",
     "output_type": "stream",
     "text": [
      "Epoch [9/20]: 100%|██████████| 98/98 [00:16<00:00,  5.89it/s, loss=1.17]\n"
     ]
    },
    {
     "name": "stdout",
     "output_type": "stream",
     "text": [
      "Epoch [9/20], Average Loss: 1.0746\n",
      "Validation Loss: 1.0787\n"
     ]
    },
    {
     "name": "stderr",
     "output_type": "stream",
     "text": [
      "Epoch [10/20]: 100%|██████████| 98/98 [00:17<00:00,  5.75it/s, loss=1.11]\n"
     ]
    },
    {
     "name": "stdout",
     "output_type": "stream",
     "text": [
      "Epoch [10/20], Average Loss: 1.0551\n",
      "Validation Loss: 1.1360\n"
     ]
    },
    {
     "name": "stderr",
     "output_type": "stream",
     "text": [
      "Epoch [11/20]: 100%|██████████| 98/98 [00:16<00:00,  5.83it/s, loss=0.977]\n"
     ]
    },
    {
     "name": "stdout",
     "output_type": "stream",
     "text": [
      "Epoch [11/20], Average Loss: 1.0346\n",
      "Validation Loss: 0.9841\n"
     ]
    },
    {
     "name": "stderr",
     "output_type": "stream",
     "text": [
      "Epoch [12/20]: 100%|██████████| 98/98 [00:16<00:00,  5.85it/s, loss=0.892]\n"
     ]
    },
    {
     "name": "stdout",
     "output_type": "stream",
     "text": [
      "Epoch [12/20], Average Loss: 1.0196\n",
      "Validation Loss: 0.9830\n"
     ]
    },
    {
     "name": "stderr",
     "output_type": "stream",
     "text": [
      "Epoch [13/20]: 100%|██████████| 98/98 [00:17<00:00,  5.55it/s, loss=1.05]\n"
     ]
    },
    {
     "name": "stdout",
     "output_type": "stream",
     "text": [
      "Epoch [13/20], Average Loss: 1.0087\n",
      "Validation Loss: 0.9777\n"
     ]
    },
    {
     "name": "stderr",
     "output_type": "stream",
     "text": [
      "Epoch [14/20]: 100%|██████████| 98/98 [00:16<00:00,  5.85it/s, loss=1.02]\n"
     ]
    },
    {
     "name": "stdout",
     "output_type": "stream",
     "text": [
      "Epoch [14/20], Average Loss: 0.9920\n",
      "Validation Loss: 1.0810\n"
     ]
    },
    {
     "name": "stderr",
     "output_type": "stream",
     "text": [
      "Epoch [15/20]: 100%|██████████| 98/98 [00:16<00:00,  5.91it/s, loss=1.03]\n"
     ]
    },
    {
     "name": "stdout",
     "output_type": "stream",
     "text": [
      "Epoch [15/20], Average Loss: 0.9841\n",
      "Validation Loss: 0.9593\n"
     ]
    },
    {
     "name": "stderr",
     "output_type": "stream",
     "text": [
      "Epoch [16/20]: 100%|██████████| 98/98 [00:17<00:00,  5.60it/s, loss=0.912]\n"
     ]
    },
    {
     "name": "stdout",
     "output_type": "stream",
     "text": [
      "Epoch [16/20], Average Loss: 0.9657\n",
      "Validation Loss: 0.9231\n"
     ]
    },
    {
     "name": "stderr",
     "output_type": "stream",
     "text": [
      "Epoch [17/20]: 100%|██████████| 98/98 [00:16<00:00,  5.89it/s, loss=1.02]\n"
     ]
    },
    {
     "name": "stdout",
     "output_type": "stream",
     "text": [
      "Epoch [17/20], Average Loss: 0.9531\n",
      "Validation Loss: 1.0381\n"
     ]
    },
    {
     "name": "stderr",
     "output_type": "stream",
     "text": [
      "Epoch [18/20]: 100%|██████████| 98/98 [00:16<00:00,  5.83it/s, loss=0.892]\n"
     ]
    },
    {
     "name": "stdout",
     "output_type": "stream",
     "text": [
      "Epoch [18/20], Average Loss: 0.9419\n",
      "Validation Loss: 0.8954\n"
     ]
    },
    {
     "name": "stderr",
     "output_type": "stream",
     "text": [
      "Epoch [19/20]: 100%|██████████| 98/98 [00:17<00:00,  5.72it/s, loss=0.908]\n"
     ]
    },
    {
     "name": "stdout",
     "output_type": "stream",
     "text": [
      "Epoch [19/20], Average Loss: 0.9293\n",
      "Validation Loss: 0.8236\n"
     ]
    },
    {
     "name": "stderr",
     "output_type": "stream",
     "text": [
      "Epoch [20/20]: 100%|██████████| 98/98 [00:16<00:00,  5.93it/s, loss=0.95]\n"
     ]
    },
    {
     "name": "stdout",
     "output_type": "stream",
     "text": [
      "Epoch [20/20], Average Loss: 0.9227\n",
      "Validation Loss: 0.9075\n"
     ]
    }
   ],
   "source": [
    "# Placeholder for storing losses for each epoch\n",
    "losses = []\n",
    "losses_val = []\n",
    "\n",
    "# Training the model\n",
    "for epoch in range(num_epochs):\n",
    "\n",
    "    ######### TRAINING ##########\n",
    "    model.train()\n",
    "    running_loss = 0  # To track loss for this epoch\n",
    "\n",
    "    # Using tqdm for the progress bar\n",
    "    loop = tqdm(enumerate(train_loader), total=len(train_loader), leave=True)\n",
    "\n",
    "    for batch_idx, (data, targets) in loop:\n",
    "        # Get data to cuda if possible\n",
    "        data = data.to(device=device)\n",
    "        targets = targets.to(device=device)\n",
    "\n",
    "        # Forward pass\n",
    "        scores = model(data)\n",
    "        loss = criterion(scores, targets)\n",
    "\n",
    "        # Backward pass\n",
    "        optimizer.zero_grad()\n",
    "        loss.backward()\n",
    "\n",
    "        # Gradient descent step\n",
    "        optimizer.step()\n",
    "\n",
    "        # Accumulate loss\n",
    "        running_loss += loss.item()\n",
    "\n",
    "        # Update progress bar with loss and epoch information\n",
    "        loop.set_description(f\"Epoch [{epoch+1}/{num_epochs}]\")\n",
    "        loop.set_postfix(loss=loss.item())\n",
    "\n",
    "    # Calculate average loss for the epoch\n",
    "    avg_loss = running_loss / len(train_loader)\n",
    "    losses.append(avg_loss)\n",
    "\n",
    "    # scheduler\n",
    "    scheduler.step(avg_loss)\n",
    "\n",
    "    # Print loss for this epoch\n",
    "    tqdm.write(f\"Epoch [{epoch+1}/{num_epochs}], Average Loss: {avg_loss:.4f}\")\n",
    "\n",
    "    ####### VALIDATION ########\n",
    "    model.eval()\n",
    "    val_loss = 0\n",
    "\n",
    "    with torch.no_grad():\n",
    "        for data, targets in val_loader:\n",
    "            data = data.to(device=device)\n",
    "            targets = targets.to(device=device)\n",
    "\n",
    "            scores = model(data)\n",
    "            loss = criterion(scores, targets)\n",
    "            val_loss += loss.item()\n",
    "        # Calculate average loss for the epoch\n",
    "        avg_val_loss = val_loss / len(val_loader)\n",
    "        losses_val.append(avg_val_loss)\n",
    "        print(f\"Validation Loss: {avg_val_loss:.4f}\")\n",
    "        # if avg val_loss is better than the one before, save the model\n",
    "        if epoch == 0:\n",
    "            # create directory if not exist\n",
    "            os.makedirs(\"checkpoint\", exist_ok=True)\n",
    "            best_loss = avg_val_loss\n",
    "            torch.save(model.state_dict(), \"checkpoint/trained_model.pth\")\n",
    "        elif avg_val_loss < best_loss:\n",
    "            best_loss = avg_val_loss\n",
    "            torch.save(model.state_dict(), \"checkpoint/trained_model.pth\")"
   ]
  },
  {
   "cell_type": "code",
   "execution_count": 10,
   "metadata": {
    "colab": {
     "base_uri": "https://localhost:8080/",
     "height": 505
    },
    "id": "U1HQyiivbwcw",
    "outputId": "72ddec76-b4c4-47fa-df87-7537fcc43967"
   },
   "outputs": [
    {
     "name": "stdout",
     "output_type": "stream",
     "text": [
      "Best validation loss: 0.8236\n"
     ]
    },
    {
     "data": {
      "image/png": "[encoded data removed]",
      "text/plain": [
       "<Figure size 1500x500 with 1 Axes>"
      ]
     },
     "metadata": {},
     "output_type": "display_data"
    }
   ],
   "source": [
    "# Plot the losses after training\n",
    "# epoch of best validation loss\n",
    "print(f\"Best validation loss: {best_loss:.4f}\")\n",
    "index_best = losses_val.index(best_loss)\n",
    "\n",
    "plt.figure(figsize=(15, 5))\n",
    "plt.plot(range(1, num_epochs + 1), losses, label=\"Train Loss\")\n",
    "plt.plot(range(1, num_epochs + 1), losses_val, label=\"Val Loss\")\n",
    "plt.axvline(index_best + 1, color=\"r\", linestyle=\"--\", label=\"Best Val Loss\")\n",
    "plt.legend()\n",
    "plt.title(\"Loss vs Epochs\")\n",
    "plt.xlabel(\"Epochs\")\n",
    "plt.ylabel(\"Loss\")\n",
    "plt.grid()\n",
    "plt.show()"
   ]
  },
  {
   "cell_type": "markdown",
   "metadata": {
    "id": "V8TKeegebwcx"
   },
   "source": [
    "#### Your Turn (1 point)\n",
    "\n",
    "**Question**\n",
    "\n",
    "Q: *Based on what you've learned in the lectures and by examining the image above, identify the problems with this plot and explain how to fix them.*\n",
    "\n",
    "A: The training curve shows a lot of fluctuations for the validation loss, which sometimes goes over the training loss. This indicates that the model is prone to overfitting the training data. To address this issue, we want to introduce further regularization. An approach we suggest is to use `Dropout2d` layers instead of regular `Dropout` in the convolutional feature extraction part of the network. The reasoning is that `Dropout` zeroes individual pixels of the output feature map, which does **not** zero the gradients of any filter (since the parameters are shared), by contrast, `Dropout2d` zeroes entire channels of the output feature map, which does zero the gradients of the filters. Making this change stabilizes the curves, as shown above."
   ]
  },
  {
   "cell_type": "markdown",
   "metadata": {
    "id": "b51jy6A_bwcx"
   },
   "source": [
    "### 1.5 Evaluation\n",
    "\n",
    "Now, let's evaluate the performances of our model"
   ]
  },
  {
   "cell_type": "code",
   "execution_count": 11,
   "metadata": {
    "id": "h2pc4ySjbwcx"
   },
   "outputs": [],
   "source": [
    "# accuracy\n",
    "def accuracy(model, loader):\n",
    "    \"\"\"\n",
    "    Function to calculate the accuracy of the model on the test set\n",
    "    \"\"\"\n",
    "    correct = 0\n",
    "    total = 0\n",
    "    for data, targets in loader:\n",
    "        data = data.to(device=device)\n",
    "        targets = targets.to(device=device)\n",
    "        scores = model(data)\n",
    "        _, predictions = scores.max(1)\n",
    "        correct += (predictions == targets).sum()\n",
    "        total += targets.shape[0]\n",
    "    return correct / total"
   ]
  },
  {
   "cell_type": "code",
   "execution_count": 12,
   "metadata": {
    "colab": {
     "base_uri": "https://localhost:8080/"
    },
    "id": "GFb4yVkGbwcy",
    "outputId": "bff7272e-f13c-46d0-f9cf-eae9c3f8dfa9"
   },
   "outputs": [
    {
     "name": "stderr",
     "output_type": "stream",
     "text": [
      "<ipython-input-12-2fff2000554e>:3: FutureWarning: You are using `torch.load` with `weights_only=False` (the current default value), which uses the default pickle module implicitly. It is possible to construct malicious pickle data which will execute arbitrary code during unpickling (See https://github.com/pytorch/pytorch/blob/main/SECURITY.md#untrusted-models for more details). In a future release, the default value for `weights_only` will be flipped to `True`. This limits the functions that could be executed during unpickling. Arbitrary objects will no longer be allowed to be loaded via this mode unless they are explicitly allowlisted by the user via `torch.serialization.add_safe_globals`. We recommend you start setting `weights_only=True` for any use case where you don't have full control of the loaded file. Please open an issue on GitHub for any issues related to this experimental feature.\n",
      "  model.load_state_dict(torch.load(\"checkpoint/trained_model.pth\"))\n"
     ]
    },
    {
     "name": "stdout",
     "output_type": "stream",
     "text": [
      "Your Model Train Accuracy : 72.3100\n",
      "Your Model Test Accuracy : 70.4875\n"
     ]
    }
   ],
   "source": [
    "# your model\n",
    "model = create_model()\n",
    "model.load_state_dict(torch.load(\"checkpoint/trained_model.pth\"))\n",
    "model.eval()\n",
    "model.to(device)\n",
    "\n",
    "# Calculate accuracy on the train and test set\n",
    "train_accuracy = accuracy(model, train_loader)\n",
    "test_accuracy = accuracy(model, test_loader)\n",
    "\n",
    "print(f\"Your Model Train Accuracy : {100* train_accuracy:.4f}\")\n",
    "print(f\"Your Model Test Accuracy : {100* test_accuracy:.4f}\")"
   ]
  },
  {
   "cell_type": "markdown",
   "metadata": {
    "id": "xRAO0eFTbwcy"
   },
   "source": [
    "To avoid training for too many epochs, here it is a checkpoint you can use for the trained model."
   ]
  },
  {
   "cell_type": "code",
   "execution_count": 13,
   "metadata": {
    "colab": {
     "base_uri": "https://localhost:8080/"
    },
    "id": "QBeFMPRsbwcy",
    "outputId": "04182f10-4a37-4118-99c0-9f4ff5d76330"
   },
   "outputs": [
    {
     "name": "stderr",
     "output_type": "stream",
     "text": [
      "<ipython-input-13-0de5eb642db4>:2: FutureWarning: You are using `torch.load` with `weights_only=False` (the current default value), which uses the default pickle module implicitly. It is possible to construct malicious pickle data which will execute arbitrary code during unpickling (See https://github.com/pytorch/pytorch/blob/main/SECURITY.md#untrusted-models for more details). In a future release, the default value for `weights_only` will be flipped to `True`. This limits the functions that could be executed during unpickling. Arbitrary objects will no longer be allowed to be loaded via this mode unless they are explicitly allowlisted by the user via `torch.serialization.add_safe_globals`. We recommend you start setting `weights_only=True` for any use case where you don't have full control of the loaded file. Please open an issue on GitHub for any issues related to this experimental feature.\n",
      "  model.load_state_dict(torch.load(\"checkpoint/best_model.pth\"))\n"
     ]
    },
    {
     "name": "stdout",
     "output_type": "stream",
     "text": [
      "Train accuracy: 86.3800\n",
      "Test Accuracy: 80.9000\n"
     ]
    }
   ],
   "source": [
    "model = create_model()\n",
    "model.load_state_dict(torch.load(\"checkpoint/best_model.pth\"))\n",
    "model.eval()\n",
    "model.to(device)\n",
    "\n",
    "# Calculate the accuracy on the train and test set\n",
    "train_accuracy = accuracy(model, train_loader)\n",
    "test_accuracy = accuracy(model, test_loader)\n",
    "\n",
    "print(f\"Train accuracy: {100* train_accuracy:.4f}\")\n",
    "print(f\"Test Accuracy: {100* test_accuracy:.4f}\")"
   ]
  },
  {
   "cell_type": "markdown",
   "metadata": {
    "id": "w--XNYGFbwcz"
   },
   "source": [
    "# Section 2: Unlearning "
   ]
  },
  {
   "cell_type": "markdown",
   "metadata": {
    "id": "u4vLoDqgbwcz"
   },
   "source": [
    "In the context of machine learning, unlearning refers to the process of modifying a trained model so that it forgets specific pieces of information without losing the general performance. This is particularly important in situations where data privacy is a concern, such as when sensitive information is involved, or when a model has learned from outdated or incorrect data. In this scenario, \n",
    "you may want to unlearn an entire class of data, a specific instance within that class, or even a particular concept that the model has learned. \n",
    "\n",
    "**Why is Unlearning Important?**\n",
    "\n",
    "Let’s say you have trained a machine learning model to recognize different types of animals based on a dataset containing images. Now, suppose that this dataset includes images of a particular cat breed that was later found to be misclassified or problematic. You might need to remove that specific information from the model to ensure it doesn't make incorrect predictions in the future.\n",
    "\n",
    "Additionally, with privacy laws like GDPR (General Data Protection Regulation), individuals have the right to request that their personal data be removed from a model. If a model has been trained on this data, we need a way to unlearn it.\n",
    "\n",
    "Here, our task will be to unlearn the class of Airplanes in CIFAR-10 Dataset"
   ]
  },
  {
   "cell_type": "markdown",
   "metadata": {
    "id": "k8wnS_Yobwc0"
   },
   "source": [
    "### Unlearning by Fine-Tuning \n",
    "\n",
    "The Unlearning by Fine-Tuning strategy is a technique used to remove the influence of specific data points from a trained machine learning model while preserving its performance on other, relevant data. \n",
    "Here’s a detailed explanation of how this strategy works:\n",
    "\n",
    "#### 1. The Retain Set\n",
    "\n",
    "The retain set consists of all the data points that you want the model to remember or continue to learn from. This set excludes the data points you want the model to forget.\n",
    "\n",
    "####  2. Fine-Tuning Process\n",
    "\n",
    "To perform unlearning through this strategy, you follow these steps:\n",
    "\n",
    "- Identify and Remove the Data Points: First, identify the data points that you wish to unlearn and remove them from the training dataset.\n",
    "\n",
    "- Prepare the Retain and Forget Set: Create a new training dataset that contains only the retain set, those data points that should be kept in the model’s knowledge, and include the remaing data in the Forget Set.\n",
    "\n",
    "- Fine-Tuning on the Retain Set: Instead of retraining the model from scratch, you will fine-tune the existing model using the retain set. This involves using the retain set to continue training the model, typically with a lower learning rate to ensure that the model can adjust its parameters without drastically altering what it has already learned.\n",
    "\n",
    "#### 3. Benefits of this strategy\n",
    "\n",
    "- Efficiency: Fine-tuning on the retain set only is more efficient than retraining the model from scratch. It saves computational resources and time.\n",
    "\n",
    "- Maintained Performance: The model retains its ability to perform well on the general dataset, as it continues to learn from the valid data in the retain set.\n",
    "\n",
    "#### 4. Drawbacks of this strategy\n",
    "\n",
    "- Even if more efficient than retraining the model from scratch, you still need to do a fine tuning, that could be very expensive for large or foundational models. Even finding the best hyperparameters can be costly.\n",
    "\n",
    "- If you change samples or architecture to unlearn, you have to do the ad-hoc fine tuning again, it is not a *general* strategy."
   ]
  },
  {
   "cell_type": "markdown",
   "metadata": {
    "id": "0huL1iZsbwc0"
   },
   "source": [
    "### 2.1: Forget Airplanes"
   ]
  },
  {
   "cell_type": "markdown",
   "metadata": {
    "id": "hBzFTKYgbwc0"
   },
   "source": [
    "#### Your Turn ( 1 Point)\n",
    "\n",
    "Generate the retain and forget datasets, keeping in mind that we want to forget the \"airplanes\" class. Afterward, create new instances of the loaders for training, validation, and testing. Make sure to use the torch.utils.data.Subset function."
   ]
  },
  {
   "cell_type": "code",
   "execution_count": 14,
   "metadata": {
    "id": "B5QuOyP_bwc0"
   },
   "outputs": [],
   "source": [
    "# train\n",
    "\"\"\"\n",
    "Add your code below\n",
    "\"\"\"\n",
    "\n",
    "airplane_mask = torch.Tensor(train_dataset.targets) == 0\n",
    "indices_retain = torch.arange(len(train_dataset))[~airplane_mask]\n",
    "indices_forget = torch.arange(len(train_dataset))[airplane_mask]\n",
    "\n",
    "retain_dataset = torch.utils.data.Subset(train_dataset, indices_retain)\n",
    "forget_dataset = torch.utils.data.Subset(train_dataset, indices_forget)\n",
    "retain_loader = torch.utils.data.DataLoader(\n",
    "    retain_dataset, batch_size=batch_size, shuffle=True\n",
    ")\n",
    "forget_loader = torch.utils.data.DataLoader(\n",
    "    forget_dataset, batch_size=batch_size, shuffle=True\n",
    ")"
   ]
  },
  {
   "cell_type": "code",
   "execution_count": null,
   "metadata": {
    "id": "Ahw57Qy_bwc1",
    "outputId": "5fd70891-d975-49b0-e068-2d3cc28e6a7b"
   },
   "outputs": [
    {
     "data": {
      "text/plain": [
       "(45000, 5000)"
      ]
     },
     "execution_count": 15,
     "metadata": {},
     "output_type": "execute_result"
    }
   ],
   "source": [
    "len(retain_dataset), len(forget_dataset)"
   ]
  },
  {
   "cell_type": "code",
   "execution_count": 15,
   "metadata": {
    "id": "bdWx9wM0bwc1"
   },
   "outputs": [],
   "source": [
    "# validation\n",
    "\"\"\"\n",
    "Add your code below\n",
    "\"\"\"\n",
    "\n",
    "airplane_mask_val = torch.Tensor(val_dataset.dataset.targets) == 0\n",
    "indices_retain_val = torch.arange(len(val_dataset.dataset))[~airplane_mask_val]\n",
    "indices_forget_val = torch.arange(len(val_dataset.dataset))[airplane_mask_val]\n",
    "\n",
    "retain_dataset_val = torch.utils.data.Subset(val_dataset.dataset, indices_retain_val)\n",
    "forget_dataset_val = torch.utils.data.Subset(val_dataset.dataset, indices_forget_val)\n",
    "retain_loader_val = torch.utils.data.DataLoader(\n",
    "    retain_dataset_val, batch_size=batch_size, shuffle=False\n",
    ")\n",
    "forget_loader_val = torch.utils.data.DataLoader(\n",
    "    forget_dataset_val, batch_size=batch_size, shuffle=False\n",
    ")"
   ]
  },
  {
   "cell_type": "code",
   "execution_count": 16,
   "metadata": {
    "id": "_AKnrTG6bwc1"
   },
   "outputs": [],
   "source": [
    "# test\n",
    "\"\"\"\n",
    "Add your code below\n",
    "\"\"\"\n",
    "\n",
    "airplane_mask_test = torch.Tensor(test_dataset.dataset.targets) == 0\n",
    "indices_retain_test = torch.arange(len(test_dataset.dataset))[~airplane_mask_test]\n",
    "indices_forget_test = torch.arange(len(test_dataset.dataset))[airplane_mask_test]\n",
    "\n",
    "retain_dataset_test = torch.utils.data.Subset(test_dataset.dataset, indices_retain_test)\n",
    "forget_dataset_test = torch.utils.data.Subset(test_dataset.dataset, indices_forget_test)\n",
    "retain_loader_test = torch.utils.data.DataLoader(\n",
    "    retain_dataset_test, batch_size=batch_size, shuffle=True\n",
    ")\n",
    "forget_loader_test = torch.utils.data.DataLoader(\n",
    "    forget_dataset_test, batch_size=batch_size, shuffle=True\n",
    ")"
   ]
  },
  {
   "cell_type": "markdown",
   "metadata": {
    "id": "mm2TrE59bwc2"
   },
   "source": [
    "### 2.2: Training Loop"
   ]
  },
  {
   "cell_type": "code",
   "execution_count": 17,
   "metadata": {
    "id": "Ak3Ds37ubwc2"
   },
   "outputs": [],
   "source": [
    "def unlearning(\n",
    "    model,\n",
    "    retain_loader,\n",
    "    validation,\n",
    "    epochs=5,\n",
    "    criterion=criterion,\n",
    "    optimizer=optimizer,\n",
    "    scheduler=scheduler,\n",
    "):\n",
    "    \"\"\"Unlearning by fine-tuning.\n",
    "\n",
    "    Fine-tuning is a very simple algorithm that trains using only\n",
    "    the retain set.\n",
    "\n",
    "    Args:\n",
    "      model : nn.Module.\n",
    "        pre-trained model to use as base of unlearning.\n",
    "      retain : torch.utils.data.DataLoader.\n",
    "        Dataset loader for access to the retain set. This is the subset\n",
    "        of the training set that we don't want to forget.\n",
    "      validation : torch.utils.data.DataLoader.\n",
    "        Dataset loader for access to the validation set. This method doesn't\n",
    "        make use of the validation set.\n",
    "    Returns:\n",
    "      model : updated model\n",
    "    \"\"\"\n",
    "    device = torch.device(\"cuda\" if torch.cuda.is_available() else \"cpu\")\n",
    "    model.to(device)\n",
    "    losses = []\n",
    "    losses_val = []\n",
    "\n",
    "    for epoch in range(epochs):\n",
    "        model.train()\n",
    "        loss_epoch = 0\n",
    "        loop = tqdm(enumerate(retain_loader), total=len(retain_loader), leave=True)\n",
    "        for batch_idx, (inputs, targets) in loop:\n",
    "            inputs, targets = inputs.to(device), targets.to(device)\n",
    "            optimizer.zero_grad()\n",
    "            outputs = model(inputs)\n",
    "            loss = criterion(outputs, targets)\n",
    "            loss.backward()\n",
    "            optimizer.step()\n",
    "\n",
    "            # running loss\n",
    "            loss_epoch += loss.item()\n",
    "            # Update progress bar with loss and epoch information\n",
    "            loop.set_description(f\"Epoch [{epoch+1}/{epochs}]\")\n",
    "            loop.set_postfix(loss=loss.item())\n",
    "\n",
    "        # avg loss\n",
    "        avg_loss = loss_epoch / len(retain_loader)\n",
    "        losses.append(avg_loss)\n",
    "        # scheduler step\n",
    "        scheduler.step(avg_loss)\n",
    "        tqdm.write(f\"Epoch [{epoch+1}/{epochs}], Average Loss: {avg_loss:.4f}\")\n",
    "\n",
    "        # validation\n",
    "        loss_val = 0\n",
    "        model.eval()\n",
    "        with torch.no_grad():\n",
    "            for data, targets in retain_loader_val:\n",
    "                data = data.to(device=device)\n",
    "                targets = targets.to(device=device)\n",
    "\n",
    "                scores = model(data)\n",
    "                loss = criterion(scores, targets)\n",
    "                loss_val += loss.item()\n",
    "            # Calculate average loss for the epoch\n",
    "            avg_val_loss = loss_val / len(validation)\n",
    "            losses_val.append(avg_val_loss)\n",
    "            print(f\"Validation Loss: {avg_val_loss:.4f}\")\n",
    "            # if avg val_loss is better than the one before, save the model\n",
    "            if epoch == 0:\n",
    "                # create directory if not exist\n",
    "                os.makedirs(\"checkpoint\", exist_ok=True)\n",
    "                best_loss = avg_val_loss\n",
    "                torch.save(model.state_dict(), \"checkpoint/forget_model.pth\")\n",
    "            elif avg_val_loss < best_loss:\n",
    "                best_loss = avg_val_loss\n",
    "                torch.save(model.state_dict(), \"checkpoint/forget_model.pth\")\n",
    "\n",
    "    model.eval()\n",
    "    model.load_state_dict(torch.load(\"checkpoint/forget_model.pth\"))\n",
    "    return model, losses, losses_val"
   ]
  },
  {
   "cell_type": "code",
   "execution_count": null,
   "metadata": {
    "colab": {
     "base_uri": "https://localhost:8080/"
    },
    "id": "3Ic3F9Ycbwc3",
    "outputId": "3ea4418e-b42d-4fb2-d86a-dc259a6e6006"
   },
   "outputs": [
    {
     "name": "stderr",
     "output_type": "stream",
     "text": [
      "<ipython-input-18-2b467ae761c0>:3: FutureWarning: You are using `torch.load` with `weights_only=False` (the current default value), which uses the default pickle module implicitly. It is possible to construct malicious pickle data which will execute arbitrary code during unpickling (See https://github.com/pytorch/pytorch/blob/main/SECURITY.md#untrusted-models for more details). In a future release, the default value for `weights_only` will be flipped to `True`. This limits the functions that could be executed during unpickling. Arbitrary objects will no longer be allowed to be loaded via this mode unless they are explicitly allowlisted by the user via `torch.serialization.add_safe_globals`. We recommend you start setting `weights_only=True` for any use case where you don't have full control of the loaded file. Please open an issue on GitHub for any issues related to this experimental feature.\n",
      "  forget_model.load_state_dict(torch.load(\"checkpoint/best_model.pth\"))\n",
      "Epoch [1/10]: 100%|██████████| 88/88 [00:17<00:00,  4.96it/s, loss=0.525]\n"
     ]
    },
    {
     "name": "stdout",
     "output_type": "stream",
     "text": [
      "Epoch [1/10], Average Loss: 0.5293\n",
      "Validation Loss: 2.2941\n"
     ]
    },
    {
     "name": "stderr",
     "output_type": "stream",
     "text": [
      "Epoch [2/10]: 100%|██████████| 88/88 [00:15<00:00,  5.56it/s, loss=0.466]\n"
     ]
    },
    {
     "name": "stdout",
     "output_type": "stream",
     "text": [
      "Epoch [2/10], Average Loss: 0.5030\n",
      "Validation Loss: 2.2778\n"
     ]
    },
    {
     "name": "stderr",
     "output_type": "stream",
     "text": [
      "Epoch [3/10]: 100%|██████████| 88/88 [00:15<00:00,  5.54it/s, loss=0.501]\n"
     ]
    },
    {
     "name": "stdout",
     "output_type": "stream",
     "text": [
      "Epoch [3/10], Average Loss: 0.4956\n",
      "Validation Loss: 2.2436\n"
     ]
    },
    {
     "name": "stderr",
     "output_type": "stream",
     "text": [
      "Epoch [4/10]: 100%|██████████| 88/88 [00:16<00:00,  5.45it/s, loss=0.457]\n"
     ]
    },
    {
     "name": "stdout",
     "output_type": "stream",
     "text": [
      "Epoch [4/10], Average Loss: 0.4902\n",
      "Validation Loss: 2.2411\n"
     ]
    },
    {
     "name": "stderr",
     "output_type": "stream",
     "text": [
      "Epoch [5/10]: 100%|██████████| 88/88 [00:15<00:00,  5.58it/s, loss=0.515]\n"
     ]
    },
    {
     "name": "stdout",
     "output_type": "stream",
     "text": [
      "Epoch [5/10], Average Loss: 0.4952\n",
      "Validation Loss: 2.2549\n"
     ]
    },
    {
     "name": "stderr",
     "output_type": "stream",
     "text": [
      "Epoch [6/10]: 100%|██████████| 88/88 [00:16<00:00,  5.34it/s, loss=0.497]\n"
     ]
    },
    {
     "name": "stdout",
     "output_type": "stream",
     "text": [
      "Epoch [6/10], Average Loss: 0.4886\n",
      "Validation Loss: 2.2562\n"
     ]
    },
    {
     "name": "stderr",
     "output_type": "stream",
     "text": [
      "Epoch [7/10]: 100%|██████████| 88/88 [00:15<00:00,  5.51it/s, loss=0.437]\n"
     ]
    },
    {
     "name": "stdout",
     "output_type": "stream",
     "text": [
      "Epoch [7/10], Average Loss: 0.4871\n",
      "Validation Loss: 2.2700\n"
     ]
    },
    {
     "name": "stderr",
     "output_type": "stream",
     "text": [
      "Epoch [8/10]: 100%|██████████| 88/88 [00:18<00:00,  4.75it/s, loss=0.468]\n"
     ]
    },
    {
     "name": "stdout",
     "output_type": "stream",
     "text": [
      "Epoch [8/10], Average Loss: 0.4889\n",
      "Validation Loss: 2.2481\n"
     ]
    },
    {
     "name": "stderr",
     "output_type": "stream",
     "text": [
      "Epoch [9/10]: 100%|██████████| 88/88 [00:15<00:00,  5.56it/s, loss=0.484]\n"
     ]
    },
    {
     "name": "stdout",
     "output_type": "stream",
     "text": [
      "Epoch [9/10], Average Loss: 0.4920\n",
      "Validation Loss: 2.2377\n"
     ]
    },
    {
     "name": "stderr",
     "output_type": "stream",
     "text": [
      "Epoch [10/10]: 100%|██████████| 88/88 [00:16<00:00,  5.26it/s, loss=0.402]\n"
     ]
    },
    {
     "name": "stdout",
     "output_type": "stream",
     "text": [
      "Epoch [10/10], Average Loss: 0.4807\n",
      "Validation Loss: 2.2369\n"
     ]
    },
    {
     "name": "stderr",
     "output_type": "stream",
     "text": [
      "<ipython-input-17-7727d020b498>:83: FutureWarning: You are using `torch.load` with `weights_only=False` (the current default value), which uses the default pickle module implicitly. It is possible to construct malicious pickle data which will execute arbitrary code during unpickling (See https://github.com/pytorch/pytorch/blob/main/SECURITY.md#untrusted-models for more details). In a future release, the default value for `weights_only` will be flipped to `True`. This limits the functions that could be executed during unpickling. Arbitrary objects will no longer be allowed to be loaded via this mode unless they are explicitly allowlisted by the user via `torch.serialization.add_safe_globals`. We recommend you start setting `weights_only=True` for any use case where you don't have full control of the loaded file. Please open an issue on GitHub for any issues related to this experimental feature.\n",
      "  model.load_state_dict(torch.load(\"checkpoint/forget_model.pth\"))\n"
     ]
    }
   ],
   "source": [
    "# intialize forget model as trained model\n",
    "forget_model = create_model()\n",
    "forget_model.load_state_dict(torch.load(\"checkpoint/best_model.pth\"))\n",
    "\n",
    "criterion = nn.CrossEntropyLoss()\n",
    "optimizer = torch.optim.Adam(forget_model.parameters(), lr=0.0001)\n",
    "scheduler = torch.optim.lr_scheduler.ReduceLROnPlateau(\n",
    "    optimizer, mode=\"min\", factor=0.1, patience=3, verbose=True\n",
    ")\n",
    "\n",
    "\n",
    "# Unlearn the forget set\n",
    "epochs = 10\n",
    "forget_model, losses, losses_val = unlearning(\n",
    "    forget_model,\n",
    "    retain_loader,\n",
    "    val_loader,\n",
    "    epochs=epochs,\n",
    "    criterion=criterion,\n",
    "    optimizer=optimizer,\n",
    "    scheduler=scheduler,\n",
    ")"
   ]
  },
  {
   "cell_type": "markdown",
   "metadata": {
    "id": "utU6zYfjbwc3"
   },
   "source": [
    "**Below there is the evaluation of your unlearned by fine-tuning model**"
   ]
  },
  {
   "cell_type": "code",
   "execution_count": 19,
   "metadata": {
    "colab": {
     "base_uri": "https://localhost:8080/"
    },
    "id": "Vf4IjM5abwc3",
    "outputId": "ee2fced5-ae7c-4f90-c953-ccbc168af739"
   },
   "outputs": [
    {
     "name": "stderr",
     "output_type": "stream",
     "text": [
      "<ipython-input-19-1b47c5043b49>:3: FutureWarning: You are using `torch.load` with `weights_only=False` (the current default value), which uses the default pickle module implicitly. It is possible to construct malicious pickle data which will execute arbitrary code during unpickling (See https://github.com/pytorch/pytorch/blob/main/SECURITY.md#untrusted-models for more details). In a future release, the default value for `weights_only` will be flipped to `True`. This limits the functions that could be executed during unpickling. Arbitrary objects will no longer be allowed to be loaded via this mode unless they are explicitly allowlisted by the user via `torch.serialization.add_safe_globals`. We recommend you start setting `weights_only=True` for any use case where you don't have full control of the loaded file. Please open an issue on GitHub for any issues related to this experimental feature.\n",
      "  forget_model.load_state_dict(torch.load(\"checkpoint/forget_model.pth\"))\n"
     ]
    },
    {
     "name": "stdout",
     "output_type": "stream",
     "text": [
      "Retain set Accuracy: 88.8622\n",
      "Forget set Accuracy: 30.8800\n",
      "Test set Accuracy: 77.3125\n",
      "Test set Retain Accuracy: 82.9778\n",
      "Test set Forget Accuracy: 24.5000\n"
     ]
    }
   ],
   "source": [
    "# load weights forget model\n",
    "forget_model = create_model()\n",
    "forget_model.load_state_dict(torch.load(\"checkpoint/forget_model.pth\"))\n",
    "forget_model.eval()\n",
    "forget_model.to(device)\n",
    "\n",
    "# print accuracies on retain, forget and test set\n",
    "retain_accuracy = accuracy(forget_model, retain_loader)\n",
    "forget_accuracy = accuracy(forget_model, forget_loader)\n",
    "test_accuracy = accuracy(forget_model, test_loader)\n",
    "test_accuracy_retain = accuracy(forget_model, retain_loader_test)\n",
    "test_accuracy_forget = accuracy(forget_model, forget_loader_test)\n",
    "\n",
    "print(f\"Retain set Accuracy: {100* retain_accuracy:.4f}\")\n",
    "print(f\"Forget set Accuracy: {100* forget_accuracy:.4f}\")\n",
    "print(f\"Test set Accuracy: {100* test_accuracy:.4f}\")  # whole test set\n",
    "print(f\"Test set Retain Accuracy: {100* test_accuracy_retain:.4f}\")\n",
    "print(f\"Test set Forget Accuracy: {100* test_accuracy_forget:.4f}\")"
   ]
  },
  {
   "cell_type": "markdown",
   "metadata": {
    "id": "Iofk2FdDbwc4"
   },
   "source": [
    "#### Your Turn (1 Point)\n",
    "\n",
    "**Question**\n",
    "\n",
    "Q: *Summarize what you have learned. Specifically, interpret the accuracy values for the retain and forget sets during training. Additionally, discuss what can be inferred from the accuracy at test time for the entire test set, as well as for the two subsets of forget and retain.*\n",
    "\n",
    "A: Comparing the older model's accuracy computed before the unlearning process on the whole dataset to the one obtained after the unlearning on the retain dataset, we can assess that the model kept its performances on the retained classes while it lost the ability to perform well on airplanes, effectively suggesting that model forgot about that class.\n",
    "\n",
    "These suppositions are confirmed by the results on the tests sets. In facts the overall peformances are lower than the previous ones, confirming that the model unlearned/t. Since the retain accuracy is higher it means that it improved it's performances on the retained classes. By comparing the validation forget set accuracy and the test forget set accuracy we can say that the model is not generalizing on the airplanes, which is the expected behaviour.\n",
    "\n",
    "even tho we could have logged the results on each class, so that we could really know if it unlearned airplanes or some other unexpected class."
   ]
  },
  {
   "cell_type": "markdown",
   "metadata": {
    "id": "xzt1fUOHbwc4"
   },
   "source": [
    "# Section 3: Gold model"
   ]
  },
  {
   "cell_type": "markdown",
   "metadata": {
    "id": "ra-988jobwdB"
   },
   "source": [
    "One might ask, how good are the scores above? What is the best possible score? Since our goal is to approximate a model that has been trained **only on** the retain set, we'll consider that the gold standard is the score achieved by this model. Such a model is called here the *gold model*."
   ]
  },
  {
   "cell_type": "code",
   "execution_count": 20,
   "metadata": {
    "id": "eKR9Ls7KbwdB"
   },
   "outputs": [],
   "source": [
    "for i, sample in enumerate(retain_loader):\n",
    "\n",
    "    data, targets = sample\n",
    "    if (targets == 0).any():\n",
    "        print(i)\n",
    "        break"
   ]
  },
  {
   "cell_type": "code",
   "execution_count": 21,
   "metadata": {
    "colab": {
     "base_uri": "https://localhost:8080/"
    },
    "id": "-YcfLf-DbwdC",
    "outputId": "dcc8190f-d822-4f5c-cfe1-f196e616bbf8"
   },
   "outputs": [
    {
     "name": "stderr",
     "output_type": "stream",
     "text": [
      "<ipython-input-21-49670247aae2>:3: FutureWarning: You are using `torch.load` with `weights_only=False` (the current default value), which uses the default pickle module implicitly. It is possible to construct malicious pickle data which will execute arbitrary code during unpickling (See https://github.com/pytorch/pytorch/blob/main/SECURITY.md#untrusted-models for more details). In a future release, the default value for `weights_only` will be flipped to `True`. This limits the functions that could be executed during unpickling. Arbitrary objects will no longer be allowed to be loaded via this mode unless they are explicitly allowlisted by the user via `torch.serialization.add_safe_globals`. We recommend you start setting `weights_only=True` for any use case where you don't have full control of the loaded file. Please open an issue on GitHub for any issues related to this experimental feature.\n",
      "  gold_model.load_state_dict(torch.load(\"checkpoint/model_weights.pth\"))\n"
     ]
    }
   ],
   "source": [
    "# train only on retain set\n",
    "gold_model = create_model()\n",
    "gold_model.load_state_dict(torch.load(\"checkpoint/model_weights.pth\"))\n",
    "gold_model.to(device)\n",
    "\n",
    "criterion = nn.CrossEntropyLoss()\n",
    "optimizer = torch.optim.Adam(gold_model.parameters(), lr=0.0001)\n",
    "scheduler = torch.optim.lr_scheduler.ReduceLROnPlateau(\n",
    "    optimizer, mode=\"min\", factor=0.1, patience=5, verbose=True\n",
    ")\n",
    "num_epochs = 20"
   ]
  },
  {
   "cell_type": "markdown",
   "metadata": {
    "id": "E-cLYlZqbwdC"
   },
   "source": [
    "#### Your Turn ( 1 Point)\n",
    "\n",
    "Implement the training loop for the Gold Model. Store you losses inside the ```losses``` and ```losses_val``` lists.\n",
    "\n",
    "**IMPORTANT: save the best checkpoint of this model to a checkpoint file called \"checkpoint/gold_model.pth\"**"
   ]
  },
  {
   "cell_type": "code",
   "execution_count": 22,
   "metadata": {
    "colab": {
     "base_uri": "https://localhost:8080/"
    },
    "id": "0d2x_-lEbwdC",
    "outputId": "c6f05a2f-177e-45b3-9ef3-cd8e9f3c1f3d"
   },
   "outputs": [
    {
     "name": "stderr",
     "output_type": "stream",
     "text": [
      "Epoch [1/20]: 100%|██████████| 88/88 [00:16<00:00,  5.24it/s, loss=2.15]\n"
     ]
    },
    {
     "name": "stdout",
     "output_type": "stream",
     "text": [
      "Epoch [1/20], Average Loss: 2.2307\n",
      "Validation Loss: 2.1555\n"
     ]
    },
    {
     "name": "stderr",
     "output_type": "stream",
     "text": [
      "Epoch [2/20]: 100%|██████████| 88/88 [00:15<00:00,  5.60it/s, loss=2.03]\n"
     ]
    },
    {
     "name": "stdout",
     "output_type": "stream",
     "text": [
      "Epoch [2/20], Average Loss: 2.0987\n",
      "Validation Loss: 2.0212\n"
     ]
    },
    {
     "name": "stderr",
     "output_type": "stream",
     "text": [
      "Epoch [3/20]: 100%|██████████| 88/88 [00:16<00:00,  5.47it/s, loss=1.86]\n"
     ]
    },
    {
     "name": "stdout",
     "output_type": "stream",
     "text": [
      "Epoch [3/20], Average Loss: 1.9679\n",
      "Validation Loss: 1.8909\n"
     ]
    },
    {
     "name": "stderr",
     "output_type": "stream",
     "text": [
      "Epoch [4/20]: 100%|██████████| 88/88 [00:15<00:00,  5.54it/s, loss=1.77]\n"
     ]
    },
    {
     "name": "stdout",
     "output_type": "stream",
     "text": [
      "Epoch [4/20], Average Loss: 1.8389\n",
      "Validation Loss: 1.7710\n"
     ]
    },
    {
     "name": "stderr",
     "output_type": "stream",
     "text": [
      "Epoch [5/20]: 100%|██████████| 88/88 [00:15<00:00,  5.54it/s, loss=1.65]\n"
     ]
    },
    {
     "name": "stdout",
     "output_type": "stream",
     "text": [
      "Epoch [5/20], Average Loss: 1.7228\n",
      "Validation Loss: 1.6538\n"
     ]
    },
    {
     "name": "stderr",
     "output_type": "stream",
     "text": [
      "Epoch [6/20]: 100%|██████████| 88/88 [00:16<00:00,  5.33it/s, loss=1.6]\n"
     ]
    },
    {
     "name": "stdout",
     "output_type": "stream",
     "text": [
      "Epoch [6/20], Average Loss: 1.6295\n",
      "Validation Loss: 1.5665\n"
     ]
    },
    {
     "name": "stderr",
     "output_type": "stream",
     "text": [
      "Epoch [7/20]: 100%|██████████| 88/88 [00:15<00:00,  5.50it/s, loss=1.58]\n"
     ]
    },
    {
     "name": "stdout",
     "output_type": "stream",
     "text": [
      "Epoch [7/20], Average Loss: 1.5509\n",
      "Validation Loss: 1.4852\n"
     ]
    },
    {
     "name": "stderr",
     "output_type": "stream",
     "text": [
      "Epoch [8/20]: 100%|██████████| 88/88 [00:16<00:00,  5.26it/s, loss=1.42]\n"
     ]
    },
    {
     "name": "stdout",
     "output_type": "stream",
     "text": [
      "Epoch [8/20], Average Loss: 1.4854\n",
      "Validation Loss: 1.4183\n"
     ]
    },
    {
     "name": "stderr",
     "output_type": "stream",
     "text": [
      "Epoch [9/20]: 100%|██████████| 88/88 [00:16<00:00,  5.49it/s, loss=1.44]\n"
     ]
    },
    {
     "name": "stdout",
     "output_type": "stream",
     "text": [
      "Epoch [9/20], Average Loss: 1.4315\n",
      "Validation Loss: 1.3721\n"
     ]
    },
    {
     "name": "stderr",
     "output_type": "stream",
     "text": [
      "Epoch [10/20]: 100%|██████████| 88/88 [00:16<00:00,  5.34it/s, loss=1.38]\n"
     ]
    },
    {
     "name": "stdout",
     "output_type": "stream",
     "text": [
      "Epoch [10/20], Average Loss: 1.3845\n",
      "Validation Loss: 1.3197\n"
     ]
    },
    {
     "name": "stderr",
     "output_type": "stream",
     "text": [
      "Epoch [11/20]: 100%|██████████| 88/88 [00:15<00:00,  5.54it/s, loss=1.26]\n"
     ]
    },
    {
     "name": "stdout",
     "output_type": "stream",
     "text": [
      "Epoch [11/20], Average Loss: 1.3504\n",
      "Validation Loss: 1.2769\n"
     ]
    },
    {
     "name": "stderr",
     "output_type": "stream",
     "text": [
      "Epoch [12/20]: 100%|██████████| 88/88 [00:16<00:00,  5.48it/s, loss=1.34]\n"
     ]
    },
    {
     "name": "stdout",
     "output_type": "stream",
     "text": [
      "Epoch [12/20], Average Loss: 1.3167\n",
      "Validation Loss: 1.2567\n"
     ]
    },
    {
     "name": "stderr",
     "output_type": "stream",
     "text": [
      "Epoch [13/20]: 100%|██████████| 88/88 [00:15<00:00,  5.55it/s, loss=1.35]\n"
     ]
    },
    {
     "name": "stdout",
     "output_type": "stream",
     "text": [
      "Epoch [13/20], Average Loss: 1.2924\n",
      "Validation Loss: 1.2302\n"
     ]
    },
    {
     "name": "stderr",
     "output_type": "stream",
     "text": [
      "Epoch [14/20]: 100%|██████████| 88/88 [00:15<00:00,  5.56it/s, loss=1.27]\n"
     ]
    },
    {
     "name": "stdout",
     "output_type": "stream",
     "text": [
      "Epoch [14/20], Average Loss: 1.2698\n",
      "Validation Loss: 1.1973\n"
     ]
    },
    {
     "name": "stderr",
     "output_type": "stream",
     "text": [
      "Epoch [15/20]: 100%|██████████| 88/88 [00:16<00:00,  5.49it/s, loss=1.22]\n"
     ]
    },
    {
     "name": "stdout",
     "output_type": "stream",
     "text": [
      "Epoch [15/20], Average Loss: 1.2506\n",
      "Validation Loss: 1.1860\n"
     ]
    },
    {
     "name": "stderr",
     "output_type": "stream",
     "text": [
      "Epoch [16/20]: 100%|██████████| 88/88 [00:15<00:00,  5.52it/s, loss=1.22]\n"
     ]
    },
    {
     "name": "stdout",
     "output_type": "stream",
     "text": [
      "Epoch [16/20], Average Loss: 1.2287\n",
      "Validation Loss: 1.1601\n"
     ]
    },
    {
     "name": "stderr",
     "output_type": "stream",
     "text": [
      "Epoch [17/20]: 100%|██████████| 88/88 [00:16<00:00,  5.24it/s, loss=1.18]\n"
     ]
    },
    {
     "name": "stdout",
     "output_type": "stream",
     "text": [
      "Epoch [17/20], Average Loss: 1.2128\n",
      "Validation Loss: 1.1491\n"
     ]
    },
    {
     "name": "stderr",
     "output_type": "stream",
     "text": [
      "Epoch [18/20]: 100%|██████████| 88/88 [00:16<00:00,  5.48it/s, loss=1.23]\n"
     ]
    },
    {
     "name": "stdout",
     "output_type": "stream",
     "text": [
      "Epoch [18/20], Average Loss: 1.2018\n",
      "Validation Loss: 1.1223\n"
     ]
    },
    {
     "name": "stderr",
     "output_type": "stream",
     "text": [
      "Epoch [19/20]: 100%|██████████| 88/88 [00:16<00:00,  5.25it/s, loss=1.17]\n"
     ]
    },
    {
     "name": "stdout",
     "output_type": "stream",
     "text": [
      "Epoch [19/20], Average Loss: 1.1863\n",
      "Validation Loss: 1.1065\n"
     ]
    },
    {
     "name": "stderr",
     "output_type": "stream",
     "text": [
      "Epoch [20/20]: 100%|██████████| 88/88 [00:16<00:00,  5.46it/s, loss=1.14]\n"
     ]
    },
    {
     "name": "stdout",
     "output_type": "stream",
     "text": [
      "Epoch [20/20], Average Loss: 1.1736\n",
      "Validation Loss: 1.1089\n"
     ]
    }
   ],
   "source": [
    "# **IMPORTANT: save the best checkpoint of this model to a checkpoint file called \"checkpoint/gold_model.pth\"**\n",
    "\n",
    "# Placeholder for storing losses for each epoch\n",
    "losses = []\n",
    "losses_val = []\n",
    "\n",
    "# Training the model\n",
    "for epoch in range(num_epochs):\n",
    "\n",
    "    ######### TRAINING ##########\n",
    "    gold_model.train()\n",
    "    running_loss = 0  # To track loss for this epoch\n",
    "\n",
    "    # Using tqdm for the progress bar\n",
    "    loop = tqdm(enumerate(retain_loader), total=len(retain_loader), leave=True)\n",
    "\n",
    "    for batch_idx, (data, targets) in loop:\n",
    "        # Get data to cuda if possible\n",
    "        data = data.to(device=device)\n",
    "        targets = targets.to(device=device)\n",
    "\n",
    "        # Forward pass\n",
    "        scores = gold_model(data)\n",
    "        loss = criterion(scores, targets)\n",
    "\n",
    "        # Backward pass\n",
    "        optimizer.zero_grad()\n",
    "        loss.backward()\n",
    "\n",
    "        # Gradient descent step\n",
    "        optimizer.step()\n",
    "\n",
    "        # Accumulate loss\n",
    "        running_loss += loss.item()\n",
    "\n",
    "        # Update progress bar with loss and epoch information\n",
    "        loop.set_description(f\"Epoch [{epoch+1}/{num_epochs}]\")\n",
    "        loop.set_postfix(loss=loss.item())\n",
    "\n",
    "    # Calculate average loss for the epoch\n",
    "    avg_loss = running_loss / len(retain_loader)\n",
    "    losses.append(avg_loss)\n",
    "\n",
    "    # scheduler\n",
    "    scheduler.step(avg_loss)\n",
    "\n",
    "    # Print loss for this epoch\n",
    "    tqdm.write(f\"Epoch [{epoch+1}/{num_epochs}], Average Loss: {avg_loss:.4f}\")\n",
    "\n",
    "    ####### VALIDATION ########\n",
    "    gold_model.eval()\n",
    "    val_loss = 0\n",
    "\n",
    "    with torch.no_grad():\n",
    "        for data, targets in retain_loader_val:\n",
    "            data = data.to(device=device)\n",
    "            targets = targets.to(device=device)\n",
    "\n",
    "            scores = gold_model(data)\n",
    "            loss = criterion(scores, targets)\n",
    "            val_loss += loss.item()\n",
    "        # Calculate average loss for the epoch\n",
    "        avg_val_loss = val_loss / len(retain_loader_val)\n",
    "        losses_val.append(avg_val_loss)\n",
    "        print(f\"Validation Loss: {avg_val_loss:.4f}\")\n",
    "        # if avg val_loss is better than the one before, save the model\n",
    "        if epoch == 0:\n",
    "            # create directory if not exist\n",
    "            os.makedirs(\"checkpoint\", exist_ok=True)\n",
    "            best_loss = avg_val_loss\n",
    "            torch.save(gold_model.state_dict(), \"checkpoint/gold_model.pth\")\n",
    "        elif avg_val_loss < best_loss:\n",
    "            best_loss = avg_val_loss\n",
    "            torch.save(gold_model.state_dict(), \"checkpoint/gold_model.pth\")"
   ]
  },
  {
   "cell_type": "code",
   "execution_count": 23,
   "metadata": {
    "colab": {
     "base_uri": "https://localhost:8080/",
     "height": 505
    },
    "id": "azpyxUIsbwdD",
    "outputId": "09f2a2de-9970-4344-d206-4b74d34ffb12"
   },
   "outputs": [
    {
     "name": "stdout",
     "output_type": "stream",
     "text": [
      "Best validation loss: 1.1065\n"
     ]
    },
    {
     "data": {
      "image/png": "[encoded data removed]",
      "text/plain": [
       "<Figure size 1500x500 with 1 Axes>"
      ]
     },
     "metadata": {},
     "output_type": "display_data"
    }
   ],
   "source": [
    "# epoch of best validation loss\n",
    "print(f\"Best validation loss: {best_loss:.4f}\")\n",
    "index_best = losses_val.index(best_loss)\n",
    "\n",
    "plt.figure(figsize=(15, 5))\n",
    "plt.plot(losses, label=\"Train Loss\")\n",
    "plt.plot(losses_val, label=\"Val Loss\")\n",
    "plt.axvline(index_best, color=\"r\", linestyle=\"--\", label=\"Best Val Loss\")\n",
    "plt.legend()\n",
    "plt.title(\"Loss vs Epochs\")\n",
    "plt.xlabel(\"Epochs\")\n",
    "plt.ylabel(\"Loss\")\n",
    "plt.grid()\n",
    "plt.show()"
   ]
  },
  {
   "cell_type": "markdown",
   "metadata": {
    "id": "-eAqNS8VbwdD"
   },
   "source": [
    "**Below there is the evaluation of the gold model**"
   ]
  },
  {
   "cell_type": "code",
   "execution_count": 24,
   "metadata": {
    "colab": {
     "base_uri": "https://localhost:8080/"
    },
    "id": "593s6pjibwdD",
    "outputId": "c1dc1fd5-97a7-4aae-c2f2-b3939fc45946"
   },
   "outputs": [
    {
     "name": "stderr",
     "output_type": "stream",
     "text": [
      "<ipython-input-24-04f2bb59531d>:3: FutureWarning: You are using `torch.load` with `weights_only=False` (the current default value), which uses the default pickle module implicitly. It is possible to construct malicious pickle data which will execute arbitrary code during unpickling (See https://github.com/pytorch/pytorch/blob/main/SECURITY.md#untrusted-models for more details). In a future release, the default value for `weights_only` will be flipped to `True`. This limits the functions that could be executed during unpickling. Arbitrary objects will no longer be allowed to be loaded via this mode unless they are explicitly allowlisted by the user via `torch.serialization.add_safe_globals`. We recommend you start setting `weights_only=True` for any use case where you don't have full control of the loaded file. Please open an issue on GitHub for any issues related to this experimental feature.\n",
      "  gold_model.load_state_dict(torch.load(\"checkpoint/gold_model.pth\"))\n"
     ]
    },
    {
     "name": "stdout",
     "output_type": "stream",
     "text": [
      "Retain set Accuracy: 60.2378\n",
      "Forget set Accuracy: 0.0000\n",
      "Test set Accuracy: 53.3375\n",
      "Test set Retain Accuracy: 59.6778\n",
      "Test set Forget Accuracy: 0.0000\n"
     ]
    }
   ],
   "source": [
    "# load weights gold model\n",
    "gold_model = create_model()\n",
    "gold_model.load_state_dict(torch.load(\"checkpoint/gold_model.pth\"))\n",
    "gold_model.eval()\n",
    "gold_model.to(device)\n",
    "\n",
    "# print accuracies on retain, forget and test set\n",
    "retain_accuracy = accuracy(gold_model, retain_loader)\n",
    "forget_accuracy = accuracy(gold_model, forget_loader)\n",
    "test_accuracy = accuracy(gold_model, test_loader)\n",
    "test_accuracy_retain = accuracy(gold_model, retain_loader_test)\n",
    "test_accuracy_forget = accuracy(gold_model, forget_loader_test)\n",
    "\n",
    "print(f\"Retain set Accuracy: {100* retain_accuracy:.4f}\")\n",
    "print(f\"Forget set Accuracy: {100* forget_accuracy:.4f}\")\n",
    "print(f\"Test set Accuracy: {100* test_accuracy:.4f}\")\n",
    "print(f\"Test set Retain Accuracy: {100* test_accuracy_retain:.4f}\")\n",
    "print(f\"Test set Forget Accuracy: {100* test_accuracy_forget:.4f}\")"
   ]
  },
  {
   "cell_type": "markdown",
   "metadata": {
    "id": "aKn7BpTCbwdE"
   },
   "source": [
    "#### Your Turn\n",
    "\n",
    "**Question**\n",
    "\n",
    "Q: *Explain the results of the Gold Model. Did you notice something strange?*\n",
    "\n",
    "A: The accuracy on the forget set is 0 because the model never saw that class in the targets and during the learning process it was always discouradged to predict that class.\n",
    "\n",
    "Something is strange since we would expect the gold model to be better than the one obtained using the unlearning process but instead it is a lot worse. Anyway to have more reliable results we should have compared the gold_model with the model obtained applying unlearning on the trained_model instead of the one obtained applying unlearning on the best_model because trained_model and gold_model are trained in the same way"
   ]
  },
  {
   "cell_type": "markdown",
   "metadata": {
    "id": "KjdTq48xbwdE"
   },
   "source": [
    "# Section 5: Mia attacks"
   ]
  },
  {
   "cell_type": "markdown",
   "metadata": {
    "id": "HFFjDoDibwdE"
   },
   "source": [
    "In this section, we'll quantify the quality of the unlearning algorithm through a simple membership inference attack (MIA).\n",
    "MIAs are a type of adversarial attack aimed at determining whether a specific data point was included in the training dataset of a machine learning model. These attacks exploit the behavior of the model to make inferences about the presence or absence of certain data points.\n",
    "This MIA consists of a logistic regression model that predicts whether the model was trained on a particular sample from that sample's loss.\n",
    "\n"
   ]
  },
  {
   "cell_type": "code",
   "execution_count": 25,
   "metadata": {
    "id": "R_rzje-GbwdE"
   },
   "outputs": [],
   "source": [
    "def compute_losses(model, loader, criterion=\"CrossEntropy\"):\n",
    "    \"\"\"\n",
    "    Auxiliary function to compute per-sample losses\n",
    "    Args:\n",
    "    model : model to evaluate\n",
    "    loader : data loader\n",
    "    criterion : loss function. Specify \"CrossEntropy\" for cross-entropy loss or \"KL\" for KL divergence\n",
    "    \"\"\"\n",
    "\n",
    "    device = torch.device(\"cuda\" if torch.cuda.is_available() else \"cpu\")\n",
    "    all_losses = []\n",
    "\n",
    "    for inputs, targets in loader:\n",
    "        inputs, targets = inputs.to(device), targets.to(device)\n",
    "        logits = model(inputs)\n",
    "        losses = (\n",
    "            nn.CrossEntropyLoss(reduction=\"none\")(logits, targets)\n",
    "            .detach()\n",
    "            .cpu()\n",
    "            .numpy()\n",
    "        )\n",
    "\n",
    "        for l in losses:\n",
    "            all_losses.append(l)\n",
    "\n",
    "    return np.array(all_losses)"
   ]
  },
  {
   "cell_type": "code",
   "execution_count": 26,
   "metadata": {
    "colab": {
     "base_uri": "https://localhost:8080/"
    },
    "id": "EMbo_9f9bwdE",
    "outputId": "2f07de91-3ccb-401b-ca9b-ae233179f02f"
   },
   "outputs": [
    {
     "name": "stderr",
     "output_type": "stream",
     "text": [
      "<ipython-input-26-de8abf2bc544>:3: FutureWarning: You are using `torch.load` with `weights_only=False` (the current default value), which uses the default pickle module implicitly. It is possible to construct malicious pickle data which will execute arbitrary code during unpickling (See https://github.com/pytorch/pytorch/blob/main/SECURITY.md#untrusted-models for more details). In a future release, the default value for `weights_only` will be flipped to `True`. This limits the functions that could be executed during unpickling. Arbitrary objects will no longer be allowed to be loaded via this mode unless they are explicitly allowlisted by the user via `torch.serialization.add_safe_globals`. We recommend you start setting `weights_only=True` for any use case where you don't have full control of the loaded file. Please open an issue on GitHub for any issues related to this experimental feature.\n",
      "  model.load_state_dict(torch.load(\"checkpoint/best_model.pth\"))\n"
     ]
    }
   ],
   "source": [
    "# model\n",
    "model = create_model()\n",
    "model.load_state_dict(torch.load(\"checkpoint/best_model.pth\"))\n",
    "model.eval()\n",
    "model.to(device)\n",
    "\n",
    "retain_losses = compute_losses(model, retain_loader_test)\n",
    "forget_losses = compute_losses(model, forget_loader_test)"
   ]
  },
  {
   "cell_type": "code",
   "execution_count": 27,
   "metadata": {
    "colab": {
     "base_uri": "https://localhost:8080/"
    },
    "id": "JZGm65FUbwdF",
    "outputId": "214bd2b2-d543-4a39-ac04-dcc2e7d7d5e1"
   },
   "outputs": [
    {
     "name": "stderr",
     "output_type": "stream",
     "text": [
      "<ipython-input-27-768c045f0894>:3: FutureWarning: You are using `torch.load` with `weights_only=False` (the current default value), which uses the default pickle module implicitly. It is possible to construct malicious pickle data which will execute arbitrary code during unpickling (See https://github.com/pytorch/pytorch/blob/main/SECURITY.md#untrusted-models for more details). In a future release, the default value for `weights_only` will be flipped to `True`. This limits the functions that could be executed during unpickling. Arbitrary objects will no longer be allowed to be loaded via this mode unless they are explicitly allowlisted by the user via `torch.serialization.add_safe_globals`. We recommend you start setting `weights_only=True` for any use case where you don't have full control of the loaded file. Please open an issue on GitHub for any issues related to this experimental feature.\n",
      "  forget_model.load_state_dict(torch.load(\"checkpoint/forget_model.pth\"))\n"
     ]
    }
   ],
   "source": [
    "# forget model\n",
    "forget_model = create_model()\n",
    "forget_model.load_state_dict(torch.load(\"checkpoint/forget_model.pth\"))\n",
    "forget_model.eval()\n",
    "forget_model.to(device)\n",
    "\n",
    "retain_losses_forget = compute_losses(forget_model, retain_loader_test)\n",
    "forget_losses_forget = compute_losses(forget_model, forget_loader_test)"
   ]
  },
  {
   "cell_type": "code",
   "execution_count": 28,
   "metadata": {
    "colab": {
     "base_uri": "https://localhost:8080/"
    },
    "id": "yM6zEGPnbwdF",
    "outputId": "39a65393-e7b2-4ab3-f6cd-589b75ad71d9"
   },
   "outputs": [
    {
     "name": "stderr",
     "output_type": "stream",
     "text": [
      "<ipython-input-28-54785813e2ee>:3: FutureWarning: You are using `torch.load` with `weights_only=False` (the current default value), which uses the default pickle module implicitly. It is possible to construct malicious pickle data which will execute arbitrary code during unpickling (See https://github.com/pytorch/pytorch/blob/main/SECURITY.md#untrusted-models for more details). In a future release, the default value for `weights_only` will be flipped to `True`. This limits the functions that could be executed during unpickling. Arbitrary objects will no longer be allowed to be loaded via this mode unless they are explicitly allowlisted by the user via `torch.serialization.add_safe_globals`. We recommend you start setting `weights_only=True` for any use case where you don't have full control of the loaded file. Please open an issue on GitHub for any issues related to this experimental feature.\n",
      "  gold_model.load_state_dict(torch.load(\"checkpoint/gold_model.pth\"))\n"
     ]
    }
   ],
   "source": [
    "# gold model\n",
    "gold_model = create_model()\n",
    "gold_model.load_state_dict(torch.load(\"checkpoint/gold_model.pth\"))\n",
    "gold_model.eval()\n",
    "gold_model.to(device)\n",
    "\n",
    "retain_losses_gold = compute_losses(gold_model, retain_loader_test)\n",
    "forget_losses_gold = compute_losses(gold_model, forget_loader_test)"
   ]
  },
  {
   "cell_type": "code",
   "execution_count": 29,
   "metadata": {
    "colab": {
     "base_uri": "https://localhost:8080/",
     "height": 456
    },
    "id": "Wi29qqc8bwdF",
    "outputId": "19513e00-0eba-4921-d5be-ab6ddf516d34"
   },
   "outputs": [
    {
     "data": {
      "image/png": "[encoded data removed]",
      "text/plain": [
       "<Figure size 2000x500 with 3 Axes>"
      ]
     },
     "metadata": {},
     "output_type": "display_data"
    }
   ],
   "source": [
    "# 3 plots woth ax of histograms\n",
    "fig, axs = plt.subplots(1, 3, figsize=(20, 5))\n",
    "\n",
    "# subsample retrain losses to have the same size as the forget losses\n",
    "random_idx = np.random.choice(\n",
    "    np.arange(len(retain_losses)), len(forget_losses), replace=False\n",
    ")\n",
    "retain_losses = retain_losses[random_idx]\n",
    "retain_losses_forget = retain_losses_forget[random_idx]\n",
    "retain_losses_gold = retain_losses_gold[random_idx]\n",
    "\n",
    "\n",
    "axs[0].hist(\n",
    "    retain_losses, density=True, bins=50, alpha=0.5, label=\"Retain\", color=\"blue\"\n",
    ")\n",
    "axs[0].hist(\n",
    "    forget_losses, density=True, bins=50, alpha=0.5, label=\"Forget\", color=\"red\"\n",
    ")\n",
    "axs[0].set_title(\"Model\")\n",
    "axs[0].set_xlabel(\"Loss\")\n",
    "axs[0].legend()\n",
    "\n",
    "axs[1].hist(\n",
    "    retain_losses_forget, density=True, bins=50, alpha=0.5, label=\"Retain\", color=\"blue\"\n",
    ")\n",
    "axs[1].hist(\n",
    "    forget_losses_forget, density=True, bins=50, alpha=0.5, label=\"Forget\", color=\"red\"\n",
    ")\n",
    "axs[1].set_title(\"Forget Model\")\n",
    "axs[1].set_xlabel(\"Loss\")\n",
    "axs[1].legend()\n",
    "\n",
    "axs[2].hist(\n",
    "    retain_losses_gold, density=True, bins=50, alpha=0.5, label=\"Retain\", color=\"blue\"\n",
    ")\n",
    "axs[2].hist(\n",
    "    forget_losses_gold, density=True, bins=50, alpha=0.5, label=\"Forget\", color=\"red\"\n",
    ")\n",
    "axs[2].set_title(\"Gold Model\")\n",
    "axs[2].set_xlabel(\"Loss\")\n",
    "axs[2].legend()\n",
    "\n",
    "plt.show()"
   ]
  },
  {
   "cell_type": "code",
   "execution_count": 30,
   "metadata": {
    "id": "U1LXI5jTbwdG"
   },
   "outputs": [],
   "source": [
    "def simple_mia(sample_loss, members, n_splits=10, random_state=0):\n",
    "    \"\"\"Computes cross-validation score of a membership inference attack.\n",
    "\n",
    "    Args:\n",
    "      sample_loss : array_like of shape (n,).\n",
    "        objective function evaluated on n samples.\n",
    "      members : array_like of shape (n,),\n",
    "        whether a sample was used for training.\n",
    "      n_splits: int\n",
    "        number of splits to use in the cross-validation.\n",
    "    Returns:\n",
    "      scores : array_like of size (n_splits,)\n",
    "    \"\"\"\n",
    "\n",
    "    torch.manual_seed(torch.initial_seed())\n",
    "\n",
    "    unique_members = np.unique(members)\n",
    "    if not np.all(unique_members == np.array([0, 1])):\n",
    "        raise ValueError(\"members should only have 0 and 1s\")\n",
    "\n",
    "    attack_model = linear_model.LogisticRegression(random_state=random_state)\n",
    "    cv = model_selection.StratifiedShuffleSplit(n_splits=n_splits, random_state=0)\n",
    "\n",
    "    return model_selection.cross_val_score(\n",
    "        attack_model,\n",
    "        sample_loss,\n",
    "        members,\n",
    "        cv=cv,\n",
    "        scoring=\"accuracy\",\n",
    "    )"
   ]
  },
  {
   "cell_type": "code",
   "execution_count": 31,
   "metadata": {
    "colab": {
     "base_uri": "https://localhost:8080/"
    },
    "id": "c32gv5ECbwdG",
    "outputId": "f634d8f3-7a62-41ea-e7d1-26ad879a12fd"
   },
   "outputs": [
    {
     "name": "stdout",
     "output_type": "stream",
     "text": [
      "Model MIA score: 0.5440\n"
     ]
    }
   ],
   "source": [
    "# mia on model\n",
    "retain_losses_subsample = np.random.choice(\n",
    "    retain_losses, len(forget_losses), replace=False\n",
    ")\n",
    "samples_mia = np.concatenate([retain_losses_subsample, forget_losses]).reshape(-1, 1)\n",
    "# balance the number of samples\n",
    "members_mia = np.concatenate(\n",
    "    [np.zeros(len(retain_losses_subsample)), np.ones(len(forget_losses))]\n",
    ")\n",
    "\n",
    "scores_model = simple_mia(samples_mia, members_mia)\n",
    "print(f\"Model MIA score: {scores_model.mean():.4f}\")"
   ]
  },
  {
   "cell_type": "code",
   "execution_count": 32,
   "metadata": {
    "colab": {
     "base_uri": "https://localhost:8080/"
    },
    "id": "oCV5osvhbwdM",
    "outputId": "90c16eca-b5dd-487f-b685-a3dca1445227"
   },
   "outputs": [
    {
     "name": "stdout",
     "output_type": "stream",
     "text": [
      "Forget Model MIA score: 0.7855\n"
     ]
    }
   ],
   "source": [
    "# mia on forget model\n",
    "retain_losses_forget_subsample = np.random.choice(\n",
    "    retain_losses_forget, len(forget_losses_forget), replace=False\n",
    ")\n",
    "samples_mia = np.concatenate(\n",
    "    [retain_losses_forget_subsample, forget_losses_forget]\n",
    ").reshape(-1, 1)\n",
    "members_mia = np.concatenate(\n",
    "    [np.zeros(len(retain_losses_forget_subsample)), np.ones(len(forget_losses_forget))]\n",
    ")\n",
    "\n",
    "scores_forget = simple_mia(samples_mia, members_mia)\n",
    "print(f\"Forget Model MIA score: {scores_forget.mean():.4f}\")"
   ]
  },
  {
   "cell_type": "code",
   "execution_count": 33,
   "metadata": {
    "colab": {
     "base_uri": "https://localhost:8080/"
    },
    "id": "HqRBW_ccbwdM",
    "outputId": "228fc484-a6f1-4f98-da67-f2c916aba284"
   },
   "outputs": [
    {
     "name": "stdout",
     "output_type": "stream",
     "text": [
      "Gold Model MIA score: 0.9950\n"
     ]
    }
   ],
   "source": [
    "# mia on gold model\n",
    "retain_losses_gold_subsample = np.random.choice(\n",
    "    retain_losses_gold, len(forget_losses_gold), replace=False\n",
    ")\n",
    "samples_mia = np.concatenate(\n",
    "    [retain_losses_gold_subsample, forget_losses_gold]\n",
    ").reshape(-1, 1)\n",
    "members_mia = np.concatenate(\n",
    "    [np.zeros(len(retain_losses_gold_subsample)), np.ones(len(forget_losses_gold))]\n",
    ")\n",
    "\n",
    "scores_gold = simple_mia(samples_mia, members_mia)\n",
    "print(f\"Gold Model MIA score: {scores_gold.mean():.4f}\")"
   ]
  },
  {
   "cell_type": "markdown",
   "metadata": {
    "id": "UBVeBqPSbwdN"
   },
   "source": [
    "#### Your Turn ( 3 Points)\n",
    "\n",
    "**Question**\n",
    "\n",
    "Q: *For each model, analyze the loss plots and explain the results obtained from the membership inference attack (MIA).*\n",
    "\n",
    "A:\n",
    "\n",
    "\n",
    "*   Model: This first model was trained on all the data ($\\text{retain} \\cup \\text{forget}$).In our plot of the losses we can see that retain and forget data have a similar distribution and for both density is clustered on the lower values. The MIA attack returns a probability near to 50%, which means that the MIA model is not able to discriminate between forget and retain datasets based on the losses, indicating that probably all the data (forget and retain) were used during Model training\n",
    "*   Forget Model: this model was produced by unlearning through fine-tuning the previous model. from the plot of losses we start to see a clear difference on the distribution of the losses for the 2 different sets. Retain data still has a density peak around the lower end of the loss values, instead, forget data has a more uniform loss distribution, with higher variance. The MIA score is around $\\approx 70\\%$, indicating some capacity of the MIA model to discern between the two datasets, but not in a perfect way. It is clear that the model retains some of the previous information about the forget dataset even after fine-tuning.\n",
    "*   Gold Model: This model was trained *only* on retianed data, it is clear from the plot of the ownership probabilities over the losses that the distributions have an almost perfect separation. The ownership density's mean is lower for the retain data, as it was used to train the Gold Model, and higher for the forget data. The MIA score is around almost $100\\%$ ($99.5\\%$), meaning that the MIA model can now perfectly distinguish between the two datasets based on the losses.\n",
    "\n"
   ]
  },
  {
   "cell_type": "markdown",
   "metadata": {
    "id": "tDaM83I8bwdN"
   },
   "source": [
    "# 6. Unlearning with Kl divergence\n"
   ]
  },
  {
   "cell_type": "markdown",
   "metadata": {
    "id": "fcOGHyjabwdO"
   },
   "source": [
    "The Kullback-Leibler (KL) divergence is a measure of how one probability distribution differs from another. In this case, to induce unlearning, we want the model's predictions on the forget set to match a uniform distribution, meaning the model \"forgets\" any specific information about these classes."
   ]
  },
  {
   "cell_type": "markdown",
   "metadata": {
    "id": "yWDj2KSebwdO"
   },
   "source": [
    "#### Your Turn (1 Point) \n",
    "\n",
    "Next, consider a simple scenario to clarify the concept: a classification problem with four classes. Here, the objective is to unlearn one class by enforcing the logits' distribution (after the softmax) to match a uniform distribution. In this case, let the target distribution for a sample coming from the forget set be $y_{gt} = [0.25, 0.25, 0.25, 0.25]$, and assume that you have achieved the predicted distribution $y_{pred} = [0.25, 0.25, 0.25, 0.25]$\n",
    "\n",
    "**Question**\n",
    "\n",
    "Q: *In this context, why is it preferable to use KL divergence instead of Cross-Entropy? Explain it and fill the code below in order to show it numerically.*\n",
    "\n",
    "A: Kullback-Leiber dirvergence explicitly measures the distance between two distributions, whereas cross-entropy measures the average number of bits required to encode the true distribution using the predicted distribution. This means that, if the distributions are equal, in the case of KL divergence, the result will be 0, while in the case of cross-entropy, the result will be the entropy of the true distribution (which is always positive). Therefore, by using KL divergence with a uniform distribution target (which usually has high entropy), perfect unlearning will result in a KL divergence of 0."
   ]
  },
  {
   "cell_type": "code",
   "execution_count": null,
   "metadata": {
    "id": "NIo6Njx-bwdO",
    "outputId": "4b3d8747-9e54-40cd-a50b-6e7bbd578865"
   },
   "outputs": [
    {
     "name": "stdout",
     "output_type": "stream",
     "text": [
      "Cross Entropy: 1.3863\n",
      "KL Divergence: 0.0000\n"
     ]
    }
   ],
   "source": [
    "y_gt = torch.tensor([0.25, 0.25, 0.25, 0.25])\n",
    "y_pred = torch.tensor([0.25, 0.25, 0.25, 0.25])\n",
    "\n",
    "\"\"\"\n",
    "Add your code below\n",
    "\"\"\"\n",
    "cross_entropy = F.cross_entropy(y_pred, y_gt)\n",
    "kl_div = F.kl_div(y_pred.log(), y_gt, reduction=\"batchmean\")\n",
    "\n",
    "print(f\"Cross Entropy: {cross_entropy:.4f}\")\n",
    "print(f\"KL Divergence: {kl_div:.4f}\")"
   ]
  },
  {
   "cell_type": "markdown",
   "metadata": {
    "id": "STUM88mLbwdP"
   },
   "source": [
    "**Question**\n",
    "\n",
    "Q: *Before proceeding, you should explain the relationship between Cross-Entropy and Kullback-Leibler (KL) divergence. Provide the proof showing how to derive the relationship between the two.*\n",
    "\n",
    "A: As stated before, Cross-Entropy measures the average number of bits required to encode the true distribution using the predicted distribution, whereas KL-divergence is a distance measure between two distributions. \n",
    "\n",
    "We begin our proof by writing the formula for Cross-Entropy:\n",
    "\n",
    "$$H(p, q) = -\\sum_{x} p(x) \\log q(x)$$\n",
    "\n",
    "Where $p$ is the true distribution and $q$ is the predicted distribution. The formula for KL divergence is given by:\n",
    "\n",
    "$$D_{KL}(p||q) = \\sum_{x} p(x) \\log \\frac{p(x)}{q(x)}$$\n",
    "\n",
    "It is also helpful to remember that the entropy of a distribution $p$ is given by:\n",
    "\n",
    "$$H(p) = -\\sum_{x} p(x) \\log p(x)$$\n",
    "\n",
    "We can now see that CE is the entropy of $p$ distribution *plus* an extra term (the KL-divergence between $p$ and $q$, which disappears when $p$ and $q$ are the same) by performing some algebraic manipulations:\n",
    "\n",
    "$$\n",
    "D_{KL}(p||q) = \\sum_{x} p(x) \\log \\frac{p(x)}{q(x)} = \\sum_{x} p(x) \\log p(x) - \\sum_{x} p(x) \\log q(x) = -H(p) + H(p, q)\n",
    "$$\n",
    "\n",
    "Hence we have the relationship:\n",
    "\n",
    "$$\n",
    "D_{KL}(p||q) = H(p, q) - H(p)\n",
    "$$\n",
    "\n",
    "By rearranging the terms, we can see that:\n",
    "\n",
    "$$\n",
    "H(p, q) = D_{KL}(p||q) + H(p)\n",
    "$$\n"
   ]
  },
  {
   "cell_type": "code",
   "execution_count": null,
   "metadata": {
    "id": "kExRkuv0bwdP"
   },
   "outputs": [],
   "source": [
    "# fix seeds\n",
    "np.random.seed(0)\n",
    "torch.manual_seed(0)\n",
    "random.seed(0)\n",
    "torch.cuda.manual_seed(0)\n",
    "torch.cuda.manual_seed_all(0)\n",
    "torch.backends.cudnn.deterministic = True\n",
    "torch.backends.cudnn.benchmark = False"
   ]
  },
  {
   "cell_type": "code",
   "execution_count": null,
   "metadata": {
    "id": "05FERyqmbwdP"
   },
   "outputs": [],
   "source": [
    "def make_target(target, number_of_classes=10):\n",
    "    \"\"\"\n",
    "    Function to modify the target class\n",
    "    \"\"\"\n",
    "    device = torch.device(\"cuda\" if torch.cuda.is_available() else \"cpu\")\n",
    "    tensor = (\n",
    "        torch.nn.functional.one_hot(target, num_classes=number_of_classes)\n",
    "        .float()\n",
    "        .to(device)\n",
    "    )\n",
    "    # Identify rows with 1 in the first position\n",
    "    first_pos_mask = target == 0\n",
    "\n",
    "    # Substite the rows with 1 in the first position with a uniform distribution\n",
    "    n = tensor.size(1)  # Numero di colonne\n",
    "    uniform_distribution = torch.full(\n",
    "        (n,), 1.0 / n, device=device\n",
    "    )  # Distribuzione uniforme\n",
    "    tensor[first_pos_mask] = uniform_distribution\n",
    "\n",
    "    return tensor"
   ]
  },
  {
   "cell_type": "code",
   "execution_count": null,
   "metadata": {
    "id": "9oMxzJ8abwdQ"
   },
   "outputs": [],
   "source": [
    "def unlearning_2(model, forget_loader, validation, epochs, optimizer, scheduler):\n",
    "    \"\"\"\n",
    "    Function to unlearn the forget set\n",
    "    \"\"\"\n",
    "    device = torch.device(\"cuda\" if torch.cuda.is_available() else \"cpu\")\n",
    "    epsilon = 1e-5\n",
    "    model.to(device)\n",
    "    losses = []\n",
    "    losses_val = []\n",
    "\n",
    "    for epoch in range(epochs):\n",
    "        model.train()\n",
    "        loss_epoch = 0\n",
    "        loop = tqdm(enumerate(forget_loader), total=len(forget_loader), leave=True)\n",
    "        for batch_idx, (inputs, targets) in loop:\n",
    "            inputs, targets = inputs.to(device), targets.to(device)\n",
    "            optimizer.zero_grad()\n",
    "            outputs = model(inputs)\n",
    "            outputs = outputs + epsilon\n",
    "            outputs = F.log_softmax(outputs, dim=1)\n",
    "\n",
    "            targets = make_target(targets)\n",
    "            loss = F.kl_div(outputs, targets, reduction=\"batchmean\")\n",
    "            loss.backward()\n",
    "            optimizer.step()\n",
    "\n",
    "            # running loss\n",
    "            loss_epoch += loss.item()\n",
    "            # Update progress bar with loss and epoch information\n",
    "            loop.set_description(f\"Epoch [{epoch+1}/{epochs}]\")\n",
    "            loop.set_postfix(loss=loss.item())\n",
    "\n",
    "        # avg loss\n",
    "        avg_loss = loss_epoch / len(forget_loader)\n",
    "        losses.append(avg_loss)\n",
    "        # scheduler step\n",
    "        scheduler.step(avg_loss)\n",
    "        tqdm.write(f\"Epoch [{epoch+1}/{epochs}], Average Loss: {avg_loss:.4f}\")\n",
    "\n",
    "        # validation\n",
    "        loss_val = 0\n",
    "        model.eval()\n",
    "        with torch.no_grad():\n",
    "            for data, targets in validation:\n",
    "                data = data.to(device=device)\n",
    "                targets = targets.to(device=device)\n",
    "\n",
    "                scores = model(data)\n",
    "                scores = scores + epsilon\n",
    "                scores = F.log_softmax(scores, dim=1)\n",
    "                targets = make_target(targets)\n",
    "                loss = F.kl_div(scores, targets, reduction=\"batchmean\")\n",
    "                loss_val += loss.item()\n",
    "            # Calculate average loss for the epoch\n",
    "            avg_val_loss = loss_val / len(validation)\n",
    "            losses_val.append(avg_val_loss)\n",
    "            print(f\"Validation Loss: {avg_val_loss:.4f}\")\n",
    "            # if avg val_loss is better than the one before, save the model\n",
    "            if epoch == 0:\n",
    "                # create directory if not exist\n",
    "                os.makedirs(\"checkpoint\", exist_ok=True)\n",
    "                best_loss = avg_val_loss\n",
    "                torch.save(model.state_dict(), \"checkpoint/another_forget_model.pth\")\n",
    "            elif avg_val_loss < best_loss:\n",
    "                best_loss = avg_val_loss\n",
    "                torch.save(model.state_dict(), \"checkpoint/another_forget_model.pth\")\n",
    "    return model, losses, losses_val"
   ]
  },
  {
   "cell_type": "code",
   "execution_count": null,
   "metadata": {
    "id": "RjrNkkfWbwdQ",
    "outputId": "46d7adff-25ca-4c82-81f7-43a10d891769"
   },
   "outputs": [
    {
     "name": "stderr",
     "output_type": "stream",
     "text": [
      "/tmp/ipykernel_38063/4083442650.py:2: FutureWarning: You are using `torch.load` with `weights_only=False` (the current default value), which uses the default pickle module implicitly. It is possible to construct malicious pickle data which will execute arbitrary code during unpickling (See https://github.com/pytorch/pytorch/blob/main/SECURITY.md#untrusted-models for more details). In a future release, the default value for `weights_only` will be flipped to `True`. This limits the functions that could be executed during unpickling. Arbitrary objects will no longer be allowed to be loaded via this mode unless they are explicitly allowlisted by the user via `torch.serialization.add_safe_globals`. We recommend you start setting `weights_only=True` for any use case where you don't have full control of the loaded file. Please open an issue on GitHub for any issues related to this experimental feature.\n",
      "  another_forget_model.load_state_dict(torch.load(\"checkpoint/best_model.pth\"))\n",
      "/home/dario/repos/unlearning/.venv/lib/python3.11/site-packages/torch/optim/lr_scheduler.py:62: UserWarning: The verbose parameter is deprecated. Please use get_last_lr() to access the learning rate.\n",
      "  warnings.warn(\n",
      "Epoch [1/10]: 100%|██████████| 10/10 [00:01<00:00,  5.06it/s, loss=1.48]\n"
     ]
    },
    {
     "name": "stdout",
     "output_type": "stream",
     "text": [
      "Epoch [1/10], Average Loss: 1.6633\n",
      "Validation Loss: 1.6086\n"
     ]
    },
    {
     "name": "stderr",
     "output_type": "stream",
     "text": [
      "Epoch [2/10]: 100%|██████████| 10/10 [00:01<00:00,  6.48it/s, loss=1.16]\n"
     ]
    },
    {
     "name": "stdout",
     "output_type": "stream",
     "text": [
      "Epoch [2/10], Average Loss: 1.3001\n",
      "Validation Loss: 1.1686\n"
     ]
    },
    {
     "name": "stderr",
     "output_type": "stream",
     "text": [
      "Epoch [3/10]: 100%|██████████| 10/10 [00:01<00:00,  6.32it/s, loss=0.949]\n"
     ]
    },
    {
     "name": "stdout",
     "output_type": "stream",
     "text": [
      "Epoch [3/10], Average Loss: 1.0475\n",
      "Validation Loss: 0.9128\n"
     ]
    },
    {
     "name": "stderr",
     "output_type": "stream",
     "text": [
      "Epoch [4/10]: 100%|██████████| 10/10 [00:01<00:00,  6.23it/s, loss=0.852]\n"
     ]
    },
    {
     "name": "stdout",
     "output_type": "stream",
     "text": [
      "Epoch [4/10], Average Loss: 0.8803\n",
      "Validation Loss: 0.7618\n"
     ]
    },
    {
     "name": "stderr",
     "output_type": "stream",
     "text": [
      "Epoch [5/10]: 100%|██████████| 10/10 [00:01<00:00,  6.37it/s, loss=0.722]\n"
     ]
    },
    {
     "name": "stdout",
     "output_type": "stream",
     "text": [
      "Epoch [5/10], Average Loss: 0.7427\n",
      "Validation Loss: 0.6562\n"
     ]
    },
    {
     "name": "stderr",
     "output_type": "stream",
     "text": [
      "Epoch [6/10]: 100%|██████████| 10/10 [00:01<00:00,  5.79it/s, loss=0.639]\n"
     ]
    },
    {
     "name": "stdout",
     "output_type": "stream",
     "text": [
      "Epoch [6/10], Average Loss: 0.6470\n",
      "Validation Loss: 0.5612\n"
     ]
    },
    {
     "name": "stderr",
     "output_type": "stream",
     "text": [
      "Epoch [7/10]: 100%|██████████| 10/10 [00:01<00:00,  6.07it/s, loss=0.527]\n"
     ]
    },
    {
     "name": "stdout",
     "output_type": "stream",
     "text": [
      "Epoch [7/10], Average Loss: 0.5774\n",
      "Validation Loss: 0.4966\n"
     ]
    },
    {
     "name": "stderr",
     "output_type": "stream",
     "text": [
      "Epoch [8/10]: 100%|██████████| 10/10 [00:01<00:00,  5.70it/s, loss=0.437]\n"
     ]
    },
    {
     "name": "stdout",
     "output_type": "stream",
     "text": [
      "Epoch [8/10], Average Loss: 0.5100\n",
      "Validation Loss: 0.4429\n"
     ]
    },
    {
     "name": "stderr",
     "output_type": "stream",
     "text": [
      "Epoch [9/10]: 100%|██████████| 10/10 [00:01<00:00,  6.20it/s, loss=0.453]\n"
     ]
    },
    {
     "name": "stdout",
     "output_type": "stream",
     "text": [
      "Epoch [9/10], Average Loss: 0.4590\n",
      "Validation Loss: 0.4005\n"
     ]
    },
    {
     "name": "stderr",
     "output_type": "stream",
     "text": [
      "Epoch [10/10]: 100%|██████████| 10/10 [00:01<00:00,  5.89it/s, loss=0.402]\n"
     ]
    },
    {
     "name": "stdout",
     "output_type": "stream",
     "text": [
      "Epoch [10/10], Average Loss: 0.4178\n",
      "Validation Loss: 0.3554\n"
     ]
    }
   ],
   "source": [
    "another_forget_model = create_model()\n",
    "another_forget_model.load_state_dict(torch.load(\"checkpoint/best_model.pth\"))\n",
    "another_forget_model.to(device)\n",
    "\n",
    "# optimizer\n",
    "optimizer = torch.optim.Adam(another_forget_model.parameters(), lr=0.0001)\n",
    "scheduler = torch.optim.lr_scheduler.ReduceLROnPlateau(\n",
    "    optimizer, mode=\"min\", factor=0.1, patience=5, verbose=True\n",
    ")\n",
    "num_epochs = 10\n",
    "\n",
    "forget_loader = forget_loader\n",
    "val_loader = forget_loader_val\n",
    "\n",
    "another_forget_model, losses, losses_val = unlearning_2(\n",
    "    another_forget_model, forget_loader, val_loader, num_epochs, optimizer, scheduler\n",
    ")"
   ]
  },
  {
   "cell_type": "code",
   "execution_count": null,
   "metadata": {
    "id": "x5NNgI9ibwdQ",
    "outputId": "3b94f0be-1a78-4d08-c2ec-58efe328474f"
   },
   "outputs": [
    {
     "data": {
      "image/png": "[encoded data removed]",
      "text/plain": [
       "<Figure size 1500x500 with 1 Axes>"
      ]
     },
     "metadata": {},
     "output_type": "display_data"
    }
   ],
   "source": [
    "# plot losses\n",
    "# epoch of best validation loss\n",
    "index_best = losses_val.index(min(losses_val))\n",
    "\n",
    "plt.figure(figsize=(15, 5))\n",
    "plt.plot(losses, label=\"Train Loss\")\n",
    "plt.plot(losses_val, label=\"Val Loss\")\n",
    "plt.axvline(index_best, color=\"r\", linestyle=\"--\", label=\"Best Val Loss\")\n",
    "plt.legend()\n",
    "plt.title(\"Loss vs Epochs\")\n",
    "plt.xlabel(\"Epochs\")\n",
    "plt.ylabel(\"Loss\")\n",
    "plt.grid()\n",
    "plt.show()"
   ]
  },
  {
   "cell_type": "code",
   "execution_count": null,
   "metadata": {
    "id": "ZyJEgwoDbwdR",
    "outputId": "7f6213ea-1c19-4e35-86ec-e5e0149f1a98"
   },
   "outputs": [
    {
     "name": "stderr",
     "output_type": "stream",
     "text": [
      "/tmp/ipykernel_38063/1269313026.py:3: FutureWarning: You are using `torch.load` with `weights_only=False` (the current default value), which uses the default pickle module implicitly. It is possible to construct malicious pickle data which will execute arbitrary code during unpickling (See https://github.com/pytorch/pytorch/blob/main/SECURITY.md#untrusted-models for more details). In a future release, the default value for `weights_only` will be flipped to `True`. This limits the functions that could be executed during unpickling. Arbitrary objects will no longer be allowed to be loaded via this mode unless they are explicitly allowlisted by the user via `torch.serialization.add_safe_globals`. We recommend you start setting `weights_only=True` for any use case where you don't have full control of the loaded file. Please open an issue on GitHub for any issues related to this experimental feature.\n",
      "  another_forget_model.load_state_dict(torch.load(\"checkpoint/another_forget_model.pth\"))\n"
     ]
    }
   ],
   "source": [
    "# calculate accuracy\n",
    "another_forget_model = create_model()\n",
    "another_forget_model.load_state_dict(torch.load(\"checkpoint/another_forget_model.pth\"))\n",
    "another_forget_model.eval()\n",
    "another_forget_model.to(device)\n",
    "\n",
    "\n",
    "# Calculate the accuracy on the test set\n",
    "retain_accuracy = accuracy(another_forget_model, retain_loader)\n",
    "forget_accuracy = accuracy(another_forget_model, forget_loader)\n",
    "test_accuracy = accuracy(another_forget_model, test_loader)\n",
    "retain_test_accuracy = accuracy(another_forget_model, retain_loader_test)\n",
    "forget_test_accuracy = accuracy(another_forget_model, forget_loader_test)"
   ]
  },
  {
   "cell_type": "code",
   "execution_count": null,
   "metadata": {
    "id": "1aqNZoEmbwdR",
    "outputId": "82518122-fc50-46a1-bd30-e851d08e1437"
   },
   "outputs": [
    {
     "name": "stdout",
     "output_type": "stream",
     "text": [
      "Retain Accuracy: 63.6600\n",
      "Forget Accuracy: 17.1600\n",
      "Test Accuracy: 56.4625\n",
      "Test Retain Accuracy: 60.6667\n",
      "Test Forget Accuracy: 15.8000\n"
     ]
    }
   ],
   "source": [
    "# print accuracies on retain, forget and test set\n",
    "print(f\"Retain Accuracy: {100* retain_accuracy:.4f}\")\n",
    "print(f\"Forget Accuracy: {100* forget_accuracy:.4f}\")\n",
    "print(f\"Test Accuracy: {100* test_accuracy:.4f}\")\n",
    "print(f\"Test Retain Accuracy: {100* retain_test_accuracy:.4f}\")\n",
    "print(f\"Test Forget Accuracy: {100* forget_test_accuracy:.4f}\")"
   ]
  },
  {
   "cell_type": "code",
   "execution_count": null,
   "metadata": {
    "id": "aZFdqwXwbwdR"
   },
   "outputs": [],
   "source": [
    "# calculate losses of the model on forget and retain test set\n",
    "retain_losses_CE = compute_losses(another_forget_model, retain_loader_test)\n",
    "forget_losses_CE = compute_losses(another_forget_model, forget_loader_test)"
   ]
  },
  {
   "cell_type": "code",
   "execution_count": null,
   "metadata": {
    "id": "GdTlAuFQbwdS",
    "outputId": "a22ae95a-4c97-45cb-8047-7c685e053ed5"
   },
   "outputs": [
    {
     "data": {
      "image/png": "[encoded data removed]",
      "text/plain": [
       "<Figure size 640x480 with 1 Axes>"
      ]
     },
     "metadata": {},
     "output_type": "display_data"
    }
   ],
   "source": [
    "plt.hist(\n",
    "    retain_losses_CE, density=True, bins=50, alpha=0.5, label=\"Retain\", color=\"blue\"\n",
    ")\n",
    "plt.hist(\n",
    "    forget_losses_CE, density=True, bins=50, alpha=0.5, label=\"Forget\", color=\"red\"\n",
    ")\n",
    "plt.title(\"Another Forget Model\")\n",
    "plt.xlabel(\"Loss\")\n",
    "plt.legend()\n",
    "plt.show()"
   ]
  },
  {
   "cell_type": "code",
   "execution_count": null,
   "metadata": {
    "id": "wtbeNqGhbwdS",
    "outputId": "4972fb0c-8883-4db5-ec1a-8b253715213d"
   },
   "outputs": [
    {
     "name": "stdout",
     "output_type": "stream",
     "text": [
      "Another Forget Model MIA score with Cross Entropy losses: 0.7465\n"
     ]
    }
   ],
   "source": [
    "# mia attack on cross entropy\n",
    "np.random.seed(0)\n",
    "subsample_retain_losses_CE = np.random.choice(\n",
    "    retain_losses_CE, len(forget_losses), replace=False\n",
    ")\n",
    "samples_mia = np.concatenate([subsample_retain_losses_CE, forget_losses_CE]).reshape(\n",
    "    -1, 1\n",
    ")\n",
    "members_mia = np.concatenate(\n",
    "    [np.zeros(len(subsample_retain_losses_CE)), np.ones(len(forget_losses))]\n",
    ")\n",
    "\n",
    "scores_another_forget = simple_mia(samples_mia, members_mia)\n",
    "print(\n",
    "    f\"Another Forget Model MIA score with Cross Entropy losses: {scores_another_forget.mean():.4f}\"\n",
    ")"
   ]
  },
  {
   "cell_type": "markdown",
   "metadata": {
    "id": "zIOKZi-ibwdS"
   },
   "source": [
    "This is another way of performing unlearning, you may have noticed that the distributions of the retain and forget sets are different but still there is an overlapping portion. It is very likely that the MIA attack will fail in that specific region."
   ]
  },
  {
   "cell_type": "markdown",
   "metadata": {
    "id": "DpMRu8zvbwdT"
   },
   "source": [
    "# GMN for unlearning (6 Points)\n",
    "\n",
    "Now, we will attempt to use the GMN you have implemented in the theory notebook for the unlearning task. Keep in mind that this is a novel and challenging task, and it is quite possible that the results may not meet your expectations. However, this is the nature of research. Therefore, the evaluation will focus on the clarity of your approach and your ability to justify your choices and results, rather then the result itself."
   ]
  },
  {
   "cell_type": "markdown",
   "metadata": {
    "id": "kRiBvEsybwdT"
   },
   "source": [
    "First of all, go into the ```Practice/gmn/graph_models.py``` file and replace the empty classes with what you have implemented in the second part of the theory notebook. Then, try to think about and implement an unlearning algorithm that leverages the graph metanetwork, and evaluate the unlearned model with MIA attacks and accuracy scores. It would be super cool to have a neural network (the GMN) that can take as input other pretrained neural networks and produce as output the same networks but unlearned over a specific subset of data samples.\n",
    "\n",
    "In the end, generate a detailed report where you describe your idea, methodology and implementation. Put the most of your effort in explaining us the ideas and the intuitions that you had, since this is what we will reward. Don't be worried if results are poor, there can be many causes of this and it's not your task to solve all of them."
   ]
  },
  {
   "cell_type": "code",
   "execution_count": null,
   "metadata": {
    "id": "kYqyYPoCbwdT",
    "outputId": "13c01b48-bbe5-49ed-edf7-66e382889edb"
   },
   "outputs": [
    {
     "ename": "SyntaxError",
     "evalue": "invalid syntax (graph_models.py, line 34)",
     "output_type": "error",
     "traceback": [
      "Traceback \u001b[0;36m(most recent call last)\u001b[0m:\n",
      "\u001b[0m  File \u001b[1;32m~/repos/unlearning/.venv/lib/python3.11/site-packages/IPython/core/interactiveshell.py:3577\u001b[0m in \u001b[1;35mrun_code\u001b[0m\n    exec(code_obj, self.user_global_ns, self.user_ns)\u001b[0m\n",
      "\u001b[0;36m  Cell \u001b[0;32mIn[46], line 1\u001b[0;36m\n\u001b[0;31m    from gmn.graph_models import *\u001b[0;36m\n",
      "\u001b[0;36m  File \u001b[0;32m~/repos/unlearning/Practice/gmn/graph_models.py:34\u001b[0;36m\u001b[0m\n\u001b[0;31m    def forward(self, ...):\u001b[0m\n\u001b[0m                      ^\u001b[0m\n\u001b[0;31mSyntaxError\u001b[0m\u001b[0;31m:\u001b[0m invalid syntax\n"
     ]
    }
   ],
   "source": [
    "from gmn.graph_models import *\n",
    "from torch_geometric.data import Data, Batch\n",
    "from gmn.graph_construct.model_arch_graph import (\n",
    "    sequential_to_arch,\n",
    "    arch_to_graph,\n",
    "    graph_to_arch,\n",
    "    arch_to_sequential,\n",
    ")\n",
    "from gmn.feature_extractor_gmn import NodeEdgeFeatEncoder\n",
    "from gmn.graph_models import MPNN\n",
    "\n",
    "torch.manual_seed(0)\n",
    "\n",
    "weights = torch.load(\"checkpoint/best_model.pth\")\n",
    "model = create_model()\n",
    "model.load_state_dict(weights)\n",
    "arch = sequential_to_arch(model)\n",
    "x, edge_index, edge_attr = arch_to_graph(arch)\n",
    "x = x.float()\n",
    "edge_attr = edge_attr.float()\n",
    "\n",
    "# currently u is a vector of zeros, and it is basically useless. You can consider filling it with what you prefer and leverage it for the task of unlearning\n",
    "g_cnn = Data(x=x, edge_index=edge_index, edge_attr=edge_attr, u=torch.zeros(1, 8))\n",
    "\n",
    "graph_batch = Batch.from_data_list([g_cnn])\n",
    "print(graph_batch)"
   ]
  },
  {
   "cell_type": "code",
   "execution_count": null,
   "metadata": {
    "id": "dJQ_CPIxbwdT"
   },
   "outputs": [],
   "source": [
    "class GraphMetaNetwork(nn.Module):\n",
    "    \"\"\"\n",
    "    Wrapper class for the graph metanetwork\n",
    "    \"\"\"\n",
    "\n",
    "    def __init__(self, encoder, mpnn):\n",
    "        super(GraphMetaNetwork, self).__init__()\n",
    "        self.encoder = encoder\n",
    "        self.mpnn = mpnn\n",
    "\n",
    "    def forward(self, data):\n",
    "        x, edge_index, edge_attr, u, batch = (\n",
    "            data.x,\n",
    "            data.edge_index,\n",
    "            data.edge_attr,\n",
    "            data.u,\n",
    "            data.batch,\n",
    "        )\n",
    "        x, edge_attr = self.encoder(x, edge_attr)\n",
    "        x, edge_attr, u = self.mpnn(x, edge_index, edge_attr, u, batch)\n",
    "        return edge_attr\n",
    "\n",
    "\n",
    "# Define the encoder and MPNN\n",
    "pre_embedding_dim = 64\n",
    "global_in_dim = 8\n",
    "hidden_dim = 32\n",
    "node_out_dim = 3\n",
    "edge_out_dim = 1\n",
    "global_out_dim = 8\n",
    "num_gnn_layers = 4\n",
    "encoder = NodeEdgeFeatEncoder(hidden_dim=pre_embedding_dim)\n",
    "mpnn = MPNN(\n",
    "    node_in_dim=pre_embedding_dim,\n",
    "    edge_in_dim=pre_embedding_dim,\n",
    "    global_in_dim=global_in_dim,\n",
    "    hidden_dim=hidden_dim,\n",
    "    node_out_dim=node_out_dim,\n",
    "    edge_out_dim=edge_out_dim,\n",
    "    global_out_dim=global_out_dim,\n",
    "    num_layers=num_gnn_layers,\n",
    "    reduce=\"mean\",\n",
    ")\n",
    "\n",
    "# Create the metanetwork\n",
    "gmn = GraphMetaNetwork(encoder, mpnn)\n",
    "gmn.to(device)"
   ]
  },
  {
   "cell_type": "markdown",
   "metadata": {
    "id": "h0XlrIz2bwdU"
   },
   "source": [
    "If you need to convert the output of the gmn back into a neural network model (i.e., an ```nn.Sequential``` object), please look into ```graph_to_arch``` and ```arch_to_sequential``` functions stored in ```Practice/gmn/graph_construct/model_arch_graph.py```."
   ]
  },
  {
   "cell_type": "code",
   "execution_count": null,
   "metadata": {
    "id": "AWP8bReMbwdU"
   },
   "outputs": [],
   "source": [
    "\"\"\"\n",
    "Add your code below\n",
    "\"\"\""
   ]
  },
  {
   "cell_type": "markdown",
   "metadata": {
    "id": "e3-hG7VvbwdU"
   },
   "source": [
    "## Report\n",
    "\n",
    "..."
   ]
  }
 ],
 "metadata": {
  "accelerator": "GPU",
  "colab": {
   "gpuType": "T4",
   "provenance": []
  },
  "kernelspec": {
   "display_name": ".venv",
   "language": "python",
   "name": "python3"
  },
  "language_info": {
   "codemirror_mode": {
    "name": "ipython",
    "version": 3
   },
   "file_extension": ".py",
   "mimetype": "text/x-python",
   "name": "python",
   "nbconvert_exporter": "python",
   "pygments_lexer": "ipython3",
   "version": "3.11.10"
  }
 },
 "nbformat": 4,
 "nbformat_minor": 0
}
