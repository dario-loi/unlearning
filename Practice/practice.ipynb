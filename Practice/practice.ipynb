{
 "cells": [
  {
   "cell_type": "markdown",
   "metadata": {
    "id": "vIoFw9p3bwcY"
   },
   "source": [
    "# AML Homework 3: Practice\n"
   ]
  },
  {
   "cell_type": "markdown",
   "metadata": {
    "id": "uVfTu8ssbwcg"
   },
   "source": [
    "## Table of contents:\n",
    "This notebook is composed of 7 Sections for 17 points\n",
    "\n",
    "* **Section 1: Train a CNN from Scratch on CIFAR-10 ( 2 Points)**\n",
    "\n",
    "    We will implement a Convolutional Neural Network (CNN) from the ground up to classify images from the CIFAR-10 dataset. The focus will be on understanding the architecture of CNNs, preprocessing the dataset, and optimizing the model to achieve high accuracy.\n",
    "\n",
    "* **Section 2: Unlearning( 2 Points)**\n",
    "\n",
    "    We introduce the concept of unlearning, which involves modifying a trained model to forget specific data points while retaining its overall performance.\n",
    "\n",
    "* **Section 3: Gold model ( 2 Points)**\n",
    "\n",
    "    We discuss the development of the Gold model, which serves as the benchmark for evaluating performance after implementing unlearning techniques. \n",
    "\n",
    "\n",
    "* **Section 4: Mia Attacks ( 3 Points)**\n",
    "\n",
    "    This section will focus on MIA (Membership Inference Attacks), which are designed to determine whether a specific data point was included in the training set of a machine learning model. \n",
    "    \n",
    "* **Section 5: Unlearning with KL divergence ( 2 Points)**\n",
    "\n",
    "    This section will discuss the application of Kullback-Leibler (KL) divergence in the unlearning process, emphasizing its role in quantifying the difference between the model's original and modified predictions.\n",
    "\n",
    "* **Section 6: GMN for Unlearning ( 6 Points)**\n",
    "\n",
    "    This section will introduce the use of Graph Meta Networks (GMNs) in the unlearning process, highlighting their ability to adaptively modify model parameters based on specific unlearning tasks.\n",
    "\n",
    "Do not modify parts of code that are not marked with \"Your turn\" or \"Add your code below\"."
   ]
  },
  {
   "cell_type": "code",
   "execution_count": 1,
   "metadata": {
    "id": "x2CiTYz4bwci"
   },
   "outputs": [],
   "source": [
    "# import libraries\n",
    "import numpy as np\n",
    "import pandas as pd\n",
    "import matplotlib.pyplot as plt\n",
    "import torch\n",
    "import torch.nn as nn\n",
    "from torchvision import datasets, transforms\n",
    "from torchvision.transforms import ToTensor\n",
    "from torch.utils.data import DataLoader\n",
    "from tqdm import tqdm\n",
    "import os\n",
    "import random\n",
    "from sklearn import linear_model, model_selection\n",
    "from torch_geometric.data import Data\n",
    "from gmn.graph_construct.model_arch_graph import sequential_to_arch, arch_to_graph\n",
    "import torch.nn.functional as F\n",
    "\n",
    "\n",
    "# fix seeds\n",
    "np.random.seed(0)\n",
    "torch.manual_seed(0)\n",
    "random.seed(0)\n",
    "torch.cuda.manual_seed(0)\n",
    "torch.cuda.manual_seed_all(0)\n",
    "torch.backends.cudnn.deterministic = True\n",
    "torch.backends.cudnn.benchmark = False"
   ]
  },
  {
   "cell_type": "markdown",
   "metadata": {
    "id": "7yaeWKYwbwcl"
   },
   "source": [
    "# Section 1: Train from scratch a CNN on CIFAR-10"
   ]
  },
  {
   "cell_type": "markdown",
   "metadata": {
    "id": "5dXM4wW4bwcm"
   },
   "source": [
    "### 1.1: Model definition"
   ]
  },
  {
   "cell_type": "code",
   "execution_count": 2,
   "metadata": {
    "id": "QJvR1fH4bwcn"
   },
   "outputs": [],
   "source": [
    "def create_model():\n",
    "    \"\"\"\n",
    "    Create a simple CNN model for CIFAR10 dataset\n",
    "    \"\"\"\n",
    "\n",
    "    model = nn.Sequential(\n",
    "        nn.Conv2d(3, 32, kernel_size=(3, 3), stride=1, padding=1),\n",
    "        nn.BatchNorm2d(32),\n",
    "        nn.ReLU(),\n",
    "        nn.AvgPool2d(kernel_size=2, stride=2),\n",
    "        nn.Dropout(p=0.1),\n",
    "        nn.Conv2d(32, 64, kernel_size=(3, 3), stride=1, padding=1),\n",
    "        nn.BatchNorm2d(64),\n",
    "        nn.ReLU(),\n",
    "        nn.AvgPool2d(kernel_size=2, stride=2),\n",
    "        nn.Dropout(p=0.1),\n",
    "        nn.Conv2d(64, 64, kernel_size=(3, 3), stride=1, padding=1),\n",
    "        nn.BatchNorm2d(64),\n",
    "        nn.ReLU(),\n",
    "        nn.AdaptiveAvgPool2d((1, 1)),\n",
    "        nn.Flatten(),\n",
    "        nn.Dropout(p=0.1),\n",
    "        nn.Linear(64, 32),\n",
    "        nn.ReLU(),\n",
    "        nn.Dropout(p=0.1),\n",
    "        nn.Linear(32, 10),\n",
    "    )\n",
    "\n",
    "    return model"
   ]
  },
  {
   "cell_type": "markdown",
   "metadata": {
    "id": "bFUHuazqbwco"
   },
   "source": [
    "### 1.2 DataLoader\n"
   ]
  },
  {
   "cell_type": "markdown",
   "metadata": {
    "id": "9gnM3t-dbwcp"
   },
   "source": [
    "#### Your turn ( 1 Point)\n",
    "\n",
    "Calculate the mean and the standard deviation vectors to be used in cifar_transforms  rounding the values to four decimal places."
   ]
  },
  {
   "cell_type": "code",
   "execution_count": 3,
   "metadata": {
    "colab": {
     "base_uri": "https://localhost:8080/"
    },
    "id": "biK7_59_bwcq",
    "outputId": "13d909b1-4524-4b06-f1b6-e2179bffaa17"
   },
   "outputs": [
    {
     "name": "stdout",
     "output_type": "stream",
     "text": [
      "Files already downloaded and verified\n",
      "Mean:  [0.4914 0.4822 0.4465]\n",
      "Std:  [0.247  0.2435 0.2616]\n"
     ]
    }
   ],
   "source": [
    "import numpy as np\n",
    "from torchvision import datasets, transforms\n",
    "\n",
    "# Load the dataset\n",
    "train_dataset = datasets.CIFAR10(\n",
    "    root=\"./data\", train=True, download=True, transform=transforms.ToTensor()\n",
    ")\n",
    "\n",
    "\"\"\"\n",
    "Add your code below\n",
    "\"\"\"\n",
    "# Compute the mean and standard deviation for each channel\n",
    "mean = train_dataset.data.mean(axis=(0, 1, 2)) / 255\n",
    "std = train_dataset.data.std(axis=(0, 1, 2)) / 255\n",
    "\n",
    "print(\"Mean: \", np.round(mean, 4))\n",
    "print(\"Std: \", np.round(std, 4))"
   ]
  },
  {
   "cell_type": "code",
   "execution_count": 4,
   "metadata": {
    "colab": {
     "base_uri": "https://localhost:8080/"
    },
    "id": "GAnYGyiBbwcs",
    "outputId": "1e154f87-5c95-4754-e856-6c82a1e79ada"
   },
   "outputs": [
    {
     "name": "stdout",
     "output_type": "stream",
     "text": [
      "Files already downloaded and verified\n",
      "Files already downloaded and verified\n"
     ]
    }
   ],
   "source": [
    "# Define the augmentations for the training set\n",
    "cifar_transforms = transforms.Compose(\n",
    "    [\n",
    "        transforms.ToTensor(),  # Convert the image to a PyTorch tensor\n",
    "        transforms.Normalize(mean, std),  # Normalize the image channel\n",
    "    ]\n",
    ")\n",
    "\n",
    "# Load the CIFAR-10 dataset with the appropriate transforms\n",
    "train_dataset = datasets.CIFAR10(\n",
    "    root=\"data\", train=True, transform=cifar_transforms, download=True\n",
    ")\n",
    "test_dataset = datasets.CIFAR10(\n",
    "    root=\"data\", train=False, transform=cifar_transforms, download=True\n",
    ")\n",
    "\n",
    "# split test into test and validation\n",
    "val_dataset, test_dataset = torch.utils.data.random_split(test_dataset, [2000, 8000])"
   ]
  },
  {
   "cell_type": "code",
   "execution_count": 5,
   "metadata": {
    "id": "0DVbWLTibwct"
   },
   "outputs": [],
   "source": [
    "batch_size = 512\n",
    "\n",
    "# Create the DataLoaders\n",
    "train_loader = DataLoader(train_dataset, batch_size=batch_size, shuffle=True)\n",
    "val_loader = DataLoader(val_dataset, batch_size=batch_size, shuffle=False)\n",
    "test_loader = DataLoader(test_dataset, batch_size=batch_size, shuffle=False)"
   ]
  },
  {
   "cell_type": "markdown",
   "metadata": {
    "id": "SP8lyrEbbwct"
   },
   "source": [
    "### 1.3 See the data"
   ]
  },
  {
   "cell_type": "code",
   "execution_count": 6,
   "metadata": {
    "colab": {
     "base_uri": "https://localhost:8080/",
     "height": 342
    },
    "id": "UQ3AULPibwcu",
    "outputId": "a2a70410-5a60-4250-d5cc-0194a99de10d"
   },
   "outputs": [
    {
     "data": {
      "image/png": "[encoded data removed]",
      "text/plain": [
       "<Figure size 2000x400 with 20 Axes>"
      ]
     },
     "metadata": {},
     "output_type": "display_data"
    }
   ],
   "source": [
    "# plot 2 figures for each of the 10 classes in the dataset\n",
    "fig, axs = plt.subplots(2, 10, figsize=(20, 4))\n",
    "for i in range(10):\n",
    "    # Get the first image of each class\n",
    "    img = train_dataset.data[train_dataset.targets.index(i)]\n",
    "    axs[0, i].imshow(img)\n",
    "    axs[0, i].axis(\"off\")\n",
    "    axs[0, i].set_title(train_dataset.classes[i])\n",
    "\n",
    "    # Get the second image of each class\n",
    "    img = train_dataset.data[\n",
    "        train_dataset.targets.index(i, train_dataset.targets.index(i) + 1)\n",
    "    ]\n",
    "    axs[1, i].imshow(img)\n",
    "    axs[1, i].axis(\"off\")"
   ]
  },
  {
   "cell_type": "markdown",
   "metadata": {
    "id": "T5kwMmOZbwcv"
   },
   "source": [
    "### 1.4: Training Loop"
   ]
  },
  {
   "cell_type": "code",
   "execution_count": null,
   "metadata": {
    "colab": {
     "base_uri": "https://localhost:8080/"
    },
    "id": "-Pdao3mgbwcv",
    "outputId": "58d6d87b-ff2a-45b9-f160-9ec9cfe7f475"
   },
   "outputs": [
    {
     "name": "stderr",
     "output_type": "stream",
     "text": [
      "/tmp/ipykernel_49322/939893080.py:4: FutureWarning: You are using `torch.load` with `weights_only=False` (the current default value), which uses the default pickle module implicitly. It is possible to construct malicious pickle data which will execute arbitrary code during unpickling (See https://github.com/pytorch/pytorch/blob/main/SECURITY.md#untrusted-models for more details). In a future release, the default value for `weights_only` will be flipped to `True`. This limits the functions that could be executed during unpickling. Arbitrary objects will no longer be allowed to be loaded via this mode unless they are explicitly allowlisted by the user via `torch.serialization.add_safe_globals`. We recommend you start setting `weights_only=True` for any use case where you don't have full control of the loaded file. Please open an issue on GitHub for any issues related to this experimental feature.\n",
      "  model.load_state_dict(torch.load(\"checkpoint/model_weights.pth\"))\n",
      "/home/dario/repos/unlearning/.venv/lib/python3.11/site-packages/torch/optim/lr_scheduler.py:62: UserWarning: The verbose parameter is deprecated. Please use get_last_lr() to access the learning rate.\n",
      "  warnings.warn(\n"
     ]
    }
   ],
   "source": [
    "device = torch.device(\"cuda\" if torch.cuda.is_available() else \"cpu\")\n",
    "# load weights\n",
    "model = create_model()\n",
    "model.load_state_dict(torch.load(\"checkpoint/model_weights.pth\"))\n",
    "model.to(device)\n",
    "\n",
    "# initialize the loss function and optimizer\n",
    "criterion = nn.CrossEntropyLoss()\n",
    "optimizer = torch.optim.Adam(model.parameters(), lr=0.001)\n",
    "scheduler = torch.optim.lr_scheduler.ReduceLROnPlateau(\n",
    "    optimizer, mode=\"min\", factor=0.1, patience=5, verbose=True\n",
    ")\n",
    "num_epochs = 20"
   ]
  },
  {
   "cell_type": "code",
   "execution_count": null,
   "metadata": {
    "colab": {
     "base_uri": "https://localhost:8080/"
    },
    "id": "ctRZCNQ2bwcv",
    "outputId": "96e024c2-40c8-4844-9d9f-0050d9911b74"
   },
   "outputs": [
    {
     "name": "stderr",
     "output_type": "stream",
     "text": [
      "Epoch [1/20]: 100%|██████████| 98/98 [00:14<00:00,  6.74it/s, loss=1.6] \n"
     ]
    },
    {
     "name": "stdout",
     "output_type": "stream",
     "text": [
      "Epoch [1/20], Average Loss: 1.9016\n",
      "Validation Loss: 1.6066\n"
     ]
    },
    {
     "name": "stderr",
     "output_type": "stream",
     "text": [
      "Epoch [2/20]: 100%|██████████| 98/98 [00:14<00:00,  6.84it/s, loss=1.38]\n"
     ]
    },
    {
     "name": "stdout",
     "output_type": "stream",
     "text": [
      "Epoch [2/20], Average Loss: 1.4677\n",
      "Validation Loss: 1.3398\n"
     ]
    },
    {
     "name": "stderr",
     "output_type": "stream",
     "text": [
      "Epoch [3/20]: 100%|██████████| 98/98 [00:14<00:00,  6.68it/s, loss=1.29]\n"
     ]
    },
    {
     "name": "stdout",
     "output_type": "stream",
     "text": [
      "Epoch [3/20], Average Loss: 1.3244\n",
      "Validation Loss: 1.2220\n"
     ]
    },
    {
     "name": "stderr",
     "output_type": "stream",
     "text": [
      "Epoch [4/20]:  84%|████████▎ | 82/98 [00:12<00:02,  6.71it/s, loss=1.21]\n"
     ]
    },
    {
     "ename": "KeyboardInterrupt",
     "evalue": "",
     "output_type": "error",
     "traceback": [
      "\u001b[0;31m---------------------------------------------------------------------------\u001b[0m",
      "\u001b[0;31mKeyboardInterrupt\u001b[0m                         Traceback (most recent call last)",
      "Cell \u001b[0;32mIn[8], line 15\u001b[0m\n\u001b[1;32m     12\u001b[0m \u001b[38;5;66;03m# Using tqdm for the progress bar\u001b[39;00m\n\u001b[1;32m     13\u001b[0m loop \u001b[38;5;241m=\u001b[39m tqdm(\u001b[38;5;28menumerate\u001b[39m(train_loader), total\u001b[38;5;241m=\u001b[39m\u001b[38;5;28mlen\u001b[39m(train_loader), leave\u001b[38;5;241m=\u001b[39m\u001b[38;5;28;01mTrue\u001b[39;00m)\n\u001b[0;32m---> 15\u001b[0m \u001b[43m\u001b[49m\u001b[38;5;28;43;01mfor\u001b[39;49;00m\u001b[43m \u001b[49m\u001b[43mbatch_idx\u001b[49m\u001b[43m,\u001b[49m\u001b[43m \u001b[49m\u001b[43m(\u001b[49m\u001b[43mdata\u001b[49m\u001b[43m,\u001b[49m\u001b[43m \u001b[49m\u001b[43mtargets\u001b[49m\u001b[43m)\u001b[49m\u001b[43m \u001b[49m\u001b[38;5;129;43;01min\u001b[39;49;00m\u001b[43m \u001b[49m\u001b[43mloop\u001b[49m\u001b[43m:\u001b[49m\n\u001b[1;32m     16\u001b[0m \u001b[43m    \u001b[49m\u001b[38;5;66;43;03m# Get data to cuda if possible\u001b[39;49;00m\n\u001b[1;32m     17\u001b[0m \u001b[43m    \u001b[49m\u001b[43mdata\u001b[49m\u001b[43m \u001b[49m\u001b[38;5;241;43m=\u001b[39;49m\u001b[43m \u001b[49m\u001b[43mdata\u001b[49m\u001b[38;5;241;43m.\u001b[39;49m\u001b[43mto\u001b[49m\u001b[43m(\u001b[49m\u001b[43mdevice\u001b[49m\u001b[38;5;241;43m=\u001b[39;49m\u001b[43mdevice\u001b[49m\u001b[43m)\u001b[49m\n\u001b[1;32m     18\u001b[0m \u001b[43m    \u001b[49m\u001b[43mtargets\u001b[49m\u001b[43m \u001b[49m\u001b[38;5;241;43m=\u001b[39;49m\u001b[43m \u001b[49m\u001b[43mtargets\u001b[49m\u001b[38;5;241;43m.\u001b[39;49m\u001b[43mto\u001b[49m\u001b[43m(\u001b[49m\u001b[43mdevice\u001b[49m\u001b[38;5;241;43m=\u001b[39;49m\u001b[43mdevice\u001b[49m\u001b[43m)\u001b[49m\n",
      "File \u001b[0;32m~/repos/unlearning/.venv/lib/python3.11/site-packages/tqdm/std.py:1181\u001b[0m, in \u001b[0;36mtqdm.__iter__\u001b[0;34m(self)\u001b[0m\n\u001b[1;32m   1178\u001b[0m time \u001b[38;5;241m=\u001b[39m \u001b[38;5;28mself\u001b[39m\u001b[38;5;241m.\u001b[39m_time\n\u001b[1;32m   1180\u001b[0m \u001b[38;5;28;01mtry\u001b[39;00m:\n\u001b[0;32m-> 1181\u001b[0m \u001b[43m    \u001b[49m\u001b[38;5;28;43;01mfor\u001b[39;49;00m\u001b[43m \u001b[49m\u001b[43mobj\u001b[49m\u001b[43m \u001b[49m\u001b[38;5;129;43;01min\u001b[39;49;00m\u001b[43m \u001b[49m\u001b[43miterable\u001b[49m\u001b[43m:\u001b[49m\n\u001b[1;32m   1182\u001b[0m \u001b[43m        \u001b[49m\u001b[38;5;28;43;01myield\u001b[39;49;00m\u001b[43m \u001b[49m\u001b[43mobj\u001b[49m\n\u001b[1;32m   1183\u001b[0m \u001b[43m        \u001b[49m\u001b[38;5;66;43;03m# Update and possibly print the progressbar.\u001b[39;49;00m\n\u001b[1;32m   1184\u001b[0m \u001b[43m        \u001b[49m\u001b[38;5;66;43;03m# Note: does not call self.update(1) for speed optimisation.\u001b[39;49;00m\n",
      "File \u001b[0;32m~/repos/unlearning/.venv/lib/python3.11/site-packages/torch/utils/data/dataloader.py:696\u001b[0m, in \u001b[0;36m_BaseDataLoaderIter.__next__\u001b[0;34m(self)\u001b[0m\n\u001b[1;32m    693\u001b[0m \u001b[38;5;28;01mdef\u001b[39;00m \u001b[38;5;21m_next_data\u001b[39m(\u001b[38;5;28mself\u001b[39m):\n\u001b[1;32m    694\u001b[0m     \u001b[38;5;28;01mraise\u001b[39;00m \u001b[38;5;167;01mNotImplementedError\u001b[39;00m\n\u001b[0;32m--> 696\u001b[0m \u001b[38;5;28;01mdef\u001b[39;00m \u001b[38;5;21m__next__\u001b[39m(\u001b[38;5;28mself\u001b[39m) \u001b[38;5;241m-\u001b[39m\u001b[38;5;241m>\u001b[39m Any:\n\u001b[1;32m    697\u001b[0m     \u001b[38;5;28;01mwith\u001b[39;00m torch\u001b[38;5;241m.\u001b[39mautograd\u001b[38;5;241m.\u001b[39mprofiler\u001b[38;5;241m.\u001b[39mrecord_function(\u001b[38;5;28mself\u001b[39m\u001b[38;5;241m.\u001b[39m_profile_name):\n\u001b[1;32m    698\u001b[0m         \u001b[38;5;28;01mif\u001b[39;00m \u001b[38;5;28mself\u001b[39m\u001b[38;5;241m.\u001b[39m_sampler_iter \u001b[38;5;129;01mis\u001b[39;00m \u001b[38;5;28;01mNone\u001b[39;00m:\n\u001b[1;32m    699\u001b[0m             \u001b[38;5;66;03m# TODO(https://github.com/pytorch/pytorch/issues/76750)\u001b[39;00m\n",
      "\u001b[0;31mKeyboardInterrupt\u001b[0m: "
     ]
    }
   ],
   "source": [
    "# Placeholder for storing losses for each epoch\n",
    "losses = []\n",
    "losses_val = []\n",
    "\n",
    "# Training the model\n",
    "for epoch in range(num_epochs):\n",
    "\n",
    "    ######### TRAINING ##########\n",
    "    model.train()\n",
    "    train_loss = 0  # To track loss for this epoch\n",
    "\n",
    "    # Using tqdm for the progress bar\n",
    "    loop = tqdm(enumerate(train_loader), total=len(train_loader), leave=True)\n",
    "\n",
    "    for batch_idx, (data, targets) in loop:\n",
    "        # Get data to cuda if possible\n",
    "        data = data.to(device=device)\n",
    "        targets = targets.to(device=device)\n",
    "\n",
    "        # Forward pass\n",
    "        scores = model(data)\n",
    "        loss = criterion(scores, targets)\n",
    "\n",
    "        # Backward pass\n",
    "        optimizer.zero_grad()\n",
    "        loss.backward()\n",
    "\n",
    "        # Gradient descent step\n",
    "        optimizer.step()\n",
    "\n",
    "        # Accumulate loss\n",
    "        train_loss += loss.item()\n",
    "\n",
    "        # Update progress bar with loss and epoch information\n",
    "        loop.set_description(f\"Epoch [{epoch+1}/{num_epochs}]\")\n",
    "        loop.set_postfix(loss=loss.item())\n",
    "\n",
    "    # Calculate average loss for the epoch\n",
    "    avg_loss = train_loss / len(train_loader)\n",
    "    losses.append(avg_loss)\n",
    "\n",
    "    # scheduler\n",
    "    scheduler.step(avg_loss)\n",
    "\n",
    "    # Print loss for this epoch\n",
    "    tqdm.write(f\"Epoch [{epoch+1}/{num_epochs}], Average Loss: {avg_loss:.4f}\")\n",
    "\n",
    "    ####### VALIDATION ########\n",
    "    model.eval()\n",
    "    val_loss = 0\n",
    "\n",
    "    with torch.no_grad():\n",
    "        for data, targets in val_loader:\n",
    "            data = data.to(device=device)\n",
    "            targets = targets.to(device=device)\n",
    "\n",
    "            scores = model(data)\n",
    "            loss = criterion(scores, targets)\n",
    "            val_loss += loss.item()\n",
    "        # Calculate average loss for the epoch\n",
    "        avg_val_loss = val_loss / len(val_loader)\n",
    "        losses_val.append(avg_val_loss)\n",
    "        print(f\"Validation Loss: {avg_val_loss:.4f}\")\n",
    "        # if avg val_loss is better than the one before, save the model\n",
    "        if epoch == 0:\n",
    "            # create directory if not exist\n",
    "            os.makedirs(\"checkpoint\", exist_ok=True)\n",
    "            best_loss = avg_val_loss\n",
    "            torch.save(model.state_dict(), \"checkpoint/trained_model.pth\")\n",
    "        elif avg_val_loss < best_loss:\n",
    "            best_loss = avg_val_loss\n",
    "            torch.save(model.state_dict(), \"checkpoint/trained_model.pth\")"
   ]
  },
  {
   "cell_type": "code",
   "execution_count": null,
   "metadata": {
    "colab": {
     "base_uri": "https://localhost:8080/",
     "height": 505
    },
    "id": "U1HQyiivbwcw",
    "outputId": "72ddec76-b4c4-47fa-df87-7537fcc43967"
   },
   "outputs": [
    {
     "ename": "NameError",
     "evalue": "name 'best_loss' is not defined",
     "output_type": "error",
     "traceback": [
      "\u001b[0;31m---------------------------------------------------------------------------\u001b[0m",
      "\u001b[0;31mNameError\u001b[0m                                 Traceback (most recent call last)",
      "Cell \u001b[0;32mIn[8], line 3\u001b[0m\n\u001b[1;32m      1\u001b[0m \u001b[38;5;66;03m# Plot the losses after training\u001b[39;00m\n\u001b[1;32m      2\u001b[0m \u001b[38;5;66;03m# epoch of best validation loss\u001b[39;00m\n\u001b[0;32m----> 3\u001b[0m \u001b[38;5;28mprint\u001b[39m(\u001b[38;5;124mf\u001b[39m\u001b[38;5;124m\"\u001b[39m\u001b[38;5;124mBest validation loss: \u001b[39m\u001b[38;5;132;01m{\u001b[39;00m\u001b[43mbest_loss\u001b[49m\u001b[38;5;132;01m:\u001b[39;00m\u001b[38;5;124m.4f\u001b[39m\u001b[38;5;132;01m}\u001b[39;00m\u001b[38;5;124m\"\u001b[39m)\n\u001b[1;32m      4\u001b[0m index_best \u001b[38;5;241m=\u001b[39m losses_val\u001b[38;5;241m.\u001b[39mindex(best_loss)\n\u001b[1;32m      6\u001b[0m plt\u001b[38;5;241m.\u001b[39mfigure(figsize\u001b[38;5;241m=\u001b[39m(\u001b[38;5;241m15\u001b[39m, \u001b[38;5;241m5\u001b[39m))\n",
      "\u001b[0;31mNameError\u001b[0m: name 'best_loss' is not defined"
     ]
    }
   ],
   "source": [
    "# Plot the losses after training\n",
    "# epoch of best validation loss\n",
    "print(f\"Best validation loss: {best_loss:.4f}\")\n",
    "index_best = losses_val.index(best_loss)\n",
    "\n",
    "plt.figure(figsize=(15, 5))\n",
    "plt.plot(range(1, num_epochs + 1), losses, label=\"Train Loss\")\n",
    "plt.plot(range(1, num_epochs + 1), losses_val, label=\"Val Loss\")\n",
    "plt.axvline(index_best + 1, color=\"r\", linestyle=\"--\", label=\"Best Val Loss\")\n",
    "plt.legend()\n",
    "plt.title(\"Loss vs Epochs\")\n",
    "plt.xlabel(\"Epochs\")\n",
    "plt.ylabel(\"Loss\")\n",
    "plt.grid()\n",
    "plt.show()"
   ]
  },
  {
   "cell_type": "markdown",
   "metadata": {
    "id": "V8TKeegebwcx"
   },
   "source": [
    "#### Your Turn (1 point)\n",
    "\n",
    "**Question**\n",
    "\n",
    "Q: *Based on what you've learned in the lectures and by examining the image above, identify the problems with this plot and explain how to fix them.*\n",
    "\n",
    "A: The training curve shows a lot of fluctuations for the validation loss, which sometimes goes over the training loss. This indicates that the model is prone to overfitting the training data. To address this issue, we want to introduce further regularization. An approach we suggest is to use `Dropout2d` layers instead of regular `Dropout` in the convolutional feature extraction part of the network. The reasoning is that `Dropout` zeroes individual pixels of the output feature map, which does **not** zero the gradients of any filter (since the parameters are shared), by contrast, `Dropout2d` zeroes entire channels of the output feature map, which does zero the gradients of the filters. Making this change stabilizes the curves, as shown above."
   ]
  },
  {
   "cell_type": "markdown",
   "metadata": {
    "id": "b51jy6A_bwcx"
   },
   "source": [
    "### 1.5 Evaluation\n",
    "\n",
    "Now, let's evaluate the performances of our model"
   ]
  },
  {
   "cell_type": "code",
   "execution_count": 7,
   "metadata": {
    "id": "h2pc4ySjbwcx"
   },
   "outputs": [],
   "source": [
    "# accuracy\n",
    "def accuracy(model, loader):\n",
    "    \"\"\"\n",
    "    Function to calculate the accuracy of the model on the test set\n",
    "    \"\"\"\n",
    "    correct = 0\n",
    "    total = 0\n",
    "    for data, targets in loader:\n",
    "        data = data.to(device=device)\n",
    "        targets = targets.to(device=device)\n",
    "        scores = model(data)\n",
    "        _, predictions = scores.max(1)\n",
    "        correct += (predictions == targets).sum()\n",
    "        total += targets.shape[0]\n",
    "    return correct / total"
   ]
  },
  {
   "cell_type": "code",
   "execution_count": 8,
   "metadata": {
    "colab": {
     "base_uri": "https://localhost:8080/"
    },
    "id": "GFb4yVkGbwcy",
    "outputId": "bff7272e-f13c-46d0-f9cf-eae9c3f8dfa9"
   },
   "outputs": [
    {
     "name": "stderr",
     "output_type": "stream",
     "text": [
      "/tmp/ipykernel_74370/2572199704.py:3: FutureWarning: You are using `torch.load` with `weights_only=False` (the current default value), which uses the default pickle module implicitly. It is possible to construct malicious pickle data which will execute arbitrary code during unpickling (See https://github.com/pytorch/pytorch/blob/main/SECURITY.md#untrusted-models for more details). In a future release, the default value for `weights_only` will be flipped to `True`. This limits the functions that could be executed during unpickling. Arbitrary objects will no longer be allowed to be loaded via this mode unless they are explicitly allowlisted by the user via `torch.serialization.add_safe_globals`. We recommend you start setting `weights_only=True` for any use case where you don't have full control of the loaded file. Please open an issue on GitHub for any issues related to this experimental feature.\n",
      "  model.load_state_dict(torch.load(\"checkpoint/trained_model.pth\"))\n"
     ]
    },
    {
     "ename": "NameError",
     "evalue": "name 'device' is not defined",
     "output_type": "error",
     "traceback": [
      "\u001b[0;31m---------------------------------------------------------------------------\u001b[0m",
      "\u001b[0;31mNameError\u001b[0m                                 Traceback (most recent call last)",
      "Cell \u001b[0;32mIn[8], line 5\u001b[0m\n\u001b[1;32m      3\u001b[0m model\u001b[38;5;241m.\u001b[39mload_state_dict(torch\u001b[38;5;241m.\u001b[39mload(\u001b[38;5;124m\"\u001b[39m\u001b[38;5;124mcheckpoint/trained_model.pth\u001b[39m\u001b[38;5;124m\"\u001b[39m))\n\u001b[1;32m      4\u001b[0m model\u001b[38;5;241m.\u001b[39meval()\n\u001b[0;32m----> 5\u001b[0m model\u001b[38;5;241m.\u001b[39mto(\u001b[43mdevice\u001b[49m)\n\u001b[1;32m      7\u001b[0m \u001b[38;5;66;03m# Calculate accuracy on the train and test set\u001b[39;00m\n\u001b[1;32m      8\u001b[0m train_accuracy \u001b[38;5;241m=\u001b[39m accuracy(model, train_loader)\n",
      "\u001b[0;31mNameError\u001b[0m: name 'device' is not defined"
     ]
    }
   ],
   "source": [
    "# your model\n",
    "model = create_model()\n",
    "model.load_state_dict(torch.load(\"checkpoint/trained_model.pth\"))\n",
    "model.eval()\n",
    "model.to(device)\n",
    "\n",
    "# Calculate accuracy on the train and test set\n",
    "train_accuracy = accuracy(model, train_loader)\n",
    "test_accuracy = accuracy(model, test_loader)\n",
    "\n",
    "print(f\"Your Model Train Accuracy : {100* train_accuracy:.4f}\")\n",
    "print(f\"Your Model Test Accuracy : {100* test_accuracy:.4f}\")"
   ]
  },
  {
   "cell_type": "markdown",
   "metadata": {
    "id": "xRAO0eFTbwcy"
   },
   "source": [
    "To avoid training for too many epochs, here it is a checkpoint you can use for the trained model."
   ]
  },
  {
   "cell_type": "code",
   "execution_count": 11,
   "metadata": {
    "colab": {
     "base_uri": "https://localhost:8080/"
    },
    "id": "QBeFMPRsbwcy",
    "outputId": "04182f10-4a37-4118-99c0-9f4ff5d76330"
   },
   "outputs": [
    {
     "name": "stderr",
     "output_type": "stream",
     "text": [
      "/tmp/ipykernel_140615/2030750594.py:2: FutureWarning: You are using `torch.load` with `weights_only=False` (the current default value), which uses the default pickle module implicitly. It is possible to construct malicious pickle data which will execute arbitrary code during unpickling (See https://github.com/pytorch/pytorch/blob/main/SECURITY.md#untrusted-models for more details). In a future release, the default value for `weights_only` will be flipped to `True`. This limits the functions that could be executed during unpickling. Arbitrary objects will no longer be allowed to be loaded via this mode unless they are explicitly allowlisted by the user via `torch.serialization.add_safe_globals`. We recommend you start setting `weights_only=True` for any use case where you don't have full control of the loaded file. Please open an issue on GitHub for any issues related to this experimental feature.\n",
      "  model.load_state_dict(torch.load(\"checkpoint/best_model.pth\"))\n"
     ]
    },
    {
     "name": "stdout",
     "output_type": "stream",
     "text": [
      "Train accuracy: 86.3800\n",
      "Test Accuracy: 80.9000\n"
     ]
    }
   ],
   "source": [
    "model = create_model()\n",
    "model.load_state_dict(torch.load(\"checkpoint/best_model.pth\"))\n",
    "model.eval()\n",
    "model.to(device)\n",
    "\n",
    "# Calculate the accuracy on the train and test set\n",
    "train_accuracy = accuracy(model, train_loader)\n",
    "test_accuracy = accuracy(model, test_loader)\n",
    "\n",
    "print(f\"Train accuracy: {100* train_accuracy:.4f}\")\n",
    "print(f\"Test Accuracy: {100* test_accuracy:.4f}\")"
   ]
  },
  {
   "cell_type": "markdown",
   "metadata": {
    "id": "w--XNYGFbwcz"
   },
   "source": [
    "# Section 2: Unlearning "
   ]
  },
  {
   "cell_type": "markdown",
   "metadata": {
    "id": "u4vLoDqgbwcz"
   },
   "source": [
    "In the context of machine learning, unlearning refers to the process of modifying a trained model so that it forgets specific pieces of information without losing the general performance. This is particularly important in situations where data privacy is a concern, such as when sensitive information is involved, or when a model has learned from outdated or incorrect data. In this scenario, \n",
    "you may want to unlearn an entire class of data, a specific instance within that class, or even a particular concept that the model has learned. \n",
    "\n",
    "**Why is Unlearning Important?**\n",
    "\n",
    "Let’s say you have trained a machine learning model to recognize different types of animals based on a dataset containing images. Now, suppose that this dataset includes images of a particular cat breed that was later found to be misclassified or problematic. You might need to remove that specific information from the model to ensure it doesn't make incorrect predictions in the future.\n",
    "\n",
    "Additionally, with privacy laws like GDPR (General Data Protection Regulation), individuals have the right to request that their personal data be removed from a model. If a model has been trained on this data, we need a way to unlearn it.\n",
    "\n",
    "Here, our task will be to unlearn the class of Airplanes in CIFAR-10 Dataset"
   ]
  },
  {
   "cell_type": "markdown",
   "metadata": {
    "id": "k8wnS_Yobwc0"
   },
   "source": [
    "### Unlearning by Fine-Tuning \n",
    "\n",
    "The Unlearning by Fine-Tuning strategy is a technique used to remove the influence of specific data points from a trained machine learning model while preserving its performance on other, relevant data. \n",
    "Here’s a detailed explanation of how this strategy works:\n",
    "\n",
    "#### 1. The Retain Set\n",
    "\n",
    "The retain set consists of all the data points that you want the model to remember or continue to learn from. This set excludes the data points you want the model to forget.\n",
    "\n",
    "####  2. Fine-Tuning Process\n",
    "\n",
    "To perform unlearning through this strategy, you follow these steps:\n",
    "\n",
    "- Identify and Remove the Data Points: First, identify the data points that you wish to unlearn and remove them from the training dataset.\n",
    "\n",
    "- Prepare the Retain and Forget Set: Create a new training dataset that contains only the retain set, those data points that should be kept in the model’s knowledge, and include the remaing data in the Forget Set.\n",
    "\n",
    "- Fine-Tuning on the Retain Set: Instead of retraining the model from scratch, you will fine-tune the existing model using the retain set. This involves using the retain set to continue training the model, typically with a lower learning rate to ensure that the model can adjust its parameters without drastically altering what it has already learned.\n",
    "\n",
    "#### 3. Benefits of this strategy\n",
    "\n",
    "- Efficiency: Fine-tuning on the retain set only is more efficient than retraining the model from scratch. It saves computational resources and time.\n",
    "\n",
    "- Maintained Performance: The model retains its ability to perform well on the general dataset, as it continues to learn from the valid data in the retain set.\n",
    "\n",
    "#### 4. Drawbacks of this strategy\n",
    "\n",
    "- Even if more efficient than retraining the model from scratch, you still need to do a fine tuning, that could be very expensive for large or foundational models. Even finding the best hyperparameters can be costly.\n",
    "\n",
    "- If you change samples or architecture to unlearn, you have to do the ad-hoc fine tuning again, it is not a *general* strategy."
   ]
  },
  {
   "cell_type": "markdown",
   "metadata": {
    "id": "0huL1iZsbwc0"
   },
   "source": [
    "### 2.1: Forget Airplanes"
   ]
  },
  {
   "cell_type": "markdown",
   "metadata": {
    "id": "hBzFTKYgbwc0"
   },
   "source": [
    "#### Your Turn ( 1 Point)\n",
    "\n",
    "Generate the retain and forget datasets, keeping in mind that we want to forget the \"airplanes\" class. Afterward, create new instances of the loaders for training, validation, and testing. Make sure to use the torch.utils.data.Subset function."
   ]
  },
  {
   "cell_type": "code",
   "execution_count": 7,
   "metadata": {
    "id": "B5QuOyP_bwc0"
   },
   "outputs": [],
   "source": [
    "# train\n",
    "\"\"\"\n",
    "Add your code below\n",
    "\"\"\"\n",
    "\n",
    "airplane_mask = torch.Tensor(train_dataset.targets) == 0\n",
    "indices_retain = torch.arange(len(train_dataset))[~airplane_mask]\n",
    "indices_forget = torch.arange(len(train_dataset))[airplane_mask]\n",
    "\n",
    "retain_dataset = torch.utils.data.Subset(train_dataset, indices_retain)\n",
    "forget_dataset = torch.utils.data.Subset(train_dataset, indices_forget)\n",
    "retain_loader = torch.utils.data.DataLoader(\n",
    "    retain_dataset, batch_size=batch_size, shuffle=True\n",
    ")\n",
    "forget_loader = torch.utils.data.DataLoader(\n",
    "    forget_dataset, batch_size=batch_size, shuffle=True\n",
    ")"
   ]
  },
  {
   "cell_type": "code",
   "execution_count": 8,
   "metadata": {
    "id": "Ahw57Qy_bwc1",
    "outputId": "5fd70891-d975-49b0-e068-2d3cc28e6a7b"
   },
   "outputs": [
    {
     "data": {
      "text/plain": [
       "(45000, 5000)"
      ]
     },
     "execution_count": 8,
     "metadata": {},
     "output_type": "execute_result"
    }
   ],
   "source": [
    "len(retain_dataset), len(forget_dataset)"
   ]
  },
  {
   "cell_type": "code",
   "execution_count": 9,
   "metadata": {
    "id": "bdWx9wM0bwc1"
   },
   "outputs": [],
   "source": [
    "# validation\n",
    "\"\"\"\n",
    "Add your code below\n",
    "\"\"\"\n",
    "\n",
    "airplane_mask_val = torch.Tensor(val_dataset.dataset.targets) == 0\n",
    "indices_retain_val = torch.arange(len(val_dataset.dataset))[~airplane_mask_val]\n",
    "indices_forget_val = torch.arange(len(val_dataset.dataset))[airplane_mask_val]\n",
    "\n",
    "retain_dataset_val = torch.utils.data.Subset(val_dataset.dataset, indices_retain_val)\n",
    "forget_dataset_val = torch.utils.data.Subset(val_dataset.dataset, indices_forget_val)\n",
    "retain_loader_val = torch.utils.data.DataLoader(\n",
    "    retain_dataset_val, batch_size=batch_size, shuffle=False\n",
    ")\n",
    "forget_loader_val = torch.utils.data.DataLoader(\n",
    "    forget_dataset_val, batch_size=batch_size, shuffle=False\n",
    ")"
   ]
  },
  {
   "cell_type": "code",
   "execution_count": 10,
   "metadata": {
    "id": "_AKnrTG6bwc1"
   },
   "outputs": [],
   "source": [
    "# test\n",
    "\"\"\"\n",
    "Add your code below\n",
    "\"\"\"\n",
    "\n",
    "airplane_mask_test = torch.Tensor(test_dataset.dataset.targets) == 0\n",
    "indices_retain_test = torch.arange(len(test_dataset.dataset))[~airplane_mask_test]\n",
    "indices_forget_test = torch.arange(len(test_dataset.dataset))[airplane_mask_test]\n",
    "\n",
    "retain_dataset_test = torch.utils.data.Subset(test_dataset.dataset, indices_retain_test)\n",
    "forget_dataset_test = torch.utils.data.Subset(test_dataset.dataset, indices_forget_test)\n",
    "retain_loader_test = torch.utils.data.DataLoader(\n",
    "    retain_dataset_test, batch_size=batch_size, shuffle=True\n",
    ")\n",
    "forget_loader_test = torch.utils.data.DataLoader(\n",
    "    forget_dataset_test, batch_size=batch_size, shuffle=True\n",
    ")"
   ]
  },
  {
   "cell_type": "markdown",
   "metadata": {
    "id": "mm2TrE59bwc2"
   },
   "source": [
    "### 2.2: Training Loop"
   ]
  },
  {
   "cell_type": "code",
   "execution_count": null,
   "metadata": {
    "id": "Ak3Ds37ubwc2"
   },
   "outputs": [],
   "source": [
    "def unlearning(\n",
    "    model,\n",
    "    retain_loader,\n",
    "    validation,\n",
    "    epochs=5,\n",
    "    criterion=criterion,\n",
    "    optimizer=meta_optimizer,\n",
    "    scheduler=scheduler,\n",
    "):\n",
    "    \"\"\"Unlearning by fine-tuning.\n",
    "\n",
    "    Fine-tuning is a very simple algorithm that trains using only\n",
    "    the retain set.\n",
    "\n",
    "    Args:\n",
    "      model : nn.Module.\n",
    "        pre-trained model to use as base of unlearning.\n",
    "      retain : torch.utils.data.DataLoader.\n",
    "        Dataset loader for access to the retain set. This is the subset\n",
    "        of the training set that we don't want to forget.\n",
    "      validation : torch.utils.data.DataLoader.\n",
    "        Dataset loader for access to the validation set. This method doesn't\n",
    "        make use of the validation set.\n",
    "    Returns:\n",
    "      model : updated model\n",
    "    \"\"\"\n",
    "    device = torch.device(\"cuda\" if torch.cuda.is_available() else \"cpu\")\n",
    "    model.to(device)\n",
    "    losses = []\n",
    "    losses_val = []\n",
    "\n",
    "    for epoch in range(epochs):\n",
    "        model.train()\n",
    "        loss_epoch = 0\n",
    "        loop = tqdm(enumerate(retain_loader), total=len(retain_loader), leave=True)\n",
    "        for batch_idx, (inputs, targets) in loop:\n",
    "            inputs, targets = inputs.to(device), targets.to(device)\n",
    "            optimizer.zero_grad()\n",
    "            outputs = model(inputs)\n",
    "            loss = criterion(outputs, targets)\n",
    "            loss.backward()\n",
    "            optimizer.step()\n",
    "\n",
    "            # running loss\n",
    "            loss_epoch += loss.item()\n",
    "            # Update progress bar with loss and epoch information\n",
    "            loop.set_description(f\"Epoch [{epoch+1}/{epochs}]\")\n",
    "            loop.set_postfix(loss=loss.item())\n",
    "\n",
    "        # avg loss\n",
    "        avg_loss = loss_epoch / len(retain_loader)\n",
    "        losses.append(avg_loss)\n",
    "        # scheduler step\n",
    "        scheduler.step(avg_loss)\n",
    "        tqdm.write(f\"Epoch [{epoch+1}/{epochs}], Average Loss: {avg_loss:.4f}\")\n",
    "\n",
    "        # validation\n",
    "        loss_val = 0\n",
    "        model.eval()\n",
    "        with torch.no_grad():\n",
    "            for data, targets in retain_loader_val:\n",
    "                data = data.to(device=device)\n",
    "                targets = targets.to(device=device)\n",
    "\n",
    "                scores = model(data)\n",
    "                loss = criterion(scores, targets)\n",
    "                loss_val += loss.item()\n",
    "            # Calculate average loss for the epoch\n",
    "            avg_val_loss = loss_val / len(validation)\n",
    "            losses_val.append(avg_val_loss)\n",
    "            print(f\"Validation Loss: {avg_val_loss:.4f}\")\n",
    "            # if avg val_loss is better than the one before, save the model\n",
    "            if epoch == 0:\n",
    "                # create directory if not exist\n",
    "                os.makedirs(\"checkpoint\", exist_ok=True)\n",
    "                best_loss = avg_val_loss\n",
    "                torch.save(model.state_dict(), \"checkpoint/forget_model.pth\")\n",
    "            elif avg_val_loss < best_loss:\n",
    "                best_loss = avg_val_loss\n",
    "                torch.save(model.state_dict(), \"checkpoint/forget_model.pth\")\n",
    "\n",
    "    model.eval()\n",
    "    model.load_state_dict(torch.load(\"checkpoint/forget_model.pth\"))\n",
    "    return model, losses, losses_val"
   ]
  },
  {
   "cell_type": "code",
   "execution_count": null,
   "metadata": {
    "colab": {
     "base_uri": "https://localhost:8080/"
    },
    "id": "3Ic3F9Ycbwc3",
    "outputId": "3ea4418e-b42d-4fb2-d86a-dc259a6e6006"
   },
   "outputs": [
    {
     "name": "stderr",
     "output_type": "stream",
     "text": [
      "/tmp/ipykernel_79508/2205427393.py:3: FutureWarning: You are using `torch.load` with `weights_only=False` (the current default value), which uses the default pickle module implicitly. It is possible to construct malicious pickle data which will execute arbitrary code during unpickling (See https://github.com/pytorch/pytorch/blob/main/SECURITY.md#untrusted-models for more details). In a future release, the default value for `weights_only` will be flipped to `True`. This limits the functions that could be executed during unpickling. Arbitrary objects will no longer be allowed to be loaded via this mode unless they are explicitly allowlisted by the user via `torch.serialization.add_safe_globals`. We recommend you start setting `weights_only=True` for any use case where you don't have full control of the loaded file. Please open an issue on GitHub for any issues related to this experimental feature.\n",
      "  forget_model.load_state_dict(torch.load(\"checkpoint/best_model.pth\"))\n",
      "Epoch [1/10]: 100%|██████████| 88/88 [00:13<00:00,  6.64it/s, loss=0.533]\n"
     ]
    },
    {
     "name": "stdout",
     "output_type": "stream",
     "text": [
      "Epoch [1/10], Average Loss: 0.5238\n",
      "Validation Loss: 2.3022\n"
     ]
    },
    {
     "name": "stderr",
     "output_type": "stream",
     "text": [
      "Epoch [2/10]: 100%|██████████| 88/88 [00:13<00:00,  6.56it/s, loss=0.493]\n"
     ]
    },
    {
     "name": "stdout",
     "output_type": "stream",
     "text": [
      "Epoch [2/10], Average Loss: 0.5040\n",
      "Validation Loss: 2.2628\n"
     ]
    },
    {
     "name": "stderr",
     "output_type": "stream",
     "text": [
      "Epoch [3/10]: 100%|██████████| 88/88 [00:13<00:00,  6.53it/s, loss=0.514]\n"
     ]
    },
    {
     "name": "stdout",
     "output_type": "stream",
     "text": [
      "Epoch [3/10], Average Loss: 0.4947\n",
      "Validation Loss: 2.2686\n"
     ]
    },
    {
     "name": "stderr",
     "output_type": "stream",
     "text": [
      "Epoch [4/10]: 100%|██████████| 88/88 [00:14<00:00,  6.18it/s, loss=0.445]\n"
     ]
    },
    {
     "name": "stdout",
     "output_type": "stream",
     "text": [
      "Epoch [4/10], Average Loss: 0.4922\n",
      "Validation Loss: 2.2665\n"
     ]
    },
    {
     "name": "stderr",
     "output_type": "stream",
     "text": [
      "Epoch [5/10]: 100%|██████████| 88/88 [00:13<00:00,  6.50it/s, loss=0.495]\n"
     ]
    },
    {
     "name": "stdout",
     "output_type": "stream",
     "text": [
      "Epoch [5/10], Average Loss: 0.4948\n",
      "Validation Loss: 2.2708\n"
     ]
    },
    {
     "name": "stderr",
     "output_type": "stream",
     "text": [
      "Epoch [6/10]: 100%|██████████| 88/88 [00:13<00:00,  6.48it/s, loss=0.504]\n"
     ]
    },
    {
     "name": "stdout",
     "output_type": "stream",
     "text": [
      "Epoch [6/10], Average Loss: 0.4870\n",
      "Validation Loss: 2.2857\n"
     ]
    },
    {
     "name": "stderr",
     "output_type": "stream",
     "text": [
      "Epoch [7/10]: 100%|██████████| 88/88 [00:13<00:00,  6.46it/s, loss=0.427]\n"
     ]
    },
    {
     "name": "stdout",
     "output_type": "stream",
     "text": [
      "Epoch [7/10], Average Loss: 0.4894\n",
      "Validation Loss: 2.2804\n"
     ]
    },
    {
     "name": "stderr",
     "output_type": "stream",
     "text": [
      "Epoch [8/10]: 100%|██████████| 88/88 [00:13<00:00,  6.59it/s, loss=0.513]\n"
     ]
    },
    {
     "name": "stdout",
     "output_type": "stream",
     "text": [
      "Epoch [8/10], Average Loss: 0.4866\n",
      "Validation Loss: 2.2205\n"
     ]
    },
    {
     "name": "stderr",
     "output_type": "stream",
     "text": [
      "Epoch [9/10]: 100%|██████████| 88/88 [00:13<00:00,  6.52it/s, loss=0.45] \n"
     ]
    },
    {
     "name": "stdout",
     "output_type": "stream",
     "text": [
      "Epoch [9/10], Average Loss: 0.4828\n",
      "Validation Loss: 2.2314\n"
     ]
    },
    {
     "name": "stderr",
     "output_type": "stream",
     "text": [
      "Epoch [10/10]: 100%|██████████| 88/88 [00:13<00:00,  6.54it/s, loss=0.449]\n"
     ]
    },
    {
     "name": "stdout",
     "output_type": "stream",
     "text": [
      "Epoch [10/10], Average Loss: 0.4827\n",
      "Validation Loss: 2.2511\n"
     ]
    },
    {
     "name": "stderr",
     "output_type": "stream",
     "text": [
      "/tmp/ipykernel_79508/3168067241.py:83: FutureWarning: You are using `torch.load` with `weights_only=False` (the current default value), which uses the default pickle module implicitly. It is possible to construct malicious pickle data which will execute arbitrary code during unpickling (See https://github.com/pytorch/pytorch/blob/main/SECURITY.md#untrusted-models for more details). In a future release, the default value for `weights_only` will be flipped to `True`. This limits the functions that could be executed during unpickling. Arbitrary objects will no longer be allowed to be loaded via this mode unless they are explicitly allowlisted by the user via `torch.serialization.add_safe_globals`. We recommend you start setting `weights_only=True` for any use case where you don't have full control of the loaded file. Please open an issue on GitHub for any issues related to this experimental feature.\n",
      "  model.load_state_dict(torch.load(\"checkpoint/forget_model.pth\"))\n"
     ]
    }
   ],
   "source": [
    "# intialize forget model as trained model\n",
    "forget_model = create_model()\n",
    "forget_model.load_state_dict(torch.load(\"checkpoint/best_model.pth\"))\n",
    "\n",
    "criterion = nn.CrossEntropyLoss()\n",
    "optimizer = torch.optim.Adam(forget_model.parameters(), lr=0.0001)\n",
    "scheduler = torch.optim.lr_scheduler.ReduceLROnPlateau(\n",
    "    optimizer, mode=\"min\", factor=0.1, patience=3, verbose=True\n",
    ")\n",
    "\n",
    "\n",
    "# Unlearn the forget set\n",
    "epochs = 10\n",
    "forget_model, losses, losses_val = unlearning(\n",
    "    forget_model,\n",
    "    retain_loader,\n",
    "    val_loader,\n",
    "    epochs=epochs,\n",
    "    criterion=criterion,\n",
    "    optimizer=optimizer,\n",
    "    scheduler=scheduler,\n",
    ")"
   ]
  },
  {
   "cell_type": "markdown",
   "metadata": {
    "id": "utU6zYfjbwc3"
   },
   "source": [
    "**Below there is the evaluation of your unlearned by fine-tuning model**"
   ]
  },
  {
   "cell_type": "code",
   "execution_count": 19,
   "metadata": {
    "colab": {
     "base_uri": "https://localhost:8080/"
    },
    "id": "Vf4IjM5abwc3",
    "outputId": "ee2fced5-ae7c-4f90-c953-ccbc168af739"
   },
   "outputs": [
    {
     "name": "stderr",
     "output_type": "stream",
     "text": [
      "/tmp/ipykernel_79508/1275260100.py:3: FutureWarning: You are using `torch.load` with `weights_only=False` (the current default value), which uses the default pickle module implicitly. It is possible to construct malicious pickle data which will execute arbitrary code during unpickling (See https://github.com/pytorch/pytorch/blob/main/SECURITY.md#untrusted-models for more details). In a future release, the default value for `weights_only` will be flipped to `True`. This limits the functions that could be executed during unpickling. Arbitrary objects will no longer be allowed to be loaded via this mode unless they are explicitly allowlisted by the user via `torch.serialization.add_safe_globals`. We recommend you start setting `weights_only=True` for any use case where you don't have full control of the loaded file. Please open an issue on GitHub for any issues related to this experimental feature.\n",
      "  forget_model.load_state_dict(torch.load(\"checkpoint/forget_model.pth\"))\n"
     ]
    },
    {
     "name": "stdout",
     "output_type": "stream",
     "text": [
      "Retain set Accuracy: 88.9133\n",
      "Forget set Accuracy: 34.9600\n",
      "Test set Accuracy: 77.8375\n",
      "Test set Retain Accuracy: 83.2222\n",
      "Test set Forget Accuracy: 28.7000\n"
     ]
    }
   ],
   "source": [
    "# load weights forget model\n",
    "forget_model = create_model()\n",
    "forget_model.load_state_dict(torch.load(\"checkpoint/forget_model.pth\"))\n",
    "forget_model.eval()\n",
    "forget_model.to(device)\n",
    "\n",
    "# print accuracies on retain, forget and test set\n",
    "retain_accuracy = accuracy(forget_model, retain_loader)\n",
    "forget_accuracy = accuracy(forget_model, forget_loader)\n",
    "test_accuracy = accuracy(forget_model, test_loader)\n",
    "test_accuracy_retain = accuracy(forget_model, retain_loader_test)\n",
    "test_accuracy_forget = accuracy(forget_model, forget_loader_test)\n",
    "\n",
    "print(f\"Retain set Accuracy: {100* retain_accuracy:.4f}\")\n",
    "print(f\"Forget set Accuracy: {100* forget_accuracy:.4f}\")\n",
    "print(f\"Test set Accuracy: {100* test_accuracy:.4f}\")  # whole test set\n",
    "print(f\"Test set Retain Accuracy: {100* test_accuracy_retain:.4f}\")\n",
    "print(f\"Test set Forget Accuracy: {100* test_accuracy_forget:.4f}\")"
   ]
  },
  {
   "cell_type": "markdown",
   "metadata": {
    "id": "Iofk2FdDbwc4"
   },
   "source": [
    "#### Your Turn (1 Point)\n",
    "\n",
    "**Question**\n",
    "\n",
    "Q: *Summarize what you have learned. Specifically, interpret the accuracy values for the retain and forget sets during training. Additionally, discuss what can be inferred from the accuracy at test time for the entire test set, as well as for the two subsets of forget and retain.*\n",
    "\n",
    "A: Comparing the older model's accuracy computed before the unlearning process on the whole dataset to the one obtained after the unlearning on the retain dataset, we can assess that the model kept its performances on the retained classes while it lost the ability to perform well on airplanes, effectively suggesting that model forgot about that class.\n",
    "\n",
    "These suppositions are confirmed by the results on the tests sets. In facts the overall peformances are lower than the previous ones, confirming that the model unlearned it. Since the retain accuracy is higher it means that it improved it's performances on the retained classes. By comparing the validation forget set accuracy and the test forget set accuracy we can say that the model is not generalizing on the airplanes, which is the expected behaviour.\n",
    "\n",
    "even tho we could have logged the results on each class, so that we could really know if it unlearned airplanes or some other unexpected class."
   ]
  },
  {
   "cell_type": "markdown",
   "metadata": {
    "id": "xzt1fUOHbwc4"
   },
   "source": [
    "# Section 3: Gold model"
   ]
  },
  {
   "cell_type": "markdown",
   "metadata": {
    "id": "ra-988jobwdB"
   },
   "source": [
    "One might ask, how good are the scores above? What is the best possible score? Since our goal is to approximate a model that has been trained **only on** the retain set, we'll consider that the gold standard is the score achieved by this model. Such a model is called here the *gold model*."
   ]
  },
  {
   "cell_type": "code",
   "execution_count": 20,
   "metadata": {
    "id": "eKR9Ls7KbwdB"
   },
   "outputs": [],
   "source": [
    "for i, sample in enumerate(retain_loader):\n",
    "\n",
    "    data, targets = sample\n",
    "    if (targets == 0).any():\n",
    "        print(i)\n",
    "        break"
   ]
  },
  {
   "cell_type": "code",
   "execution_count": null,
   "metadata": {
    "colab": {
     "base_uri": "https://localhost:8080/"
    },
    "id": "-YcfLf-DbwdC",
    "outputId": "dcc8190f-d822-4f5c-cfe1-f196e616bbf8"
   },
   "outputs": [
    {
     "name": "stderr",
     "output_type": "stream",
     "text": [
      "/tmp/ipykernel_79508/1211376923.py:3: FutureWarning: You are using `torch.load` with `weights_only=False` (the current default value), which uses the default pickle module implicitly. It is possible to construct malicious pickle data which will execute arbitrary code during unpickling (See https://github.com/pytorch/pytorch/blob/main/SECURITY.md#untrusted-models for more details). In a future release, the default value for `weights_only` will be flipped to `True`. This limits the functions that could be executed during unpickling. Arbitrary objects will no longer be allowed to be loaded via this mode unless they are explicitly allowlisted by the user via `torch.serialization.add_safe_globals`. We recommend you start setting `weights_only=True` for any use case where you don't have full control of the loaded file. Please open an issue on GitHub for any issues related to this experimental feature.\n",
      "  gold_model.load_state_dict(torch.load(\"checkpoint/model_weights.pth\"))\n"
     ]
    }
   ],
   "source": [
    "# train only on retain set\n",
    "gold_model = create_model()\n",
    "gold_model.load_state_dict(torch.load(\"checkpoint/model_weights.pth\"))\n",
    "gold_model.to(device)\n",
    "\n",
    "criterion = nn.CrossEntropyLoss()\n",
    "optimizer = torch.optim.Adam(gold_model.parameters(), lr=0.0001)\n",
    "scheduler = torch.optim.lr_scheduler.ReduceLROnPlateau(\n",
    "    optimizer, mode=\"min\", factor=0.1, patience=5, verbose=True\n",
    ")\n",
    "num_epochs = 20"
   ]
  },
  {
   "cell_type": "markdown",
   "metadata": {
    "id": "E-cLYlZqbwdC"
   },
   "source": [
    "#### Your Turn ( 1 Point)\n",
    "\n",
    "Implement the training loop for the Gold Model. Store you losses inside the ```losses``` and ```losses_val``` lists.\n",
    "\n",
    "**IMPORTANT: save the best checkpoint of this model to a checkpoint file called \"checkpoint/gold_model.pth\"**"
   ]
  },
  {
   "cell_type": "code",
   "execution_count": null,
   "metadata": {
    "colab": {
     "base_uri": "https://localhost:8080/"
    },
    "id": "0d2x_-lEbwdC",
    "outputId": "c6f05a2f-177e-45b3-9ef3-cd8e9f3c1f3d"
   },
   "outputs": [
    {
     "name": "stderr",
     "output_type": "stream",
     "text": [
      "Epoch [1/20]: 100%|██████████| 88/88 [00:13<00:00,  6.54it/s, loss=2.15]\n"
     ]
    },
    {
     "name": "stdout",
     "output_type": "stream",
     "text": [
      "Epoch [1/20], Average Loss: 2.2297\n",
      "Validation Loss: 2.1531\n"
     ]
    },
    {
     "name": "stderr",
     "output_type": "stream",
     "text": [
      "Epoch [2/20]: 100%|██████████| 88/88 [00:12<00:00,  6.79it/s, loss=2.03]\n"
     ]
    },
    {
     "name": "stdout",
     "output_type": "stream",
     "text": [
      "Epoch [2/20], Average Loss: 2.0952\n",
      "Validation Loss: 2.0204\n"
     ]
    },
    {
     "name": "stderr",
     "output_type": "stream",
     "text": [
      "Epoch [3/20]: 100%|██████████| 88/88 [00:13<00:00,  6.44it/s, loss=1.85]\n"
     ]
    },
    {
     "name": "stdout",
     "output_type": "stream",
     "text": [
      "Epoch [3/20], Average Loss: 1.9616\n",
      "Validation Loss: 1.8809\n"
     ]
    },
    {
     "name": "stderr",
     "output_type": "stream",
     "text": [
      "Epoch [4/20]: 100%|██████████| 88/88 [00:13<00:00,  6.59it/s, loss=1.76]\n"
     ]
    },
    {
     "name": "stdout",
     "output_type": "stream",
     "text": [
      "Epoch [4/20], Average Loss: 1.8297\n",
      "Validation Loss: 1.7592\n"
     ]
    },
    {
     "name": "stderr",
     "output_type": "stream",
     "text": [
      "Epoch [5/20]: 100%|██████████| 88/88 [00:13<00:00,  6.30it/s, loss=1.66]\n"
     ]
    },
    {
     "name": "stdout",
     "output_type": "stream",
     "text": [
      "Epoch [5/20], Average Loss: 1.7208\n",
      "Validation Loss: 1.6500\n"
     ]
    },
    {
     "name": "stderr",
     "output_type": "stream",
     "text": [
      "Epoch [6/20]: 100%|██████████| 88/88 [00:13<00:00,  6.56it/s, loss=1.57]\n"
     ]
    },
    {
     "name": "stdout",
     "output_type": "stream",
     "text": [
      "Epoch [6/20], Average Loss: 1.6262\n",
      "Validation Loss: 1.5630\n"
     ]
    },
    {
     "name": "stderr",
     "output_type": "stream",
     "text": [
      "Epoch [7/20]: 100%|██████████| 88/88 [00:13<00:00,  6.58it/s, loss=1.58]\n"
     ]
    },
    {
     "name": "stdout",
     "output_type": "stream",
     "text": [
      "Epoch [7/20], Average Loss: 1.5531\n",
      "Validation Loss: 1.4845\n"
     ]
    },
    {
     "name": "stderr",
     "output_type": "stream",
     "text": [
      "Epoch [8/20]: 100%|██████████| 88/88 [00:13<00:00,  6.62it/s, loss=1.44]\n"
     ]
    },
    {
     "name": "stdout",
     "output_type": "stream",
     "text": [
      "Epoch [8/20], Average Loss: 1.4902\n",
      "Validation Loss: 1.4244\n"
     ]
    },
    {
     "name": "stderr",
     "output_type": "stream",
     "text": [
      "Epoch [9/20]: 100%|██████████| 88/88 [00:13<00:00,  6.61it/s, loss=1.43]\n"
     ]
    },
    {
     "name": "stdout",
     "output_type": "stream",
     "text": [
      "Epoch [9/20], Average Loss: 1.4421\n",
      "Validation Loss: 1.3767\n"
     ]
    },
    {
     "name": "stderr",
     "output_type": "stream",
     "text": [
      "Epoch [10/20]: 100%|██████████| 88/88 [00:13<00:00,  6.57it/s, loss=1.36]\n"
     ]
    },
    {
     "name": "stdout",
     "output_type": "stream",
     "text": [
      "Epoch [10/20], Average Loss: 1.3899\n",
      "Validation Loss: 1.3233\n"
     ]
    },
    {
     "name": "stderr",
     "output_type": "stream",
     "text": [
      "Epoch [11/20]: 100%|██████████| 88/88 [00:13<00:00,  6.54it/s, loss=1.28]\n"
     ]
    },
    {
     "name": "stdout",
     "output_type": "stream",
     "text": [
      "Epoch [11/20], Average Loss: 1.3564\n",
      "Validation Loss: 1.2765\n"
     ]
    },
    {
     "name": "stderr",
     "output_type": "stream",
     "text": [
      "Epoch [12/20]: 100%|██████████| 88/88 [00:13<00:00,  6.40it/s, loss=1.33]\n"
     ]
    },
    {
     "name": "stdout",
     "output_type": "stream",
     "text": [
      "Epoch [12/20], Average Loss: 1.3180\n",
      "Validation Loss: 1.2648\n"
     ]
    },
    {
     "name": "stderr",
     "output_type": "stream",
     "text": [
      "Epoch [13/20]: 100%|██████████| 88/88 [00:13<00:00,  6.53it/s, loss=1.37]\n"
     ]
    },
    {
     "name": "stdout",
     "output_type": "stream",
     "text": [
      "Epoch [13/20], Average Loss: 1.2928\n",
      "Validation Loss: 1.2402\n"
     ]
    },
    {
     "name": "stderr",
     "output_type": "stream",
     "text": [
      "Epoch [14/20]: 100%|██████████| 88/88 [00:14<00:00,  6.24it/s, loss=1.24]\n"
     ]
    },
    {
     "name": "stdout",
     "output_type": "stream",
     "text": [
      "Epoch [14/20], Average Loss: 1.2663\n",
      "Validation Loss: 1.1930\n"
     ]
    },
    {
     "name": "stderr",
     "output_type": "stream",
     "text": [
      "Epoch [15/20]: 100%|██████████| 88/88 [00:13<00:00,  6.46it/s, loss=1.26]\n"
     ]
    },
    {
     "name": "stdout",
     "output_type": "stream",
     "text": [
      "Epoch [15/20], Average Loss: 1.2456\n",
      "Validation Loss: 1.1767\n"
     ]
    },
    {
     "name": "stderr",
     "output_type": "stream",
     "text": [
      "Epoch [16/20]: 100%|██████████| 88/88 [00:13<00:00,  6.54it/s, loss=1.2] \n"
     ]
    },
    {
     "name": "stdout",
     "output_type": "stream",
     "text": [
      "Epoch [16/20], Average Loss: 1.2260\n",
      "Validation Loss: 1.1515\n"
     ]
    },
    {
     "name": "stderr",
     "output_type": "stream",
     "text": [
      "Epoch [17/20]: 100%|██████████| 88/88 [00:13<00:00,  6.57it/s, loss=1.22]\n"
     ]
    },
    {
     "name": "stdout",
     "output_type": "stream",
     "text": [
      "Epoch [17/20], Average Loss: 1.2093\n",
      "Validation Loss: 1.1553\n"
     ]
    },
    {
     "name": "stderr",
     "output_type": "stream",
     "text": [
      "Epoch [18/20]: 100%|██████████| 88/88 [00:14<00:00,  6.27it/s, loss=1.21]\n"
     ]
    },
    {
     "name": "stdout",
     "output_type": "stream",
     "text": [
      "Epoch [18/20], Average Loss: 1.1935\n",
      "Validation Loss: 1.1210\n"
     ]
    },
    {
     "name": "stderr",
     "output_type": "stream",
     "text": [
      "Epoch [19/20]: 100%|██████████| 88/88 [00:12<00:00,  6.79it/s, loss=1.19]\n"
     ]
    },
    {
     "name": "stdout",
     "output_type": "stream",
     "text": [
      "Epoch [19/20], Average Loss: 1.1778\n",
      "Validation Loss: 1.1087\n"
     ]
    },
    {
     "name": "stderr",
     "output_type": "stream",
     "text": [
      "Epoch [20/20]: 100%|██████████| 88/88 [00:13<00:00,  6.72it/s, loss=1.16]\n"
     ]
    },
    {
     "name": "stdout",
     "output_type": "stream",
     "text": [
      "Epoch [20/20], Average Loss: 1.1698\n",
      "Validation Loss: 1.1105\n"
     ]
    }
   ],
   "source": [
    "# **IMPORTANT: save the best checkpoint of this model to a checkpoint file called \"checkpoint/gold_model.pth\"**\n",
    "\n",
    "# Placeholder for storing losses for each epoch\n",
    "losses = []\n",
    "losses_val = []\n",
    "\n",
    "# Training the model\n",
    "for epoch in range(num_epochs):\n",
    "\n",
    "    ######### TRAINING ##########\n",
    "    gold_model.train()\n",
    "    train_loss = 0  # To track loss for this epoch\n",
    "\n",
    "    # Using tqdm for the progress bar\n",
    "    loop = tqdm(enumerate(retain_loader), total=len(retain_loader), leave=True)\n",
    "\n",
    "    for batch_idx, (data, targets) in loop:\n",
    "        # Get data to cuda if possible\n",
    "        data = data.to(device=device)\n",
    "        targets = targets.to(device=device)\n",
    "\n",
    "        # Forward pass\n",
    "        scores = gold_model(data)\n",
    "        loss = criterion(scores, targets)\n",
    "\n",
    "        # Backward pass\n",
    "        optimizer.zero_grad()\n",
    "        loss.backward()\n",
    "\n",
    "        # Gradient descent step\n",
    "        optimizer.step()\n",
    "\n",
    "        # Accumulate loss\n",
    "        train_loss += loss.item()\n",
    "\n",
    "        # Update progress bar with loss and epoch information\n",
    "        loop.set_description(f\"Epoch [{epoch+1}/{num_epochs}]\")\n",
    "        loop.set_postfix(loss=loss.item())\n",
    "\n",
    "    # Calculate average loss for the epoch\n",
    "    avg_loss = train_loss / len(retain_loader)\n",
    "    losses.append(avg_loss)\n",
    "\n",
    "    # scheduler\n",
    "    scheduler.step(avg_loss)\n",
    "\n",
    "    # Print loss for this epoch\n",
    "    tqdm.write(f\"Epoch [{epoch+1}/{num_epochs}], Average Loss: {avg_loss:.4f}\")\n",
    "\n",
    "    ####### VALIDATION ########\n",
    "    gold_model.eval()\n",
    "    val_loss = 0\n",
    "\n",
    "    with torch.no_grad():\n",
    "        for data, targets in retain_loader_val:\n",
    "            data = data.to(device=device)\n",
    "            targets = targets.to(device=device)\n",
    "\n",
    "            scores = gold_model(data)\n",
    "            loss = criterion(scores, targets)\n",
    "            val_loss += loss.item()\n",
    "        # Calculate average loss for the epoch\n",
    "        avg_val_loss = val_loss / len(retain_loader_val)\n",
    "        losses_val.append(avg_val_loss)\n",
    "        print(f\"Validation Loss: {avg_val_loss:.4f}\")\n",
    "        # if avg val_loss is better than the one before, save the model\n",
    "        if epoch == 0:\n",
    "            # create directory if not exist\n",
    "            os.makedirs(\"checkpoint\", exist_ok=True)\n",
    "            best_loss = avg_val_loss\n",
    "            torch.save(gold_model.state_dict(), \"checkpoint/gold_model.pth\")\n",
    "        elif avg_val_loss < best_loss:\n",
    "            best_loss = avg_val_loss\n",
    "            torch.save(gold_model.state_dict(), \"checkpoint/gold_model.pth\")"
   ]
  },
  {
   "cell_type": "code",
   "execution_count": 23,
   "metadata": {
    "colab": {
     "base_uri": "https://localhost:8080/",
     "height": 505
    },
    "id": "azpyxUIsbwdD",
    "outputId": "09f2a2de-9970-4344-d206-4b74d34ffb12"
   },
   "outputs": [
    {
     "name": "stdout",
     "output_type": "stream",
     "text": [
      "Best validation loss: 1.1087\n"
     ]
    },
    {
     "data": {
      "image/png": "[encoded data removed]",
      "text/plain": [
       "<Figure size 1500x500 with 1 Axes>"
      ]
     },
     "metadata": {},
     "output_type": "display_data"
    }
   ],
   "source": [
    "# epoch of best validation loss\n",
    "print(f\"Best validation loss: {best_loss:.4f}\")\n",
    "index_best = losses_val.index(best_loss)\n",
    "\n",
    "plt.figure(figsize=(15, 5))\n",
    "plt.plot(losses, label=\"Train Loss\")\n",
    "plt.plot(losses_val, label=\"Val Loss\")\n",
    "plt.axvline(index_best, color=\"r\", linestyle=\"--\", label=\"Best Val Loss\")\n",
    "plt.legend()\n",
    "plt.title(\"Loss vs Epochs\")\n",
    "plt.xlabel(\"Epochs\")\n",
    "plt.ylabel(\"Loss\")\n",
    "plt.grid()\n",
    "plt.show()"
   ]
  },
  {
   "cell_type": "markdown",
   "metadata": {
    "id": "-eAqNS8VbwdD"
   },
   "source": [
    "**Below there is the evaluation of the gold model**"
   ]
  },
  {
   "cell_type": "code",
   "execution_count": 24,
   "metadata": {
    "colab": {
     "base_uri": "https://localhost:8080/"
    },
    "id": "593s6pjibwdD",
    "outputId": "c1dc1fd5-97a7-4aae-c2f2-b3939fc45946"
   },
   "outputs": [
    {
     "name": "stderr",
     "output_type": "stream",
     "text": [
      "/tmp/ipykernel_79508/1336622808.py:3: FutureWarning: You are using `torch.load` with `weights_only=False` (the current default value), which uses the default pickle module implicitly. It is possible to construct malicious pickle data which will execute arbitrary code during unpickling (See https://github.com/pytorch/pytorch/blob/main/SECURITY.md#untrusted-models for more details). In a future release, the default value for `weights_only` will be flipped to `True`. This limits the functions that could be executed during unpickling. Arbitrary objects will no longer be allowed to be loaded via this mode unless they are explicitly allowlisted by the user via `torch.serialization.add_safe_globals`. We recommend you start setting `weights_only=True` for any use case where you don't have full control of the loaded file. Please open an issue on GitHub for any issues related to this experimental feature.\n",
      "  gold_model.load_state_dict(torch.load(\"checkpoint/gold_model.pth\"))\n"
     ]
    },
    {
     "name": "stdout",
     "output_type": "stream",
     "text": [
      "Retain set Accuracy: 60.1267\n",
      "Forget set Accuracy: 0.0000\n",
      "Test set Accuracy: 53.4750\n",
      "Test set Retain Accuracy: 59.7000\n",
      "Test set Forget Accuracy: 0.0000\n"
     ]
    }
   ],
   "source": [
    "# load weights gold model\n",
    "gold_model = create_model()\n",
    "gold_model.load_state_dict(torch.load(\"checkpoint/gold_model.pth\"))\n",
    "gold_model.eval()\n",
    "gold_model.to(device)\n",
    "\n",
    "# print accuracies on retain, forget and test set\n",
    "retain_accuracy = accuracy(gold_model, retain_loader)\n",
    "forget_accuracy = accuracy(gold_model, forget_loader)\n",
    "test_accuracy = accuracy(gold_model, test_loader)\n",
    "test_accuracy_retain = accuracy(gold_model, retain_loader_test)\n",
    "test_accuracy_forget = accuracy(gold_model, forget_loader_test)\n",
    "\n",
    "print(f\"Retain set Accuracy: {100* retain_accuracy:.4f}\")\n",
    "print(f\"Forget set Accuracy: {100* forget_accuracy:.4f}\")\n",
    "print(f\"Test set Accuracy: {100* test_accuracy:.4f}\")\n",
    "print(f\"Test set Retain Accuracy: {100* test_accuracy_retain:.4f}\")\n",
    "print(f\"Test set Forget Accuracy: {100* test_accuracy_forget:.4f}\")"
   ]
  },
  {
   "cell_type": "markdown",
   "metadata": {
    "id": "aKn7BpTCbwdE"
   },
   "source": [
    "#### Your Turn\n",
    "\n",
    "**Question**\n",
    "\n",
    "Q: *Explain the results of the Gold Model. Did you notice something strange?*\n",
    "\n",
    "A: The accuracy on the forget set is 0 because the model never saw that class in the targets and during the learning process it was always discouradged to predict that class.\n",
    "\n",
    "Something is strange since we would expect the gold model to be better than the one obtained using the unlearning process but instead it is a lot worse. Anyway to have more reliable results we should have compared the gold_model with the model obtained applying unlearning on the trained_model instead of the one obtained applying unlearning on the best_model because trained_model and gold_model are trained in the same way"
   ]
  },
  {
   "cell_type": "markdown",
   "metadata": {
    "id": "KjdTq48xbwdE"
   },
   "source": [
    "# Section 5: Mia attacks"
   ]
  },
  {
   "cell_type": "markdown",
   "metadata": {
    "id": "HFFjDoDibwdE"
   },
   "source": [
    "In this section, we'll quantify the quality of the unlearning algorithm through a simple membership inference attack (MIA).\n",
    "MIAs are a type of adversarial attack aimed at determining whether a specific data point was included in the training dataset of a machine learning model. These attacks exploit the behavior of the model to make inferences about the presence or absence of certain data points.\n",
    "This MIA consists of a logistic regression model that predicts whether the model was trained on a particular sample from that sample's loss.\n",
    "\n"
   ]
  },
  {
   "cell_type": "code",
   "execution_count": 25,
   "metadata": {
    "id": "R_rzje-GbwdE"
   },
   "outputs": [],
   "source": [
    "def compute_losses(model, loader, criterion=\"CrossEntropy\"):\n",
    "    \"\"\"\n",
    "    Auxiliary function to compute per-sample losses\n",
    "    Args:\n",
    "    model : model to evaluate\n",
    "    loader : data loader\n",
    "    criterion : loss function. Specify \"CrossEntropy\" for cross-entropy loss or \"KL\" for KL divergence\n",
    "    \"\"\"\n",
    "\n",
    "    device = torch.device(\"cuda\" if torch.cuda.is_available() else \"cpu\")\n",
    "    all_losses = []\n",
    "\n",
    "    for inputs, targets in loader:\n",
    "        inputs, targets = inputs.to(device), targets.to(device)\n",
    "        logits = model(inputs)\n",
    "        losses = (\n",
    "            nn.CrossEntropyLoss(reduction=\"none\")(logits, targets)\n",
    "            .detach()\n",
    "            .cpu()\n",
    "            .numpy()\n",
    "        )\n",
    "\n",
    "        for l in losses:\n",
    "            all_losses.append(l)\n",
    "\n",
    "    return np.array(all_losses)"
   ]
  },
  {
   "cell_type": "code",
   "execution_count": 26,
   "metadata": {
    "colab": {
     "base_uri": "https://localhost:8080/"
    },
    "id": "EMbo_9f9bwdE",
    "outputId": "2f07de91-3ccb-401b-ca9b-ae233179f02f"
   },
   "outputs": [
    {
     "name": "stderr",
     "output_type": "stream",
     "text": [
      "/tmp/ipykernel_79508/165132113.py:3: FutureWarning: You are using `torch.load` with `weights_only=False` (the current default value), which uses the default pickle module implicitly. It is possible to construct malicious pickle data which will execute arbitrary code during unpickling (See https://github.com/pytorch/pytorch/blob/main/SECURITY.md#untrusted-models for more details). In a future release, the default value for `weights_only` will be flipped to `True`. This limits the functions that could be executed during unpickling. Arbitrary objects will no longer be allowed to be loaded via this mode unless they are explicitly allowlisted by the user via `torch.serialization.add_safe_globals`. We recommend you start setting `weights_only=True` for any use case where you don't have full control of the loaded file. Please open an issue on GitHub for any issues related to this experimental feature.\n",
      "  model.load_state_dict(torch.load(\"checkpoint/best_model.pth\"))\n"
     ]
    }
   ],
   "source": [
    "# model\n",
    "model = create_model()\n",
    "model.load_state_dict(torch.load(\"checkpoint/best_model.pth\"))\n",
    "model.eval()\n",
    "model.to(device)\n",
    "\n",
    "retain_losses = compute_losses(model, retain_loader_test)\n",
    "forget_losses = compute_losses(model, forget_loader_test)"
   ]
  },
  {
   "cell_type": "code",
   "execution_count": 27,
   "metadata": {
    "colab": {
     "base_uri": "https://localhost:8080/"
    },
    "id": "JZGm65FUbwdF",
    "outputId": "214bd2b2-d543-4a39-ac04-dcc2e7d7d5e1"
   },
   "outputs": [
    {
     "name": "stderr",
     "output_type": "stream",
     "text": [
      "/tmp/ipykernel_79508/2927356677.py:3: FutureWarning: You are using `torch.load` with `weights_only=False` (the current default value), which uses the default pickle module implicitly. It is possible to construct malicious pickle data which will execute arbitrary code during unpickling (See https://github.com/pytorch/pytorch/blob/main/SECURITY.md#untrusted-models for more details). In a future release, the default value for `weights_only` will be flipped to `True`. This limits the functions that could be executed during unpickling. Arbitrary objects will no longer be allowed to be loaded via this mode unless they are explicitly allowlisted by the user via `torch.serialization.add_safe_globals`. We recommend you start setting `weights_only=True` for any use case where you don't have full control of the loaded file. Please open an issue on GitHub for any issues related to this experimental feature.\n",
      "  forget_model.load_state_dict(torch.load(\"checkpoint/forget_model.pth\"))\n"
     ]
    }
   ],
   "source": [
    "# forget model\n",
    "forget_model = create_model()\n",
    "forget_model.load_state_dict(torch.load(\"checkpoint/forget_model.pth\"))\n",
    "forget_model.eval()\n",
    "forget_model.to(device)\n",
    "\n",
    "retain_losses_forget = compute_losses(forget_model, retain_loader_test)\n",
    "forget_losses_forget = compute_losses(forget_model, forget_loader_test)"
   ]
  },
  {
   "cell_type": "code",
   "execution_count": 28,
   "metadata": {
    "colab": {
     "base_uri": "https://localhost:8080/"
    },
    "id": "yM6zEGPnbwdF",
    "outputId": "39a65393-e7b2-4ab3-f6cd-589b75ad71d9"
   },
   "outputs": [
    {
     "name": "stderr",
     "output_type": "stream",
     "text": [
      "/tmp/ipykernel_79508/2360865515.py:3: FutureWarning: You are using `torch.load` with `weights_only=False` (the current default value), which uses the default pickle module implicitly. It is possible to construct malicious pickle data which will execute arbitrary code during unpickling (See https://github.com/pytorch/pytorch/blob/main/SECURITY.md#untrusted-models for more details). In a future release, the default value for `weights_only` will be flipped to `True`. This limits the functions that could be executed during unpickling. Arbitrary objects will no longer be allowed to be loaded via this mode unless they are explicitly allowlisted by the user via `torch.serialization.add_safe_globals`. We recommend you start setting `weights_only=True` for any use case where you don't have full control of the loaded file. Please open an issue on GitHub for any issues related to this experimental feature.\n",
      "  gold_model.load_state_dict(torch.load(\"checkpoint/gold_model.pth\"))\n"
     ]
    }
   ],
   "source": [
    "# gold model\n",
    "gold_model = create_model()\n",
    "gold_model.load_state_dict(torch.load(\"checkpoint/gold_model.pth\"))\n",
    "gold_model.eval()\n",
    "gold_model.to(device)\n",
    "\n",
    "retain_losses_gold = compute_losses(gold_model, retain_loader_test)\n",
    "forget_losses_gold = compute_losses(gold_model, forget_loader_test)"
   ]
  },
  {
   "cell_type": "code",
   "execution_count": 29,
   "metadata": {
    "colab": {
     "base_uri": "https://localhost:8080/",
     "height": 456
    },
    "id": "Wi29qqc8bwdF",
    "outputId": "19513e00-0eba-4921-d5be-ab6ddf516d34"
   },
   "outputs": [
    {
     "data": {
      "image/png": "[encoded data removed]",
      "text/plain": [
       "<Figure size 2000x500 with 3 Axes>"
      ]
     },
     "metadata": {},
     "output_type": "display_data"
    }
   ],
   "source": [
    "# 3 plots woth ax of histograms\n",
    "fig, axs = plt.subplots(1, 3, figsize=(20, 5))\n",
    "\n",
    "# subsample retrain losses to have the same size as the forget losses\n",
    "random_idx = np.random.choice(\n",
    "    np.arange(len(retain_losses)), len(forget_losses), replace=False\n",
    ")\n",
    "retain_losses = retain_losses[random_idx]\n",
    "retain_losses_forget = retain_losses_forget[random_idx]\n",
    "retain_losses_gold = retain_losses_gold[random_idx]\n",
    "\n",
    "\n",
    "axs[0].hist(\n",
    "    retain_losses, density=True, bins=50, alpha=0.5, label=\"Retain\", color=\"blue\"\n",
    ")\n",
    "axs[0].hist(\n",
    "    forget_losses, density=True, bins=50, alpha=0.5, label=\"Forget\", color=\"red\"\n",
    ")\n",
    "axs[0].set_title(\"Model\")\n",
    "axs[0].set_xlabel(\"Loss\")\n",
    "axs[0].legend()\n",
    "\n",
    "axs[1].hist(\n",
    "    retain_losses_forget, density=True, bins=50, alpha=0.5, label=\"Retain\", color=\"blue\"\n",
    ")\n",
    "axs[1].hist(\n",
    "    forget_losses_forget, density=True, bins=50, alpha=0.5, label=\"Forget\", color=\"red\"\n",
    ")\n",
    "axs[1].set_title(\"Forget Model\")\n",
    "axs[1].set_xlabel(\"Loss\")\n",
    "axs[1].legend()\n",
    "\n",
    "axs[2].hist(\n",
    "    retain_losses_gold, density=True, bins=50, alpha=0.5, label=\"Retain\", color=\"blue\"\n",
    ")\n",
    "axs[2].hist(\n",
    "    forget_losses_gold, density=True, bins=50, alpha=0.5, label=\"Forget\", color=\"red\"\n",
    ")\n",
    "axs[2].set_title(\"Gold Model\")\n",
    "axs[2].set_xlabel(\"Loss\")\n",
    "axs[2].legend()\n",
    "\n",
    "plt.show()"
   ]
  },
  {
   "cell_type": "code",
   "execution_count": 30,
   "metadata": {
    "id": "U1LXI5jTbwdG"
   },
   "outputs": [],
   "source": [
    "def simple_mia(sample_loss, members, n_splits=10, random_state=0):\n",
    "    \"\"\"Computes cross-validation score of a membership inference attack.\n",
    "\n",
    "    Args:\n",
    "      sample_loss : array_like of shape (n,).\n",
    "        objective function evaluated on n samples.\n",
    "      members : array_like of shape (n,),\n",
    "        whether a sample was used for training.\n",
    "      n_splits: int\n",
    "        number of splits to use in the cross-validation.\n",
    "    Returns:\n",
    "      scores : array_like of size (n_splits,)\n",
    "    \"\"\"\n",
    "\n",
    "    torch.manual_seed(torch.initial_seed())\n",
    "\n",
    "    unique_members = np.unique(members)\n",
    "    if not np.all(unique_members == np.array([0, 1])):\n",
    "        raise ValueError(\"members should only have 0 and 1s\")\n",
    "\n",
    "    attack_model = linear_model.LogisticRegression(random_state=random_state)\n",
    "    cv = model_selection.StratifiedShuffleSplit(n_splits=n_splits, random_state=0)\n",
    "\n",
    "    return model_selection.cross_val_score(\n",
    "        attack_model,\n",
    "        sample_loss,\n",
    "        members,\n",
    "        cv=cv,\n",
    "        scoring=\"accuracy\",\n",
    "    )"
   ]
  },
  {
   "cell_type": "code",
   "execution_count": 31,
   "metadata": {
    "colab": {
     "base_uri": "https://localhost:8080/"
    },
    "id": "c32gv5ECbwdG",
    "outputId": "f634d8f3-7a62-41ea-e7d1-26ad879a12fd"
   },
   "outputs": [
    {
     "name": "stdout",
     "output_type": "stream",
     "text": [
      "Model MIA score: 0.5440\n"
     ]
    }
   ],
   "source": [
    "# mia on model\n",
    "retain_losses_subsample = np.random.choice(\n",
    "    retain_losses, len(forget_losses), replace=False\n",
    ")\n",
    "samples_mia = np.concatenate([retain_losses_subsample, forget_losses]).reshape(-1, 1)\n",
    "# balance the number of samples\n",
    "members_mia = np.concatenate(\n",
    "    [np.zeros(len(retain_losses_subsample)), np.ones(len(forget_losses))]\n",
    ")\n",
    "\n",
    "scores_model = simple_mia(samples_mia, members_mia)\n",
    "print(f\"Model MIA score: {scores_model.mean():.4f}\")"
   ]
  },
  {
   "cell_type": "code",
   "execution_count": 32,
   "metadata": {
    "colab": {
     "base_uri": "https://localhost:8080/"
    },
    "id": "oCV5osvhbwdM",
    "outputId": "90c16eca-b5dd-487f-b685-a3dca1445227"
   },
   "outputs": [
    {
     "name": "stdout",
     "output_type": "stream",
     "text": [
      "Forget Model MIA score: 0.7610\n"
     ]
    }
   ],
   "source": [
    "# mia on forget model\n",
    "retain_losses_forget_subsample = np.random.choice(\n",
    "    retain_losses_forget, len(forget_losses_forget), replace=False\n",
    ")\n",
    "samples_mia = np.concatenate(\n",
    "    [retain_losses_forget_subsample, forget_losses_forget]\n",
    ").reshape(-1, 1)\n",
    "members_mia = np.concatenate(\n",
    "    [np.zeros(len(retain_losses_forget_subsample)), np.ones(len(forget_losses_forget))]\n",
    ")\n",
    "\n",
    "scores_forget = simple_mia(samples_mia, members_mia)\n",
    "print(f\"Forget Model MIA score: {scores_forget.mean():.4f}\")"
   ]
  },
  {
   "cell_type": "code",
   "execution_count": 33,
   "metadata": {
    "colab": {
     "base_uri": "https://localhost:8080/"
    },
    "id": "HqRBW_ccbwdM",
    "outputId": "228fc484-a6f1-4f98-da67-f2c916aba284"
   },
   "outputs": [
    {
     "name": "stdout",
     "output_type": "stream",
     "text": [
      "Gold Model MIA score: 0.9960\n"
     ]
    }
   ],
   "source": [
    "# mia on gold model\n",
    "retain_losses_gold_subsample = np.random.choice(\n",
    "    retain_losses_gold, len(forget_losses_gold), replace=False\n",
    ")\n",
    "samples_mia = np.concatenate(\n",
    "    [retain_losses_gold_subsample, forget_losses_gold]\n",
    ").reshape(-1, 1)\n",
    "members_mia = np.concatenate(\n",
    "    [np.zeros(len(retain_losses_gold_subsample)), np.ones(len(forget_losses_gold))]\n",
    ")\n",
    "\n",
    "scores_gold = simple_mia(samples_mia, members_mia)\n",
    "print(f\"Gold Model MIA score: {scores_gold.mean():.4f}\")"
   ]
  },
  {
   "cell_type": "markdown",
   "metadata": {
    "id": "UBVeBqPSbwdN"
   },
   "source": [
    "#### Your Turn ( 3 Points)\n",
    "\n",
    "**Question**\n",
    "\n",
    "Q: *For each model, analyze the loss plots and explain the results obtained from the membership inference attack (MIA).*\n",
    "\n",
    "A:\n",
    "\n",
    "\n",
    "*   Model: This first model was trained on all the data ($\\text{retain} \\cup \\text{forget}$).In our plot of the losses we can see that retain and forget data have a similar distribution and for both density is clustered on the lower values. The MIA attack returns a probability near to 50%, which means that the MIA model is not able to discriminate between forget and retain datasets based on the losses, indicating that probably all the data (forget and retain) were used during Model training\n",
    "*   Forget Model: this model was produced by unlearning through fine-tuning the previous model. from the plot of losses we start to see a clear difference on the distribution of the losses for the 2 different sets. Retain data still has a density peak around the lower end of the loss values, instead, forget data has a more uniform loss distribution, with higher variance. The MIA score is around $\\approx 70\\%$, indicating some capacity of the MIA model to discern between the two datasets, but not in a perfect way. It is clear that the model retains some of the previous information about the forget dataset even after fine-tuning.\n",
    "*   Gold Model: This model was trained *only* on retianed data, it is clear from the plot of the ownership probabilities over the losses that the distributions have an almost perfect separation. The ownership density's mean is lower for the retain data, as it was used to train the Gold Model, and higher for the forget data. The MIA score is around almost $100\\%$ ($99.5\\%$), meaning that the MIA model can now perfectly distinguish between the two datasets based on the losses.\n",
    "\n"
   ]
  },
  {
   "cell_type": "markdown",
   "metadata": {
    "id": "tDaM83I8bwdN"
   },
   "source": [
    "# 6. Unlearning with Kl divergence\n"
   ]
  },
  {
   "cell_type": "markdown",
   "metadata": {
    "id": "fcOGHyjabwdO"
   },
   "source": [
    "The Kullback-Leibler (KL) divergence is a measure of how one probability distribution differs from another. In this case, to induce unlearning, we want the model's predictions on the forget set to match a uniform distribution, meaning the model \"forgets\" any specific information about these classes."
   ]
  },
  {
   "cell_type": "markdown",
   "metadata": {
    "id": "yWDj2KSebwdO"
   },
   "source": [
    "#### Your Turn (1 Point) \n",
    "\n",
    "Next, consider a simple scenario to clarify the concept: a classification problem with four classes. Here, the objective is to unlearn one class by enforcing the logits' distribution (after the softmax) to match a uniform distribution. In this case, let the target distribution for a sample coming from the forget set be $y_{gt} = [0.25, 0.25, 0.25, 0.25]$, and assume that you have achieved the predicted distribution $y_{pred} = [0.25, 0.25, 0.25, 0.25]$\n",
    "\n",
    "**Question**\n",
    "\n",
    "Q: *In this context, why is it preferable to use KL divergence instead of Cross-Entropy? Explain it and fill the code below in order to show it numerically.*\n",
    "\n",
    "A: Kullback-Leiber dirvergence explicitly measures the distance between two distributions, whereas cross-entropy measures the average number of bits required to encode the true distribution using the predicted distribution. This means that, if the distributions are equal, in the case of KL divergence, the result will be 0, while in the case of cross-entropy, the result will be the entropy of the true distribution (which is always positive). Therefore, by using KL divergence with a uniform distribution target (which usually has high entropy), perfect unlearning will result in a KL divergence of 0."
   ]
  },
  {
   "cell_type": "code",
   "execution_count": 11,
   "metadata": {
    "id": "NIo6Njx-bwdO",
    "outputId": "4b3d8747-9e54-40cd-a50b-6e7bbd578865"
   },
   "outputs": [
    {
     "name": "stdout",
     "output_type": "stream",
     "text": [
      "Cross Entropy: 1.3863\n",
      "KL Divergence: 0.0000\n"
     ]
    }
   ],
   "source": [
    "y_gt = torch.tensor([0.25, 0.25, 0.25, 0.25])\n",
    "y_pred = torch.tensor([0.25, 0.25, 0.25, 0.25])\n",
    "\n",
    "\"\"\"\n",
    "Add your code below\n",
    "\"\"\"\n",
    "cross_entropy = F.cross_entropy(y_pred, y_gt)\n",
    "kl_div = F.kl_div(y_pred.log(), y_gt, reduction=\"batchmean\")\n",
    "\n",
    "print(f\"Cross Entropy: {cross_entropy:.4f}\")\n",
    "print(f\"KL Divergence: {kl_div:.4f}\")"
   ]
  },
  {
   "cell_type": "markdown",
   "metadata": {
    "id": "STUM88mLbwdP"
   },
   "source": [
    "**Question**\n",
    "\n",
    "Q: *Before proceeding, you should explain the relationship between Cross-Entropy and Kullback-Leibler (KL) divergence. Provide the proof showing how to derive the relationship between the two.*\n",
    "\n",
    "A: As stated before, Cross-Entropy measures the average number of bits required to encode the true distribution using the predicted distribution, whereas KL-divergence is a distance measure between two distributions. \n",
    "\n",
    "We begin our proof by writing the formula for Cross-Entropy:\n",
    "\n",
    "$$H(p, q) = -\\sum_{x} p(x) \\log q(x)$$\n",
    "\n",
    "Where $p$ is the true distribution and $q$ is the predicted distribution. The formula for KL divergence is given by:\n",
    "\n",
    "$$D_{KL}(p||q) = \\sum_{x} p(x) \\log \\frac{p(x)}{q(x)}$$\n",
    "\n",
    "It is also helpful to remember that the entropy of a distribution $p$ is given by:\n",
    "\n",
    "$$H(p) = -\\sum_{x} p(x) \\log p(x)$$\n",
    "\n",
    "We can now see that CE is the entropy of $p$ distribution *plus* an extra term (the KL-divergence between $p$ and $q$, which disappears when $p$ and $q$ are the same) by performing some algebraic manipulations:\n",
    "\n",
    "$$\n",
    "D_{KL}(p||q) = \\sum_{x} p(x) \\log \\frac{p(x)}{q(x)} = \\sum_{x} p(x) \\log p(x) - \\sum_{x} p(x) \\log q(x) = -H(p) + H(p, q)\n",
    "$$\n",
    "\n",
    "Hence we have the relationship:\n",
    "\n",
    "$$\n",
    "D_{KL}(p||q) = H(p, q) - H(p)\n",
    "$$\n",
    "\n",
    "By rearranging the terms, we can see that:\n",
    "\n",
    "$$\n",
    "H(p, q) = D_{KL}(p||q) + H(p)\n",
    "$$\n"
   ]
  },
  {
   "cell_type": "code",
   "execution_count": 11,
   "metadata": {
    "id": "kExRkuv0bwdP"
   },
   "outputs": [],
   "source": [
    "# fix seeds\n",
    "np.random.seed(0)\n",
    "torch.manual_seed(0)\n",
    "random.seed(0)\n",
    "torch.cuda.manual_seed(0)\n",
    "torch.cuda.manual_seed_all(0)\n",
    "torch.backends.cudnn.deterministic = True\n",
    "torch.backends.cudnn.benchmark = False"
   ]
  },
  {
   "cell_type": "code",
   "execution_count": 11,
   "metadata": {
    "id": "05FERyqmbwdP"
   },
   "outputs": [],
   "source": [
    "def make_target(target, number_of_classes=10):\n",
    "    \"\"\"\n",
    "    Function to modify the target class\n",
    "    \"\"\"\n",
    "    device = torch.device(\"cuda\" if torch.cuda.is_available() else \"cpu\")\n",
    "    tensor = (\n",
    "        torch.nn.functional.one_hot(target, num_classes=number_of_classes)\n",
    "        .float()\n",
    "        .to(device)\n",
    "    )\n",
    "    # Identify rows with 1 in the first position\n",
    "    first_pos_mask = target == 0\n",
    "\n",
    "    # Substite the rows with 1 in the first position with a uniform distribution\n",
    "    n = tensor.size(1)  # Numero di colonne\n",
    "    uniform_distribution = torch.full(\n",
    "        (n,), 1.0 / n, device=device\n",
    "    )  # Distribuzione uniforme\n",
    "    tensor[first_pos_mask] = uniform_distribution\n",
    "\n",
    "    return tensor"
   ]
  },
  {
   "cell_type": "code",
   "execution_count": 22,
   "metadata": {
    "id": "9oMxzJ8abwdQ"
   },
   "outputs": [],
   "source": [
    "def unlearning_2(model, forget_loader, validation, epochs, optimizer, scheduler):\n",
    "    \"\"\"\n",
    "    Function to unlearn the forget set\n",
    "    \"\"\"\n",
    "    device = torch.device(\"cuda\" if torch.cuda.is_available() else \"cpu\")\n",
    "    epsilon = 1e-5\n",
    "    model.to(device)\n",
    "    losses = []\n",
    "    losses_val = []\n",
    "\n",
    "    for epoch in range(epochs):\n",
    "        model.train()\n",
    "        loss_epoch = 0\n",
    "        loop = tqdm(enumerate(forget_loader), total=len(forget_loader), leave=True)\n",
    "        for batch_idx, (inputs, targets) in loop:\n",
    "            inputs, targets = inputs.to(device), targets.to(device)\n",
    "            optimizer.zero_grad()\n",
    "            outputs = model(inputs)\n",
    "            outputs = outputs + epsilon\n",
    "            outputs = F.log_softmax(outputs, dim=1)\n",
    "\n",
    "            targets = make_target(targets)\n",
    "            loss = F.kl_div(outputs, targets, reduction=\"batchmean\")\n",
    "            loss.backward()\n",
    "            optimizer.step()\n",
    "\n",
    "            # running loss\n",
    "            loss_epoch += loss.item()\n",
    "            # Update progress bar with loss and epoch information\n",
    "            loop.set_description(f\"Epoch [{epoch+1}/{epochs}]\")\n",
    "            loop.set_postfix(loss=loss.item())\n",
    "\n",
    "        # avg loss\n",
    "        avg_loss = loss_epoch / len(forget_loader)\n",
    "        losses.append(avg_loss)\n",
    "        # scheduler step\n",
    "        scheduler.step(avg_loss)\n",
    "        tqdm.write(f\"Epoch [{epoch+1}/{epochs}], Average Loss: {avg_loss:.4f}\")\n",
    "\n",
    "        # validation\n",
    "        loss_val = 0\n",
    "        model.eval()\n",
    "        with torch.no_grad():\n",
    "            for data, targets in validation:\n",
    "                data = data.to(device=device)\n",
    "                targets = targets.to(device=device)\n",
    "\n",
    "                scores = model(data)\n",
    "                scores = scores + epsilon\n",
    "                scores = F.log_softmax(scores, dim=1)\n",
    "                targets = make_target(targets)\n",
    "                loss = F.kl_div(scores, targets, reduction=\"batchmean\")\n",
    "                loss_val += loss.item()\n",
    "            # Calculate average loss for the epoch\n",
    "            avg_val_loss = loss_val / len(validation)\n",
    "            losses_val.append(avg_val_loss)\n",
    "            print(f\"Validation Loss: {avg_val_loss:.4f}\")\n",
    "            # if avg val_loss is better than the one before, save the model\n",
    "            if epoch == 0:\n",
    "                # create directory if not exist\n",
    "                os.makedirs(\"checkpoint\", exist_ok=True)\n",
    "                best_loss = avg_val_loss\n",
    "                torch.save(model.state_dict(), \"checkpoint/another_forget_model.pth\")\n",
    "            elif avg_val_loss < best_loss:\n",
    "                best_loss = avg_val_loss\n",
    "                torch.save(model.state_dict(), \"checkpoint/another_forget_model.pth\")\n",
    "    return model, losses, losses_val"
   ]
  },
  {
   "cell_type": "code",
   "execution_count": null,
   "metadata": {
    "id": "RjrNkkfWbwdQ",
    "outputId": "46d7adff-25ca-4c82-81f7-43a10d891769"
   },
   "outputs": [
    {
     "name": "stderr",
     "output_type": "stream",
     "text": [
      "/tmp/ipykernel_74370/4083442650.py:2: FutureWarning: You are using `torch.load` with `weights_only=False` (the current default value), which uses the default pickle module implicitly. It is possible to construct malicious pickle data which will execute arbitrary code during unpickling (See https://github.com/pytorch/pytorch/blob/main/SECURITY.md#untrusted-models for more details). In a future release, the default value for `weights_only` will be flipped to `True`. This limits the functions that could be executed during unpickling. Arbitrary objects will no longer be allowed to be loaded via this mode unless they are explicitly allowlisted by the user via `torch.serialization.add_safe_globals`. We recommend you start setting `weights_only=True` for any use case where you don't have full control of the loaded file. Please open an issue on GitHub for any issues related to this experimental feature.\n",
      "  another_forget_model.load_state_dict(torch.load(\"checkpoint/best_model.pth\"))\n"
     ]
    },
    {
     "ename": "NameError",
     "evalue": "name 'device' is not defined",
     "output_type": "error",
     "traceback": [
      "\u001b[0;31m---------------------------------------------------------------------------\u001b[0m",
      "\u001b[0;31mNameError\u001b[0m                                 Traceback (most recent call last)",
      "Cell \u001b[0;32mIn[16], line 3\u001b[0m\n\u001b[1;32m      1\u001b[0m another_forget_model \u001b[38;5;241m=\u001b[39m create_model()\n\u001b[1;32m      2\u001b[0m another_forget_model\u001b[38;5;241m.\u001b[39mload_state_dict(torch\u001b[38;5;241m.\u001b[39mload(\u001b[38;5;124m\"\u001b[39m\u001b[38;5;124mcheckpoint/best_model.pth\u001b[39m\u001b[38;5;124m\"\u001b[39m))\n\u001b[0;32m----> 3\u001b[0m another_forget_model\u001b[38;5;241m.\u001b[39mto(\u001b[43mdevice\u001b[49m)\n\u001b[1;32m      5\u001b[0m \u001b[38;5;66;03m# optimizer\u001b[39;00m\n\u001b[1;32m      6\u001b[0m optimizer \u001b[38;5;241m=\u001b[39m torch\u001b[38;5;241m.\u001b[39moptim\u001b[38;5;241m.\u001b[39mAdam(another_forget_model\u001b[38;5;241m.\u001b[39mparameters(), lr\u001b[38;5;241m=\u001b[39m\u001b[38;5;241m0.0001\u001b[39m)\n",
      "\u001b[0;31mNameError\u001b[0m: name 'device' is not defined"
     ]
    }
   ],
   "source": [
    "another_forget_model = create_model()\n",
    "another_forget_model.load_state_dict(torch.load(\"checkpoint/best_model.pth\"))\n",
    "another_forget_model.to(device)\n",
    "\n",
    "# optimizer\n",
    "optimizer = torch.optim.Adam(another_forget_model.parameters(), lr=0.0001)\n",
    "scheduler = torch.optim.lr_scheduler.ReduceLROnPlateau(\n",
    "    optimizer, mode=\"min\", factor=0.1, patience=5, verbose=True\n",
    ")\n",
    "num_epochs = 10\n",
    "\n",
    "forget_loader = forget_loader\n",
    "val_loader = forget_loader_val\n",
    "\n",
    "another_forget_model, losses, losses_val = unlearning_2(\n",
    "    another_forget_model,\n",
    "    forget_loader,\n",
    "    val_loader,\n",
    "    num_epochs,\n",
    "    optimizer,\n",
    "    scheduler,\n",
    ")"
   ]
  },
  {
   "cell_type": "code",
   "execution_count": 17,
   "metadata": {
    "id": "x5NNgI9ibwdQ",
    "outputId": "3b94f0be-1a78-4d08-c2ec-58efe328474f"
   },
   "outputs": [
    {
     "ename": "NameError",
     "evalue": "name 'losses_val' is not defined",
     "output_type": "error",
     "traceback": [
      "\u001b[0;31m---------------------------------------------------------------------------\u001b[0m",
      "\u001b[0;31mNameError\u001b[0m                                 Traceback (most recent call last)",
      "Cell \u001b[0;32mIn[17], line 3\u001b[0m\n\u001b[1;32m      1\u001b[0m \u001b[38;5;66;03m# plot losses\u001b[39;00m\n\u001b[1;32m      2\u001b[0m \u001b[38;5;66;03m# epoch of best validation loss\u001b[39;00m\n\u001b[0;32m----> 3\u001b[0m index_best \u001b[38;5;241m=\u001b[39m \u001b[43mlosses_val\u001b[49m\u001b[38;5;241m.\u001b[39mindex(\u001b[38;5;28mmin\u001b[39m(losses_val))\n\u001b[1;32m      5\u001b[0m plt\u001b[38;5;241m.\u001b[39mfigure(figsize\u001b[38;5;241m=\u001b[39m(\u001b[38;5;241m15\u001b[39m, \u001b[38;5;241m5\u001b[39m))\n\u001b[1;32m      6\u001b[0m plt\u001b[38;5;241m.\u001b[39mplot(losses, label\u001b[38;5;241m=\u001b[39m\u001b[38;5;124m\"\u001b[39m\u001b[38;5;124mTrain Loss\u001b[39m\u001b[38;5;124m\"\u001b[39m)\n",
      "\u001b[0;31mNameError\u001b[0m: name 'losses_val' is not defined"
     ]
    }
   ],
   "source": [
    "# plot losses\n",
    "# epoch of best validation loss\n",
    "index_best = losses_val.index(min(losses_val))\n",
    "\n",
    "plt.figure(figsize=(15, 5))\n",
    "plt.plot(losses, label=\"Train Loss\")\n",
    "plt.plot(losses_val, label=\"Val Loss\")\n",
    "plt.axvline(index_best, color=\"r\", linestyle=\"--\", label=\"Best Val Loss\")\n",
    "plt.legend()\n",
    "plt.title(\"Loss vs Epochs\")\n",
    "plt.xlabel(\"Epochs\")\n",
    "plt.ylabel(\"Loss\")\n",
    "plt.grid()\n",
    "plt.show()"
   ]
  },
  {
   "cell_type": "code",
   "execution_count": 40,
   "metadata": {
    "id": "ZyJEgwoDbwdR",
    "outputId": "7f6213ea-1c19-4e35-86ec-e5e0149f1a98"
   },
   "outputs": [
    {
     "name": "stderr",
     "output_type": "stream",
     "text": [
      "/tmp/ipykernel_79508/1269313026.py:3: FutureWarning: You are using `torch.load` with `weights_only=False` (the current default value), which uses the default pickle module implicitly. It is possible to construct malicious pickle data which will execute arbitrary code during unpickling (See https://github.com/pytorch/pytorch/blob/main/SECURITY.md#untrusted-models for more details). In a future release, the default value for `weights_only` will be flipped to `True`. This limits the functions that could be executed during unpickling. Arbitrary objects will no longer be allowed to be loaded via this mode unless they are explicitly allowlisted by the user via `torch.serialization.add_safe_globals`. We recommend you start setting `weights_only=True` for any use case where you don't have full control of the loaded file. Please open an issue on GitHub for any issues related to this experimental feature.\n",
      "  another_forget_model.load_state_dict(torch.load(\"checkpoint/another_forget_model.pth\"))\n"
     ]
    }
   ],
   "source": [
    "# calculate accuracy\n",
    "another_forget_model = create_model()\n",
    "another_forget_model.load_state_dict(torch.load(\"checkpoint/another_forget_model.pth\"))\n",
    "another_forget_model.eval()\n",
    "another_forget_model.to(device)\n",
    "\n",
    "\n",
    "# Calculate the accuracy on the test set\n",
    "retain_accuracy = accuracy(another_forget_model, retain_loader)\n",
    "forget_accuracy = accuracy(another_forget_model, forget_loader)\n",
    "test_accuracy = accuracy(another_forget_model, test_loader)\n",
    "retain_test_accuracy = accuracy(another_forget_model, retain_loader_test)\n",
    "forget_test_accuracy = accuracy(another_forget_model, forget_loader_test)"
   ]
  },
  {
   "cell_type": "code",
   "execution_count": 41,
   "metadata": {
    "id": "1aqNZoEmbwdR",
    "outputId": "82518122-fc50-46a1-bd30-e851d08e1437"
   },
   "outputs": [
    {
     "name": "stdout",
     "output_type": "stream",
     "text": [
      "Retain Accuracy: 63.6600\n",
      "Forget Accuracy: 17.1600\n",
      "Test Accuracy: 56.4625\n",
      "Test Retain Accuracy: 60.6667\n",
      "Test Forget Accuracy: 15.8000\n"
     ]
    }
   ],
   "source": [
    "# print accuracies on retain, forget and test set\n",
    "print(f\"Retain Accuracy: {100* retain_accuracy:.4f}\")\n",
    "print(f\"Forget Accuracy: {100* forget_accuracy:.4f}\")\n",
    "print(f\"Test Accuracy: {100* test_accuracy:.4f}\")\n",
    "print(f\"Test Retain Accuracy: {100* retain_test_accuracy:.4f}\")\n",
    "print(f\"Test Forget Accuracy: {100* forget_test_accuracy:.4f}\")"
   ]
  },
  {
   "cell_type": "code",
   "execution_count": 42,
   "metadata": {
    "id": "aZFdqwXwbwdR"
   },
   "outputs": [],
   "source": [
    "# calculate losses of the model on forget and retain test set\n",
    "retain_losses_CE = compute_losses(another_forget_model, retain_loader_test)\n",
    "forget_losses_CE = compute_losses(another_forget_model, forget_loader_test)"
   ]
  },
  {
   "cell_type": "code",
   "execution_count": 43,
   "metadata": {
    "id": "GdTlAuFQbwdS",
    "outputId": "a22ae95a-4c97-45cb-8047-7c685e053ed5"
   },
   "outputs": [
    {
     "data": {
      "image/png": "[encoded data removed]",
      "text/plain": [
       "<Figure size 640x480 with 1 Axes>"
      ]
     },
     "metadata": {},
     "output_type": "display_data"
    }
   ],
   "source": [
    "plt.hist(\n",
    "    retain_losses_CE, density=True, bins=50, alpha=0.5, label=\"Retain\", color=\"blue\"\n",
    ")\n",
    "plt.hist(\n",
    "    forget_losses_CE, density=True, bins=50, alpha=0.5, label=\"Forget\", color=\"red\"\n",
    ")\n",
    "plt.title(\"Another Forget Model\")\n",
    "plt.xlabel(\"Loss\")\n",
    "plt.legend()\n",
    "plt.show()"
   ]
  },
  {
   "cell_type": "code",
   "execution_count": 44,
   "metadata": {
    "id": "wtbeNqGhbwdS",
    "outputId": "4972fb0c-8883-4db5-ec1a-8b253715213d"
   },
   "outputs": [
    {
     "name": "stdout",
     "output_type": "stream",
     "text": [
      "Another Forget Model MIA score with Cross Entropy losses: 0.7465\n"
     ]
    }
   ],
   "source": [
    "# mia attack on cross entropy\n",
    "np.random.seed(0)\n",
    "subsample_retain_losses_CE = np.random.choice(\n",
    "    retain_losses_CE, len(forget_losses), replace=False\n",
    ")\n",
    "samples_mia = np.concatenate([subsample_retain_losses_CE, forget_losses_CE]).reshape(\n",
    "    -1, 1\n",
    ")\n",
    "members_mia = np.concatenate(\n",
    "    [np.zeros(len(subsample_retain_losses_CE)), np.ones(len(forget_losses))]\n",
    ")\n",
    "\n",
    "scores_another_forget = simple_mia(samples_mia, members_mia)\n",
    "print(\n",
    "    f\"Another Forget Model MIA score with Cross Entropy losses: {scores_another_forget.mean():.4f}\"\n",
    ")"
   ]
  },
  {
   "cell_type": "markdown",
   "metadata": {
    "id": "zIOKZi-ibwdS"
   },
   "source": [
    "This is another way of performing unlearning, you may have noticed that the distributions of the retain and forget sets are different but still there is an overlapping portion. It is very likely that the MIA attack will fail in that specific region."
   ]
  },
  {
   "cell_type": "markdown",
   "metadata": {
    "id": "DpMRu8zvbwdT"
   },
   "source": [
    "# GMN for unlearning (6 Points)\n",
    "\n",
    "Now, we will attempt to use the GMN you have implemented in the theory notebook for the unlearning task. Keep in mind that this is a novel and challenging task, and it is quite possible that the results may not meet your expectations. However, this is the nature of research. Therefore, the evaluation will focus on the clarity of your approach and your ability to justify your choices and results, rather then the result itself."
   ]
  },
  {
   "cell_type": "markdown",
   "metadata": {
    "id": "kRiBvEsybwdT"
   },
   "source": [
    "First of all, go into the ```Practice/gmn/graph_models.py``` file and replace the empty classes with what you have implemented in the second part of the theory notebook. Then, try to think about and implement an unlearning algorithm that leverages the graph metanetwork, and evaluate the unlearned model with MIA attacks and accuracy scores. It would be super cool to have a neural network (the GMN) that can take as input other pretrained neural networks and produce as output the same networks but unlearned over a specific subset of data samples.\n",
    "\n",
    "In the end, generate a detailed report where you describe your idea, methodology and implementation. Put the most of your effort in explaining us the ideas and the intuitions that you had, since this is what we will reward. Don't be worried if results are poor, there can be many causes of this and it's not your task to solve all of them."
   ]
  },
  {
   "cell_type": "code",
   "execution_count": 162,
   "metadata": {
    "id": "kYqyYPoCbwdT",
    "outputId": "13c01b48-bbe5-49ed-edf7-66e382889edb"
   },
   "outputs": [
    {
     "name": "stderr",
     "output_type": "stream",
     "text": [
      "/tmp/ipykernel_63329/1323383109.py:14: FutureWarning: You are using `torch.load` with `weights_only=False` (the current default value), which uses the default pickle module implicitly. It is possible to construct malicious pickle data which will execute arbitrary code during unpickling (See https://github.com/pytorch/pytorch/blob/main/SECURITY.md#untrusted-models for more details). In a future release, the default value for `weights_only` will be flipped to `True`. This limits the functions that could be executed during unpickling. Arbitrary objects will no longer be allowed to be loaded via this mode unless they are explicitly allowlisted by the user via `torch.serialization.add_safe_globals`. We recommend you start setting `weights_only=True` for any use case where you don't have full control of the loaded file. Please open an issue on GitHub for any issues related to this experimental feature.\n",
      "  weights = torch.load(\"checkpoint/best_model.pth\")\n"
     ]
    },
    {
     "name": "stdout",
     "output_type": "stream",
     "text": [
      "DataBatch(x=[216, 3], edge_index=[2, 59050], edge_attr=[59050, 6], u=[1, 8], batch=[216], ptr=[2])\n"
     ]
    }
   ],
   "source": [
    "from gmn.graph_models import *\n",
    "from torch_geometric.data import Data, Batch\n",
    "from gmn.graph_construct.model_arch_graph import (\n",
    "    sequential_to_arch,\n",
    "    arch_to_graph,\n",
    "    graph_to_arch,\n",
    "    arch_to_sequential,\n",
    ")\n",
    "from gmn.feature_extractor_gmn import NodeEdgeFeatEncoder\n",
    "from gmn.graph_models import MPNN\n",
    "\n",
    "torch.manual_seed(0)\n",
    "\n",
    "weights = torch.load(\"checkpoint/best_model.pth\")\n",
    "model = create_model()\n",
    "model.load_state_dict(weights)\n",
    "arch = sequential_to_arch(model)\n",
    "x, edge_index, edge_attr = arch_to_graph(arch)\n",
    "x = x.float()\n",
    "edge_attr = edge_attr.float()\n",
    "\n",
    "# currently u is a vector of zeros, and it is basically useless. You can consider filling it with what you prefer and leverage it for the task of unlearning\n",
    "g_cnn = Data(x=x, edge_index=edge_index, edge_attr=edge_attr, u=torch.zeros(1, 8))\n",
    "\n",
    "graph_batch = Batch.from_data_list([g_cnn])\n",
    "print(graph_batch)"
   ]
  },
  {
   "cell_type": "code",
   "execution_count": 163,
   "metadata": {
    "id": "dJQ_CPIxbwdT"
   },
   "outputs": [
    {
     "data": {
      "text/plain": [
       "GraphMetaNetwork(\n",
       "  (encoder): NodeEdgeFeatEncoder(\n",
       "    (node_layer_encoder): Sequential(\n",
       "      (0): Linear(in_features=1, out_features=64, bias=True)\n",
       "      (1): Sin()\n",
       "    )\n",
       "    (neuron_num_encoder): Sequential(\n",
       "      (0): Linear(in_features=1, out_features=64, bias=True)\n",
       "      (1): Sin()\n",
       "    )\n",
       "    (node_type_encoder): Embedding(17, 64)\n",
       "    (x_proj): Linear(in_features=192, out_features=64, bias=True)\n",
       "    (weight_encoder): Sequential(\n",
       "      (0): Linear(in_features=1, out_features=64, bias=True)\n",
       "      (1): Sin()\n",
       "    )\n",
       "    (edge_layer_encoder): Sequential(\n",
       "      (0): Linear(in_features=1, out_features=64, bias=True)\n",
       "      (1): Sin()\n",
       "    )\n",
       "    (conv_pos_encoder): Sequential(\n",
       "      (0): Linear(in_features=3, out_features=64, bias=True)\n",
       "      (1): Sin()\n",
       "    )\n",
       "    (edge_type_encoder): Embedding(14, 64)\n",
       "    (edge_attr_proj): Linear(in_features=256, out_features=64, bias=True)\n",
       "  )\n",
       "  (mpnn): MPNN(\n",
       "    (convs): ModuleList(\n",
       "      (0): MetaLayer(\n",
       "        edge_model=EdgeModel(\n",
       "        (edge_mlp): Sequential(\n",
       "          (0): Linear(in_features=200, out_features=32, bias=True)\n",
       "          (1): ReLU()\n",
       "        )\n",
       "      ),\n",
       "        node_model=NodeModel(\n",
       "        (node_mlp_1): Sequential(\n",
       "          (0): Linear(in_features=168, out_features=32, bias=True)\n",
       "          (1): ReLU()\n",
       "        )\n",
       "        (node_mlp_2): Sequential(\n",
       "          (0): Linear(in_features=104, out_features=32, bias=True)\n",
       "          (1): ReLU()\n",
       "        )\n",
       "      ),\n",
       "        global_model=GlobalModel(\n",
       "        (global_mlp): Sequential(\n",
       "          (0): Linear(in_features=72, out_features=32, bias=True)\n",
       "          (1): ReLU()\n",
       "        )\n",
       "      )\n",
       "      )\n",
       "      (1-2): 2 x MetaLayer(\n",
       "        edge_model=EdgeModel(\n",
       "        (edge_mlp): Sequential(\n",
       "          (0): Linear(in_features=128, out_features=32, bias=True)\n",
       "          (1): ReLU()\n",
       "        )\n",
       "      ),\n",
       "        node_model=NodeModel(\n",
       "        (node_mlp_1): Sequential(\n",
       "          (0): Linear(in_features=128, out_features=32, bias=True)\n",
       "          (1): ReLU()\n",
       "        )\n",
       "        (node_mlp_2): Sequential(\n",
       "          (0): Linear(in_features=96, out_features=32, bias=True)\n",
       "          (1): ReLU()\n",
       "        )\n",
       "      ),\n",
       "        global_model=GlobalModel(\n",
       "        (global_mlp): Sequential(\n",
       "          (0): Linear(in_features=96, out_features=32, bias=True)\n",
       "          (1): ReLU()\n",
       "        )\n",
       "      )\n",
       "      )\n",
       "      (3): MetaLayer(\n",
       "        edge_model=EdgeModel(\n",
       "        (edge_mlp): Sequential(\n",
       "          (0): Linear(in_features=128, out_features=1, bias=True)\n",
       "        )\n",
       "      ),\n",
       "        node_model=NodeModel(\n",
       "        (node_mlp_1): Sequential(\n",
       "          (0): Linear(in_features=97, out_features=3, bias=True)\n",
       "        )\n",
       "        (node_mlp_2): Sequential(\n",
       "          (0): Linear(in_features=67, out_features=3, bias=True)\n",
       "        )\n",
       "      ),\n",
       "        global_model=GlobalModel(\n",
       "        (global_mlp): Sequential(\n",
       "          (0): Linear(in_features=36, out_features=8, bias=True)\n",
       "        )\n",
       "      )\n",
       "      )\n",
       "    )\n",
       "    (node_norms): ModuleList(\n",
       "      (0-2): 3 x BatchNorm1d(32, eps=1e-05, momentum=0.1, affine=True, track_running_stats=True)\n",
       "    )\n",
       "    (edge_norms): ModuleList(\n",
       "      (0-2): 3 x BatchNorm1d(32, eps=1e-05, momentum=0.1, affine=True, track_running_stats=True)\n",
       "    )\n",
       "    (global_norms): ModuleList(\n",
       "      (0-2): 3 x BatchNorm1d(32, eps=1e-05, momentum=0.1, affine=True, track_running_stats=True)\n",
       "    )\n",
       "  )\n",
       ")"
      ]
     },
     "execution_count": 163,
     "metadata": {},
     "output_type": "execute_result"
    }
   ],
   "source": [
    "class GraphMetaNetwork(nn.Module):\n",
    "    \"\"\"\n",
    "    Wrapper class for the graph metanetwork\n",
    "    \"\"\"\n",
    "\n",
    "    def __init__(self, encoder, mpnn):\n",
    "        super(GraphMetaNetwork, self).__init__()\n",
    "        self.encoder = encoder\n",
    "        self.mpnn = mpnn\n",
    "\n",
    "    def forward(self, data):\n",
    "        x, edge_index, edge_attr, u, batch = (\n",
    "            data.x,\n",
    "            data.edge_index,\n",
    "            data.edge_attr,\n",
    "            data.u,\n",
    "            data.batch,\n",
    "        )\n",
    "        x, edge_attr = self.encoder(x, edge_attr)\n",
    "        x, edge_attr, u = self.mpnn(x, edge_index, edge_attr, u, batch)\n",
    "        return edge_attr\n",
    "\n",
    "\n",
    "# Define the encoder and MPNN\n",
    "pre_embedding_dim = 64\n",
    "global_in_dim = 8\n",
    "hidden_dim = 32\n",
    "node_out_dim = 3\n",
    "edge_out_dim = 1\n",
    "global_out_dim = 8\n",
    "num_gnn_layers = 4\n",
    "encoder = NodeEdgeFeatEncoder(hidden_dim=pre_embedding_dim)\n",
    "mpnn = MPNN(\n",
    "    node_in_dim=pre_embedding_dim,\n",
    "    edge_in_dim=pre_embedding_dim,\n",
    "    global_in_dim=global_in_dim,\n",
    "    hidden_dim=hidden_dim,\n",
    "    node_out_dim=node_out_dim,\n",
    "    edge_out_dim=edge_out_dim,\n",
    "    global_out_dim=global_out_dim,\n",
    "    num_layers=num_gnn_layers,\n",
    "    reduce=\"mean\",\n",
    ")\n",
    "\n",
    "# Create the metanetwork\n",
    "gmn = GraphMetaNetwork(encoder, mpnn)\n",
    "gmn.to(device)"
   ]
  },
  {
   "cell_type": "markdown",
   "metadata": {
    "id": "h0XlrIz2bwdU"
   },
   "source": [
    "If you need to convert the output of the gmn back into a neural network model (i.e., an ```nn.Sequential``` object), please look into ```graph_to_arch``` and ```arch_to_sequential``` functions stored in ```Practice/gmn/graph_construct/model_arch_graph.py```."
   ]
  },
  {
   "cell_type": "code",
   "execution_count": 164,
   "metadata": {
    "id": "AWP8bReMbwdU"
   },
   "outputs": [
    {
     "name": "stderr",
     "output_type": "stream",
     "text": [
      "/tmp/ipykernel_63329/1187309553.py:17: FutureWarning: You are using `torch.load` with `weights_only=False` (the current default value), which uses the default pickle module implicitly. It is possible to construct malicious pickle data which will execute arbitrary code during unpickling (See https://github.com/pytorch/pytorch/blob/main/SECURITY.md#untrusted-models for more details). In a future release, the default value for `weights_only` will be flipped to `True`. This limits the functions that could be executed during unpickling. Arbitrary objects will no longer be allowed to be loaded via this mode unless they are explicitly allowlisted by the user via `torch.serialization.add_safe_globals`. We recommend you start setting `weights_only=True` for any use case where you don't have full control of the loaded file. Please open an issue on GitHub for any issues related to this experimental feature.\n",
      "  weights = torch.load(\"checkpoint/trained_model.pth\")\n"
     ]
    },
    {
     "name": "stdout",
     "output_type": "stream",
     "text": [
      "Model 1 trained\n",
      "Model 2 trained\n",
      "Model 3 trained\n",
      "Model 4 trained\n",
      "Model 5 trained\n",
      "Model 6 trained\n",
      "Model 7 trained\n",
      "Model 8 trained\n",
      "Model 9 trained\n",
      "Model 10 trained\n"
     ]
    }
   ],
   "source": [
    "\"\"\"\n",
    "Add your code below\n",
    "\"\"\"\n",
    "\n",
    "\"\"\"\n",
    "In short, our idea is:\n",
    "\n",
    "1. We have a pre-trained model that we want to unlearn.\n",
    "2. We convert the model into a graph representation.\n",
    "3. We feed the graph representation to the GMNN.\n",
    "4. The GMNN predicts the new parameter graph of the unlearned model.\n",
    "5. We convert the predicted graph back to the model.\n",
    "6. We measure KL-divergence between model predictions and the uniform distribution on the forget set.\n",
    "7. We train the GMNN to provide parameters that minimize the KL-divergence.\n",
    "\"\"\"\n",
    "\n",
    "weights = torch.load(\"checkpoint/trained_model.pth\")\n",
    "model = create_model()\n",
    "model.load_state_dict(weights)\n",
    "device = torch.device(\"cuda\" if torch.cuda.is_available() else \"cpu\")\n",
    "\n",
    "# Now, we want to obtain 10 slightly different models in order to prevent overfitting\n",
    "\n",
    "\n",
    "def obtain_model_set(model, num_models=10):\n",
    "    \"\"\"\n",
    "    Function to obtain a set of models with slightly different parameters,\n",
    "    we perform a single step of gradient descent on the model\n",
    "    \"\"\"\n",
    "\n",
    "    model_set = []\n",
    "\n",
    "    classification_criterion = nn.CrossEntropyLoss()\n",
    "\n",
    "    for _ in range(num_models):\n",
    "        # Create a new model\n",
    "        new_model = create_model()\n",
    "        new_model.load_state_dict(model.state_dict())\n",
    "        new_model.to(device)\n",
    "\n",
    "        # Define the optimizer\n",
    "        optimizer = torch.optim.AdamW(new_model.parameters(), lr=1e-2, amsgrad=True)\n",
    "\n",
    "        # Perform a single step of gradient descent\n",
    "        new_model.train()\n",
    "        for data, targets in retain_loader:\n",
    "            data, targets = data.to(device), targets.to(device)\n",
    "            optimizer.zero_grad()\n",
    "            outputs = new_model(data)\n",
    "            loss = classification_criterion(outputs, targets)\n",
    "            loss.backward()\n",
    "            optimizer.step()\n",
    "\n",
    "        optimizer.zero_grad()  # clear the gradients, lowers memory peak\n",
    "\n",
    "        print(f\"Model {len(model_set)+1} trained\")\n",
    "\n",
    "        model_set.append(new_model)\n",
    "\n",
    "    return model_set\n",
    "\n",
    "\n",
    "model_set = obtain_model_set(model, num_models=10)"
   ]
  },
  {
   "cell_type": "code",
   "execution_count": 165,
   "metadata": {},
   "outputs": [],
   "source": [
    "def model_to_graph(model):\n",
    "    \"\"\"\n",
    "    Function to convert a model to a graph\n",
    "    \"\"\"\n",
    "\n",
    "    arch = sequential_to_arch(model)\n",
    "    x, edge_index, edge_attr = arch_to_graph(arch)\n",
    "    x = x.float()\n",
    "    edge_attr = edge_attr.float()\n",
    "\n",
    "    return Data(x=x, edge_index=edge_index, edge_attr=edge_attr, u=torch.zeros(1, 8))"
   ]
  },
  {
   "cell_type": "code",
   "execution_count": 166,
   "metadata": {},
   "outputs": [],
   "source": [
    "class CifarClassifier(nn.Module):\n",
    "    \"\"\"\n",
    "    Wrapper class for the CIFAR classifier returned by create_model\n",
    "    \"\"\"\n",
    "\n",
    "    def __init__(self):\n",
    "        super(CifarClassifier, self).__init__()\n",
    "        self.model = nn.Sequential(\n",
    "            nn.Conv2d(3, 32, kernel_size=(3, 3), stride=1, padding=1),\n",
    "            nn.BatchNorm2d(32),\n",
    "            nn.ReLU(),\n",
    "            nn.AvgPool2d(kernel_size=2, stride=2),\n",
    "            nn.Dropout(p=0.1),\n",
    "            nn.Conv2d(32, 64, kernel_size=(3, 3), stride=1, padding=1),\n",
    "            nn.BatchNorm2d(64),\n",
    "            nn.ReLU(),\n",
    "            nn.AvgPool2d(kernel_size=2, stride=2),\n",
    "            nn.Dropout(p=0.1),\n",
    "            nn.Conv2d(64, 64, kernel_size=(3, 3), stride=1, padding=1),\n",
    "            nn.BatchNorm2d(64),\n",
    "            nn.ReLU(),\n",
    "            nn.AdaptiveAvgPool2d((1, 1)),\n",
    "            nn.Flatten(),\n",
    "            nn.Dropout(p=0.1),\n",
    "            nn.Linear(64, 32),\n",
    "            nn.ReLU(),\n",
    "            nn.Dropout(p=0.1),\n",
    "            nn.Linear(32, 10),\n",
    "        )\n",
    "\n",
    "    def forward(self, x):\n",
    "        return self.model(x)\n",
    "\n",
    "\n",
    "def graph_out_to_module(out):\n",
    "    \"\"\"\n",
    "    Function to convert the output of the GMN to a module\n",
    "    \"\"\"\n",
    "\n",
    "    model_reconverted = graph_to_arch(sequential_to_arch(create_model()), out)\n",
    "    model_reconverted = arch_to_sequential(model_reconverted, create_model())\n",
    "    model_reconverted\n",
    "\n",
    "    return model_reconverted"
   ]
  },
  {
   "cell_type": "code",
   "execution_count": 167,
   "metadata": {},
   "outputs": [
    {
     "name": "stdout",
     "output_type": "stream",
     "text": [
      "Number of models: 10\n",
      "Number of training models: 8\n",
      "Number of validation models: 2\n"
     ]
    }
   ],
   "source": [
    "# GMNN training\n",
    "\n",
    "BATCH_SIZE = 2\n",
    "EPOCHS = 10\n",
    "\n",
    "assert len(model_set) % BATCH_SIZE == 0\n",
    "assert BATCH_SIZE > 1, \"Batch size must be greater than 1 for training with GMN\"\n",
    "\n",
    "model_graphs = [model_to_graph(model) for model in model_set]\n",
    "batches = [\n",
    "    Batch.from_data_list(model_graphs[i : i + BATCH_SIZE])\n",
    "    for i in range(0, len(model_graphs), BATCH_SIZE)\n",
    "]  # batches of 2 models\n",
    "\n",
    "model_graphs_train = batches[: int(len(batches) * 0.8)]\n",
    "model_graphs_val = batches[int(len(batches) * 0.8) :]\n",
    "\n",
    "print(f\"Number of models: {len(model_graphs)}\")\n",
    "print(f\"Number of training models: {len(model_graphs_train * BATCH_SIZE)}\")\n",
    "print(f\"Number of validation models: {len(model_graphs_val * BATCH_SIZE)}\")\n",
    "\n",
    "\n",
    "def train_gmn_generalized(\n",
    "    gmn,\n",
    "    model_graphs_train,\n",
    "    model_graphs_val,\n",
    "    forget_loader,\n",
    "    forget_loader_val,\n",
    "    meta_optimizer: torch.optim.Optimizer,\n",
    "    criterion,\n",
    "    epochs=10,\n",
    "):\n",
    "\n",
    "    device = torch.device(\"cuda\" if torch.cuda.is_available() else \"cpu\")\n",
    "    gmn.to(device)\n",
    "    gmn.train()\n",
    "\n",
    "    train_losses = [\n",
    "        {\n",
    "            \"model\": i,\n",
    "            \"losses\": [],\n",
    "        }\n",
    "        for i in range(len(model_graphs_train * BATCH_SIZE))\n",
    "    ]\n",
    "    val_losses = [\n",
    "        {\n",
    "            \"model\": i,\n",
    "            \"losses\": [],\n",
    "        }\n",
    "        for i in range(len(model_graphs_val * BATCH_SIZE))\n",
    "    ]\n",
    "\n",
    "    print(\"Loss dict: \", train_losses)\n",
    "    print(\"Loss dict: \", val_losses)\n",
    "\n",
    "    for epoch in range(epochs):\n",
    "\n",
    "        # Training\n",
    "        gmn.train()\n",
    "\n",
    "        for i, batch in enumerate(\n",
    "            tqdm(\n",
    "                model_graphs_train,\n",
    "                desc=f\"Epoch {epoch+1}/{epochs}, Training\",\n",
    "                leave=False,\n",
    "            )\n",
    "        ):\n",
    "            meta_optimizer.zero_grad()\n",
    "            # obtained unlearned model from meta-network\n",
    "            batch.to(device)\n",
    "            _, models, _, _ = gmn(batch)\n",
    "            # convert the output of the GMN to a module\n",
    "            models = models.view(BATCH_SIZE, -1, 1)  # last 1 is the feature dimension\n",
    "\n",
    "            meta_optimizer.zero_grad(set_to_none=True)\n",
    "\n",
    "            for j, model in enumerate(models):\n",
    "                model = graph_out_to_module(model)\n",
    "                model.to(device)\n",
    "\n",
    "                # use model on forget data to obtain gradients for meta-network\n",
    "                batch_loss = 0\n",
    "                for data, targets in forget_loader:\n",
    "                    data, targets = data.to(device), targets.to(device)\n",
    "\n",
    "                    outputs = model(data)\n",
    "                    loss = criterion(\n",
    "                        F.log_softmax(outputs, dim=1), make_target(targets)\n",
    "                    )\n",
    "\n",
    "                    loss.backward()\n",
    "                    batch_loss += loss.item()\n",
    "\n",
    "                meta_optimizer.step()\n",
    "                train_losses[i * BATCH_SIZE + j][\"losses\"].append(batch_loss)\n",
    "\n",
    "        # Validation\n",
    "        gmn.eval()\n",
    "\n",
    "        with torch.no_grad():\n",
    "            for batch in model_graphs_val:\n",
    "                batch.to(device)\n",
    "                models = gmn(batch)\n",
    "                models = models.view(BATCH_SIZE, -1, 1)\n",
    "\n",
    "                for i, model in enumerate(models):\n",
    "                    model = graph_out_to_module(model)\n",
    "                    model.to(device)\n",
    "\n",
    "                    batch_loss = 0\n",
    "                    for data, targets in forget_loader_val:\n",
    "                        data, targets = data.to(device), targets.to(device)\n",
    "\n",
    "                        outputs = model(data)\n",
    "                        loss = criterion(\n",
    "                            F.log_softmax(outputs, dim=1), make_target(targets)\n",
    "                        )\n",
    "\n",
    "                        batch_loss += loss.item()\n",
    "\n",
    "                    val_losses[i][\"losses\"].append(batch_loss)\n",
    "\n",
    "        mean_train_losses = [np.mean(loss[\"losses\"]) for loss in train_losses]\n",
    "        mean_val_losses = [np.mean(loss[\"losses\"]) for loss in val_losses]\n",
    "\n",
    "        print(\n",
    "            f\"Epoch {epoch+1}/{epochs}, Training Loss: {mean_train_losses}, Validation Loss: {mean_val_losses}\"\n",
    "        )\n",
    "\n",
    "    return gmn, train_losses, val_losses"
   ]
  },
  {
   "cell_type": "code",
   "execution_count": null,
   "metadata": {},
   "outputs": [
    {
     "name": "stdout",
     "output_type": "stream",
     "text": [
      "Loss dict:  [{'model': 0, 'losses': []}, {'model': 1, 'losses': []}, {'model': 2, 'losses': []}, {'model': 3, 'losses': []}, {'model': 4, 'losses': []}, {'model': 5, 'losses': []}, {'model': 6, 'losses': []}, {'model': 7, 'losses': []}]\n",
      "Loss dict:  [{'model': 0, 'losses': []}, {'model': 1, 'losses': []}]\n"
     ]
    },
    {
     "name": "stderr",
     "output_type": "stream",
     "text": [
      "                                                           \r"
     ]
    },
    {
     "ename": "ValueError",
     "evalue": "too many values to unpack (expected 4)",
     "output_type": "error",
     "traceback": [
      "\u001b[0;31m---------------------------------------------------------------------------\u001b[0m",
      "\u001b[0;31mValueError\u001b[0m                                Traceback (most recent call last)",
      "Cell \u001b[0;32mIn[19], line 8\u001b[0m\n\u001b[1;32m      4\u001b[0m \u001b[38;5;28;01mimport\u001b[39;00m \u001b[38;5;21;01mgc\u001b[39;00m\n\u001b[1;32m      6\u001b[0m gc\u001b[38;5;241m.\u001b[39mcollect()\n\u001b[0;32m----> 8\u001b[0m trained_gmn, losses_train, losses_val \u001b[38;5;241m=\u001b[39m \u001b[43mtrain_gmn_generalized\u001b[49m\u001b[43m(\u001b[49m\n\u001b[1;32m      9\u001b[0m \u001b[43m    \u001b[49m\u001b[43mgmn\u001b[49m\u001b[38;5;241;43m=\u001b[39;49m\u001b[43mgmn\u001b[49m\u001b[43m,\u001b[49m\n\u001b[1;32m     10\u001b[0m \u001b[43m    \u001b[49m\u001b[43mmodel_graphs_train\u001b[49m\u001b[38;5;241;43m=\u001b[39;49m\u001b[43mmodel_graphs_train\u001b[49m\u001b[43m,\u001b[49m\n\u001b[1;32m     11\u001b[0m \u001b[43m    \u001b[49m\u001b[43mmodel_graphs_val\u001b[49m\u001b[38;5;241;43m=\u001b[39;49m\u001b[43mmodel_graphs_val\u001b[49m\u001b[43m,\u001b[49m\n\u001b[1;32m     12\u001b[0m \u001b[43m    \u001b[49m\u001b[43mforget_loader\u001b[49m\u001b[38;5;241;43m=\u001b[39;49m\u001b[43mforget_loader\u001b[49m\u001b[43m,\u001b[49m\n\u001b[1;32m     13\u001b[0m \u001b[43m    \u001b[49m\u001b[43mforget_loader_val\u001b[49m\u001b[38;5;241;43m=\u001b[39;49m\u001b[43mforget_loader_val\u001b[49m\u001b[43m,\u001b[49m\n\u001b[1;32m     14\u001b[0m \u001b[43m    \u001b[49m\u001b[43mmeta_optimizer\u001b[49m\u001b[38;5;241;43m=\u001b[39;49m\u001b[43moptimizer_downstream\u001b[49m\u001b[43m,\u001b[49m\n\u001b[1;32m     15\u001b[0m \u001b[43m    \u001b[49m\u001b[43mcriterion\u001b[49m\u001b[38;5;241;43m=\u001b[39;49m\u001b[43mcriterion\u001b[49m\u001b[43m,\u001b[49m\n\u001b[1;32m     16\u001b[0m \u001b[43m    \u001b[49m\u001b[43mepochs\u001b[49m\u001b[38;5;241;43m=\u001b[39;49m\u001b[43mEPOCHS\u001b[49m\u001b[43m,\u001b[49m\n\u001b[1;32m     17\u001b[0m \u001b[43m)\u001b[49m\n\u001b[1;32m     19\u001b[0m \u001b[38;5;66;03m# clearly fails due to non-differentiability of the model_arch_graph.py functions\u001b[39;00m\n\u001b[1;32m     20\u001b[0m \u001b[38;5;66;03m# we need a method that can incorporate a non-differentiable graph-to-network transition for downstream tasks\u001b[39;00m\n",
      "Cell \u001b[0;32mIn[18], line 76\u001b[0m, in \u001b[0;36mtrain_gmn_generalized\u001b[0;34m(gmn, model_graphs_train, model_graphs_val, forget_loader, forget_loader_val, meta_optimizer, criterion, epochs)\u001b[0m\n\u001b[1;32m     74\u001b[0m \u001b[38;5;66;03m# obtained unlearned model from meta-network\u001b[39;00m\n\u001b[1;32m     75\u001b[0m batch\u001b[38;5;241m.\u001b[39mto(device)\n\u001b[0;32m---> 76\u001b[0m _, models, _, _ \u001b[38;5;241m=\u001b[39m gmn(batch)\n\u001b[1;32m     77\u001b[0m \u001b[38;5;66;03m# convert the output of the GMN to a module\u001b[39;00m\n\u001b[1;32m     78\u001b[0m models \u001b[38;5;241m=\u001b[39m models\u001b[38;5;241m.\u001b[39mview(BATCH_SIZE, \u001b[38;5;241m-\u001b[39m\u001b[38;5;241m1\u001b[39m, \u001b[38;5;241m1\u001b[39m)  \u001b[38;5;66;03m# last 1 is the feature dimension\u001b[39;00m\n",
      "\u001b[0;31mValueError\u001b[0m: too many values to unpack (expected 4)"
     ]
    }
   ],
   "source": [
    "# flush CUDA memory\n",
    "torch.cuda.empty_cache()\n",
    "\n",
    "import gc\n",
    "\n",
    "gc.collect()\n",
    "\n",
    "trained_gmn, losses_train, losses_val = train_gmn_generalized(\n",
    "    gmn=gmn,\n",
    "    model_graphs_train=model_graphs_train,\n",
    "    model_graphs_val=model_graphs_val,\n",
    "    forget_loader=forget_loader,\n",
    "    forget_loader_val=forget_loader_val,\n",
    "    meta_optimizer=torch.optim.Adam(gmn.parameters(), lr=1e-4),\n",
    "    criterion=nn.KLDivLoss(reduction=\"batchmean\"),\n",
    "    epochs=EPOCHS,\n",
    ")\n",
    "\n",
    "# clearly fails due to non-differentiability of the model_arch_graph.py functions\n",
    "# we need a method that can incorporate a non-differentiable graph-to-network transition for downstream tasks"
   ]
  },
  {
   "cell_type": "code",
   "execution_count": 168,
   "metadata": {},
   "outputs": [
    {
     "data": {
      "text/plain": [
       "980"
      ]
     },
     "execution_count": 168,
     "metadata": {},
     "output_type": "execute_result"
    }
   ],
   "source": [
    "# flush CUDA memory\n",
    "torch.cuda.empty_cache()\n",
    "\n",
    "import gc\n",
    "\n",
    "gc.collect()"
   ]
  },
  {
   "cell_type": "code",
   "execution_count": 183,
   "metadata": {},
   "outputs": [],
   "source": [
    "from typing import List, Callable\n",
    "\n",
    "\n",
    "def train_gmn_mock_optimizer(\n",
    "    gmn,\n",
    "    model_graphs_train,\n",
    "    model_graphs_val,\n",
    "    forget_loader,\n",
    "    forget_loader_val,\n",
    "    meta_optimizer: torch.optim.Optimizer,\n",
    "    downstream_optimizer_factory: Callable[[nn.Module], torch.optim.Optimizer],\n",
    "    downstream_criterion,\n",
    "    meta_norm,\n",
    "    epochs=10,\n",
    "):\n",
    "\n",
    "    import torchviz\n",
    "\n",
    "    device = torch.device(\"cuda\" if torch.cuda.is_available() else \"cpu\")\n",
    "    gmn.to(device)\n",
    "    gmn.train()\n",
    "\n",
    "    train_losses_meta = []\n",
    "    train_losses_downstream = [\n",
    "        {\n",
    "            \"model\": i,\n",
    "            \"losses\": [],\n",
    "        }\n",
    "        for i in range(len(model_graphs_train * BATCH_SIZE))\n",
    "    ]\n",
    "    val_losses_meta = []\n",
    "    val_losses_downstream = [\n",
    "        {\n",
    "            \"model\": i,\n",
    "            \"losses\": [],\n",
    "        }\n",
    "        for i in range(len(model_graphs_val * BATCH_SIZE))\n",
    "    ]\n",
    "\n",
    "    for epoch in range(epochs):\n",
    "\n",
    "        # Training\n",
    "        gmn.train()\n",
    "\n",
    "        for i, batch in enumerate(\n",
    "            tqdm(\n",
    "                model_graphs_train,\n",
    "                desc=f\"Epoch {epoch+1}/{epochs}, Training\",\n",
    "                leave=False,\n",
    "            )\n",
    "        ):\n",
    "            # obtained unlearned model from meta-network\n",
    "            batch.to(device).detach().requires_grad_(True)\n",
    "            models = gmn(batch)\n",
    "            # convert the output of the GMN to a module\n",
    "            models = models.view(BATCH_SIZE, -1, 1)  # last 1 is the feature dimension\n",
    "\n",
    "            out_models = torch.empty((BATCH_SIZE, models.size(1), 1), device=device)\n",
    "\n",
    "            for j, model in enumerate(models):\n",
    "\n",
    "                model_original = model.clone().detach()\n",
    "\n",
    "                model = graph_out_to_module(model_original)  # gradients are lost here\n",
    "                model.to(device, non_blocking=True)\n",
    "\n",
    "                opt = downstream_optimizer_factory(model)\n",
    "\n",
    "                # train model on downstream task to further modify the model in the direction of unlearning\n",
    "                batch_loss = 0\n",
    "                for data, targets in forget_loader:\n",
    "                    data, targets = data.to(device, non_blocking=True), targets.to(\n",
    "                        device\n",
    "                    )\n",
    "\n",
    "                    outputs = model(data)\n",
    "                    loss = downstream_criterion(\n",
    "                        F.log_softmax(outputs, dim=1), make_target(targets)\n",
    "                    )\n",
    "\n",
    "                    opt.zero_grad()\n",
    "\n",
    "                    loss.backward()\n",
    "                    opt.step()\n",
    "                    batch_loss += loss.item()\n",
    "\n",
    "                    opt.zero_grad()  # just to be sure, our training procedure is *weird*\n",
    "\n",
    "                batch_loss /= len(forget_loader)\n",
    "                # obtain meta-loss as the difference between trained model weights and the output of the GMN\n",
    "\n",
    "                graph_trained = model_to_graph(model)\n",
    "                # extract_params\n",
    "                new_params = graph_trained.edge_attr[:, 0].view(-1, 1).to(device)\n",
    "\n",
    "                out_models[j] = new_params\n",
    "                train_losses_downstream[i * BATCH_SIZE + j][\"losses\"].append(batch_loss)\n",
    "\n",
    "            # make it so out_models is like a constant to autograd\n",
    "            out_models = out_models.detach()\n",
    "            meta_loss = meta_norm(models, out_models)\n",
    "\n",
    "            meta_optimizer.zero_grad()\n",
    "            meta_loss.backward()\n",
    "            meta_optimizer.step()\n",
    "\n",
    "            train_losses_meta.append(meta_loss.item())\n",
    "\n",
    "        mean_train_losses = np.mean(\n",
    "            [np.mean(loss[\"losses\"]) for loss in train_losses_downstream]\n",
    "        )\n",
    "\n",
    "        print(\n",
    "            f\"Epoch {epoch+1}/{epochs}, Training Loss: {mean_train_losses}, Meta Loss: {np.mean(train_losses_meta)}\"\n",
    "        )\n",
    "\n",
    "        # Validation\n",
    "        gmn.eval()\n",
    "\n",
    "        with torch.no_grad():\n",
    "\n",
    "            for i, batch in enumerate(model_graphs_val):\n",
    "                batch.to(device)\n",
    "                models = gmn(batch)\n",
    "                models = models.view(BATCH_SIZE, -1, 1)\n",
    "\n",
    "                out_models = torch.empty((BATCH_SIZE, models.size(1), 1), device=device)\n",
    "\n",
    "                for j, model in enumerate(models):\n",
    "                    model_original = model.clone().detach()\n",
    "\n",
    "                    model = graph_out_to_module(model_original)\n",
    "                    model.to(device)\n",
    "                    model.eval()\n",
    "\n",
    "                    batch_loss = 0\n",
    "                    for data, targets in forget_loader_val:\n",
    "                        # use different data cause why not, but we must train this network\n",
    "                        # to validate the meta-network\n",
    "                        data, targets = data.to(device), targets.to(device)\n",
    "\n",
    "                        outputs = model(data)\n",
    "                        loss = downstream_criterion(\n",
    "                            F.log_softmax(outputs, dim=1), make_target(targets)\n",
    "                        )\n",
    "\n",
    "                        batch_loss += loss.item()\n",
    "\n",
    "                    batch_loss /= len(forget_loader_val)\n",
    "                    graph_trained = model_to_graph(model)\n",
    "                    new_params = graph_trained.edge_attr[:, 0].view(-1, 1).to(device)\n",
    "\n",
    "                    out_models[j] = new_params\n",
    "\n",
    "                    val_losses_downstream[i * BATCH_SIZE + j][\"losses\"].append(\n",
    "                        batch_loss\n",
    "                    )\n",
    "\n",
    "                out_models = out_models.detach()\n",
    "                meta_loss = meta_norm(models, out_models)\n",
    "                val_losses_meta.append(meta_loss.item())\n",
    "\n",
    "        mean_val_losses = np.mean(\n",
    "            [np.mean(loss[\"losses\"]) for loss in val_losses_downstream]\n",
    "        )\n",
    "\n",
    "        print(\n",
    "            f\"Epoch {epoch+1}/{epochs}, Validation Loss: {mean_val_losses}, Meta Loss: {np.mean(val_losses_meta)}\"\n",
    "        )\n",
    "\n",
    "    return (\n",
    "        gmn,\n",
    "        train_losses_downstream,\n",
    "        val_losses_downstream,\n",
    "        train_losses_meta,\n",
    "        val_losses_meta,\n",
    "    )\n",
    "\n",
    "\n",
    "def create_optimizer(model, lr=1e-4):\n",
    "    \"\"\"\n",
    "    Function to create an optimizer for the model\n",
    "    \"\"\"\n",
    "    return torch.optim.AdamW(model.parameters(), lr=lr, amsgrad=True)"
   ]
  },
  {
   "cell_type": "code",
   "execution_count": 170,
   "metadata": {},
   "outputs": [
    {
     "name": "stderr",
     "output_type": "stream",
     "text": [
      "Epoch 1/10, Training:   0%|          | 0/4 [00:00<?, ?it/s]"
     ]
    },
    {
     "name": "stderr",
     "output_type": "stream",
     "text": [
      "                                                                   \r"
     ]
    },
    {
     "name": "stdout",
     "output_type": "stream",
     "text": [
      "Epoch 1/10, Training Loss: 2.893961289059371, Meta Loss: 3.999264349546783e-08\n",
      "Epoch 1/10, Validation Loss: 1.7061828998521378e-06, Meta Loss: 0.0\n"
     ]
    },
    {
     "name": "stderr",
     "output_type": "stream",
     "text": [
      "                                                                   \r"
     ]
    },
    {
     "name": "stdout",
     "output_type": "stream",
     "text": [
      "Epoch 2/10, Training Loss: 1.4773927269736304, Meta Loss: 2.0045022499498577e-08\n",
      "Epoch 2/10, Validation Loss: 3.2467227981669566e-06, Meta Loss: 0.0\n"
     ]
    },
    {
     "name": "stderr",
     "output_type": "stream",
     "text": [
      "                                                                   \r"
     ]
    },
    {
     "name": "stdout",
     "output_type": "stream",
     "text": [
      "Epoch 3/10, Training Loss: 0.9989720781954625, Meta Loss: 1.3395904623995461e-08\n",
      "Epoch 3/10, Validation Loss: 5.431506813617186e-05, Meta Loss: 0.0\n"
     ]
    },
    {
     "name": "stderr",
     "output_type": "stream",
     "text": [
      "                                                                   \r"
     ]
    },
    {
     "name": "stdout",
     "output_type": "stream",
     "text": [
      "Epoch 4/10, Training Loss: 0.7619569517322815, Meta Loss: 1.0071350642348875e-08\n",
      "Epoch 4/10, Validation Loss: 0.0022629238853681954, Meta Loss: 0.0\n"
     ]
    },
    {
     "name": "stderr",
     "output_type": "stream",
     "text": [
      "                                                                   \r"
     ]
    },
    {
     "name": "stdout",
     "output_type": "stream",
     "text": [
      "Epoch 5/10, Training Loss: 0.6181830634456128, Meta Loss: 8.076297465173244e-09\n",
      "Epoch 5/10, Validation Loss: 0.022098557293600152, Meta Loss: 0.0\n"
     ]
    },
    {
     "name": "stderr",
     "output_type": "stream",
     "text": [
      "                                                                   \r"
     ]
    },
    {
     "name": "stdout",
     "output_type": "stream",
     "text": [
      "Epoch 6/10, Training Loss: 0.5196682075814655, Meta Loss: 6.74581883177335e-09\n",
      "Epoch 6/10, Validation Loss: 0.02651298419898277, Meta Loss: 0.0\n"
     ]
    },
    {
     "name": "stderr",
     "output_type": "stream",
     "text": [
      "                                                                   \r"
     ]
    },
    {
     "name": "stdout",
     "output_type": "stream",
     "text": [
      "Epoch 7/10, Training Loss: 0.4483915851717549, Meta Loss: 5.7953823620020865e-09\n",
      "Epoch 7/10, Validation Loss: 0.02321704795796872, Meta Loss: 0.0\n"
     ]
    },
    {
     "name": "stderr",
     "output_type": "stream",
     "text": [
      "                                                                   \r"
     ]
    },
    {
     "name": "stdout",
     "output_type": "stream",
     "text": [
      "Epoch 8/10, Training Loss: 0.3944896789093036, Meta Loss: 5.082411286315772e-09\n",
      "Epoch 8/10, Validation Loss: 0.02149893060629182, Meta Loss: 0.0\n"
     ]
    },
    {
     "name": "stderr",
     "output_type": "stream",
     "text": [
      "                                                                   \r"
     ]
    },
    {
     "name": "stdout",
     "output_type": "stream",
     "text": [
      "Epoch 9/10, Training Loss: 0.3520174999022856, Meta Loss: 4.5277448719306514e-09\n",
      "Epoch 9/10, Validation Loss: 0.021962341252920698, Meta Loss: 0.0\n"
     ]
    },
    {
     "name": "stderr",
     "output_type": "stream",
     "text": [
      "                                                                    \r"
     ]
    },
    {
     "name": "stdout",
     "output_type": "stream",
     "text": [
      "Epoch 10/10, Training Loss: 0.31783909877645783, Meta Loss: 4.083874838821389e-09\n",
      "Epoch 10/10, Validation Loss: 0.025297748782298866, Meta Loss: 0.0\n"
     ]
    }
   ],
   "source": [
    "torch.autograd.set_detect_anomaly(True)\n",
    "\n",
    "(\n",
    "    gmn,\n",
    "    train_losses_downstream,\n",
    "    val_losses_downstream,\n",
    "    train_losses_meta,\n",
    "    val_losses_meta,\n",
    ") = train_gmn_mock_optimizer(\n",
    "    gmn=gmn,\n",
    "    model_graphs_train=model_graphs_train,\n",
    "    model_graphs_val=model_graphs_val,\n",
    "    forget_loader=forget_loader,\n",
    "    forget_loader_val=forget_loader_val,\n",
    "    meta_optimizer=create_optimizer(gmn),\n",
    "    downstream_optimizer_factory=create_optimizer,\n",
    "    downstream_criterion=nn.KLDivLoss(reduction=\"batchmean\"),\n",
    "    meta_norm=F.huber_loss,\n",
    "    epochs=EPOCHS,\n",
    ")"
   ]
  },
  {
   "cell_type": "markdown",
   "metadata": {},
   "source": [
    "#### Post-training: Unlearning a model with GMN"
   ]
  },
  {
   "cell_type": "code",
   "execution_count": 171,
   "metadata": {},
   "outputs": [
    {
     "name": "stderr",
     "output_type": "stream",
     "text": [
      "Clipping input data to the valid range for imshow with RGB data ([0..1] for floats or [0..255] for integers). Got range [-1.4653468..2.0708318].\n"
     ]
    },
    {
     "name": "stdout",
     "output_type": "stream",
     "text": [
      "Random model: 430\n"
     ]
    },
    {
     "data": {
      "image/png": "[encoded data removed]",
      "text/plain": [
       "<Figure size 640x480 with 1 Axes>"
      ]
     },
     "metadata": {},
     "output_type": "display_data"
    }
   ],
   "source": [
    "import random\n",
    "\n",
    "random_num = random.randint(0, len(forget_loader_val.dataset))\n",
    "print(f\"Random model: {random_num}\")\n",
    "airplane_sample, _ = forget_loader_val.dataset[random_num]\n",
    "airplane_sample = airplane_sample.to(device)\n",
    "# show  in BGR\n",
    "plt.imshow(airplane_sample.permute(1, 2, 0).cpu().numpy())\n",
    "plt.show()"
   ]
  },
  {
   "cell_type": "code",
   "execution_count": 172,
   "metadata": {},
   "outputs": [
    {
     "name": "stderr",
     "output_type": "stream",
     "text": [
      "/tmp/ipykernel_63329/3587710113.py:1: FutureWarning: You are using `torch.load` with `weights_only=False` (the current default value), which uses the default pickle module implicitly. It is possible to construct malicious pickle data which will execute arbitrary code during unpickling (See https://github.com/pytorch/pytorch/blob/main/SECURITY.md#untrusted-models for more details). In a future release, the default value for `weights_only` will be flipped to `True`. This limits the functions that could be executed during unpickling. Arbitrary objects will no longer be allowed to be loaded via this mode unless they are explicitly allowlisted by the user via `torch.serialization.add_safe_globals`. We recommend you start setting `weights_only=True` for any use case where you don't have full control of the loaded file. Please open an issue on GitHub for any issues related to this experimental feature.\n",
      "  weights = torch.load(\"checkpoint/trained_model.pth\")\n"
     ]
    }
   ],
   "source": [
    "weights = torch.load(\"checkpoint/trained_model.pth\")\n",
    "model = create_model()\n",
    "model.load_state_dict(weights)\n",
    "model.eval().to(device)\n",
    "\n",
    "# get the output of the model\n",
    "model_output = model(airplane_sample.unsqueeze(0).to(device))"
   ]
  },
  {
   "cell_type": "code",
   "execution_count": 173,
   "metadata": {},
   "outputs": [
    {
     "data": {
      "text/plain": [
       "torch.Size([1, 10])"
      ]
     },
     "execution_count": 173,
     "metadata": {},
     "output_type": "execute_result"
    }
   ],
   "source": [
    "model_output.shape"
   ]
  },
  {
   "cell_type": "markdown",
   "metadata": {},
   "source": [
    "For most random inputs, the distribution down here will clearly show a preference for 0 (Airplane)"
   ]
  },
  {
   "cell_type": "code",
   "execution_count": 174,
   "metadata": {},
   "outputs": [
    {
     "name": "stdout",
     "output_type": "stream",
     "text": [
      "tensor([[0.6865, 0.0044, 0.0964, 0.0073, 0.0120, 0.0041, 0.0022, 0.0010, 0.1853,\n",
      "         0.0007]], device='cuda:0', grad_fn=<SoftmaxBackward0>)\n",
      "Predicted class: 0\n"
     ]
    }
   ],
   "source": [
    "model_output = F.softmax(model_output, dim=1)\n",
    "print(model_output)\n",
    "predicted_class = torch.argmax(model_output, dim=1).item()\n",
    "print(f\"Predicted class: {predicted_class}\")"
   ]
  },
  {
   "cell_type": "code",
   "execution_count": 175,
   "metadata": {},
   "outputs": [],
   "source": [
    "input_graph = model_to_graph(model)\n",
    "input_batch = Batch.from_data_list([input_graph]).to(device)\n",
    "\n",
    "gmn.eval()\n",
    "with torch.no_grad():\n",
    "    output_graph = gmn(input_batch)\n",
    "\n",
    "    out_model = graph_out_to_module(output_graph)"
   ]
  },
  {
   "cell_type": "code",
   "execution_count": 176,
   "metadata": {},
   "outputs": [],
   "source": [
    "out_model.to(device)\n",
    "out_model_output = out_model(airplane_sample.unsqueeze(0).to(device))"
   ]
  },
  {
   "cell_type": "markdown",
   "metadata": {},
   "source": [
    "The unlearned distribution here should be *almost* uniform, with a slight preference for some classes. This is because the GMN is not perfect, and it is not guaranteed that the model will forget the class completely. However, the distribution should be significantly different from the original one."
   ]
  },
  {
   "cell_type": "code",
   "execution_count": 177,
   "metadata": {},
   "outputs": [
    {
     "name": "stdout",
     "output_type": "stream",
     "text": [
      "Predicted class: 7\n",
      "tensor([[0.0665, 0.0576, 0.0803, 0.1137, 0.0931, 0.0820, 0.1330, 0.1707, 0.1357,\n",
      "         0.0674]], device='cuda:0', grad_fn=<SoftmaxBackward0>)\n"
     ]
    }
   ],
   "source": [
    "out_distribution = F.softmax(out_model_output, dim=1)\n",
    "out_predicted_class = torch.argmax(out_distribution, dim=1).item()\n",
    "print(f\"Predicted class: {out_predicted_class}\")\n",
    "print(out_distribution)"
   ]
  },
  {
   "cell_type": "code",
   "execution_count": 178,
   "metadata": {},
   "outputs": [],
   "source": [
    "import seaborn as sns\n",
    "import pandas as pd\n",
    "\n",
    "df = pd.DataFrame(\n",
    "    train_losses_downstream + val_losses_downstream,\n",
    "    columns=[\"model\", \"losses\"],\n",
    ")"
   ]
  },
  {
   "cell_type": "code",
   "execution_count": 179,
   "metadata": {},
   "outputs": [
    {
     "name": "stderr",
     "output_type": "stream",
     "text": [
      "/tmp/ipykernel_63329/2888028891.py:1: FutureWarning: Setting an item of incompatible dtype is deprecated and will raise an error in a future version of pandas. Value 'train' has dtype incompatible with int64, please explicitly cast to a compatible dtype first.\n",
      "  df.iloc[: len(train_losses_downstream), 0] = \"train\"\n"
     ]
    }
   ],
   "source": [
    "df.iloc[: len(train_losses_downstream), 0] = \"train\"\n",
    "df.iloc[len(train_losses_downstream) :, 0] = \"val\"\n",
    "df[\"index\"] = df.index"
   ]
  },
  {
   "cell_type": "code",
   "execution_count": 180,
   "metadata": {},
   "outputs": [
    {
     "data": {
      "text/html": [
       "<div>\n",
       "<style scoped>\n",
       "    .dataframe tbody tr th:only-of-type {\n",
       "        vertical-align: middle;\n",
       "    }\n",
       "\n",
       "    .dataframe tbody tr th {\n",
       "        vertical-align: top;\n",
       "    }\n",
       "\n",
       "    .dataframe thead th {\n",
       "        text-align: right;\n",
       "    }\n",
       "</style>\n",
       "<table border=\"1\" class=\"dataframe\">\n",
       "  <thead>\n",
       "    <tr style=\"text-align: right;\">\n",
       "      <th></th>\n",
       "      <th>model</th>\n",
       "      <th>losses</th>\n",
       "      <th>index</th>\n",
       "    </tr>\n",
       "  </thead>\n",
       "  <tbody>\n",
       "    <tr>\n",
       "      <th>0</th>\n",
       "      <td>train</td>\n",
       "      <td>[0.8243633151054383, 0.09068160206079483, 0.04...</td>\n",
       "      <td>0</td>\n",
       "    </tr>\n",
       "    <tr>\n",
       "      <th>1</th>\n",
       "      <td>train</td>\n",
       "      <td>[0.9352982461452484, 0.08672427982091904, 0.03...</td>\n",
       "      <td>1</td>\n",
       "    </tr>\n",
       "    <tr>\n",
       "      <th>2</th>\n",
       "      <td>train</td>\n",
       "      <td>[20.437099075317384, 0.0642934113740921, 0.035...</td>\n",
       "      <td>2</td>\n",
       "    </tr>\n",
       "    <tr>\n",
       "      <th>3</th>\n",
       "      <td>train</td>\n",
       "      <td>[0.3323924332857132, 0.06388577967882156, 0.04...</td>\n",
       "      <td>3</td>\n",
       "    </tr>\n",
       "    <tr>\n",
       "      <th>4</th>\n",
       "      <td>train</td>\n",
       "      <td>[0.19092334657907487, 0.049803464114665984, 0....</td>\n",
       "      <td>4</td>\n",
       "    </tr>\n",
       "    <tr>\n",
       "      <th>5</th>\n",
       "      <td>train</td>\n",
       "      <td>[0.19433929920196533, 0.050828490778803824, 0....</td>\n",
       "      <td>5</td>\n",
       "    </tr>\n",
       "    <tr>\n",
       "      <th>6</th>\n",
       "      <td>train</td>\n",
       "      <td>[0.12088969200849534, 0.040527984499931335, 0....</td>\n",
       "      <td>6</td>\n",
       "    </tr>\n",
       "    <tr>\n",
       "      <th>7</th>\n",
       "      <td>train</td>\n",
       "      <td>[0.11638490483164787, 0.03984830677509308, 0.0...</td>\n",
       "      <td>7</td>\n",
       "    </tr>\n",
       "    <tr>\n",
       "      <th>8</th>\n",
       "      <td>val</td>\n",
       "      <td>[1.654028835673671e-06, 4.786747922480572e-06,...</td>\n",
       "      <td>8</td>\n",
       "    </tr>\n",
       "    <tr>\n",
       "      <th>9</th>\n",
       "      <td>val</td>\n",
       "      <td>[1.7583369640306046e-06, 4.787777470482979e-06...</td>\n",
       "      <td>9</td>\n",
       "    </tr>\n",
       "  </tbody>\n",
       "</table>\n",
       "</div>"
      ],
      "text/plain": [
       "   model                                             losses  index\n",
       "0  train  [0.8243633151054383, 0.09068160206079483, 0.04...      0\n",
       "1  train  [0.9352982461452484, 0.08672427982091904, 0.03...      1\n",
       "2  train  [20.437099075317384, 0.0642934113740921, 0.035...      2\n",
       "3  train  [0.3323924332857132, 0.06388577967882156, 0.04...      3\n",
       "4  train  [0.19092334657907487, 0.049803464114665984, 0....      4\n",
       "5  train  [0.19433929920196533, 0.050828490778803824, 0....      5\n",
       "6  train  [0.12088969200849534, 0.040527984499931335, 0....      6\n",
       "7  train  [0.11638490483164787, 0.03984830677509308, 0.0...      7\n",
       "8    val  [1.654028835673671e-06, 4.786747922480572e-06,...      8\n",
       "9    val  [1.7583369640306046e-06, 4.787777470482979e-06...      9"
      ]
     },
     "execution_count": 180,
     "metadata": {},
     "output_type": "execute_result"
    }
   ],
   "source": [
    "df.reset_index(drop=True, inplace=True)\n",
    "df"
   ]
  },
  {
   "cell_type": "code",
   "execution_count": 181,
   "metadata": {},
   "outputs": [],
   "source": [
    "# explode the losses list\n",
    "df = df.explode(\"losses\")\n",
    "df[\"epoch\"] = df.groupby(\"index\").cumcount()"
   ]
  },
  {
   "cell_type": "code",
   "execution_count": 182,
   "metadata": {},
   "outputs": [
    {
     "data": {
      "text/plain": [
       "<Axes: xlabel='epoch', ylabel='losses'>"
      ]
     },
     "execution_count": 182,
     "metadata": {},
     "output_type": "execute_result"
    },
    {
     "data": {
      "image/png": "[encoded data removed]",
      "text/plain": [
       "<Figure size 640x480 with 1 Axes>"
      ]
     },
     "metadata": {},
     "output_type": "display_data"
    }
   ],
   "source": [
    "sns.lineplot(data=df, x=\"epoch\", y=\"losses\", hue=\"model\")"
   ]
  },
  {
   "cell_type": "markdown",
   "metadata": {
    "id": "e3-hG7VvbwdU"
   },
   "source": [
    "## Report\n",
    "\n",
    "..."
   ]
  }
 ],
 "metadata": {
  "accelerator": "GPU",
  "colab": {
   "gpuType": "T4",
   "provenance": []
  },
  "kernelspec": {
   "display_name": ".venv",
   "language": "python",
   "name": "python3"
  },
  "language_info": {
   "codemirror_mode": {
    "name": "ipython",
    "version": 3
   },
   "file_extension": ".py",
   "mimetype": "text/x-python",
   "name": "python",
   "nbconvert_exporter": "python",
   "pygments_lexer": "ipython3",
   "version": "3.11.10"
  }
 },
 "nbformat": 4,
 "nbformat_minor": 0
}
