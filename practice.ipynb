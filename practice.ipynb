{
  "cells": [
    {
      "cell_type": "markdown",
      "metadata": {
        "id": "j4rXGPnTFd6P"
      },
      "source": [
        "# AML Homework 3: Practice\n"
      ]
    },
    {
      "cell_type": "markdown",
      "metadata": {
        "id": "ITKCtGqpFd6T"
      },
      "source": [
        "## Table of contents:\n",
        "This notebook is composed of 7 Sections for 17 points\n",
        "\n",
        "* **Section 1: Train a CNN from Scratch on CIFAR-10 ( 2 Points)**\n",
        "\n",
        "    We will implement a Convolutional Neural Network (CNN) from the ground up to classify images from the CIFAR-10 dataset. The focus will be on understanding the architecture of CNNs, preprocessing the dataset, and optimizing the model to achieve high accuracy.\n",
        "\n",
        "* **Section 2: Unlearning( 2 Points)**\n",
        "\n",
        "    We introduce the concept of unlearning, which involves modifying a trained model to forget specific data points while retaining its overall performance.\n",
        "\n",
        "* **Section 3: Gold model ( 2 Points)**\n",
        "\n",
        "    We discuss the development of the Gold model, which serves as the benchmark for evaluating performance after implementing unlearning techniques.\n",
        "\n",
        "\n",
        "* **Section 4: Mia Attacks ( 3 Points)**\n",
        "\n",
        "    This section will focus on MIA (Membership Inference Attacks), which are designed to determine whether a specific data point was included in the training set of a machine learning model.\n",
        "    \n",
        "* **Section 5: Unlearning with KL divergence ( 2 Points)**\n",
        "\n",
        "    This section will discuss the application of Kullback-Leibler (KL) divergence in the unlearning process, emphasizing its role in quantifying the difference between the model's original and modified predictions.\n",
        "\n",
        "* **Section 6: GMN for Unlearning ( 6 Points)**\n",
        "\n",
        "    This section will introduce the use of Graph Meta Networks (GMNs) in the unlearning process, highlighting their ability to adaptively modify model parameters based on specific unlearning tasks.\n",
        "\n",
        "Do not modify parts of code that are not marked with \"Your turn\" or \"Add your code below\"."
      ]
    },
    {
      "cell_type": "code",
      "execution_count": null,
      "metadata": {
        "id": "aPWfdk95Fd6V"
      },
      "outputs": [],
      "source": [
        "# import libraries\n",
        "import numpy as np\n",
        "import pandas as pd\n",
        "import matplotlib.pyplot as plt\n",
        "import torch\n",
        "import torch.nn as nn\n",
        "from torchvision import datasets, transforms\n",
        "from torchvision.transforms import ToTensor\n",
        "from torch.utils.data import DataLoader\n",
        "from tqdm import tqdm\n",
        "import os\n",
        "import random\n",
        "from sklearn import linear_model, model_selection\n",
        "from torch_geometric.data import Data\n",
        "from gmn.graph_construct.model_arch_graph import sequential_to_arch, arch_to_graph\n",
        "import torch.nn.functional as F\n",
        "\n",
        "\n",
        "# fix seeds\n",
        "np.random.seed(0)\n",
        "torch.manual_seed(0)\n",
        "random.seed(0)\n",
        "torch.cuda.manual_seed(0)\n",
        "torch.cuda.manual_seed_all(0)\n",
        "torch.backends.cudnn.deterministic = True\n",
        "torch.backends.cudnn.benchmark = False"
      ]
    },
    {
      "cell_type": "markdown",
      "metadata": {
        "id": "xnUhUDu3Fd6X"
      },
      "source": [
        "# Section 1: Train from scratch a CNN on CIFAR-10"
      ]
    },
    {
      "cell_type": "markdown",
      "metadata": {
        "id": "iSHGd6YDFd6Y"
      },
      "source": [
        "### 1.1: Model definition"
      ]
    },
    {
      "cell_type": "code",
      "execution_count": null,
      "metadata": {
        "id": "BAwiyaFJFd6Y"
      },
      "outputs": [],
      "source": [
        "def create_model():\n",
        "    \"\"\"\n",
        "    Create a simple CNN model for CIFAR10 dataset\n",
        "    \"\"\"\n",
        "\n",
        "    model = nn.Sequential(\n",
        "        nn.Conv2d(3, 32, kernel_size=(3, 3), stride=1, padding=1),\n",
        "        nn.BatchNorm2d(32),\n",
        "        nn.ReLU(),\n",
        "        nn.AvgPool2d(kernel_size=2, stride=2),\n",
        "        nn.Dropout2d(p=0.1),\n",
        "        nn.Conv2d(32, 64, kernel_size=(3, 3), stride=1, padding=1),\n",
        "        nn.BatchNorm2d(64),\n",
        "        nn.ReLU(),\n",
        "        nn.AvgPool2d(kernel_size=2, stride=2),\n",
        "        nn.Dropout2d(p=0.1),\n",
        "        nn.Conv2d(64, 64, kernel_size=(3, 3), stride=1, padding=1),\n",
        "        nn.BatchNorm2d(64),\n",
        "        nn.ReLU(),\n",
        "        nn.AdaptiveAvgPool2d((1, 1)),\n",
        "        nn.Flatten(),\n",
        "        nn.Dropout(p=0.1),\n",
        "        nn.Linear(64, 32),\n",
        "        nn.ReLU(),\n",
        "        nn.Dropout(p=0.1),\n",
        "        nn.Linear(32, 10),\n",
        "    )\n",
        "\n",
        "    return model"
      ]
    },
    {
      "cell_type": "markdown",
      "metadata": {
        "id": "6PJw-60QFd6Z"
      },
      "source": [
        "### 1.2 DataLoader\n"
      ]
    },
    {
      "cell_type": "markdown",
      "metadata": {
        "id": "7M0YaMnNFd6Z"
      },
      "source": [
        "#### Your turn ( 1 Point)\n",
        "\n",
        "Calculate the mean and the standard deviation vectors to be used in cifar_transforms  rounding the values to four decimal places."
      ]
    },
    {
      "cell_type": "code",
      "execution_count": null,
      "metadata": {
        "id": "EmBfLEs5Fd6a",
        "outputId": "91d757c3-89ed-4e6d-81f6-b248c81b2b29"
      },
      "outputs": [
        {
          "name": "stdout",
          "output_type": "stream",
          "text": [
            "Files already downloaded and verified\n",
            "Mean:  [0.4914 0.4822 0.4465]\n",
            "Std:  [0.247  0.2435 0.2616]\n"
          ]
        }
      ],
      "source": [
        "import numpy as np\n",
        "from torchvision import datasets, transforms\n",
        "\n",
        "# Load the dataset\n",
        "train_dataset = datasets.CIFAR10(\n",
        "    root=\"./data\", train=True, download=True, transform=transforms.ToTensor()\n",
        ")\n",
        "\n",
        "\"\"\"\n",
        "Add your code below\n",
        "\"\"\"\n",
        "# Compute the mean and standard deviation for each channel\n",
        "mean = train_dataset.data.mean(axis=(0, 1, 2)) / 255\n",
        "std = train_dataset.data.std(axis=(0, 1, 2)) / 255\n",
        "\n",
        "print(\"Mean: \", np.round(mean, 4))\n",
        "print(\"Std: \", np.round(std, 4))"
      ]
    },
    {
      "cell_type": "code",
      "execution_count": null,
      "metadata": {
        "id": "n1Jnm8jQFd6c",
        "outputId": "84211054-d57b-46b7-d86c-d1e67cb715e8"
      },
      "outputs": [
        {
          "name": "stdout",
          "output_type": "stream",
          "text": [
            "Files already downloaded and verified\n",
            "Files already downloaded and verified\n"
          ]
        }
      ],
      "source": [
        "# Define the augmentations for the training set\n",
        "cifar_transforms = transforms.Compose(\n",
        "    [\n",
        "        transforms.ToTensor(),  # Convert the image to a PyTorch tensor\n",
        "        transforms.Normalize(mean, std),  # Normalize the image channel\n",
        "    ]\n",
        ")\n",
        "\n",
        "# Load the CIFAR-10 dataset with the appropriate transforms\n",
        "train_dataset = datasets.CIFAR10(\n",
        "    root=\"data\", train=True, transform=cifar_transforms, download=True\n",
        ")\n",
        "test_dataset = datasets.CIFAR10(\n",
        "    root=\"data\", train=False, transform=cifar_transforms, download=True\n",
        ")\n",
        "\n",
        "# split test into test and validation\n",
        "val_dataset, test_dataset = torch.utils.data.random_split(test_dataset, [2000, 8000])"
      ]
    },
    {
      "cell_type": "code",
      "execution_count": null,
      "metadata": {
        "id": "SC0n-VjGFd6d"
      },
      "outputs": [],
      "source": [
        "batch_size = 512\n",
        "\n",
        "# Create the DataLoaders\n",
        "train_loader = DataLoader(train_dataset, batch_size=batch_size, shuffle=True)\n",
        "val_loader = DataLoader(val_dataset, batch_size=batch_size, shuffle=False)\n",
        "test_loader = DataLoader(test_dataset, batch_size=batch_size, shuffle=False)"
      ]
    },
    {
      "cell_type": "markdown",
      "metadata": {
        "id": "4G_4Kf0vFd6e"
      },
      "source": [
        "### 1.3 See the data"
      ]
    },
    {
      "cell_type": "code",
      "execution_count": null,
      "metadata": {
        "id": "W6gCeOHoFd6e",
        "outputId": "1dc3db27-40fb-4bf0-84cf-f24b4d3bd7b6"
      },
      "outputs": [
        {
          "data": {
            "image/png": "[encoded data removed]",
            "text/plain": [
              "<Figure size 2000x400 with 20 Axes>"
            ]
          },
          "metadata": {},
          "output_type": "display_data"
        }
      ],
      "source": [
        "# plot 2 figures for each of the 10 classes in the dataset\n",
        "fig, axs = plt.subplots(2, 10, figsize=(20, 4))\n",
        "for i in range(10):\n",
        "    # Get the first image of each class\n",
        "    img = train_dataset.data[train_dataset.targets.index(i)]\n",
        "    axs[0, i].imshow(img)\n",
        "    axs[0, i].axis(\"off\")\n",
        "    axs[0, i].set_title(train_dataset.classes[i])\n",
        "\n",
        "    # Get the second image of each class\n",
        "    img = train_dataset.data[\n",
        "        train_dataset.targets.index(i, train_dataset.targets.index(i) + 1)\n",
        "    ]\n",
        "    axs[1, i].imshow(img)\n",
        "    axs[1, i].axis(\"off\")"
      ]
    },
    {
      "cell_type": "markdown",
      "metadata": {
        "id": "2jg4WgKnFd6f"
      },
      "source": [
        "### 1.4: Training Loop"
      ]
    },
    {
      "cell_type": "code",
      "execution_count": null,
      "metadata": {
        "id": "gwZmemxyFd6g",
        "outputId": "b872bcea-dc86-4d8a-9c27-c67956625e33"
      },
      "outputs": [
        {
          "name": "stderr",
          "output_type": "stream",
          "text": [
            "/tmp/ipykernel_140399/2324236092.py:4: FutureWarning: You are using `torch.load` with `weights_only=False` (the current default value), which uses the default pickle module implicitly. It is possible to construct malicious pickle data which will execute arbitrary code during unpickling (See https://github.com/pytorch/pytorch/blob/main/SECURITY.md#untrusted-models for more details). In a future release, the default value for `weights_only` will be flipped to `True`. This limits the functions that could be executed during unpickling. Arbitrary objects will no longer be allowed to be loaded via this mode unless they are explicitly allowlisted by the user via `torch.serialization.add_safe_globals`. We recommend you start setting `weights_only=True` for any use case where you don't have full control of the loaded file. Please open an issue on GitHub for any issues related to this experimental feature.\n",
            "  model.load_state_dict(torch.load(\"checkpoint/model_weights.pth\"))\n"
          ]
        }
      ],
      "source": [
        "device = torch.device(\"cuda\" if torch.cuda.is_available() else \"cpu\")\n",
        "# load weights\n",
        "model = create_model()\n",
        "model.load_state_dict(torch.load(\"checkpoint/model_weights.pth\"))\n",
        "model.to(device)\n",
        "\n",
        "# initialize the loss function and optimizer\n",
        "criterion = nn.CrossEntropyLoss()\n",
        "optimizer = torch.optim.Adam(model.parameters(), lr=0.001)\n",
        "scheduler = torch.optim.lr_scheduler.ReduceLROnPlateau(\n",
        "    optimizer, mode=\"min\", factor=0.1, patience=5, verbose=True\n",
        ")\n",
        "num_epochs = 20"
      ]
    },
    {
      "cell_type": "code",
      "execution_count": null,
      "metadata": {
        "id": "7eFHE2wuFd6h",
        "outputId": "fe0bbd83-78c9-4aef-80f9-0cad82b6a8ab"
      },
      "outputs": [
        {
          "name": "stderr",
          "output_type": "stream",
          "text": [
            "Epoch [1/20]: 100%|██████████| 98/98 [00:16<00:00,  6.05it/s, loss=1.76]\n"
          ]
        },
        {
          "name": "stdout",
          "output_type": "stream",
          "text": [
            "Epoch [1/20], Average Loss: 1.9678\n",
            "Validation Loss: 1.6567\n"
          ]
        },
        {
          "name": "stderr",
          "output_type": "stream",
          "text": [
            "Epoch [2/20]: 100%|██████████| 98/98 [00:17<00:00,  5.68it/s, loss=1.59]\n"
          ]
        },
        {
          "name": "stdout",
          "output_type": "stream",
          "text": [
            "Epoch [2/20], Average Loss: 1.6383\n",
            "Validation Loss: 1.4467\n"
          ]
        },
        {
          "name": "stderr",
          "output_type": "stream",
          "text": [
            "Epoch [3/20]: 100%|██████████| 98/98 [00:14<00:00,  6.73it/s, loss=1.48]\n"
          ]
        },
        {
          "name": "stdout",
          "output_type": "stream",
          "text": [
            "Epoch [3/20], Average Loss: 1.5169\n",
            "Validation Loss: 1.3425\n"
          ]
        },
        {
          "name": "stderr",
          "output_type": "stream",
          "text": [
            "Epoch [4/20]: 100%|██████████| 98/98 [00:14<00:00,  6.57it/s, loss=1.31]\n"
          ]
        },
        {
          "name": "stdout",
          "output_type": "stream",
          "text": [
            "Epoch [4/20], Average Loss: 1.4386\n",
            "Validation Loss: 1.2494\n"
          ]
        },
        {
          "name": "stderr",
          "output_type": "stream",
          "text": [
            "Epoch [5/20]: 100%|██████████| 98/98 [00:15<00:00,  6.32it/s, loss=1.29]\n"
          ]
        },
        {
          "name": "stdout",
          "output_type": "stream",
          "text": [
            "Epoch [5/20], Average Loss: 1.3736\n",
            "Validation Loss: 1.3126\n"
          ]
        },
        {
          "name": "stderr",
          "output_type": "stream",
          "text": [
            "Epoch [6/20]: 100%|██████████| 98/98 [00:14<00:00,  6.60it/s, loss=1.37]\n"
          ]
        },
        {
          "name": "stdout",
          "output_type": "stream",
          "text": [
            "Epoch [6/20], Average Loss: 1.3275\n",
            "Validation Loss: 1.1566\n"
          ]
        },
        {
          "name": "stderr",
          "output_type": "stream",
          "text": [
            "Epoch [7/20]: 100%|██████████| 98/98 [00:14<00:00,  6.91it/s, loss=1.32]\n"
          ]
        },
        {
          "name": "stdout",
          "output_type": "stream",
          "text": [
            "Epoch [7/20], Average Loss: 1.2874\n",
            "Validation Loss: 1.1340\n"
          ]
        },
        {
          "name": "stderr",
          "output_type": "stream",
          "text": [
            "Epoch [8/20]: 100%|██████████| 98/98 [00:14<00:00,  6.75it/s, loss=1.15]\n"
          ]
        },
        {
          "name": "stdout",
          "output_type": "stream",
          "text": [
            "Epoch [8/20], Average Loss: 1.2497\n",
            "Validation Loss: 1.0736\n"
          ]
        },
        {
          "name": "stderr",
          "output_type": "stream",
          "text": [
            "Epoch [9/20]: 100%|██████████| 98/98 [00:14<00:00,  6.86it/s, loss=1.21]\n"
          ]
        },
        {
          "name": "stdout",
          "output_type": "stream",
          "text": [
            "Epoch [9/20], Average Loss: 1.2236\n",
            "Validation Loss: 1.0758\n"
          ]
        },
        {
          "name": "stderr",
          "output_type": "stream",
          "text": [
            "Epoch [10/20]: 100%|██████████| 98/98 [00:14<00:00,  6.61it/s, loss=1.2] \n"
          ]
        },
        {
          "name": "stdout",
          "output_type": "stream",
          "text": [
            "Epoch [10/20], Average Loss: 1.1947\n",
            "Validation Loss: 1.0556\n"
          ]
        },
        {
          "name": "stderr",
          "output_type": "stream",
          "text": [
            "Epoch [11/20]: 100%|██████████| 98/98 [00:14<00:00,  6.87it/s, loss=1.1] \n"
          ]
        },
        {
          "name": "stdout",
          "output_type": "stream",
          "text": [
            "Epoch [11/20], Average Loss: 1.1715\n",
            "Validation Loss: 1.0303\n"
          ]
        },
        {
          "name": "stderr",
          "output_type": "stream",
          "text": [
            "Epoch [12/20]: 100%|██████████| 98/98 [00:14<00:00,  6.77it/s, loss=1.04]\n"
          ]
        },
        {
          "name": "stdout",
          "output_type": "stream",
          "text": [
            "Epoch [12/20], Average Loss: 1.1485\n",
            "Validation Loss: 1.0306\n"
          ]
        },
        {
          "name": "stderr",
          "output_type": "stream",
          "text": [
            "Epoch [13/20]: 100%|██████████| 98/98 [00:14<00:00,  6.64it/s, loss=1.21]\n"
          ]
        },
        {
          "name": "stdout",
          "output_type": "stream",
          "text": [
            "Epoch [13/20], Average Loss: 1.1302\n",
            "Validation Loss: 0.9805\n"
          ]
        },
        {
          "name": "stderr",
          "output_type": "stream",
          "text": [
            "Epoch [14/20]: 100%|██████████| 98/98 [00:16<00:00,  5.91it/s, loss=1.1] \n"
          ]
        },
        {
          "name": "stdout",
          "output_type": "stream",
          "text": [
            "Epoch [14/20], Average Loss: 1.1130\n",
            "Validation Loss: 1.0048\n"
          ]
        },
        {
          "name": "stderr",
          "output_type": "stream",
          "text": [
            "Epoch [15/20]: 100%|██████████| 98/98 [00:13<00:00,  7.24it/s, loss=1.1]  \n"
          ]
        },
        {
          "name": "stdout",
          "output_type": "stream",
          "text": [
            "Epoch [15/20], Average Loss: 1.0981\n",
            "Validation Loss: 0.9628\n"
          ]
        },
        {
          "name": "stderr",
          "output_type": "stream",
          "text": [
            "Epoch [16/20]: 100%|██████████| 98/98 [00:13<00:00,  7.25it/s, loss=1.01] \n"
          ]
        },
        {
          "name": "stdout",
          "output_type": "stream",
          "text": [
            "Epoch [16/20], Average Loss: 1.0831\n",
            "Validation Loss: 0.9331\n"
          ]
        },
        {
          "name": "stderr",
          "output_type": "stream",
          "text": [
            "Epoch [17/20]: 100%|██████████| 98/98 [00:13<00:00,  7.15it/s, loss=1.19] \n"
          ]
        },
        {
          "name": "stdout",
          "output_type": "stream",
          "text": [
            "Epoch [17/20], Average Loss: 1.0670\n",
            "Validation Loss: 0.9302\n"
          ]
        },
        {
          "name": "stderr",
          "output_type": "stream",
          "text": [
            "Epoch [18/20]: 100%|██████████| 98/98 [00:13<00:00,  7.03it/s, loss=1.04] \n"
          ]
        },
        {
          "name": "stdout",
          "output_type": "stream",
          "text": [
            "Epoch [18/20], Average Loss: 1.0570\n",
            "Validation Loss: 0.9213\n"
          ]
        },
        {
          "name": "stderr",
          "output_type": "stream",
          "text": [
            "Epoch [19/20]: 100%|██████████| 98/98 [00:13<00:00,  7.19it/s, loss=1.07] \n"
          ]
        },
        {
          "name": "stdout",
          "output_type": "stream",
          "text": [
            "Epoch [19/20], Average Loss: 1.0440\n",
            "Validation Loss: 0.9541\n"
          ]
        },
        {
          "name": "stderr",
          "output_type": "stream",
          "text": [
            "Epoch [20/20]: 100%|██████████| 98/98 [00:13<00:00,  7.17it/s, loss=1.09] \n"
          ]
        },
        {
          "name": "stdout",
          "output_type": "stream",
          "text": [
            "Epoch [20/20], Average Loss: 1.0285\n",
            "Validation Loss: 0.8981\n"
          ]
        }
      ],
      "source": [
        "# Placeholder for storing losses for each epoch\n",
        "losses = []\n",
        "losses_val = []\n",
        "\n",
        "# Training the model\n",
        "for epoch in range(num_epochs):\n",
        "\n",
        "    ######### TRAINING ##########\n",
        "    model.train()\n",
        "    running_loss = 0  # To track loss for this epoch\n",
        "\n",
        "    # Using tqdm for the progress bar\n",
        "    loop = tqdm(enumerate(train_loader), total=len(train_loader), leave=True)\n",
        "\n",
        "    for batch_idx, (data, targets) in loop:\n",
        "        # Get data to cuda if possible\n",
        "        data = data.to(device=device)\n",
        "        targets = targets.to(device=device)\n",
        "\n",
        "        # Forward pass\n",
        "        scores = model(data)\n",
        "        loss = criterion(scores, targets)\n",
        "\n",
        "        # Backward pass\n",
        "        optimizer.zero_grad()\n",
        "        loss.backward()\n",
        "\n",
        "        # Gradient descent step\n",
        "        optimizer.step()\n",
        "\n",
        "        # Accumulate loss\n",
        "        running_loss += loss.item()\n",
        "\n",
        "        # Update progress bar with loss and epoch information\n",
        "        loop.set_description(f\"Epoch [{epoch+1}/{num_epochs}]\")\n",
        "        loop.set_postfix(loss=loss.item())\n",
        "\n",
        "    # Calculate average loss for the epoch\n",
        "    avg_loss = running_loss / len(train_loader)\n",
        "    losses.append(avg_loss)\n",
        "\n",
        "    # scheduler\n",
        "    scheduler.step(avg_loss)\n",
        "\n",
        "    # Print loss for this epoch\n",
        "    tqdm.write(f\"Epoch [{epoch+1}/{num_epochs}], Average Loss: {avg_loss:.4f}\")\n",
        "\n",
        "    ####### VALIDATION ########\n",
        "    model.eval()\n",
        "    val_loss = 0\n",
        "\n",
        "    with torch.no_grad():\n",
        "        for data, targets in val_loader:\n",
        "            data = data.to(device=device)\n",
        "            targets = targets.to(device=device)\n",
        "\n",
        "            scores = model(data)\n",
        "            loss = criterion(scores, targets)\n",
        "            val_loss += loss.item()\n",
        "        # Calculate average loss for the epoch\n",
        "        avg_val_loss = val_loss / len(val_loader)\n",
        "        losses_val.append(avg_val_loss)\n",
        "        print(f\"Validation Loss: {avg_val_loss:.4f}\")\n",
        "        # if avg val_loss is better than the one before, save the model\n",
        "        if epoch == 0:\n",
        "            # create directory if not exist\n",
        "            os.makedirs(\"checkpoint\", exist_ok=True)\n",
        "            best_loss = avg_val_loss\n",
        "            torch.save(model.state_dict(), \"checkpoint/trained_model.pth\")\n",
        "        elif avg_val_loss < best_loss:\n",
        "            best_loss = avg_val_loss\n",
        "            torch.save(model.state_dict(), \"checkpoint/trained_model.pth\")"
      ]
    },
    {
      "cell_type": "code",
      "execution_count": null,
      "metadata": {
        "id": "OrXbC48DFd6h",
        "outputId": "97307f2d-1294-4dab-e802-58851ec9be6d"
      },
      "outputs": [
        {
          "name": "stdout",
          "output_type": "stream",
          "text": [
            "Best validation loss: 0.8981\n"
          ]
        },
        {
          "data": {
            "image/png": "[encoded data removed]",
            "text/plain": [
              "<Figure size 1500x500 with 1 Axes>"
            ]
          },
          "metadata": {},
          "output_type": "display_data"
        }
      ],
      "source": [
        "# Plot the losses after training\n",
        "# epoch of best validation loss\n",
        "print(f\"Best validation loss: {best_loss:.4f}\")\n",
        "index_best = losses_val.index(best_loss)\n",
        "\n",
        "plt.figure(figsize=(15, 5))\n",
        "plt.plot(range(1, num_epochs + 1), losses, label=\"Train Loss\")\n",
        "plt.plot(range(1, num_epochs + 1), losses_val, label=\"Val Loss\")\n",
        "plt.axvline(index_best + 1, color=\"r\", linestyle=\"--\", label=\"Best Val Loss\")\n",
        "plt.legend()\n",
        "plt.title(\"Loss vs Epochs\")\n",
        "plt.xlabel(\"Epochs\")\n",
        "plt.ylabel(\"Loss\")\n",
        "plt.grid()\n",
        "plt.show()"
      ]
    },
    {
      "cell_type": "markdown",
      "metadata": {
        "id": "NSP-LpDdFd6i"
      },
      "source": [
        "#### Your Turn (1 point)\n",
        "\n",
        "**Question**\n",
        "\n",
        "Q: *Based on what you've learned in the lectures and by examining the image above, identify the problems with this plot and explain how to fix them.*\n",
        "\n",
        "A: The training curve shows a lot of fluctuations for the validation loss, which sometimes goes over the training loss. This indicates that the model is prone to overfitting the training data. To address this issue, we want to introduce further regularization. An approach we suggest is to use `Dropout2d` layers instead of regular `Dropout` in the convolutional feature extraction part of the network. The reasoning is that `Dropout` zeroes individual pixels of the output feature map, which does **not** zero the gradients of any filter (since the parameters are shared), by contrast, `Dropout2d` zeroes entire channels of the output feature map, which does zero the gradients of the filters. Making this change stabilizes the curves, as shown above."
      ]
    },
    {
      "cell_type": "markdown",
      "metadata": {
        "id": "KZIbMOhNFd6i"
      },
      "source": [
        "### 1.5 Evaluation\n",
        "\n",
        "Now, let's evaluate the performances of our model"
      ]
    },
    {
      "cell_type": "code",
      "execution_count": null,
      "metadata": {
        "id": "-WRc38ySFd6j"
      },
      "outputs": [],
      "source": [
        "# accuracy\n",
        "def accuracy(model, loader):\n",
        "    \"\"\"\n",
        "    Function to calculate the accuracy of the model on the test set\n",
        "    \"\"\"\n",
        "    correct = 0\n",
        "    total = 0\n",
        "    for data, targets in loader:\n",
        "        data = data.to(device=device)\n",
        "        targets = targets.to(device=device)\n",
        "        scores = model(data)\n",
        "        _, predictions = scores.max(1)\n",
        "        correct += (predictions == targets).sum()\n",
        "        total += targets.shape[0]\n",
        "    return correct / total"
      ]
    },
    {
      "cell_type": "code",
      "execution_count": null,
      "metadata": {
        "id": "XnYtRgeGFd6j",
        "outputId": "27e61864-63c8-4371-cdfa-e5217e16b448"
      },
      "outputs": [
        {
          "name": "stderr",
          "output_type": "stream",
          "text": [
            "/tmp/ipykernel_140399/2572199704.py:3: FutureWarning: You are using `torch.load` with `weights_only=False` (the current default value), which uses the default pickle module implicitly. It is possible to construct malicious pickle data which will execute arbitrary code during unpickling (See https://github.com/pytorch/pytorch/blob/main/SECURITY.md#untrusted-models for more details). In a future release, the default value for `weights_only` will be flipped to `True`. This limits the functions that could be executed during unpickling. Arbitrary objects will no longer be allowed to be loaded via this mode unless they are explicitly allowlisted by the user via `torch.serialization.add_safe_globals`. We recommend you start setting `weights_only=True` for any use case where you don't have full control of the loaded file. Please open an issue on GitHub for any issues related to this experimental feature.\n",
            "  model.load_state_dict(torch.load(\"checkpoint/trained_model.pth\"))\n"
          ]
        },
        {
          "name": "stdout",
          "output_type": "stream",
          "text": [
            "Your Model Train Accuracy : 70.0280\n",
            "Your Model Test Accuracy : 69.3500\n"
          ]
        }
      ],
      "source": [
        "# your model\n",
        "model = create_model()\n",
        "model.load_state_dict(torch.load(\"checkpoint/trained_model.pth\"))\n",
        "model.eval()\n",
        "model.to(device)\n",
        "\n",
        "# Calculate accuracy on the train and test set\n",
        "train_accuracy = accuracy(model, train_loader)\n",
        "test_accuracy = accuracy(model, test_loader)\n",
        "\n",
        "print(f\"Your Model Train Accuracy : {100* train_accuracy:.4f}\")\n",
        "print(f\"Your Model Test Accuracy : {100* test_accuracy:.4f}\")"
      ]
    },
    {
      "cell_type": "markdown",
      "metadata": {
        "id": "ToRGaRRFFd6k"
      },
      "source": [
        "To avoid training for too many epochs, here it is a checkpoint you can use for the trained model."
      ]
    },
    {
      "cell_type": "code",
      "execution_count": null,
      "metadata": {
        "id": "NOoLKHn4Fd6k",
        "outputId": "e589c6cc-d382-49f6-81ea-3cbbb6221f6a"
      },
      "outputs": [
        {
          "name": "stderr",
          "output_type": "stream",
          "text": [
            "/tmp/ipykernel_140399/2030750594.py:2: FutureWarning: You are using `torch.load` with `weights_only=False` (the current default value), which uses the default pickle module implicitly. It is possible to construct malicious pickle data which will execute arbitrary code during unpickling (See https://github.com/pytorch/pytorch/blob/main/SECURITY.md#untrusted-models for more details). In a future release, the default value for `weights_only` will be flipped to `True`. This limits the functions that could be executed during unpickling. Arbitrary objects will no longer be allowed to be loaded via this mode unless they are explicitly allowlisted by the user via `torch.serialization.add_safe_globals`. We recommend you start setting `weights_only=True` for any use case where you don't have full control of the loaded file. Please open an issue on GitHub for any issues related to this experimental feature.\n",
            "  model.load_state_dict(torch.load(\"checkpoint/best_model.pth\"))\n"
          ]
        },
        {
          "name": "stdout",
          "output_type": "stream",
          "text": [
            "Train accuracy: 86.3800\n",
            "Test Accuracy: 80.9000\n"
          ]
        }
      ],
      "source": [
        "model = create_model()\n",
        "model.load_state_dict(torch.load(\"checkpoint/best_model.pth\"))\n",
        "model.eval()\n",
        "model.to(device)\n",
        "\n",
        "# Calculate the accuracy on the train and test set\n",
        "train_accuracy = accuracy(model, train_loader)\n",
        "test_accuracy = accuracy(model, test_loader)\n",
        "\n",
        "print(f\"Train accuracy: {100* train_accuracy:.4f}\")\n",
        "print(f\"Test Accuracy: {100* test_accuracy:.4f}\")"
      ]
    },
    {
      "cell_type": "markdown",
      "metadata": {
        "id": "f7JoB7GEFd6l"
      },
      "source": [
        "# Section 2: Unlearning"
      ]
    },
    {
      "cell_type": "markdown",
      "metadata": {
        "id": "RFf8E2uTFd6l"
      },
      "source": [
        "In the context of machine learning, unlearning refers to the process of modifying a trained model so that it forgets specific pieces of information without losing the general performance. This is particularly important in situations where data privacy is a concern, such as when sensitive information is involved, or when a model has learned from outdated or incorrect data. In this scenario,\n",
        "you may want to unlearn an entire class of data, a specific instance within that class, or even a particular concept that the model has learned.\n",
        "\n",
        "**Why is Unlearning Important?**\n",
        "\n",
        "Let’s say you have trained a machine learning model to recognize different types of animals based on a dataset containing images. Now, suppose that this dataset includes images of a particular cat breed that was later found to be misclassified or problematic. You might need to remove that specific information from the model to ensure it doesn't make incorrect predictions in the future.\n",
        "\n",
        "Additionally, with privacy laws like GDPR (General Data Protection Regulation), individuals have the right to request that their personal data be removed from a model. If a model has been trained on this data, we need a way to unlearn it.\n",
        "\n",
        "Here, our task will be to unlearn the class of Airplanes in CIFAR-10 Dataset"
      ]
    },
    {
      "cell_type": "markdown",
      "metadata": {
        "id": "EvXsK-gFFd6m"
      },
      "source": [
        "### Unlearning by Fine-Tuning\n",
        "\n",
        "The Unlearning by Fine-Tuning strategy is a technique used to remove the influence of specific data points from a trained machine learning model while preserving its performance on other, relevant data.\n",
        "Here’s a detailed explanation of how this strategy works:\n",
        "\n",
        "#### 1. The Retain Set\n",
        "\n",
        "The retain set consists of all the data points that you want the model to remember or continue to learn from. This set excludes the data points you want the model to forget.\n",
        "\n",
        "####  2. Fine-Tuning Process\n",
        "\n",
        "To perform unlearning through this strategy, you follow these steps:\n",
        "\n",
        "- Identify and Remove the Data Points: First, identify the data points that you wish to unlearn and remove them from the training dataset.\n",
        "\n",
        "- Prepare the Retain and Forget Set: Create a new training dataset that contains only the retain set, those data points that should be kept in the model’s knowledge, and include the remaing data in the Forget Set.\n",
        "\n",
        "- Fine-Tuning on the Retain Set: Instead of retraining the model from scratch, you will fine-tune the existing model using the retain set. This involves using the retain set to continue training the model, typically with a lower learning rate to ensure that the model can adjust its parameters without drastically altering what it has already learned.\n",
        "\n",
        "#### 3. Benefits of this strategy\n",
        "\n",
        "- Efficiency: Fine-tuning on the retain set only is more efficient than retraining the model from scratch. It saves computational resources and time.\n",
        "\n",
        "- Maintained Performance: The model retains its ability to perform well on the general dataset, as it continues to learn from the valid data in the retain set.\n",
        "\n",
        "#### 4. Drawbacks of this strategy\n",
        "\n",
        "- Even if more efficient than retraining the model from scratch, you still need to do a fine tuning, that could be very expensive for large or foundational models. Even finding the best hyperparameters can be costly.\n",
        "\n",
        "- If you change samples or architecture to unlearn, you have to do the ad-hoc fine tuning again, it is not a *general* strategy."
      ]
    },
    {
      "cell_type": "markdown",
      "metadata": {
        "id": "ZxaeWUHMFd6m"
      },
      "source": [
        "### 2.1: Forget Airplanes"
      ]
    },
    {
      "cell_type": "markdown",
      "metadata": {
        "id": "iwN_wyOsFd6n"
      },
      "source": [
        "#### Your Turn ( 1 Point)\n",
        "\n",
        "Generate the retain and forget datasets, keeping in mind that we want to forget the \"airplanes\" class. Afterward, create new instances of the loaders for training, validation, and testing. Make sure to use the torch.utils.data.Subset function."
      ]
    },
    {
      "cell_type": "code",
      "execution_count": null,
      "metadata": {
        "id": "uCfOGZV4Fd6n"
      },
      "outputs": [],
      "source": [
        "# train\n",
        "\"\"\"\n",
        "Add your code below\n",
        "\"\"\"\n",
        "\n",
        "airplane_mask = torch.Tensor(train_dataset.targets) == 0\n",
        "indices_retain = torch.arange(len(train_dataset))[~airplane_mask]\n",
        "indices_forget = torch.arange(len(train_dataset))[airplane_mask]\n",
        "\n",
        "retain_dataset = torch.utils.data.Subset(train_dataset, indices_retain)\n",
        "forget_dataset = torch.utils.data.Subset(train_dataset, indices_forget)\n",
        "retain_loader = torch.utils.data.DataLoader(\n",
        "    retain_dataset, batch_size=batch_size, shuffle=True\n",
        ")\n",
        "forget_loader = torch.utils.data.DataLoader(\n",
        "    forget_dataset, batch_size=batch_size, shuffle=True\n",
        ")"
      ]
    },
    {
      "cell_type": "code",
      "execution_count": null,
      "metadata": {
        "id": "PPTghqhCFd6n",
        "outputId": "1a6559da-1a18-442a-d159-6b88e7327fa7"
      },
      "outputs": [
        {
          "data": {
            "text/plain": [
              "(45000, 5000)"
            ]
          },
          "execution_count": 134,
          "metadata": {},
          "output_type": "execute_result"
        }
      ],
      "source": [
        "len(retain_dataset), len(forget_dataset)"
      ]
    },
    {
      "cell_type": "code",
      "execution_count": null,
      "metadata": {
        "id": "_mAo8mVyFd6o"
      },
      "outputs": [],
      "source": [
        "# validation\n",
        "\"\"\"\n",
        "Add your code below\n",
        "\"\"\"\n",
        "\n",
        "airplane_mask_val = torch.Tensor(val_dataset.dataset.targets) == 0\n",
        "indices_retain_val = torch.arange(len(val_dataset.dataset))[~airplane_mask_val]\n",
        "indices_forget_val = torch.arange(len(val_dataset.dataset))[airplane_mask_val]\n",
        "\n",
        "retain_dataset_val = torch.utils.data.Subset(val_dataset.dataset, indices_retain_val)\n",
        "forget_dataset_val = torch.utils.data.Subset(val_dataset.dataset, indices_forget_val)\n",
        "retain_loader_val = torch.utils.data.DataLoader(\n",
        "    retain_dataset_val, batch_size=batch_size, shuffle=False\n",
        ")\n",
        "forget_loader_val = torch.utils.data.DataLoader(\n",
        "    forget_dataset_val, batch_size=batch_size, shuffle=False\n",
        ")"
      ]
    },
    {
      "cell_type": "code",
      "execution_count": null,
      "metadata": {
        "id": "Jqkoc_yTFd6o"
      },
      "outputs": [],
      "source": [
        "# test\n",
        "\"\"\"\n",
        "Add your code below\n",
        "\"\"\"\n",
        "\n",
        "airplane_mask_test = torch.Tensor(test_dataset.dataset.targets) == 0\n",
        "indices_retain_test = torch.arange(len(test_dataset.dataset))[~airplane_mask_test]\n",
        "indices_forget_test = torch.arange(len(test_dataset.dataset))[airplane_mask_test]\n",
        "\n",
        "retain_dataset_test = torch.utils.data.Subset(test_dataset.dataset, indices_retain_test)\n",
        "forget_dataset_test = torch.utils.data.Subset(test_dataset.dataset, indices_forget_test)\n",
        "retain_loader_test = torch.utils.data.DataLoader(\n",
        "    retain_dataset_test, batch_size=batch_size, shuffle=True\n",
        ")\n",
        "forget_loader_test = torch.utils.data.DataLoader(\n",
        "    forget_dataset_test, batch_size=batch_size, shuffle=True\n",
        ")"
      ]
    },
    {
      "cell_type": "markdown",
      "metadata": {
        "id": "zWTX_VufFd6p"
      },
      "source": [
        "### 2.2: Training Loop"
      ]
    },
    {
      "cell_type": "code",
      "execution_count": null,
      "metadata": {
        "id": "NWpRUeP2Fd6p"
      },
      "outputs": [],
      "source": [
        "def unlearning(\n",
        "    model,\n",
        "    retain_loader,\n",
        "    validation,\n",
        "    epochs=5,\n",
        "    criterion=criterion,\n",
        "    optimizer=optimizer,\n",
        "    scheduler=scheduler,\n",
        "):\n",
        "    \"\"\"Unlearning by fine-tuning.\n",
        "\n",
        "    Fine-tuning is a very simple algorithm that trains using only\n",
        "    the retain set.\n",
        "\n",
        "    Args:\n",
        "      model : nn.Module.\n",
        "        pre-trained model to use as base of unlearning.\n",
        "      retain : torch.utils.data.DataLoader.\n",
        "        Dataset loader for access to the retain set. This is the subset\n",
        "        of the training set that we don't want to forget.\n",
        "      validation : torch.utils.data.DataLoader.\n",
        "        Dataset loader for access to the validation set. This method doesn't\n",
        "        make use of the validation set.\n",
        "    Returns:\n",
        "      model : updated model\n",
        "    \"\"\"\n",
        "    device = torch.device(\"cuda\" if torch.cuda.is_available() else \"cpu\")\n",
        "    model.to(device)\n",
        "    losses = []\n",
        "    losses_val = []\n",
        "\n",
        "    for epoch in range(epochs):\n",
        "        model.train()\n",
        "        loss_epoch = 0\n",
        "        loop = tqdm(enumerate(retain_loader), total=len(retain_loader), leave=True)\n",
        "        for batch_idx, (inputs, targets) in loop:\n",
        "            inputs, targets = inputs.to(device), targets.to(device)\n",
        "            optimizer.zero_grad()\n",
        "            outputs = model(inputs)\n",
        "            loss = criterion(outputs, targets)\n",
        "            loss.backward()\n",
        "            optimizer.step()\n",
        "\n",
        "            # running loss\n",
        "            loss_epoch += loss.item()\n",
        "            # Update progress bar with loss and epoch information\n",
        "            loop.set_description(f\"Epoch [{epoch+1}/{epochs}]\")\n",
        "            loop.set_postfix(loss=loss.item())\n",
        "\n",
        "        # avg loss\n",
        "        avg_loss = loss_epoch / len(retain_loader)\n",
        "        losses.append(avg_loss)\n",
        "        # scheduler step\n",
        "        scheduler.step(avg_loss)\n",
        "        tqdm.write(f\"Epoch [{epoch+1}/{epochs}], Average Loss: {avg_loss:.4f}\")\n",
        "\n",
        "        # validation\n",
        "        loss_val = 0\n",
        "        model.eval()\n",
        "        with torch.no_grad():\n",
        "            for data, targets in retain_loader_val:\n",
        "                data = data.to(device=device)\n",
        "                targets = targets.to(device=device)\n",
        "\n",
        "                scores = model(data)\n",
        "                loss = criterion(scores, targets)\n",
        "                loss_val += loss.item()\n",
        "            # Calculate average loss for the epoch\n",
        "            avg_val_loss = loss_val / len(validation)\n",
        "            losses_val.append(avg_val_loss)\n",
        "            print(f\"Validation Loss: {avg_val_loss:.4f}\")\n",
        "            # if avg val_loss is better than the one before, save the model\n",
        "            if epoch == 0:\n",
        "                # create directory if not exist\n",
        "                os.makedirs(\"checkpoint\", exist_ok=True)\n",
        "                best_loss = avg_val_loss\n",
        "                torch.save(model.state_dict(), \"checkpoint/forget_model.pth\")\n",
        "            elif avg_val_loss < best_loss:\n",
        "                best_loss = avg_val_loss\n",
        "                torch.save(model.state_dict(), \"checkpoint/forget_model.pth\")\n",
        "\n",
        "    model.eval()\n",
        "    model.load_state_dict(torch.load(\"checkpoint/forget_model.pth\"))\n",
        "    return model, losses, losses_val"
      ]
    },
    {
      "cell_type": "code",
      "execution_count": null,
      "metadata": {
        "id": "teeEWC4uFd6q",
        "outputId": "1bdf3f27-507e-4db8-86f0-1f41b458457c"
      },
      "outputs": [
        {
          "name": "stderr",
          "output_type": "stream",
          "text": [
            "/tmp/ipykernel_140399/2205427393.py:3: FutureWarning: You are using `torch.load` with `weights_only=False` (the current default value), which uses the default pickle module implicitly. It is possible to construct malicious pickle data which will execute arbitrary code during unpickling (See https://github.com/pytorch/pytorch/blob/main/SECURITY.md#untrusted-models for more details). In a future release, the default value for `weights_only` will be flipped to `True`. This limits the functions that could be executed during unpickling. Arbitrary objects will no longer be allowed to be loaded via this mode unless they are explicitly allowlisted by the user via `torch.serialization.add_safe_globals`. We recommend you start setting `weights_only=True` for any use case where you don't have full control of the loaded file. Please open an issue on GitHub for any issues related to this experimental feature.\n",
            "  forget_model.load_state_dict(torch.load(\"checkpoint/best_model.pth\"))\n",
            "/home/dario/repos/unlearning/.venv/lib/python3.11/site-packages/torch/optim/lr_scheduler.py:62: UserWarning: The verbose parameter is deprecated. Please use get_last_lr() to access the learning rate.\n",
            "  warnings.warn(\n",
            "Epoch [1/10]: 100%|██████████| 88/88 [00:12<00:00,  7.08it/s, loss=1.02] \n"
          ]
        },
        {
          "name": "stdout",
          "output_type": "stream",
          "text": [
            "Epoch [1/10], Average Loss: 1.0681\n",
            "Validation Loss: 2.4790\n"
          ]
        },
        {
          "name": "stderr",
          "output_type": "stream",
          "text": [
            "Epoch [2/10]: 100%|██████████| 88/88 [00:12<00:00,  7.32it/s, loss=0.88] \n"
          ]
        },
        {
          "name": "stdout",
          "output_type": "stream",
          "text": [
            "Epoch [2/10], Average Loss: 0.9348\n",
            "Validation Loss: 2.4735\n"
          ]
        },
        {
          "name": "stderr",
          "output_type": "stream",
          "text": [
            "Epoch [3/10]: 100%|██████████| 88/88 [00:12<00:00,  6.94it/s, loss=0.802]\n"
          ]
        },
        {
          "name": "stdout",
          "output_type": "stream",
          "text": [
            "Epoch [3/10], Average Loss: 0.8896\n",
            "Validation Loss: 2.5118\n"
          ]
        },
        {
          "name": "stderr",
          "output_type": "stream",
          "text": [
            "Epoch [4/10]: 100%|██████████| 88/88 [00:12<00:00,  6.96it/s, loss=0.901]\n"
          ]
        },
        {
          "name": "stdout",
          "output_type": "stream",
          "text": [
            "Epoch [4/10], Average Loss: 0.8575\n",
            "Validation Loss: 2.5400\n"
          ]
        },
        {
          "name": "stderr",
          "output_type": "stream",
          "text": [
            "Epoch [5/10]: 100%|██████████| 88/88 [00:12<00:00,  7.19it/s, loss=0.749]\n"
          ]
        },
        {
          "name": "stdout",
          "output_type": "stream",
          "text": [
            "Epoch [5/10], Average Loss: 0.8285\n",
            "Validation Loss: 2.5157\n"
          ]
        },
        {
          "name": "stderr",
          "output_type": "stream",
          "text": [
            "Epoch [6/10]: 100%|██████████| 88/88 [00:12<00:00,  7.14it/s, loss=0.799]\n"
          ]
        },
        {
          "name": "stdout",
          "output_type": "stream",
          "text": [
            "Epoch [6/10], Average Loss: 0.8180\n",
            "Validation Loss: 2.5171\n"
          ]
        },
        {
          "name": "stderr",
          "output_type": "stream",
          "text": [
            "Epoch [7/10]: 100%|██████████| 88/88 [00:12<00:00,  7.20it/s, loss=0.727]\n"
          ]
        },
        {
          "name": "stdout",
          "output_type": "stream",
          "text": [
            "Epoch [7/10], Average Loss: 0.8025\n",
            "Validation Loss: 2.5284\n"
          ]
        },
        {
          "name": "stderr",
          "output_type": "stream",
          "text": [
            "Epoch [8/10]: 100%|██████████| 88/88 [00:12<00:00,  7.12it/s, loss=0.772]\n"
          ]
        },
        {
          "name": "stdout",
          "output_type": "stream",
          "text": [
            "Epoch [8/10], Average Loss: 0.7939\n",
            "Validation Loss: 2.5415\n"
          ]
        },
        {
          "name": "stderr",
          "output_type": "stream",
          "text": [
            "Epoch [9/10]: 100%|██████████| 88/88 [00:13<00:00,  6.73it/s, loss=0.772]\n"
          ]
        },
        {
          "name": "stdout",
          "output_type": "stream",
          "text": [
            "Epoch [9/10], Average Loss: 0.7850\n",
            "Validation Loss: 2.5451\n"
          ]
        },
        {
          "name": "stderr",
          "output_type": "stream",
          "text": [
            "Epoch [10/10]: 100%|██████████| 88/88 [00:12<00:00,  6.98it/s, loss=0.748]\n"
          ]
        },
        {
          "name": "stdout",
          "output_type": "stream",
          "text": [
            "Epoch [10/10], Average Loss: 0.7757\n",
            "Validation Loss: 2.5092\n"
          ]
        },
        {
          "name": "stderr",
          "output_type": "stream",
          "text": [
            "/tmp/ipykernel_140399/3168067241.py:83: FutureWarning: You are using `torch.load` with `weights_only=False` (the current default value), which uses the default pickle module implicitly. It is possible to construct malicious pickle data which will execute arbitrary code during unpickling (See https://github.com/pytorch/pytorch/blob/main/SECURITY.md#untrusted-models for more details). In a future release, the default value for `weights_only` will be flipped to `True`. This limits the functions that could be executed during unpickling. Arbitrary objects will no longer be allowed to be loaded via this mode unless they are explicitly allowlisted by the user via `torch.serialization.add_safe_globals`. We recommend you start setting `weights_only=True` for any use case where you don't have full control of the loaded file. Please open an issue on GitHub for any issues related to this experimental feature.\n",
            "  model.load_state_dict(torch.load(\"checkpoint/forget_model.pth\"))\n"
          ]
        }
      ],
      "source": [
        "# intialize forget model as trained model\n",
        "forget_model = create_model()\n",
        "forget_model.load_state_dict(torch.load(\"checkpoint/best_model.pth\"))\n",
        "\n",
        "criterion = nn.CrossEntropyLoss()\n",
        "optimizer = torch.optim.Adam(forget_model.parameters(), lr=0.0001)\n",
        "scheduler = torch.optim.lr_scheduler.ReduceLROnPlateau(\n",
        "    optimizer, mode=\"min\", factor=0.1, patience=3, verbose=True\n",
        ")\n",
        "\n",
        "\n",
        "# Unlearn the forget set\n",
        "epochs = 10\n",
        "forget_model, losses, losses_val = unlearning(\n",
        "    forget_model,\n",
        "    retain_loader,\n",
        "    val_loader,\n",
        "    epochs=epochs,\n",
        "    criterion=criterion,\n",
        "    optimizer=optimizer,\n",
        "    scheduler=scheduler,\n",
        ")"
      ]
    },
    {
      "cell_type": "markdown",
      "metadata": {
        "id": "zW9PQvqzFd6r"
      },
      "source": [
        "**Below there is the evaluation of your unlearned by fine-tuning model**"
      ]
    },
    {
      "cell_type": "code",
      "execution_count": null,
      "metadata": {
        "id": "evmeFvLtFd6r",
        "outputId": "27e55244-7dc7-4b0b-a22b-6501ec965812"
      },
      "outputs": [
        {
          "name": "stderr",
          "output_type": "stream",
          "text": [
            "/tmp/ipykernel_140399/1275260100.py:3: FutureWarning: You are using `torch.load` with `weights_only=False` (the current default value), which uses the default pickle module implicitly. It is possible to construct malicious pickle data which will execute arbitrary code during unpickling (See https://github.com/pytorch/pytorch/blob/main/SECURITY.md#untrusted-models for more details). In a future release, the default value for `weights_only` will be flipped to `True`. This limits the functions that could be executed during unpickling. Arbitrary objects will no longer be allowed to be loaded via this mode unless they are explicitly allowlisted by the user via `torch.serialization.add_safe_globals`. We recommend you start setting `weights_only=True` for any use case where you don't have full control of the loaded file. Please open an issue on GitHub for any issues related to this experimental feature.\n",
            "  forget_model.load_state_dict(torch.load(\"checkpoint/forget_model.pth\"))\n"
          ]
        },
        {
          "name": "stdout",
          "output_type": "stream",
          "text": [
            "Retain set Accuracy: 86.7889\n",
            "Forget set Accuracy: 52.1200\n",
            "Test set Accuracy: 78.2875\n",
            "Test set Retain Accuracy: 81.8778\n",
            "Test set Forget Accuracy: 45.7000\n"
          ]
        }
      ],
      "source": [
        "# load weights forget model\n",
        "forget_model = create_model()\n",
        "forget_model.load_state_dict(torch.load(\"checkpoint/forget_model.pth\"))\n",
        "forget_model.eval()\n",
        "forget_model.to(device)\n",
        "\n",
        "# print accuracies on retain, forget and test set\n",
        "retain_accuracy = accuracy(forget_model, retain_loader)\n",
        "forget_accuracy = accuracy(forget_model, forget_loader)\n",
        "test_accuracy = accuracy(forget_model, test_loader)\n",
        "test_accuracy_retain = accuracy(forget_model, retain_loader_test)\n",
        "test_accuracy_forget = accuracy(forget_model, forget_loader_test)\n",
        "\n",
        "print(f\"Retain set Accuracy: {100* retain_accuracy:.4f}\")\n",
        "print(f\"Forget set Accuracy: {100* forget_accuracy:.4f}\")\n",
        "print(f\"Test set Accuracy: {100* test_accuracy:.4f}\")  # whole test set\n",
        "print(f\"Test set Retain Accuracy: {100* test_accuracy_retain:.4f}\")\n",
        "print(f\"Test set Forget Accuracy: {100* test_accuracy_forget:.4f}\")"
      ]
    },
    {
      "cell_type": "markdown",
      "metadata": {
        "id": "dlxF9JBpFd6s"
      },
      "source": [
        "#### Your Turn (1 Point)\n",
        "\n",
        "**Question**\n",
        "\n",
        "Q: *Summarize what you have learned. Specifically, interpret the accuracy values for the retain and forget sets during training. Additionally, discuss what can be inferred from the accuracy at test time for the entire test set, as well as for the two subsets of forget and retain.*\n",
        "\n",
        "A: Comparing the older model's accuracy computed before the unlearning process on the whole dataset to the one obtained after the unlearning on the retain dataset, we can assess that the model kept its performances on the retained classes while it lost the ability to perform well on airplanes, effectively suggesting that model forgot about that class.\n",
        "\n",
        "These suppositions are confirmed by the results on the tests sets. In facts the overall peformances are lower than the previous ones, confirming that the model unlearned/t.\n",
        "Since the retain accuracy is higher it means that it improved it's performances on the retained classes.\n",
        "By comparing the validation forget set accuracy and the test forget set accuracy we can say that the model is not generalizing on the airplanes, which is the\n",
        " expected behaviour.\n",
        "\n",
        "\n",
        "\n",
        "even tho we could have logged the results on each class, so that we could really know if it unlearned airplanes or some other unexpected class."
      ]
    },
    {
      "cell_type": "markdown",
      "metadata": {
        "id": "v-bkbpaOFd6s"
      },
      "source": [
        "# Section 3: Gold model"
      ]
    },
    {
      "cell_type": "markdown",
      "metadata": {
        "id": "5pV9AEdqFd6u"
      },
      "source": [
        "One might ask, how good are the scores above? What is the best possible score? Since our goal is to approximate a model that has been trained **only on** the retain set, we'll consider that the gold standard is the score achieved by this model. Such a model is called here the *gold model*."
      ]
    },
    {
      "cell_type": "code",
      "execution_count": null,
      "metadata": {
        "id": "XmTGThYGFd6v",
        "outputId": "8f372327-0d14-4b9b-8969-ffc1d203131e"
      },
      "outputs": [
        {
          "name": "stderr",
          "output_type": "stream",
          "text": [
            "/tmp/ipykernel_140399/1211376923.py:3: FutureWarning: You are using `torch.load` with `weights_only=False` (the current default value), which uses the default pickle module implicitly. It is possible to construct malicious pickle data which will execute arbitrary code during unpickling (See https://github.com/pytorch/pytorch/blob/main/SECURITY.md#untrusted-models for more details). In a future release, the default value for `weights_only` will be flipped to `True`. This limits the functions that could be executed during unpickling. Arbitrary objects will no longer be allowed to be loaded via this mode unless they are explicitly allowlisted by the user via `torch.serialization.add_safe_globals`. We recommend you start setting `weights_only=True` for any use case where you don't have full control of the loaded file. Please open an issue on GitHub for any issues related to this experimental feature.\n",
            "  gold_model.load_state_dict(torch.load(\"checkpoint/model_weights.pth\"))\n",
            "/home/dario/repos/unlearning/.venv/lib/python3.11/site-packages/torch/optim/lr_scheduler.py:62: UserWarning: The verbose parameter is deprecated. Please use get_last_lr() to access the learning rate.\n",
            "  warnings.warn(\n"
          ]
        }
      ],
      "source": [
        "# train only on retain set\n",
        "gold_model = create_model()\n",
        "gold_model.load_state_dict(torch.load(\"checkpoint/model_weights.pth\"))\n",
        "gold_model.to(device)\n",
        "\n",
        "criterion = nn.CrossEntropyLoss()\n",
        "optimizer = torch.optim.Adam(gold_model.parameters(), lr=0.0001)\n",
        "scheduler = torch.optim.lr_scheduler.ReduceLROnPlateau(\n",
        "    optimizer, mode=\"min\", factor=0.1, patience=5, verbose=True\n",
        ")\n",
        "num_epochs = 20"
      ]
    },
    {
      "cell_type": "markdown",
      "metadata": {
        "id": "cTdWqZnZFd6v"
      },
      "source": [
        "#### Your Turn ( 1 Point)\n",
        "\n",
        "Implement the training loop for the Gold Model. Store you losses inside the ```losses``` and ```losses_val``` lists.\n",
        "\n",
        "**IMPORTANT: save the best checkpoint of this model to a checkpoint file called \"checkpoint/gold_model.pth\"**"
      ]
    },
    {
      "cell_type": "code",
      "execution_count": null,
      "metadata": {
        "id": "aorBNXnzFd6w",
        "outputId": "4e4f85c0-424d-4dcf-b064-50df2288408f"
      },
      "outputs": [
        {
          "name": "stderr",
          "output_type": "stream",
          "text": [
            "Epoch [1/20]: 100%|██████████| 88/88 [00:13<00:00,  6.33it/s, loss=1.47]\n"
          ]
        },
        {
          "name": "stdout",
          "output_type": "stream",
          "text": [
            "Epoch [1/20], Average Loss: 1.3842\n",
            "Validation Loss: 1.2468\n"
          ]
        },
        {
          "name": "stderr",
          "output_type": "stream",
          "text": [
            "Epoch [2/20]: 100%|██████████| 88/88 [00:12<00:00,  6.84it/s, loss=1.31]\n"
          ]
        },
        {
          "name": "stdout",
          "output_type": "stream",
          "text": [
            "Epoch [2/20], Average Loss: 1.3752\n",
            "Validation Loss: 1.2381\n"
          ]
        },
        {
          "name": "stderr",
          "output_type": "stream",
          "text": [
            "Epoch [3/20]: 100%|██████████| 88/88 [00:12<00:00,  6.81it/s, loss=1.33]\n"
          ]
        },
        {
          "name": "stdout",
          "output_type": "stream",
          "text": [
            "Epoch [3/20], Average Loss: 1.3628\n",
            "Validation Loss: 1.2238\n"
          ]
        },
        {
          "name": "stderr",
          "output_type": "stream",
          "text": [
            "Epoch [4/20]: 100%|██████████| 88/88 [00:12<00:00,  6.81it/s, loss=1.35]\n"
          ]
        },
        {
          "name": "stdout",
          "output_type": "stream",
          "text": [
            "Epoch [4/20], Average Loss: 1.3523\n",
            "Validation Loss: 1.2115\n"
          ]
        },
        {
          "name": "stderr",
          "output_type": "stream",
          "text": [
            "Epoch [5/20]: 100%|██████████| 88/88 [00:12<00:00,  6.85it/s, loss=1.35]\n"
          ]
        },
        {
          "name": "stdout",
          "output_type": "stream",
          "text": [
            "Epoch [5/20], Average Loss: 1.3459\n",
            "Validation Loss: 1.2041\n"
          ]
        },
        {
          "name": "stderr",
          "output_type": "stream",
          "text": [
            "Epoch [6/20]: 100%|██████████| 88/88 [00:12<00:00,  6.85it/s, loss=1.29]\n"
          ]
        },
        {
          "name": "stdout",
          "output_type": "stream",
          "text": [
            "Epoch [6/20], Average Loss: 1.3354\n",
            "Validation Loss: 1.1979\n"
          ]
        },
        {
          "name": "stderr",
          "output_type": "stream",
          "text": [
            "Epoch [7/20]: 100%|██████████| 88/88 [00:13<00:00,  6.65it/s, loss=1.28]\n"
          ]
        },
        {
          "name": "stdout",
          "output_type": "stream",
          "text": [
            "Epoch [7/20], Average Loss: 1.3260\n",
            "Validation Loss: 1.1881\n"
          ]
        },
        {
          "name": "stderr",
          "output_type": "stream",
          "text": [
            "Epoch [8/20]: 100%|██████████| 88/88 [00:13<00:00,  6.44it/s, loss=1.29]\n"
          ]
        },
        {
          "name": "stdout",
          "output_type": "stream",
          "text": [
            "Epoch [8/20], Average Loss: 1.3154\n",
            "Validation Loss: 1.1811\n"
          ]
        },
        {
          "name": "stderr",
          "output_type": "stream",
          "text": [
            "Epoch [9/20]: 100%|██████████| 88/88 [00:14<00:00,  5.90it/s, loss=1.37]\n"
          ]
        },
        {
          "name": "stdout",
          "output_type": "stream",
          "text": [
            "Epoch [9/20], Average Loss: 1.3089\n",
            "Validation Loss: 1.1656\n"
          ]
        },
        {
          "name": "stderr",
          "output_type": "stream",
          "text": [
            "Epoch [10/20]: 100%|██████████| 88/88 [00:13<00:00,  6.62it/s, loss=1.24]\n"
          ]
        },
        {
          "name": "stdout",
          "output_type": "stream",
          "text": [
            "Epoch [10/20], Average Loss: 1.2977\n",
            "Validation Loss: 1.1608\n"
          ]
        },
        {
          "name": "stderr",
          "output_type": "stream",
          "text": [
            "Epoch [11/20]: 100%|██████████| 88/88 [00:12<00:00,  6.88it/s, loss=1.27]\n"
          ]
        },
        {
          "name": "stdout",
          "output_type": "stream",
          "text": [
            "Epoch [11/20], Average Loss: 1.2908\n",
            "Validation Loss: 1.1445\n"
          ]
        },
        {
          "name": "stderr",
          "output_type": "stream",
          "text": [
            "Epoch [12/20]: 100%|██████████| 88/88 [00:12<00:00,  7.07it/s, loss=1.28]\n"
          ]
        },
        {
          "name": "stdout",
          "output_type": "stream",
          "text": [
            "Epoch [12/20], Average Loss: 1.2841\n",
            "Validation Loss: 1.1425\n"
          ]
        },
        {
          "name": "stderr",
          "output_type": "stream",
          "text": [
            "Epoch [13/20]: 100%|██████████| 88/88 [00:12<00:00,  6.87it/s, loss=1.33]\n"
          ]
        },
        {
          "name": "stdout",
          "output_type": "stream",
          "text": [
            "Epoch [13/20], Average Loss: 1.2788\n",
            "Validation Loss: 1.1428\n"
          ]
        },
        {
          "name": "stderr",
          "output_type": "stream",
          "text": [
            "Epoch [14/20]: 100%|██████████| 88/88 [00:13<00:00,  6.61it/s, loss=1.29]\n"
          ]
        },
        {
          "name": "stdout",
          "output_type": "stream",
          "text": [
            "Epoch [14/20], Average Loss: 1.2667\n",
            "Validation Loss: 1.1285\n"
          ]
        },
        {
          "name": "stderr",
          "output_type": "stream",
          "text": [
            "Epoch [15/20]: 100%|██████████| 88/88 [00:12<00:00,  6.81it/s, loss=1.3] \n"
          ]
        },
        {
          "name": "stdout",
          "output_type": "stream",
          "text": [
            "Epoch [15/20], Average Loss: 1.2648\n",
            "Validation Loss: 1.1232\n"
          ]
        },
        {
          "name": "stderr",
          "output_type": "stream",
          "text": [
            "Epoch [16/20]: 100%|██████████| 88/88 [00:12<00:00,  6.81it/s, loss=1.2] \n"
          ]
        },
        {
          "name": "stdout",
          "output_type": "stream",
          "text": [
            "Epoch [16/20], Average Loss: 1.2518\n",
            "Validation Loss: 1.1132\n"
          ]
        },
        {
          "name": "stderr",
          "output_type": "stream",
          "text": [
            "Epoch [17/20]: 100%|██████████| 88/88 [00:12<00:00,  6.78it/s, loss=1.31]\n"
          ]
        },
        {
          "name": "stdout",
          "output_type": "stream",
          "text": [
            "Epoch [17/20], Average Loss: 1.2498\n",
            "Validation Loss: 1.1123\n"
          ]
        },
        {
          "name": "stderr",
          "output_type": "stream",
          "text": [
            "Epoch [18/20]: 100%|██████████| 88/88 [00:12<00:00,  6.82it/s, loss=1.26]\n"
          ]
        },
        {
          "name": "stdout",
          "output_type": "stream",
          "text": [
            "Epoch [18/20], Average Loss: 1.2396\n",
            "Validation Loss: 1.1126\n"
          ]
        },
        {
          "name": "stderr",
          "output_type": "stream",
          "text": [
            "Epoch [19/20]: 100%|██████████| 88/88 [00:13<00:00,  6.69it/s, loss=1.16]\n"
          ]
        },
        {
          "name": "stdout",
          "output_type": "stream",
          "text": [
            "Epoch [19/20], Average Loss: 1.2349\n",
            "Validation Loss: 1.0892\n"
          ]
        },
        {
          "name": "stderr",
          "output_type": "stream",
          "text": [
            "Epoch [20/20]: 100%|██████████| 88/88 [00:12<00:00,  6.82it/s, loss=1.21]\n"
          ]
        },
        {
          "name": "stdout",
          "output_type": "stream",
          "text": [
            "Epoch [20/20], Average Loss: 1.2243\n",
            "Validation Loss: 1.0931\n"
          ]
        }
      ],
      "source": [
        "# **IMPORTANT: save the best checkpoint of this model to a checkpoint file called \"checkpoint/gold_model.pth\"**\n",
        "\n",
        "# Placeholder for storing losses for each epoch\n",
        "losses = []\n",
        "losses_val = []\n",
        "\n",
        "# Training the model\n",
        "for epoch in range(num_epochs):\n",
        "\n",
        "    ######### TRAINING ##########\n",
        "    gold_model.train()\n",
        "    running_loss = 0  # To track loss for this epoch\n",
        "\n",
        "    # Using tqdm for the progress bar\n",
        "    loop = tqdm(enumerate(retain_loader), total=len(retain_loader), leave=True)\n",
        "\n",
        "    for batch_idx, (data, targets) in loop:\n",
        "        # Get data to cuda if possible\n",
        "        data = data.to(device=device)\n",
        "        targets = targets.to(device=device)\n",
        "\n",
        "        # Forward pass\n",
        "        scores = gold_model(data)\n",
        "        loss = criterion(scores, targets)\n",
        "\n",
        "        # Backward pass\n",
        "        optimizer.zero_grad()\n",
        "        loss.backward()\n",
        "\n",
        "        # Gradient descent step\n",
        "        optimizer.step()\n",
        "\n",
        "        # Accumulate loss\n",
        "        running_loss += loss.item()\n",
        "\n",
        "        # Update progress bar with loss and epoch information\n",
        "        loop.set_description(f\"Epoch [{epoch+1}/{num_epochs}]\")\n",
        "        loop.set_postfix(loss=loss.item())\n",
        "\n",
        "    # Calculate average loss for the epoch\n",
        "    avg_loss = running_loss / len(retain_loader)\n",
        "    losses.append(avg_loss)\n",
        "\n",
        "    # scheduler\n",
        "    scheduler.step(avg_loss)\n",
        "\n",
        "    # Print loss for this epoch\n",
        "    tqdm.write(f\"Epoch [{epoch+1}/{num_epochs}], Average Loss: {avg_loss:.4f}\")\n",
        "\n",
        "    ####### VALIDATION ########\n",
        "    gold_model.eval()\n",
        "    val_loss = 0\n",
        "\n",
        "    with torch.no_grad():\n",
        "        for data, targets in retain_loader_val:\n",
        "            data = data.to(device=device)\n",
        "            targets = targets.to(device=device)\n",
        "\n",
        "            scores = gold_model(data)\n",
        "            loss = criterion(scores, targets)\n",
        "            val_loss += loss.item()\n",
        "        # Calculate average loss for the epoch\n",
        "        avg_val_loss = val_loss / len(retain_loader_val)\n",
        "        losses_val.append(avg_val_loss)\n",
        "        print(f\"Validation Loss: {avg_val_loss:.4f}\")\n",
        "        # if avg val_loss is better than the one before, save the model\n",
        "        if epoch == 0:\n",
        "            # create directory if not exist\n",
        "            os.makedirs(\"checkpoint\", exist_ok=True)\n",
        "            best_loss = avg_val_loss\n",
        "            torch.save(gold_model.state_dict(), \"checkpoint/gold_model.pth\")\n",
        "        elif avg_val_loss < best_loss:\n",
        "            best_loss = avg_val_loss\n",
        "            torch.save(gold_model.state_dict(), \"checkpoint/gold_model.pth\")"
      ]
    },
    {
      "cell_type": "code",
      "execution_count": null,
      "metadata": {
        "id": "lUzB1ZvBFd6w",
        "outputId": "67ddd0b0-3dc0-4d00-9a78-dc97a4410271"
      },
      "outputs": [
        {
          "name": "stdout",
          "output_type": "stream",
          "text": [
            "Best validation loss: 1.0892\n"
          ]
        },
        {
          "data": {
            "image/png": "[encoded data removed]",
            "text/plain": [
              "<Figure size 1500x500 with 1 Axes>"
            ]
          },
          "metadata": {},
          "output_type": "display_data"
        }
      ],
      "source": [
        "# epoch of best validation loss\n",
        "print(f\"Best validation loss: {best_loss:.4f}\")\n",
        "index_best = losses_val.index(best_loss)\n",
        "\n",
        "plt.figure(figsize=(15, 5))\n",
        "plt.plot(losses, label=\"Train Loss\")\n",
        "plt.plot(losses_val, label=\"Val Loss\")\n",
        "plt.axvline(index_best, color=\"r\", linestyle=\"--\", label=\"Best Val Loss\")\n",
        "plt.legend()\n",
        "plt.title(\"Loss vs Epochs\")\n",
        "plt.xlabel(\"Epochs\")\n",
        "plt.ylabel(\"Loss\")\n",
        "plt.grid()\n",
        "plt.show()"
      ]
    },
    {
      "cell_type": "markdown",
      "metadata": {
        "id": "a0dGpO-OFd6x"
      },
      "source": [
        "**Below there is the evaluation of the gold model**"
      ]
    },
    {
      "cell_type": "code",
      "execution_count": null,
      "metadata": {
        "id": "QuDFH7i3Fd6x",
        "outputId": "67802768-358b-47f4-efe5-720fd39725c5"
      },
      "outputs": [
        {
          "name": "stderr",
          "output_type": "stream",
          "text": [
            "/tmp/ipykernel_140399/1336622808.py:3: FutureWarning: You are using `torch.load` with `weights_only=False` (the current default value), which uses the default pickle module implicitly. It is possible to construct malicious pickle data which will execute arbitrary code during unpickling (See https://github.com/pytorch/pytorch/blob/main/SECURITY.md#untrusted-models for more details). In a future release, the default value for `weights_only` will be flipped to `True`. This limits the functions that could be executed during unpickling. Arbitrary objects will no longer be allowed to be loaded via this mode unless they are explicitly allowlisted by the user via `torch.serialization.add_safe_globals`. We recommend you start setting `weights_only=True` for any use case where you don't have full control of the loaded file. Please open an issue on GitHub for any issues related to this experimental feature.\n",
            "  gold_model.load_state_dict(torch.load(\"checkpoint/gold_model.pth\"))\n"
          ]
        },
        {
          "name": "stdout",
          "output_type": "stream",
          "text": [
            "Retain set Accuracy: 62.0556\n",
            "Forget set Accuracy: 0.0000\n",
            "Test set Accuracy: 55.5000\n",
            "Test set Retain Accuracy: 61.4444\n",
            "Test set Forget Accuracy: 0.0000\n"
          ]
        }
      ],
      "source": [
        "# load weights gold model\n",
        "gold_model = create_model()\n",
        "gold_model.load_state_dict(torch.load(\"checkpoint/gold_model.pth\"))\n",
        "gold_model.eval()\n",
        "gold_model.to(device)\n",
        "\n",
        "# print accuracies on retain, forget and test set\n",
        "retain_accuracy = accuracy(gold_model, retain_loader)\n",
        "forget_accuracy = accuracy(gold_model, forget_loader)\n",
        "test_accuracy = accuracy(gold_model, test_loader)\n",
        "test_accuracy_retain = accuracy(gold_model, retain_loader_test)\n",
        "test_accuracy_forget = accuracy(gold_model, forget_loader_test)\n",
        "\n",
        "print(f\"Retain set Accuracy: {100* retain_accuracy:.4f}\")\n",
        "print(f\"Forget set Accuracy: {100* forget_accuracy:.4f}\")\n",
        "print(f\"Test set Accuracy: {100* test_accuracy:.4f}\")\n",
        "print(f\"Test set Retain Accuracy: {100* test_accuracy_retain:.4f}\")\n",
        "print(f\"Test set Forget Accuracy: {100* test_accuracy_forget:.4f}\")"
      ]
    },
    {
      "cell_type": "markdown",
      "metadata": {
        "id": "78aF4MYwFd6x"
      },
      "source": [
        "#### Your Turn\n",
        "\n",
        "**Question**\n",
        "\n",
        "Q: *Explain the results of the Gold Model. Did you notice something strange?*\n",
        "\n",
        "A: The accuracy on the forget set is 0 because the model never saw that class in the targets and during the learning process it was always discouradged to predict that class.\n",
        "\n",
        "Something is strange since we would expect the gold model to be better than the one obtained using the unlearning process but instead it is a lot worse.\n",
        "Anyway to have more reliable results we should have compared the gold_model with the model obtained applying unlearning on the trained_model instead of the one obtained applying unlearning on the best_model because trained_model and gold_model are trained in the same way"
      ]
    },
    {
      "cell_type": "markdown",
      "metadata": {
        "id": "md8GbktCFd6y"
      },
      "source": [
        "# Section 5: Mia attacks"
      ]
    },
    {
      "cell_type": "markdown",
      "metadata": {
        "id": "Sf8qn3M8Fd6y"
      },
      "source": [
        "In this section, we'll quantify the quality of the unlearning algorithm through a simple membership inference attack (MIA).\n",
        "MIAs are a type of adversarial attack aimed at determining whether a specific data point was included in the training dataset of a machine learning model. These attacks exploit the behavior of the model to make inferences about the presence or absence of certain data points.\n",
        "This MIA consists of a logistic regression model that predicts whether the model was trained on a particular sample from that sample's loss.\n",
        "\n"
      ]
    },
    {
      "cell_type": "code",
      "execution_count": null,
      "metadata": {
        "id": "Gi1MEhxGFd6z"
      },
      "outputs": [],
      "source": [
        "def compute_losses(model, loader, criterion=\"CrossEntropy\"):\n",
        "    \"\"\"\n",
        "    Auxiliary function to compute per-sample losses\n",
        "    Args:\n",
        "    model : model to evaluate\n",
        "    loader : data loader\n",
        "    criterion : loss function. Specify \"CrossEntropy\" for cross-entropy loss or \"KL\" for KL divergence\n",
        "    \"\"\"\n",
        "\n",
        "    device = torch.device(\"cuda\" if torch.cuda.is_available() else \"cpu\")\n",
        "    all_losses = []\n",
        "\n",
        "    for inputs, targets in loader:\n",
        "        inputs, targets = inputs.to(device), targets.to(device)\n",
        "        logits = model(inputs)\n",
        "        losses = (\n",
        "            nn.CrossEntropyLoss(reduction=\"none\")(logits, targets)\n",
        "            .detach()\n",
        "            .cpu()\n",
        "            .numpy()\n",
        "        )\n",
        "\n",
        "        for l in losses:\n",
        "            all_losses.append(l)\n",
        "\n",
        "    return np.array(all_losses)"
      ]
    },
    {
      "cell_type": "code",
      "execution_count": null,
      "metadata": {
        "id": "FKJmVpHXFd6z",
        "outputId": "7e8daa70-21fb-44ac-c139-015a85a020fd"
      },
      "outputs": [
        {
          "name": "stderr",
          "output_type": "stream",
          "text": [
            "/tmp/ipykernel_140399/165132113.py:3: FutureWarning: You are using `torch.load` with `weights_only=False` (the current default value), which uses the default pickle module implicitly. It is possible to construct malicious pickle data which will execute arbitrary code during unpickling (See https://github.com/pytorch/pytorch/blob/main/SECURITY.md#untrusted-models for more details). In a future release, the default value for `weights_only` will be flipped to `True`. This limits the functions that could be executed during unpickling. Arbitrary objects will no longer be allowed to be loaded via this mode unless they are explicitly allowlisted by the user via `torch.serialization.add_safe_globals`. We recommend you start setting `weights_only=True` for any use case where you don't have full control of the loaded file. Please open an issue on GitHub for any issues related to this experimental feature.\n",
            "  model.load_state_dict(torch.load(\"checkpoint/best_model.pth\"))\n"
          ]
        }
      ],
      "source": [
        "# model\n",
        "model = create_model()\n",
        "model.load_state_dict(torch.load(\"checkpoint/best_model.pth\"))\n",
        "model.eval()\n",
        "model.to(device)\n",
        "\n",
        "retain_losses = compute_losses(model, retain_loader_test)\n",
        "forget_losses = compute_losses(model, forget_loader_test)"
      ]
    },
    {
      "cell_type": "code",
      "execution_count": null,
      "metadata": {
        "id": "HJX3b5apFd6z",
        "outputId": "c0ec2994-fd75-42b5-c191-fb13fd6b9dca"
      },
      "outputs": [
        {
          "name": "stderr",
          "output_type": "stream",
          "text": [
            "/tmp/ipykernel_140399/2927356677.py:3: FutureWarning: You are using `torch.load` with `weights_only=False` (the current default value), which uses the default pickle module implicitly. It is possible to construct malicious pickle data which will execute arbitrary code during unpickling (See https://github.com/pytorch/pytorch/blob/main/SECURITY.md#untrusted-models for more details). In a future release, the default value for `weights_only` will be flipped to `True`. This limits the functions that could be executed during unpickling. Arbitrary objects will no longer be allowed to be loaded via this mode unless they are explicitly allowlisted by the user via `torch.serialization.add_safe_globals`. We recommend you start setting `weights_only=True` for any use case where you don't have full control of the loaded file. Please open an issue on GitHub for any issues related to this experimental feature.\n",
            "  forget_model.load_state_dict(torch.load(\"checkpoint/forget_model.pth\"))\n"
          ]
        }
      ],
      "source": [
        "# forget model\n",
        "forget_model = create_model()\n",
        "forget_model.load_state_dict(torch.load(\"checkpoint/forget_model.pth\"))\n",
        "forget_model.eval()\n",
        "forget_model.to(device)\n",
        "\n",
        "retain_losses_forget = compute_losses(forget_model, retain_loader_test)\n",
        "forget_losses_forget = compute_losses(forget_model, forget_loader_test)"
      ]
    },
    {
      "cell_type": "code",
      "execution_count": null,
      "metadata": {
        "id": "yCZv_TYgFd60",
        "outputId": "2cc174e2-8e79-460b-ed9a-160ead5a799e"
      },
      "outputs": [
        {
          "name": "stderr",
          "output_type": "stream",
          "text": [
            "/tmp/ipykernel_140399/2360865515.py:3: FutureWarning: You are using `torch.load` with `weights_only=False` (the current default value), which uses the default pickle module implicitly. It is possible to construct malicious pickle data which will execute arbitrary code during unpickling (See https://github.com/pytorch/pytorch/blob/main/SECURITY.md#untrusted-models for more details). In a future release, the default value for `weights_only` will be flipped to `True`. This limits the functions that could be executed during unpickling. Arbitrary objects will no longer be allowed to be loaded via this mode unless they are explicitly allowlisted by the user via `torch.serialization.add_safe_globals`. We recommend you start setting `weights_only=True` for any use case where you don't have full control of the loaded file. Please open an issue on GitHub for any issues related to this experimental feature.\n",
            "  gold_model.load_state_dict(torch.load(\"checkpoint/gold_model.pth\"))\n"
          ]
        }
      ],
      "source": [
        "# gold model\n",
        "gold_model = create_model()\n",
        "gold_model.load_state_dict(torch.load(\"checkpoint/gold_model.pth\"))\n",
        "gold_model.eval()\n",
        "gold_model.to(device)\n",
        "\n",
        "retain_losses_gold = compute_losses(gold_model, retain_loader_test)\n",
        "forget_losses_gold = compute_losses(gold_model, forget_loader_test)"
      ]
    },
    {
      "cell_type": "code",
      "execution_count": null,
      "metadata": {
        "id": "dGSPkKlpFd60",
        "outputId": "a2f35beb-960d-4904-8cc3-f32150c6b2f4"
      },
      "outputs": [
        {
          "data": {
            "image/png": "[encoded data removed]",
            "text/plain": [
              "<Figure size 2000x500 with 3 Axes>"
            ]
          },
          "metadata": {},
          "output_type": "display_data"
        }
      ],
      "source": [
        "# 3 plots woth ax of histograms\n",
        "fig, axs = plt.subplots(1, 3, figsize=(20, 5))\n",
        "\n",
        "# subsample retrain losses to have the same size as the forget losses\n",
        "random_idx = np.random.choice(\n",
        "    np.arange(len(retain_losses)), len(forget_losses), replace=False\n",
        ")\n",
        "retain_losses = retain_losses[random_idx]\n",
        "retain_losses_forget = retain_losses_forget[random_idx]\n",
        "retain_losses_gold = retain_losses_gold[random_idx]\n",
        "\n",
        "\n",
        "axs[0].hist(\n",
        "    retain_losses, density=True, bins=50, alpha=0.5, label=\"Retain\", color=\"blue\"\n",
        ")\n",
        "axs[0].hist(\n",
        "    forget_losses, density=True, bins=50, alpha=0.5, label=\"Forget\", color=\"red\"\n",
        ")\n",
        "axs[0].set_title(\"Model\")\n",
        "axs[0].set_xlabel(\"Loss\")\n",
        "axs[0].legend()\n",
        "\n",
        "axs[1].hist(\n",
        "    retain_losses_forget, density=True, bins=50, alpha=0.5, label=\"Retain\", color=\"blue\"\n",
        ")\n",
        "axs[1].hist(\n",
        "    forget_losses_forget, density=True, bins=50, alpha=0.5, label=\"Forget\", color=\"red\"\n",
        ")\n",
        "axs[1].set_title(\"Forget Model\")\n",
        "axs[1].set_xlabel(\"Loss\")\n",
        "axs[1].legend()\n",
        "\n",
        "axs[2].hist(\n",
        "    retain_losses_gold, density=True, bins=50, alpha=0.5, label=\"Retain\", color=\"blue\"\n",
        ")\n",
        "axs[2].hist(\n",
        "    forget_losses_gold, density=True, bins=50, alpha=0.5, label=\"Forget\", color=\"red\"\n",
        ")\n",
        "axs[2].set_title(\"Gold Model\")\n",
        "axs[2].set_xlabel(\"Loss\")\n",
        "axs[2].legend()\n",
        "\n",
        "plt.show()"
      ]
    },
    {
      "cell_type": "code",
      "execution_count": null,
      "metadata": {
        "id": "9uCZShZSFd61"
      },
      "outputs": [],
      "source": [
        "def simple_mia(sample_loss, members, n_splits=10, random_state=0):\n",
        "    \"\"\"Computes cross-validation score of a membership inference attack.\n",
        "\n",
        "    Args:\n",
        "      sample_loss : array_like of shape (n,).\n",
        "        objective function evaluated on n samples.\n",
        "      members : array_like of shape (n,),\n",
        "        whether a sample was used for training.\n",
        "      n_splits: int\n",
        "        number of splits to use in the cross-validation.\n",
        "    Returns:\n",
        "      scores : array_like of size (n_splits,)\n",
        "    \"\"\"\n",
        "\n",
        "    torch.manual_seed(torch.initial_seed())\n",
        "\n",
        "    unique_members = np.unique(members)\n",
        "    if not np.all(unique_members == np.array([0, 1])):\n",
        "        raise ValueError(\"members should only have 0 and 1s\")\n",
        "\n",
        "    attack_model = linear_model.LogisticRegression(random_state=random_state)\n",
        "    cv = model_selection.StratifiedShuffleSplit(n_splits=n_splits, random_state=0)\n",
        "\n",
        "    return model_selection.cross_val_score(\n",
        "        attack_model,\n",
        "        sample_loss,\n",
        "        members,\n",
        "        cv=cv,\n",
        "        scoring=\"accuracy\",\n",
        "    )"
      ]
    },
    {
      "cell_type": "code",
      "execution_count": null,
      "metadata": {
        "id": "lrLgTV7BFd61",
        "outputId": "04f4c272-64c3-4772-a700-0631e518d211"
      },
      "outputs": [
        {
          "name": "stdout",
          "output_type": "stream",
          "text": [
            "Model MIA score: 0.5369\n"
          ]
        }
      ],
      "source": [
        "# mia on model\n",
        "retain_losses_subsample = np.random.choice(\n",
        "    retain_losses, len(forget_losses), replace=False\n",
        ")\n",
        "samples_mia = np.concatenate([retain_losses_subsample, forget_losses]).reshape(-1, 1)\n",
        "# balance the number of samples\n",
        "members_mia = np.concatenate(\n",
        "    [np.zeros(len(retain_losses_subsample)), np.ones(len(forget_losses))]\n",
        ")\n",
        "\n",
        "scores_model = simple_mia(samples_mia, members_mia)\n",
        "print(f\"Model MIA score: {scores_model.mean():.4f}\")"
      ]
    },
    {
      "cell_type": "code",
      "execution_count": null,
      "metadata": {
        "id": "mI6qMVZlFd62",
        "outputId": "a9030368-05d1-47ac-981f-157728dc74ed"
      },
      "outputs": [
        {
          "name": "stdout",
          "output_type": "stream",
          "text": [
            "Forget Model MIA score: 0.7831\n"
          ]
        }
      ],
      "source": [
        "# mia on forget model\n",
        "retain_losses_forget_subsample = np.random.choice(\n",
        "    retain_losses_forget, len(forget_losses_forget), replace=False\n",
        ")\n",
        "samples_mia = np.concatenate(\n",
        "    [retain_losses_forget_subsample, forget_losses_forget]\n",
        ").reshape(-1, 1)\n",
        "members_mia = np.concatenate(\n",
        "    [np.zeros(len(retain_losses_forget_subsample)), np.ones(len(forget_losses_forget))]\n",
        ")\n",
        "\n",
        "scores_forget = simple_mia(samples_mia, members_mia)\n",
        "print(f\"Forget Model MIA score: {scores_forget.mean():.4f}\")"
      ]
    },
    {
      "cell_type": "code",
      "execution_count": null,
      "metadata": {
        "id": "_y_fkxIxFd62",
        "outputId": "4b197118-a8c7-4f04-ae99-a357097ff0d3"
      },
      "outputs": [
        {
          "name": "stdout",
          "output_type": "stream",
          "text": [
            "Gold Model MIA score: 0.9963\n"
          ]
        }
      ],
      "source": [
        "# mia on gold model\n",
        "retain_losses_gold_subsample = np.random.choice(\n",
        "    retain_losses_gold, len(forget_losses_gold), replace=False\n",
        ")\n",
        "samples_mia = np.concatenate(\n",
        "    [retain_losses_gold_subsample, forget_losses_gold]\n",
        ").reshape(-1, 1)\n",
        "members_mia = np.concatenate(\n",
        "    [np.zeros(len(retain_losses_gold_subsample)), np.ones(len(forget_losses_gold))]\n",
        ")\n",
        "\n",
        "scores_gold = simple_mia(samples_mia, members_mia)\n",
        "print(f\"Gold Model MIA score: {scores_gold.mean():.4f}\")"
      ]
    },
    {
      "cell_type": "markdown",
      "metadata": {
        "id": "DPYIUGYsFd63"
      },
      "source": [
        "#### Your Turn ( 3 Points)\n",
        "\n",
        "**Question**\n",
        "\n",
        "Q: *For each model, analyze the loss plots and explain the results obtained from the membership inference attack (MIA).*\n",
        "\n",
        "A: ..."
      ]
    },
    {
      "cell_type": "markdown",
      "metadata": {
        "id": "vYczy2NCFd63"
      },
      "source": [
        "# 6. Unlearning with Kl divergence\n"
      ]
    },
    {
      "cell_type": "markdown",
      "metadata": {
        "id": "4onZk4PWFd63"
      },
      "source": [
        "The Kullback-Leibler (KL) divergence is a measure of how one probability distribution differs from another. In this case, to induce unlearning, we want the model's predictions on the forget set to match a uniform distribution, meaning the model \"forgets\" any specific information about these classes."
      ]
    },
    {
      "cell_type": "markdown",
      "metadata": {
        "id": "OET_lZtQFd63"
      },
      "source": [
        "#### Your Turn (1 Point)\n",
        "\n",
        "Next, consider a simple scenario to clarify the concept: a classification problem with four classes. Here, the objective is to unlearn one class by enforcing the logits' distribution (after the softmax) to match a uniform distribution. In this case, let the target distribution for a sample coming from the forget set be $y_{gt} = [0.25, 0.25, 0.25, 0.25]$, and assume that you have achieved the predicted distribution $y_{pred} = [0.25, 0.25, 0.25, 0.25]$\n",
        "\n",
        "**Question**\n",
        "\n",
        "Q: *In this context, why is it preferable to use KL divergence instead of Cross-Entropy? Explain it and fill the code below in order to show it numerically.*\n",
        "\n",
        "A: ..."
      ]
    },
    {
      "cell_type": "code",
      "execution_count": null,
      "metadata": {
        "id": "X0G-EdePFd64",
        "outputId": "c2ceacc0-250c-4a8d-b234-60661ff7df05"
      },
      "outputs": [
        {
          "name": "stdout",
          "output_type": "stream",
          "text": [
            "Cross Entropy: 1.3863\n",
            "KL Divergence: 0.0000\n"
          ]
        }
      ],
      "source": [
        "y_gt = torch.tensor([0.25, 0.25, 0.25, 0.25])\n",
        "y_pred = torch.tensor([0.25, 0.25, 0.25, 0.25])\n",
        "\n",
        "\"\"\"\n",
        "Add your code below\n",
        "\"\"\"\n",
        "cross_entropy = F.cross_entropy(y_pred, y_gt)\n",
        "kl_div = F.kl_div(y_pred.log(), y_gt, reduction=\"batchmean\")\n",
        "\n",
        "print(f\"Cross Entropy: {cross_entropy:.4f}\")\n",
        "print(f\"KL Divergence: {kl_div:.4f}\")"
      ]
    },
    {
      "cell_type": "markdown",
      "metadata": {
        "id": "xGjopxovFd64"
      },
      "source": [
        "**Question**\n",
        "\n",
        "Q: *Before proceeding, you should explain the relationship between Cross-Entropy and Kullback-Leibler (KL) divergence. Provide the proof showing how to derive the relationship between the two.*\n",
        "\n",
        "A: ..."
      ]
    },
    {
      "cell_type": "code",
      "execution_count": null,
      "metadata": {
        "id": "tcInAkOHFd64"
      },
      "outputs": [],
      "source": [
        "# fix seeds\n",
        "np.random.seed(0)\n",
        "torch.manual_seed(0)\n",
        "random.seed(0)\n",
        "torch.cuda.manual_seed(0)\n",
        "torch.cuda.manual_seed_all(0)\n",
        "torch.backends.cudnn.deterministic = True\n",
        "torch.backends.cudnn.benchmark = False"
      ]
    },
    {
      "cell_type": "code",
      "execution_count": null,
      "metadata": {
        "id": "yLZL9qnsFd64"
      },
      "outputs": [],
      "source": [
        "def make_target(target, number_of_classes=10):\n",
        "    \"\"\"\n",
        "    Function to modify the target class\n",
        "    \"\"\"\n",
        "    device = torch.device(\"cuda\" if torch.cuda.is_available() else \"cpu\")\n",
        "    tensor = (\n",
        "        torch.nn.functional.one_hot(target, num_classes=number_of_classes)\n",
        "        .float()\n",
        "        .to(device)\n",
        "    )\n",
        "    # Identify rows with 1 in the first position\n",
        "    first_pos_mask = target == 0\n",
        "\n",
        "    # Substite the rows with 1 in the first position with a uniform distribution\n",
        "    n = tensor.size(1)  # Numero di colonne\n",
        "    uniform_distribution = torch.full(\n",
        "        (n,), 1.0 / n, device=device\n",
        "    )  # Distribuzione uniforme\n",
        "    tensor[first_pos_mask] = uniform_distribution\n",
        "\n",
        "    return tensor"
      ]
    },
    {
      "cell_type": "code",
      "execution_count": null,
      "metadata": {
        "id": "xoQETEHJFd65"
      },
      "outputs": [],
      "source": [
        "def unlearning_2(model, forget_loader, validation, epochs, optimizer, scheduler):\n",
        "    \"\"\"\n",
        "    Function to unlearn the forget set\n",
        "    \"\"\"\n",
        "    device = torch.device(\"cuda\" if torch.cuda.is_available() else \"cpu\")\n",
        "    epsilon = 1e-5\n",
        "    model.to(device)\n",
        "    losses = []\n",
        "    losses_val = []\n",
        "\n",
        "    for epoch in range(epochs):\n",
        "        model.train()\n",
        "        loss_epoch = 0\n",
        "        loop = tqdm(enumerate(forget_loader), total=len(forget_loader), leave=True)\n",
        "        for batch_idx, (inputs, targets) in loop:\n",
        "            inputs, targets = inputs.to(device), targets.to(device)\n",
        "            optimizer.zero_grad()\n",
        "            outputs = model(inputs)\n",
        "            outputs = outputs + epsilon\n",
        "            outputs = F.log_softmax(outputs, dim=1)\n",
        "\n",
        "            targets = make_target(targets)\n",
        "            loss = F.kl_div(outputs, targets, reduction=\"batchmean\")\n",
        "            loss.backward()\n",
        "            optimizer.step()\n",
        "\n",
        "            # running loss\n",
        "            loss_epoch += loss.item()\n",
        "            # Update progress bar with loss and epoch information\n",
        "            loop.set_description(f\"Epoch [{epoch+1}/{epochs}]\")\n",
        "            loop.set_postfix(loss=loss.item())\n",
        "\n",
        "        # avg loss\n",
        "        avg_loss = loss_epoch / len(forget_loader)\n",
        "        losses.append(avg_loss)\n",
        "        # scheduler step\n",
        "        scheduler.step(avg_loss)\n",
        "        tqdm.write(f\"Epoch [{epoch+1}/{epochs}], Average Loss: {avg_loss:.4f}\")\n",
        "\n",
        "        # validation\n",
        "        loss_val = 0\n",
        "        model.eval()\n",
        "        with torch.no_grad():\n",
        "            for data, targets in validation:\n",
        "                data = data.to(device=device)\n",
        "                targets = targets.to(device=device)\n",
        "\n",
        "                scores = model(data)\n",
        "                scores = scores + epsilon\n",
        "                scores = F.log_softmax(scores, dim=1)\n",
        "                targets = make_target(targets)\n",
        "                loss = F.kl_div(scores, targets, reduction=\"batchmean\")\n",
        "                loss_val += loss.item()\n",
        "            # Calculate average loss for the epoch\n",
        "            avg_val_loss = loss_val / len(validation)\n",
        "            losses_val.append(avg_val_loss)\n",
        "            print(f\"Validation Loss: {avg_val_loss:.4f}\")\n",
        "            # if avg val_loss is better than the one before, save the model\n",
        "            if epoch == 0:\n",
        "                # create directory if not exist\n",
        "                os.makedirs(\"checkpoint\", exist_ok=True)\n",
        "                best_loss = avg_val_loss\n",
        "                torch.save(model.state_dict(), \"checkpoint/another_forget_model.pth\")\n",
        "            elif avg_val_loss < best_loss:\n",
        "                best_loss = avg_val_loss\n",
        "                torch.save(model.state_dict(), \"checkpoint/another_forget_model.pth\")\n",
        "    return model, losses, losses_val"
      ]
    },
    {
      "cell_type": "code",
      "execution_count": null,
      "metadata": {
        "id": "Ms88XOFYFd65"
      },
      "outputs": [],
      "source": [
        "another_forget_model = create_model()\n",
        "another_forget_model.load_state_dict(torch.load(\"checkpoint/best_model.pth\"))\n",
        "another_forget_model.to(device)\n",
        "\n",
        "# optimizer\n",
        "optimizer = torch.optim.Adam(another_forget_model.parameters(), lr=0.0001)\n",
        "scheduler = torch.optim.lr_scheduler.ReduceLROnPlateau(\n",
        "    optimizer, mode=\"min\", factor=0.1, patience=5, verbose=True\n",
        ")\n",
        "num_epochs = 10\n",
        "\n",
        "forget_loader = forget_loader\n",
        "val_loader = forget_loader_val\n",
        "\n",
        "another_forget_model, losses, losses_val = unlearning_2(\n",
        "    another_forget_model, forget_loader, val_loader, num_epochs, optimizer, scheduler\n",
        ")"
      ]
    },
    {
      "cell_type": "code",
      "execution_count": null,
      "metadata": {
        "id": "UHDlTNTqFd65",
        "outputId": "cbe84d18-5cd2-4b81-cf16-db7d692d9178"
      },
      "outputs": [
        {
          "data": {
            "image/png": "[encoded data removed]",
            "text/plain": [
              "<Figure size 1500x500 with 1 Axes>"
            ]
          },
          "metadata": {},
          "output_type": "display_data"
        }
      ],
      "source": [
        "# plot losses\n",
        "# epoch of best validation loss\n",
        "index_best = losses_val.index(min(losses_val))\n",
        "\n",
        "plt.figure(figsize=(15, 5))\n",
        "plt.plot(losses, label=\"Train Loss\")\n",
        "plt.plot(losses_val, label=\"Val Loss\")\n",
        "plt.axvline(index_best, color=\"r\", linestyle=\"--\", label=\"Best Val Loss\")\n",
        "plt.legend()\n",
        "plt.title(\"Loss vs Epochs\")\n",
        "plt.xlabel(\"Epochs\")\n",
        "plt.ylabel(\"Loss\")\n",
        "plt.grid()\n",
        "plt.show()"
      ]
    },
    {
      "cell_type": "code",
      "execution_count": null,
      "metadata": {
        "id": "A1Zf5tDwFd66"
      },
      "outputs": [],
      "source": [
        "# calculate accuracy\n",
        "another_forget_model = create_model()\n",
        "another_forget_model.load_state_dict(torch.load(\"checkpoint/another_forget_model.pth\"))\n",
        "another_forget_model.eval()\n",
        "another_forget_model.to(device)\n",
        "\n",
        "\n",
        "# Calculate the accuracy on the test set\n",
        "retain_accuracy = accuracy(another_forget_model, retain_loader)\n",
        "forget_accuracy = accuracy(another_forget_model, forget_loader)\n",
        "test_accuracy = accuracy(another_forget_model, test_loader)\n",
        "retain_test_accuracy = accuracy(another_forget_model, retain_loader_test)\n",
        "forget_test_accuracy = accuracy(another_forget_model, forget_loader_test)"
      ]
    },
    {
      "cell_type": "code",
      "execution_count": null,
      "metadata": {
        "id": "Zo4lI0h9Fd66",
        "outputId": "f22ef0fd-4fb7-4711-e69f-ae3dbba82ac7"
      },
      "outputs": [
        {
          "name": "stdout",
          "output_type": "stream",
          "text": [
            "Retain Accuracy: 63.9822\n",
            "Forget Accuracy: 17.3800\n",
            "Test Accuracy: 56.5875\n",
            "Test Retain Accuracy: 61.3750\n",
            "Test Forget Accuracy: 15.0000\n"
          ]
        }
      ],
      "source": [
        "# print accuracies on retain, forget and test set\n",
        "print(f\"Retain Accuracy: {100* retain_accuracy:.4f}\")\n",
        "print(f\"Forget Accuracy: {100* forget_accuracy:.4f}\")\n",
        "print(f\"Test Accuracy: {100* test_accuracy:.4f}\")\n",
        "print(f\"Test Retain Accuracy: {100* retain_test_accuracy:.4f}\")\n",
        "print(f\"Test Forget Accuracy: {100* forget_test_accuracy:.4f}\")"
      ]
    },
    {
      "cell_type": "code",
      "execution_count": null,
      "metadata": {
        "id": "rHoqLi0nFd67"
      },
      "outputs": [],
      "source": [
        "# calculate losses of the model on forget and retain test set\n",
        "retain_losses_CE = compute_losses(another_forget_model, retain_loader_test)\n",
        "forget_losses_CE = compute_losses(another_forget_model, forget_loader_test)"
      ]
    },
    {
      "cell_type": "code",
      "execution_count": null,
      "metadata": {
        "id": "-aN87_lPFd67",
        "outputId": "b0ef0e0c-043c-428a-fdeb-9081a171a3d6"
      },
      "outputs": [
        {
          "data": {
            "image/png": "[encoded data removed]",
            "text/plain": [
              "<Figure size 640x480 with 1 Axes>"
            ]
          },
          "metadata": {},
          "output_type": "display_data"
        }
      ],
      "source": [
        "plt.hist(\n",
        "    retain_losses_CE, density=True, bins=50, alpha=0.5, label=\"Retain\", color=\"blue\"\n",
        ")\n",
        "plt.hist(\n",
        "    forget_losses_CE, density=True, bins=50, alpha=0.5, label=\"Forget\", color=\"red\"\n",
        ")\n",
        "plt.title(\"Another Forget Model\")\n",
        "plt.xlabel(\"Loss\")\n",
        "plt.legend()\n",
        "plt.show()"
      ]
    },
    {
      "cell_type": "code",
      "execution_count": null,
      "metadata": {
        "id": "-661zMsaFd67",
        "outputId": "4c14f163-2035-4b61-ad4d-70b4a29b4b68"
      },
      "outputs": [
        {
          "name": "stdout",
          "output_type": "stream",
          "text": [
            "Another Forget Model MIA score with Cross Entropy losses: 0.7556\n"
          ]
        }
      ],
      "source": [
        "# mia attack on cross entropy\n",
        "np.random.seed(0)\n",
        "subsample_retain_losses_CE = np.random.choice(\n",
        "    retain_losses_CE, len(forget_losses), replace=False\n",
        ")\n",
        "samples_mia = np.concatenate([subsample_retain_losses_CE, forget_losses_CE]).reshape(\n",
        "    -1, 1\n",
        ")\n",
        "members_mia = np.concatenate(\n",
        "    [np.zeros(len(subsample_retain_losses_CE)), np.ones(len(forget_losses))]\n",
        ")\n",
        "\n",
        "scores_another_forget = simple_mia(samples_mia, members_mia)\n",
        "print(\n",
        "    f\"Another Forget Model MIA score with Cross Entropy losses: {scores_another_forget.mean():.4f}\"\n",
        ")"
      ]
    },
    {
      "cell_type": "markdown",
      "metadata": {
        "id": "RYDuXSVYFd68"
      },
      "source": [
        "This is another way of performing unlearning, you may have noticed that the distributions of the retain and forget sets are different but still there is an overlapping portion. It is very likely that the MIA attack will fail in that specific region."
      ]
    },
    {
      "cell_type": "markdown",
      "metadata": {
        "id": "wfutMmnrFd68"
      },
      "source": [
        "# GMN for unlearning (6 Points)\n",
        "\n",
        "Now, we will attempt to use the GMN you have implemented in the theory notebook for the unlearning task. Keep in mind that this is a novel and challenging task, and it is quite possible that the results may not meet your expectations. However, this is the nature of research. Therefore, the evaluation will focus on the clarity of your approach and your ability to justify your choices and results, rather then the result itself."
      ]
    },
    {
      "cell_type": "markdown",
      "metadata": {
        "id": "Czf9shGIFd68"
      },
      "source": [
        "First of all, go into the ```Practice/gmn/graph_models.py``` file and replace the empty classes with what you have implemented in the second part of the theory notebook. Then, try to think about and implement an unlearning algorithm that leverages the graph metanetwork, and evaluate the unlearned model with MIA attacks and accuracy scores. It would be super cool to have a neural network (the GMN) that can take as input other pretrained neural networks and produce as output the same networks but unlearned over a specific subset of data samples.\n",
        "\n",
        "In the end, generate a detailed report where you describe your idea, methodology and implementation. Put the most of your effort in explaining us the ideas and the intuitions that you had, since this is what we will reward. Don't be worried if results are poor, there can be many causes of this and it's not your task to solve all of them."
      ]
    },
    {
      "cell_type": "code",
      "execution_count": null,
      "metadata": {
        "id": "iNxA-lhDFd68",
        "outputId": "9b174751-baed-4a9b-acba-df4f6bff3740"
      },
      "outputs": [
        {
          "name": "stdout",
          "output_type": "stream",
          "text": [
            "DataBatch(x=[216, 3], edge_index=[2, 59050], edge_attr=[59050, 6], u=[1, 8], batch=[216], ptr=[2])\n"
          ]
        }
      ],
      "source": [
        "from gmn.graph_models import *\n",
        "from torch_geometric.data import Data, Batch\n",
        "from gmn.graph_construct.model_arch_graph import (\n",
        "    sequential_to_arch,\n",
        "    arch_to_graph,\n",
        "    graph_to_arch,\n",
        "    arch_to_sequential,\n",
        ")\n",
        "from gmn.feature_extractor_gmn import NodeEdgeFeatEncoder\n",
        "from gmn.graph_models import MPNN\n",
        "\n",
        "torch.manual_seed(0)\n",
        "\n",
        "weights = torch.load(\"checkpoint/best_model.pth\")\n",
        "model = create_model()\n",
        "model.load_state_dict(weights)\n",
        "arch = sequential_to_arch(model)\n",
        "x, edge_index, edge_attr = arch_to_graph(arch)\n",
        "x = x.float()\n",
        "edge_attr = edge_attr.float()\n",
        "\n",
        "# currently u is a vector of zeros, and it is basically useless. You can consider filling it with what you prefer and leverage it for the task of unlearning\n",
        "g_cnn = Data(x=x, edge_index=edge_index, edge_attr=edge_attr, u=torch.zeros(1, 8))\n",
        "\n",
        "graph_batch = Batch.from_data_list([g_cnn])\n",
        "print(graph_batch)"
      ]
    },
    {
      "cell_type": "code",
      "execution_count": null,
      "metadata": {
        "id": "398FujMlFd69"
      },
      "outputs": [],
      "source": [
        "class GraphMetaNetwork(nn.Module):\n",
        "    \"\"\"\n",
        "    Wrapper class for the graph metanetwork\n",
        "    \"\"\"\n",
        "\n",
        "    def __init__(self, encoder, mpnn):\n",
        "        super(GraphMetaNetwork, self).__init__()\n",
        "        self.encoder = encoder\n",
        "        self.mpnn = mpnn\n",
        "\n",
        "    def forward(self, data):\n",
        "        x, edge_index, edge_attr, u, batch = (\n",
        "            data.x,\n",
        "            data.edge_index,\n",
        "            data.edge_attr,\n",
        "            data.u,\n",
        "            data.batch,\n",
        "        )\n",
        "        x, edge_attr = self.encoder(x, edge_attr)\n",
        "        x, edge_attr, u = self.mpnn(x, edge_index, edge_attr, u, batch)\n",
        "        return edge_attr\n",
        "\n",
        "\n",
        "# Define the encoder and MPNN\n",
        "pre_embedding_dim = 64\n",
        "global_in_dim = 8\n",
        "hidden_dim = 32\n",
        "node_out_dim = 3\n",
        "edge_out_dim = 1\n",
        "global_out_dim = 8\n",
        "num_gnn_layers = 4\n",
        "encoder = NodeEdgeFeatEncoder(hidden_dim=pre_embedding_dim)\n",
        "mpnn = MPNN(\n",
        "    node_in_dim=pre_embedding_dim,\n",
        "    edge_in_dim=pre_embedding_dim,\n",
        "    global_in_dim=global_in_dim,\n",
        "    hidden_dim=hidden_dim,\n",
        "    node_out_dim=node_out_dim,\n",
        "    edge_out_dim=edge_out_dim,\n",
        "    global_out_dim=global_out_dim,\n",
        "    num_layers=num_gnn_layers,\n",
        "    reduce=\"mean\",\n",
        ")\n",
        "\n",
        "# Create the metanetwork\n",
        "gmn = GraphMetaNetwork(encoder, mpnn)\n",
        "gmn.to(device)"
      ]
    },
    {
      "cell_type": "markdown",
      "metadata": {
        "id": "dOMeaDNEFd69"
      },
      "source": [
        "If you need to convert the output of the gmn back into a neural network model (i.e., an ```nn.Sequential``` object), please look into ```graph_to_arch``` and ```arch_to_sequential``` functions stored in ```Practice/gmn/graph_construct/model_arch_graph.py```."
      ]
    },
    {
      "cell_type": "code",
      "execution_count": null,
      "metadata": {
        "id": "hDAl3HH1Fd69"
      },
      "outputs": [],
      "source": [
        "\"\"\"\n",
        "Add your code below\n",
        "\"\"\""
      ]
    },
    {
      "cell_type": "markdown",
      "metadata": {
        "id": "YDZWXlawFd6-"
      },
      "source": [
        "## Report\n",
        "\n",
        "..."
      ]
    }
  ],
  "metadata": {
    "kernelspec": {
      "display_name": ".venv",
      "language": "python",
      "name": "python3"
    },
    "language_info": {
      "codemirror_mode": {
        "name": "ipython",
        "version": 3
      },
      "file_extension": ".py",
      "mimetype": "text/x-python",
      "name": "python",
      "nbconvert_exporter": "python",
      "pygments_lexer": "ipython3",
      "version": "3.11.10"
    },
    "colab": {
      "provenance": []
    }
  },
  "nbformat": 4,
  "nbformat_minor": 0
}